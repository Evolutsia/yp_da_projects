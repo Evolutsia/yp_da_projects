{
 "cells": [
  {
   "cell_type": "markdown",
   "metadata": {},
   "source": [
    "# Выпускной проект. Работа с SQL."
   ]
  },
  {
   "cell_type": "markdown",
   "metadata": {},
   "source": [
    "## 1. Введение "
   ]
  },
  {
   "cell_type": "markdown",
   "metadata": {},
   "source": [
    "Коронавирус застал мир врасплох, изменив привычный порядок вещей. В свободное время жители городов больше не выходят на улицу, не посещают кафе и торговые центры. Зато стало больше времени для книг. Это заметили стартаперы — и бросились создавать приложения для тех, кто любит читать.\n",
    "Наша компания решила быть на волне и купила крупный сервис для чтения книг по подписке. Наша первая задача как аналитика — проанализировать базу данных.\n",
    "В ней — информация о книгах, издательствах, авторах, а также пользовательские обзоры книг. Эти данные помогут сформулировать ценностное предложение для нового продукта."
   ]
  },
  {
   "cell_type": "markdown",
   "metadata": {},
   "source": [
    "## 2. Цели исследования"
   ]
  },
  {
   "cell_type": "markdown",
   "metadata": {},
   "source": [
    "- Проанализировать базу данных с информацией о книгах, издательствах, авторах, а также о пользовательских обзорах книг, чтобы помочь сформулировать ценностное предложение для нового продукта.\n",
    "- Для этого нам необходимо:\n",
    "   - Посчитать, сколько книг вышло после 1 января 2000 года;\n",
    "   - Для каждой книги посчитать количество обзоров и среднюю оценку;\n",
    "   - Определить издательство, которое выпустило наибольшее число книг толще 50 страниц — таким образом исключаем из анализа брошюры;\n",
    "   - Определить автора с самой высокой средней оценкой книг — учитывать только книги с 50 и более оценками;\n",
    "   - Посчитать среднее количество обзоров от пользователей, которые поставили больше 50 оценок."
   ]
  },
  {
   "cell_type": "markdown",
   "metadata": {},
   "source": [
    "## 3. Описание данных"
   ]
  },
  {
   "cell_type": "markdown",
   "metadata": {},
   "source": [
    "**Таблица books**\n",
    "\n",
    "Содержит данные о книгах:\n",
    "\n",
    "- book_id — идентификатор книги;\n",
    "- author_id — идентификатор автора;\n",
    "- title — название книги;\n",
    "- num_pages — количество страниц;\n",
    "- publication_date — дата публикации книги;\n",
    "- publisher_id — идентификатор издателя."
   ]
  },
  {
   "cell_type": "markdown",
   "metadata": {},
   "source": [
    "**Таблица authors**\n",
    "\n",
    "Содержит данные об авторах:\n",
    "\n",
    "- author_id — идентификатор автора;\n",
    "- author — имя автора."
   ]
  },
  {
   "cell_type": "markdown",
   "metadata": {},
   "source": [
    "**Таблица publishers**\n",
    "\n",
    "Содержит данные об издательствах:\n",
    "\n",
    "- publisher_id — идентификатор издательства;\n",
    "- publisher — название издательства;"
   ]
  },
  {
   "cell_type": "markdown",
   "metadata": {},
   "source": [
    "**Таблица ratings**\n",
    "\n",
    "Содержит данные о пользовательских оценках книг:\n",
    "\n",
    "- rating_id — идентификатор оценки;\n",
    "- book_id — идентификатор книги;\n",
    "- username — имя пользователя, оставившего оценку;\n",
    "- rating — оценка книги."
   ]
  },
  {
   "cell_type": "markdown",
   "metadata": {},
   "source": [
    "**Таблица reviews**\n",
    "\n",
    "Содержит данные о пользовательских обзорах на книги:\n",
    "\n",
    "- review_id — идентификатор обзора;\n",
    "- book_id — идентификатор книги;\n",
    "- username — имя пользователя, написавшего обзор;\n",
    "- text — текст обзора."
   ]
  },
  {
   "cell_type": "markdown",
   "metadata": {},
   "source": []
  },
  {
   "cell_type": "markdown",
   "metadata": {},
   "source": [
    "## 4. Исследование базы данных"
   ]
  },
  {
   "cell_type": "markdown",
   "metadata": {},
   "source": [
    "Импортируем библиотеки:"
   ]
  },
  {
   "cell_type": "code",
   "execution_count": 5,
   "metadata": {},
   "outputs": [],
   "source": [
    "import pandas as pd\n",
    "from sqlalchemy import create_engine\n",
    "import datetime as dt"
   ]
  },
  {
   "cell_type": "markdown",
   "metadata": {},
   "source": [
    "Устанавливаем параметры:"
   ]
  },
  {
   "cell_type": "code",
   "execution_count": 6,
   "metadata": {},
   "outputs": [],
   "source": [
    "db_config = {\n",
    "    'user': 'praktikum_student', # имя пользователя\n",
    "    'pwd': 'Sdf4$2;d-d30pp', # пароль\n",
    "    'host': 'rc1b-wcoijxj3yxfsf3fs.mdb.yandexcloud.net',\n",
    "    'port': 6432, # порт подключения\n",
    "    'db': 'data-analyst-final-project-db' # название базы данных\n",
    "}"
   ]
  },
  {
   "cell_type": "code",
   "execution_count": 7,
   "metadata": {},
   "outputs": [],
   "source": [
    "connection_string = 'postgresql://{}:{}@{}:{}/{}'.format(db_config['user'],\n",
    " db_config['pwd'],\n",
    " db_config['host'],\n",
    " db_config['port'],\n",
    " db_config['db'])"
   ]
  },
  {
   "cell_type": "markdown",
   "metadata": {},
   "source": [
    "Сохраняем коннектор:"
   ]
  },
  {
   "cell_type": "code",
   "execution_count": 8,
   "metadata": {},
   "outputs": [],
   "source": [
    "engine = create_engine(connection_string, connect_args={'sslmode':'require'}) "
   ]
  },
  {
   "cell_type": "markdown",
   "metadata": {},
   "source": []
  },
  {
   "cell_type": "markdown",
   "metadata": {},
   "source": [
    "### books"
   ]
  },
  {
   "cell_type": "code",
   "execution_count": 9,
   "metadata": {},
   "outputs": [
    {
     "data": {
      "text/html": [
       "<div>\n",
       "<style scoped>\n",
       "    .dataframe tbody tr th:only-of-type {\n",
       "        vertical-align: middle;\n",
       "    }\n",
       "\n",
       "    .dataframe tbody tr th {\n",
       "        vertical-align: top;\n",
       "    }\n",
       "\n",
       "    .dataframe thead th {\n",
       "        text-align: right;\n",
       "    }\n",
       "</style>\n",
       "<table border=\"1\" class=\"dataframe\">\n",
       "  <thead>\n",
       "    <tr style=\"text-align: right;\">\n",
       "      <th></th>\n",
       "      <th>book_id</th>\n",
       "      <th>author_id</th>\n",
       "      <th>title</th>\n",
       "      <th>num_pages</th>\n",
       "      <th>publication_date</th>\n",
       "      <th>publisher_id</th>\n",
       "      <th>table_size</th>\n",
       "    </tr>\n",
       "  </thead>\n",
       "  <tbody>\n",
       "    <tr>\n",
       "      <th>0</th>\n",
       "      <td>1</td>\n",
       "      <td>546</td>\n",
       "      <td>'Salem's Lot</td>\n",
       "      <td>594</td>\n",
       "      <td>2005-11-01</td>\n",
       "      <td>93</td>\n",
       "      <td>1000</td>\n",
       "    </tr>\n",
       "    <tr>\n",
       "      <th>1</th>\n",
       "      <td>2</td>\n",
       "      <td>465</td>\n",
       "      <td>1 000 Places to See Before You Die</td>\n",
       "      <td>992</td>\n",
       "      <td>2003-05-22</td>\n",
       "      <td>336</td>\n",
       "      <td>1000</td>\n",
       "    </tr>\n",
       "    <tr>\n",
       "      <th>2</th>\n",
       "      <td>3</td>\n",
       "      <td>407</td>\n",
       "      <td>13 Little Blue Envelopes (Little Blue Envelope...</td>\n",
       "      <td>322</td>\n",
       "      <td>2010-12-21</td>\n",
       "      <td>135</td>\n",
       "      <td>1000</td>\n",
       "    </tr>\n",
       "    <tr>\n",
       "      <th>3</th>\n",
       "      <td>4</td>\n",
       "      <td>82</td>\n",
       "      <td>1491: New Revelations of the Americas Before C...</td>\n",
       "      <td>541</td>\n",
       "      <td>2006-10-10</td>\n",
       "      <td>309</td>\n",
       "      <td>1000</td>\n",
       "    </tr>\n",
       "    <tr>\n",
       "      <th>4</th>\n",
       "      <td>5</td>\n",
       "      <td>125</td>\n",
       "      <td>1776</td>\n",
       "      <td>386</td>\n",
       "      <td>2006-07-04</td>\n",
       "      <td>268</td>\n",
       "      <td>1000</td>\n",
       "    </tr>\n",
       "  </tbody>\n",
       "</table>\n",
       "</div>"
      ],
      "text/plain": [
       "   book_id  author_id                                              title  \\\n",
       "0        1        546                                       'Salem's Lot   \n",
       "1        2        465                 1 000 Places to See Before You Die   \n",
       "2        3        407  13 Little Blue Envelopes (Little Blue Envelope...   \n",
       "3        4         82  1491: New Revelations of the Americas Before C...   \n",
       "4        5        125                                               1776   \n",
       "\n",
       "   num_pages publication_date  publisher_id  table_size  \n",
       "0        594       2005-11-01            93        1000  \n",
       "1        992       2003-05-22           336        1000  \n",
       "2        322       2010-12-21           135        1000  \n",
       "3        541       2006-10-10           309        1000  \n",
       "4        386       2006-07-04           268        1000  "
      ]
     },
     "execution_count": 9,
     "metadata": {},
     "output_type": "execute_result"
    }
   ],
   "source": [
    "query_b = '''\n",
    "    \n",
    "    SELECT *,\n",
    "        COUNT(*) OVER () AS table_size\n",
    "    FROM books\n",
    "    LIMIT 5\n",
    "    \n",
    "'''\n",
    "pd.io.sql.read_sql(query_b, con = engine) "
   ]
  },
  {
   "cell_type": "markdown",
   "metadata": {},
   "source": [
    "Эта таблица содержит данные о книгах:\n",
    "\n",
    "- book_id — идентификатор книги (первичный ключ);\n",
    "- author_id — идентификатор автора (внешний ключ);\n",
    "- title — название книги;\n",
    "- num_pages — количество страниц;\n",
    "- publication_date — дата публикации книги;\n",
    "- publisher_id — идентификатор издателя (внешний ключ).\n",
    "\n",
    "Таблица состоит из 6 столбцов и 1000 строк."
   ]
  },
  {
   "cell_type": "markdown",
   "metadata": {},
   "source": [
    "### authors"
   ]
  },
  {
   "cell_type": "code",
   "execution_count": 10,
   "metadata": {},
   "outputs": [
    {
     "data": {
      "text/html": [
       "<div>\n",
       "<style scoped>\n",
       "    .dataframe tbody tr th:only-of-type {\n",
       "        vertical-align: middle;\n",
       "    }\n",
       "\n",
       "    .dataframe tbody tr th {\n",
       "        vertical-align: top;\n",
       "    }\n",
       "\n",
       "    .dataframe thead th {\n",
       "        text-align: right;\n",
       "    }\n",
       "</style>\n",
       "<table border=\"1\" class=\"dataframe\">\n",
       "  <thead>\n",
       "    <tr style=\"text-align: right;\">\n",
       "      <th></th>\n",
       "      <th>author_id</th>\n",
       "      <th>author</th>\n",
       "      <th>table_size</th>\n",
       "    </tr>\n",
       "  </thead>\n",
       "  <tbody>\n",
       "    <tr>\n",
       "      <th>0</th>\n",
       "      <td>1</td>\n",
       "      <td>A.S. Byatt</td>\n",
       "      <td>636</td>\n",
       "    </tr>\n",
       "    <tr>\n",
       "      <th>1</th>\n",
       "      <td>2</td>\n",
       "      <td>Aesop/Laura Harris/Laura Gibbs</td>\n",
       "      <td>636</td>\n",
       "    </tr>\n",
       "    <tr>\n",
       "      <th>2</th>\n",
       "      <td>3</td>\n",
       "      <td>Agatha Christie</td>\n",
       "      <td>636</td>\n",
       "    </tr>\n",
       "    <tr>\n",
       "      <th>3</th>\n",
       "      <td>4</td>\n",
       "      <td>Alan Brennert</td>\n",
       "      <td>636</td>\n",
       "    </tr>\n",
       "    <tr>\n",
       "      <th>4</th>\n",
       "      <td>5</td>\n",
       "      <td>Alan Moore/David   Lloyd</td>\n",
       "      <td>636</td>\n",
       "    </tr>\n",
       "  </tbody>\n",
       "</table>\n",
       "</div>"
      ],
      "text/plain": [
       "   author_id                          author  table_size\n",
       "0          1                      A.S. Byatt         636\n",
       "1          2  Aesop/Laura Harris/Laura Gibbs         636\n",
       "2          3                 Agatha Christie         636\n",
       "3          4                   Alan Brennert         636\n",
       "4          5        Alan Moore/David   Lloyd         636"
      ]
     },
     "execution_count": 10,
     "metadata": {},
     "output_type": "execute_result"
    }
   ],
   "source": [
    "query_a = '''\n",
    "    \n",
    "    SELECT *,\n",
    "        COUNT(*) OVER () AS table_size\n",
    "    FROM authors\n",
    "    LIMIT 5\n",
    "    \n",
    "'''\n",
    "pd.io.sql.read_sql(query_a, con = engine) "
   ]
  },
  {
   "cell_type": "markdown",
   "metadata": {},
   "source": [
    "Таблица содержит данные об авторах:\n",
    "\n",
    "- author_id — идентификатор автора (первичный ключ);\n",
    "- author — имя автора.\n",
    "\n",
    "Таблица состоит из 2 столбцов и 636 строк."
   ]
  },
  {
   "cell_type": "markdown",
   "metadata": {},
   "source": [
    "### publishers "
   ]
  },
  {
   "cell_type": "code",
   "execution_count": 11,
   "metadata": {},
   "outputs": [
    {
     "data": {
      "text/html": [
       "<div>\n",
       "<style scoped>\n",
       "    .dataframe tbody tr th:only-of-type {\n",
       "        vertical-align: middle;\n",
       "    }\n",
       "\n",
       "    .dataframe tbody tr th {\n",
       "        vertical-align: top;\n",
       "    }\n",
       "\n",
       "    .dataframe thead th {\n",
       "        text-align: right;\n",
       "    }\n",
       "</style>\n",
       "<table border=\"1\" class=\"dataframe\">\n",
       "  <thead>\n",
       "    <tr style=\"text-align: right;\">\n",
       "      <th></th>\n",
       "      <th>publisher_id</th>\n",
       "      <th>publisher</th>\n",
       "      <th>table_size</th>\n",
       "    </tr>\n",
       "  </thead>\n",
       "  <tbody>\n",
       "    <tr>\n",
       "      <th>0</th>\n",
       "      <td>1</td>\n",
       "      <td>Ace</td>\n",
       "      <td>340</td>\n",
       "    </tr>\n",
       "    <tr>\n",
       "      <th>1</th>\n",
       "      <td>2</td>\n",
       "      <td>Ace Book</td>\n",
       "      <td>340</td>\n",
       "    </tr>\n",
       "    <tr>\n",
       "      <th>2</th>\n",
       "      <td>3</td>\n",
       "      <td>Ace Books</td>\n",
       "      <td>340</td>\n",
       "    </tr>\n",
       "    <tr>\n",
       "      <th>3</th>\n",
       "      <td>4</td>\n",
       "      <td>Ace Hardcover</td>\n",
       "      <td>340</td>\n",
       "    </tr>\n",
       "    <tr>\n",
       "      <th>4</th>\n",
       "      <td>5</td>\n",
       "      <td>Addison Wesley Publishing Company</td>\n",
       "      <td>340</td>\n",
       "    </tr>\n",
       "  </tbody>\n",
       "</table>\n",
       "</div>"
      ],
      "text/plain": [
       "   publisher_id                          publisher  table_size\n",
       "0             1                                Ace         340\n",
       "1             2                           Ace Book         340\n",
       "2             3                          Ace Books         340\n",
       "3             4                      Ace Hardcover         340\n",
       "4             5  Addison Wesley Publishing Company         340"
      ]
     },
     "execution_count": 11,
     "metadata": {},
     "output_type": "execute_result"
    }
   ],
   "source": [
    "query_p = '''\n",
    "    \n",
    "    SELECT *,\n",
    "        COUNT(*) OVER () AS table_size\n",
    "    FROM publishers\n",
    "    LIMIT 5\n",
    "    \n",
    "'''\n",
    "pd.io.sql.read_sql(query_p, con = engine) "
   ]
  },
  {
   "cell_type": "markdown",
   "metadata": {},
   "source": [
    "Таблица содержит данные об издательствах:\n",
    "\n",
    "- publisher_id — идентификатор издательства (первичный ключ);\n",
    "- publisher — название издательства.\n",
    "\n",
    "Объем таблицы: 340 строк."
   ]
  },
  {
   "cell_type": "markdown",
   "metadata": {},
   "source": [
    "### ratings"
   ]
  },
  {
   "cell_type": "code",
   "execution_count": 12,
   "metadata": {},
   "outputs": [
    {
     "data": {
      "text/html": [
       "<div>\n",
       "<style scoped>\n",
       "    .dataframe tbody tr th:only-of-type {\n",
       "        vertical-align: middle;\n",
       "    }\n",
       "\n",
       "    .dataframe tbody tr th {\n",
       "        vertical-align: top;\n",
       "    }\n",
       "\n",
       "    .dataframe thead th {\n",
       "        text-align: right;\n",
       "    }\n",
       "</style>\n",
       "<table border=\"1\" class=\"dataframe\">\n",
       "  <thead>\n",
       "    <tr style=\"text-align: right;\">\n",
       "      <th></th>\n",
       "      <th>rating_id</th>\n",
       "      <th>book_id</th>\n",
       "      <th>username</th>\n",
       "      <th>rating</th>\n",
       "      <th>table_size</th>\n",
       "    </tr>\n",
       "  </thead>\n",
       "  <tbody>\n",
       "    <tr>\n",
       "      <th>0</th>\n",
       "      <td>1</td>\n",
       "      <td>1</td>\n",
       "      <td>ryanfranco</td>\n",
       "      <td>4</td>\n",
       "      <td>6456</td>\n",
       "    </tr>\n",
       "    <tr>\n",
       "      <th>1</th>\n",
       "      <td>2</td>\n",
       "      <td>1</td>\n",
       "      <td>grantpatricia</td>\n",
       "      <td>2</td>\n",
       "      <td>6456</td>\n",
       "    </tr>\n",
       "    <tr>\n",
       "      <th>2</th>\n",
       "      <td>3</td>\n",
       "      <td>1</td>\n",
       "      <td>brandtandrea</td>\n",
       "      <td>5</td>\n",
       "      <td>6456</td>\n",
       "    </tr>\n",
       "    <tr>\n",
       "      <th>3</th>\n",
       "      <td>4</td>\n",
       "      <td>2</td>\n",
       "      <td>lorichen</td>\n",
       "      <td>3</td>\n",
       "      <td>6456</td>\n",
       "    </tr>\n",
       "    <tr>\n",
       "      <th>4</th>\n",
       "      <td>5</td>\n",
       "      <td>2</td>\n",
       "      <td>mariokeller</td>\n",
       "      <td>2</td>\n",
       "      <td>6456</td>\n",
       "    </tr>\n",
       "  </tbody>\n",
       "</table>\n",
       "</div>"
      ],
      "text/plain": [
       "   rating_id  book_id       username  rating  table_size\n",
       "0          1        1     ryanfranco       4        6456\n",
       "1          2        1  grantpatricia       2        6456\n",
       "2          3        1   brandtandrea       5        6456\n",
       "3          4        2       lorichen       3        6456\n",
       "4          5        2    mariokeller       2        6456"
      ]
     },
     "execution_count": 12,
     "metadata": {},
     "output_type": "execute_result"
    }
   ],
   "source": [
    "query_rat = '''\n",
    "    \n",
    "    SELECT *,\n",
    "        COUNT(*) OVER () AS table_size\n",
    "    FROM ratings\n",
    "    LIMIT 5\n",
    "    \n",
    "'''\n",
    "pd.io.sql.read_sql(query_rat, con = engine) "
   ]
  },
  {
   "cell_type": "markdown",
   "metadata": {},
   "source": [
    "В таблице находятся данные о пользовательских оценках книг:\n",
    "\n",
    "- rating_id — идентификатор оценки (первичный ключ);\n",
    "- book_id — идентификатор книги (внешний ключ);\n",
    "- username — имя пользователя, оставившего оценку;\n",
    "- rating — оценка книги.\n",
    "\n",
    "Таблица состоит из 4 столбцов и 6456 записей."
   ]
  },
  {
   "cell_type": "markdown",
   "metadata": {},
   "source": [
    "### reviews"
   ]
  },
  {
   "cell_type": "code",
   "execution_count": 13,
   "metadata": {},
   "outputs": [
    {
     "data": {
      "text/html": [
       "<div>\n",
       "<style scoped>\n",
       "    .dataframe tbody tr th:only-of-type {\n",
       "        vertical-align: middle;\n",
       "    }\n",
       "\n",
       "    .dataframe tbody tr th {\n",
       "        vertical-align: top;\n",
       "    }\n",
       "\n",
       "    .dataframe thead th {\n",
       "        text-align: right;\n",
       "    }\n",
       "</style>\n",
       "<table border=\"1\" class=\"dataframe\">\n",
       "  <thead>\n",
       "    <tr style=\"text-align: right;\">\n",
       "      <th></th>\n",
       "      <th>review_id</th>\n",
       "      <th>book_id</th>\n",
       "      <th>username</th>\n",
       "      <th>text</th>\n",
       "      <th>table_size</th>\n",
       "    </tr>\n",
       "  </thead>\n",
       "  <tbody>\n",
       "    <tr>\n",
       "      <th>0</th>\n",
       "      <td>1</td>\n",
       "      <td>1</td>\n",
       "      <td>brandtandrea</td>\n",
       "      <td>Mention society tell send professor analysis. ...</td>\n",
       "      <td>2793</td>\n",
       "    </tr>\n",
       "    <tr>\n",
       "      <th>1</th>\n",
       "      <td>2</td>\n",
       "      <td>1</td>\n",
       "      <td>ryanfranco</td>\n",
       "      <td>Foot glass pretty audience hit themselves. Amo...</td>\n",
       "      <td>2793</td>\n",
       "    </tr>\n",
       "    <tr>\n",
       "      <th>2</th>\n",
       "      <td>3</td>\n",
       "      <td>2</td>\n",
       "      <td>lorichen</td>\n",
       "      <td>Listen treat keep worry. Miss husband tax but ...</td>\n",
       "      <td>2793</td>\n",
       "    </tr>\n",
       "    <tr>\n",
       "      <th>3</th>\n",
       "      <td>4</td>\n",
       "      <td>3</td>\n",
       "      <td>johnsonamanda</td>\n",
       "      <td>Finally month interesting blue could nature cu...</td>\n",
       "      <td>2793</td>\n",
       "    </tr>\n",
       "    <tr>\n",
       "      <th>4</th>\n",
       "      <td>5</td>\n",
       "      <td>3</td>\n",
       "      <td>scotttamara</td>\n",
       "      <td>Nation purpose heavy give wait song will. List...</td>\n",
       "      <td>2793</td>\n",
       "    </tr>\n",
       "  </tbody>\n",
       "</table>\n",
       "</div>"
      ],
      "text/plain": [
       "   review_id  book_id       username  \\\n",
       "0          1        1   brandtandrea   \n",
       "1          2        1     ryanfranco   \n",
       "2          3        2       lorichen   \n",
       "3          4        3  johnsonamanda   \n",
       "4          5        3    scotttamara   \n",
       "\n",
       "                                                text  table_size  \n",
       "0  Mention society tell send professor analysis. ...        2793  \n",
       "1  Foot glass pretty audience hit themselves. Amo...        2793  \n",
       "2  Listen treat keep worry. Miss husband tax but ...        2793  \n",
       "3  Finally month interesting blue could nature cu...        2793  \n",
       "4  Nation purpose heavy give wait song will. List...        2793  "
      ]
     },
     "execution_count": 13,
     "metadata": {},
     "output_type": "execute_result"
    }
   ],
   "source": [
    "query_rev = '''\n",
    "    \n",
    "    SELECT *,\n",
    "        COUNT(*) OVER () AS table_size\n",
    "    FROM reviews\n",
    "    LIMIT 5\n",
    "    \n",
    "'''\n",
    "pd.io.sql.read_sql(query_rev, con = engine) "
   ]
  },
  {
   "cell_type": "markdown",
   "metadata": {},
   "source": [
    "Таблица содержит данные о пользовательских обзорах на книги:\n",
    "\n",
    "- review_id — идентификатор обзора (первичный ключ);\n",
    "- book_id — идентификатор книги (внешний ключ);\n",
    "- username — имя пользователя, написавшего обзор;\n",
    "- text — текст обзора.\n",
    "\n",
    "Таблица состоит из 4 столбцов и 2793 строки"
   ]
  },
  {
   "cell_type": "markdown",
   "metadata": {},
   "source": [
    "## 5. Написание запросов"
   ]
  },
  {
   "cell_type": "markdown",
   "metadata": {},
   "source": [
    "### Задание 1"
   ]
  },
  {
   "cell_type": "markdown",
   "metadata": {},
   "source": [
    "Посчитать, сколько книг вышло после 1 января 2000 года:"
   ]
  },
  {
   "cell_type": "code",
   "execution_count": 14,
   "metadata": {},
   "outputs": [
    {
     "data": {
      "text/html": [
       "<div>\n",
       "<style scoped>\n",
       "    .dataframe tbody tr th:only-of-type {\n",
       "        vertical-align: middle;\n",
       "    }\n",
       "\n",
       "    .dataframe tbody tr th {\n",
       "        vertical-align: top;\n",
       "    }\n",
       "\n",
       "    .dataframe thead th {\n",
       "        text-align: right;\n",
       "    }\n",
       "</style>\n",
       "<table border=\"1\" class=\"dataframe\">\n",
       "  <thead>\n",
       "    <tr style=\"text-align: right;\">\n",
       "      <th></th>\n",
       "      <th>count</th>\n",
       "    </tr>\n",
       "  </thead>\n",
       "  <tbody>\n",
       "    <tr>\n",
       "      <th>0</th>\n",
       "      <td>819</td>\n",
       "    </tr>\n",
       "  </tbody>\n",
       "</table>\n",
       "</div>"
      ],
      "text/plain": [
       "   count\n",
       "0    819"
      ]
     },
     "execution_count": 14,
     "metadata": {},
     "output_type": "execute_result"
    }
   ],
   "source": [
    "query_1 = '''\n",
    "    \n",
    "    SELECT\n",
    "        COUNT(book_id)\n",
    "    FROM books AS b\n",
    "    WHERE publication_date > '2000-01-01'\n",
    "    \n",
    "'''\n",
    "pd.io.sql.read_sql(query_1, con = engine) "
   ]
  },
  {
   "cell_type": "markdown",
   "metadata": {},
   "source": [
    "После 1 января 2000 года вышло 819 книг."
   ]
  },
  {
   "cell_type": "markdown",
   "metadata": {},
   "source": [
    "### Задание 2 "
   ]
  },
  {
   "cell_type": "markdown",
   "metadata": {},
   "source": [
    "Для каждой книги посчитать количество обзоров и среднюю оценку:"
   ]
  },
  {
   "cell_type": "code",
   "execution_count": 15,
   "metadata": {},
   "outputs": [
    {
     "data": {
      "text/html": [
       "<div>\n",
       "<style scoped>\n",
       "    .dataframe tbody tr th:only-of-type {\n",
       "        vertical-align: middle;\n",
       "    }\n",
       "\n",
       "    .dataframe tbody tr th {\n",
       "        vertical-align: top;\n",
       "    }\n",
       "\n",
       "    .dataframe thead th {\n",
       "        text-align: right;\n",
       "    }\n",
       "</style>\n",
       "<table border=\"1\" class=\"dataframe\">\n",
       "  <thead>\n",
       "    <tr style=\"text-align: right;\">\n",
       "      <th></th>\n",
       "      <th>book_name</th>\n",
       "      <th>id</th>\n",
       "      <th>reviews</th>\n",
       "      <th>avg_rating</th>\n",
       "    </tr>\n",
       "  </thead>\n",
       "  <tbody>\n",
       "    <tr>\n",
       "      <th>0</th>\n",
       "      <td>The Body in the Library (Miss Marple  #3)</td>\n",
       "      <td>652</td>\n",
       "      <td>2.0</td>\n",
       "      <td>4.500000</td>\n",
       "    </tr>\n",
       "    <tr>\n",
       "      <th>1</th>\n",
       "      <td>Galápagos</td>\n",
       "      <td>273</td>\n",
       "      <td>2.0</td>\n",
       "      <td>4.500000</td>\n",
       "    </tr>\n",
       "    <tr>\n",
       "      <th>2</th>\n",
       "      <td>A Tree Grows in Brooklyn</td>\n",
       "      <td>51</td>\n",
       "      <td>5.0</td>\n",
       "      <td>4.250000</td>\n",
       "    </tr>\n",
       "    <tr>\n",
       "      <th>3</th>\n",
       "      <td>Undaunted Courage: The Pioneering First Missio...</td>\n",
       "      <td>951</td>\n",
       "      <td>2.0</td>\n",
       "      <td>4.000000</td>\n",
       "    </tr>\n",
       "    <tr>\n",
       "      <th>4</th>\n",
       "      <td>The Prophet</td>\n",
       "      <td>839</td>\n",
       "      <td>4.0</td>\n",
       "      <td>4.285714</td>\n",
       "    </tr>\n",
       "    <tr>\n",
       "      <th>...</th>\n",
       "      <td>...</td>\n",
       "      <td>...</td>\n",
       "      <td>...</td>\n",
       "      <td>...</td>\n",
       "    </tr>\n",
       "    <tr>\n",
       "      <th>995</th>\n",
       "      <td>Alice in Wonderland</td>\n",
       "      <td>64</td>\n",
       "      <td>4.0</td>\n",
       "      <td>4.230769</td>\n",
       "    </tr>\n",
       "    <tr>\n",
       "      <th>996</th>\n",
       "      <td>A Woman of Substance (Emma Harte Saga #1)</td>\n",
       "      <td>55</td>\n",
       "      <td>2.0</td>\n",
       "      <td>5.000000</td>\n",
       "    </tr>\n",
       "    <tr>\n",
       "      <th>997</th>\n",
       "      <td>Christine</td>\n",
       "      <td>148</td>\n",
       "      <td>3.0</td>\n",
       "      <td>3.428571</td>\n",
       "    </tr>\n",
       "    <tr>\n",
       "      <th>998</th>\n",
       "      <td>The Magicians' Guild (Black Magician Trilogy  #1)</td>\n",
       "      <td>790</td>\n",
       "      <td>2.0</td>\n",
       "      <td>3.500000</td>\n",
       "    </tr>\n",
       "    <tr>\n",
       "      <th>999</th>\n",
       "      <td>The Plot Against America</td>\n",
       "      <td>828</td>\n",
       "      <td>2.0</td>\n",
       "      <td>3.000000</td>\n",
       "    </tr>\n",
       "  </tbody>\n",
       "</table>\n",
       "<p>1000 rows × 4 columns</p>\n",
       "</div>"
      ],
      "text/plain": [
       "                                             book_name   id  reviews  \\\n",
       "0            The Body in the Library (Miss Marple  #3)  652      2.0   \n",
       "1                                            Galápagos  273      2.0   \n",
       "2                             A Tree Grows in Brooklyn   51      5.0   \n",
       "3    Undaunted Courage: The Pioneering First Missio...  951      2.0   \n",
       "4                                          The Prophet  839      4.0   \n",
       "..                                                 ...  ...      ...   \n",
       "995                                Alice in Wonderland   64      4.0   \n",
       "996          A Woman of Substance (Emma Harte Saga #1)   55      2.0   \n",
       "997                                          Christine  148      3.0   \n",
       "998  The Magicians' Guild (Black Magician Trilogy  #1)  790      2.0   \n",
       "999                           The Plot Against America  828      2.0   \n",
       "\n",
       "     avg_rating  \n",
       "0      4.500000  \n",
       "1      4.500000  \n",
       "2      4.250000  \n",
       "3      4.000000  \n",
       "4      4.285714  \n",
       "..          ...  \n",
       "995    4.230769  \n",
       "996    5.000000  \n",
       "997    3.428571  \n",
       "998    3.500000  \n",
       "999    3.000000  \n",
       "\n",
       "[1000 rows x 4 columns]"
      ]
     },
     "execution_count": 15,
     "metadata": {},
     "output_type": "execute_result"
    }
   ],
   "source": [
    "query2 = ''' \n",
    "\n",
    "SELECT \n",
    "    books.title AS book_name,\n",
    "    books.book_id AS id,\n",
    "    SubRev.n_rev AS reviews,\n",
    "    SubRat.avg_rat AS avg_rating\n",
    "FROM books LEFT JOIN \n",
    "                (SELECT\n",
    "                    book_id,\n",
    "                    AVG(rating) AS avg_rat\n",
    "                FROM\n",
    "                    ratings\n",
    "                GROUP BY \n",
    "                    book_id\n",
    "                ) AS SubRat ON SubRat.book_id = books.book_id\n",
    "        LEFT JOIN\n",
    "                (SELECT \n",
    "                    book_id,\n",
    "                    COUNT(review_id) AS n_rev\n",
    "                FROM\n",
    "                    reviews\n",
    "                GROUP BY \n",
    "                    book_id\n",
    "                ) AS SubRev ON SubRev.book_id = books.book_id\n",
    "                \n",
    "; ''' \n",
    "\n",
    "request2 = pd.io.sql.read_sql(query2, con = engine)\n",
    "request2"
   ]
  },
  {
   "cell_type": "markdown",
   "metadata": {},
   "source": [
    "Получили таблицу с  заголовком, идентификатором, количеством обзоров и средним рейтингом книги."
   ]
  },
  {
   "cell_type": "markdown",
   "metadata": {},
   "source": [
    "### Задание 3"
   ]
  },
  {
   "cell_type": "markdown",
   "metadata": {},
   "source": [
    "Определить издательство, которое выпустило наибольшее число книг толще 50 страниц — так мы исключим из анализа брошюры:"
   ]
  },
  {
   "cell_type": "code",
   "execution_count": 16,
   "metadata": {},
   "outputs": [
    {
     "data": {
      "text/html": [
       "<div>\n",
       "<style scoped>\n",
       "    .dataframe tbody tr th:only-of-type {\n",
       "        vertical-align: middle;\n",
       "    }\n",
       "\n",
       "    .dataframe tbody tr th {\n",
       "        vertical-align: top;\n",
       "    }\n",
       "\n",
       "    .dataframe thead th {\n",
       "        text-align: right;\n",
       "    }\n",
       "</style>\n",
       "<table border=\"1\" class=\"dataframe\">\n",
       "  <thead>\n",
       "    <tr style=\"text-align: right;\">\n",
       "      <th></th>\n",
       "      <th>publisher</th>\n",
       "      <th>book_cnt</th>\n",
       "    </tr>\n",
       "  </thead>\n",
       "  <tbody>\n",
       "    <tr>\n",
       "      <th>0</th>\n",
       "      <td>Penguin Books</td>\n",
       "      <td>42</td>\n",
       "    </tr>\n",
       "  </tbody>\n",
       "</table>\n",
       "</div>"
      ],
      "text/plain": [
       "       publisher  book_cnt\n",
       "0  Penguin Books        42"
      ]
     },
     "execution_count": 16,
     "metadata": {},
     "output_type": "execute_result"
    }
   ],
   "source": [
    "query_3 = '''\n",
    "\n",
    "WITH \n",
    "max AS (\n",
    "    SELECT\n",
    "        publisher_id,\n",
    "        COUNT(book_id) AS book_cnt\n",
    "    FROM books\n",
    "    WHERE num_pages > 50\n",
    "    GROUP BY publisher_id\n",
    "    ORDER BY book_cnt DESC\n",
    "    LIMIT 1\n",
    ")\n",
    "\n",
    "    SELECT\n",
    "        publisher,\n",
    "        book_cnt\n",
    "    FROM publishers AS p\n",
    "    JOIN max ON p.publisher_id = max.publisher_id\n",
    "    \n",
    "'''\n",
    "\n",
    "pd.io.sql.read_sql(query_3, con = engine) "
   ]
  },
  {
   "cell_type": "markdown",
   "metadata": {},
   "source": [
    "Больше всего книг выпустило Penguin Books - 42 книги."
   ]
  },
  {
   "cell_type": "markdown",
   "metadata": {},
   "source": [
    "### Задание 4 "
   ]
  },
  {
   "cell_type": "markdown",
   "metadata": {},
   "source": [
    "Определить автора с самой высокой средней оценкой книг — учитывать только книги с 50 и более оценками:"
   ]
  },
  {
   "cell_type": "code",
   "execution_count": 17,
   "metadata": {},
   "outputs": [
    {
     "data": {
      "text/html": [
       "<div>\n",
       "<style scoped>\n",
       "    .dataframe tbody tr th:only-of-type {\n",
       "        vertical-align: middle;\n",
       "    }\n",
       "\n",
       "    .dataframe tbody tr th {\n",
       "        vertical-align: top;\n",
       "    }\n",
       "\n",
       "    .dataframe thead th {\n",
       "        text-align: right;\n",
       "    }\n",
       "</style>\n",
       "<table border=\"1\" class=\"dataframe\">\n",
       "  <thead>\n",
       "    <tr style=\"text-align: right;\">\n",
       "      <th></th>\n",
       "      <th>author</th>\n",
       "      <th>avg_rating</th>\n",
       "    </tr>\n",
       "  </thead>\n",
       "  <tbody>\n",
       "    <tr>\n",
       "      <th>0</th>\n",
       "      <td>J.K. Rowling/Mary GrandPré</td>\n",
       "      <td>4.283844</td>\n",
       "    </tr>\n",
       "  </tbody>\n",
       "</table>\n",
       "</div>"
      ],
      "text/plain": [
       "                       author  avg_rating\n",
       "0  J.K. Rowling/Mary GrandPré    4.283844"
      ]
     },
     "execution_count": 17,
     "metadata": {},
     "output_type": "execute_result"
    }
   ],
   "source": [
    "query_4 = '''\n",
    "\n",
    "WITH\n",
    "a AS (   \n",
    "    SELECT\n",
    "        book_id\n",
    "        , AVG(rating) AS book_rating\n",
    "    FROM ratings\n",
    "    GROUP BY book_id\n",
    "    HAVING COUNT(rating_id) >= 50\n",
    ")\n",
    ", c AS (   \n",
    "    SELECT\n",
    "        b.book_id\n",
    "        , au.author\n",
    "        , a.book_rating\n",
    "    FROM books AS b\n",
    "    JOIN a ON b.book_id = a.book_id\n",
    "    JOIN authors AS au ON au.author_id = b.author_id\n",
    ")\n",
    "\n",
    "    SELECT\n",
    "        author\n",
    "        , AVG(book_rating) AS avg_rating\n",
    "    FROM c\n",
    "    GROUP BY author\n",
    "    ORDER BY avg_rating DESC\n",
    "    LIMIT 1\n",
    "\n",
    "'''\n",
    "\n",
    "pd.io.sql.read_sql(query_4, con = engine) "
   ]
  },
  {
   "cell_type": "markdown",
   "metadata": {},
   "source": [
    "Среди популярных книг с количеством оценок равным или более 50, самый высокий рейтинг книг у J.K. Rowling/Mary GrandPré."
   ]
  },
  {
   "cell_type": "markdown",
   "metadata": {},
   "source": [
    "### Задание 5  "
   ]
  },
  {
   "cell_type": "markdown",
   "metadata": {},
   "source": [
    "Посчитать среднее количество обзоров от пользователей, которые поставили больше 48 оценок:"
   ]
  },
  {
   "cell_type": "code",
   "execution_count": 18,
   "metadata": {},
   "outputs": [
    {
     "data": {
      "text/html": [
       "<div>\n",
       "<style scoped>\n",
       "    .dataframe tbody tr th:only-of-type {\n",
       "        vertical-align: middle;\n",
       "    }\n",
       "\n",
       "    .dataframe tbody tr th {\n",
       "        vertical-align: top;\n",
       "    }\n",
       "\n",
       "    .dataframe thead th {\n",
       "        text-align: right;\n",
       "    }\n",
       "</style>\n",
       "<table border=\"1\" class=\"dataframe\">\n",
       "  <thead>\n",
       "    <tr style=\"text-align: right;\">\n",
       "      <th></th>\n",
       "      <th>avg</th>\n",
       "    </tr>\n",
       "  </thead>\n",
       "  <tbody>\n",
       "    <tr>\n",
       "      <th>0</th>\n",
       "      <td>24.0</td>\n",
       "    </tr>\n",
       "  </tbody>\n",
       "</table>\n",
       "</div>"
      ],
      "text/plain": [
       "    avg\n",
       "0  24.0"
      ]
     },
     "execution_count": 18,
     "metadata": {},
     "output_type": "execute_result"
    }
   ],
   "source": [
    "query_5 = '''\n",
    "\n",
    "WITH\n",
    "a AS (    \n",
    "    SELECT \n",
    "        username\n",
    "    FROM ratings \n",
    "    GROUP BY username\n",
    "    HAVING COUNT(rating_id) > 48\n",
    "),    \n",
    "b AS (    \n",
    "    SELECT\n",
    "        COUNT(review_id) AS review_cnt\n",
    "    FROM reviews AS r\n",
    "    JOIN a ON r.username = a.username\n",
    "    GROUP BY a.username)\n",
    "    \n",
    "    SELECT\n",
    "        AVG(review_cnt)\n",
    "    FROM b\n",
    "    \n",
    "'''\n",
    "\n",
    "pd.io.sql.read_sql(query_5, con = engine) "
   ]
  },
  {
   "cell_type": "markdown",
   "metadata": {},
   "source": [
    "Среднее количество обзоров от пользователей, которые поставили больше 48 оценок - 24,0."
   ]
  },
  {
   "cell_type": "markdown",
   "metadata": {},
   "source": [
    "## 6. Вывод "
   ]
  },
  {
   "cell_type": "markdown",
   "metadata": {},
   "source": [
    "**Исследование базы данных показало, что в базе данных содержатся 5 таблиц:**\n",
    "\n",
    "- books - имеет 6 столбцов и 1000 записей;\n",
    "- authors - имеет 2 поля и 656 записей;\n",
    "- publishers - имеет 2 столбцa и 340 записей;\n",
    "- ratings - имеет 4 столбцa и 6456 записей;\n",
    "- reviews - имеет 4 поля и 2793 записей;\n",
    "\n",
    "**Написание запросов дало следующие результаты:**\n",
    "\n",
    "- после 1 января 2000 года вышло 819 книг;\n",
    "- составили таблицу с заголовком, идентификатором, количеством обзоров и средним рейтингом книги;\n",
    "- больше всего книг выпустило издательство Penguin Books - 42 книги;\n",
    "- среди популярных книг с количеством оценок равным или более 50, самый высокий рейтинг книг у J.K. Rowling/Mary GrandPré.;\n",
    "- среднее количество обзоров от пользователей, которые поставили больше 48 оценок - 24,0."
   ]
  }
 ],
 "metadata": {
  "ExecuteTimeLog": [
   {
    "duration": 512,
    "start_time": "2023-08-30T11:42:23.272Z"
   },
   {
    "duration": 2,
    "start_time": "2023-08-30T11:43:03.217Z"
   },
   {
    "duration": 689,
    "start_time": "2023-08-30T11:43:03.221Z"
   },
   {
    "duration": 610,
    "start_time": "2023-08-30T11:46:04.875Z"
   },
   {
    "duration": 3,
    "start_time": "2023-08-30T11:55:39.699Z"
   },
   {
    "duration": 4,
    "start_time": "2023-08-30T11:55:40.127Z"
   },
   {
    "duration": 3,
    "start_time": "2023-08-30T11:55:40.574Z"
   },
   {
    "duration": 6,
    "start_time": "2023-08-30T11:55:41.148Z"
   },
   {
    "duration": 302,
    "start_time": "2023-08-30T11:56:26.568Z"
   },
   {
    "duration": 90,
    "start_time": "2023-08-30T11:57:58.242Z"
   },
   {
    "duration": 126,
    "start_time": "2023-08-30T11:58:36.294Z"
   },
   {
    "duration": 87,
    "start_time": "2023-08-30T12:00:00.045Z"
   },
   {
    "duration": 113,
    "start_time": "2023-08-30T12:00:32.963Z"
   },
   {
    "duration": 91,
    "start_time": "2023-08-30T12:01:06.913Z"
   },
   {
    "duration": 212,
    "start_time": "2023-08-30T12:01:55.501Z"
   },
   {
    "duration": 75,
    "start_time": "2023-08-30T12:02:28.807Z"
   },
   {
    "duration": 248,
    "start_time": "2023-08-30T12:03:17.770Z"
   },
   {
    "duration": 73,
    "start_time": "2023-08-30T12:06:34.661Z"
   },
   {
    "duration": 95,
    "start_time": "2023-08-30T12:08:05.639Z"
   },
   {
    "duration": 543,
    "start_time": "2023-08-30T12:08:53.304Z"
   },
   {
    "duration": 107,
    "start_time": "2023-08-30T12:35:41.704Z"
   },
   {
    "duration": 72,
    "start_time": "2023-08-30T12:38:47.574Z"
   },
   {
    "duration": 76,
    "start_time": "2023-08-30T12:40:10.321Z"
   },
   {
    "duration": 88,
    "start_time": "2023-08-30T12:44:01.653Z"
   },
   {
    "duration": 84,
    "start_time": "2023-08-30T12:45:17.570Z"
   },
   {
    "duration": 83,
    "start_time": "2023-08-30T12:48:51.297Z"
   },
   {
    "duration": 3,
    "start_time": "2023-08-30T13:01:33.688Z"
   },
   {
    "duration": 4,
    "start_time": "2023-08-30T13:01:34.278Z"
   },
   {
    "duration": 3,
    "start_time": "2023-08-30T13:01:34.881Z"
   },
   {
    "duration": 4,
    "start_time": "2023-08-30T13:01:35.351Z"
   },
   {
    "duration": 265,
    "start_time": "2023-08-30T13:01:36.407Z"
   },
   {
    "duration": 79,
    "start_time": "2023-08-30T13:01:47.833Z"
   },
   {
    "duration": 79,
    "start_time": "2023-08-30T13:01:49.389Z"
   },
   {
    "duration": 82,
    "start_time": "2023-08-30T13:01:50.380Z"
   },
   {
    "duration": 79,
    "start_time": "2023-08-30T13:01:51.531Z"
   },
   {
    "duration": 76,
    "start_time": "2023-08-30T13:01:53.841Z"
   },
   {
    "duration": 110,
    "start_time": "2023-08-30T13:01:56.503Z"
   },
   {
    "duration": 78,
    "start_time": "2023-08-30T13:01:58.168Z"
   },
   {
    "duration": 81,
    "start_time": "2023-08-30T13:01:59.545Z"
   },
   {
    "duration": 80,
    "start_time": "2023-08-30T13:02:01.121Z"
   },
   {
    "duration": 644,
    "start_time": "2023-08-30T14:00:44.940Z"
   },
   {
    "duration": 3,
    "start_time": "2023-08-30T14:00:45.586Z"
   },
   {
    "duration": 86,
    "start_time": "2023-08-30T14:00:45.590Z"
   },
   {
    "duration": 19160,
    "start_time": "2023-08-30T14:00:45.678Z"
   },
   {
    "duration": 293,
    "start_time": "2023-08-30T14:01:04.840Z"
   },
   {
    "duration": 77,
    "start_time": "2023-08-30T14:01:05.135Z"
   },
   {
    "duration": 77,
    "start_time": "2023-08-30T14:01:05.214Z"
   },
   {
    "duration": 78,
    "start_time": "2023-08-30T14:01:05.293Z"
   },
   {
    "duration": 77,
    "start_time": "2023-08-30T14:01:05.373Z"
   },
   {
    "duration": 73,
    "start_time": "2023-08-30T14:01:05.453Z"
   },
   {
    "duration": 108,
    "start_time": "2023-08-30T14:01:05.527Z"
   },
   {
    "duration": 75,
    "start_time": "2023-08-30T14:01:05.637Z"
   },
   {
    "duration": 102,
    "start_time": "2023-08-30T14:01:05.713Z"
   },
   {
    "duration": 76,
    "start_time": "2023-08-30T14:01:05.818Z"
   }
  ],
  "kernelspec": {
   "display_name": "Python 3 (ipykernel)",
   "language": "python",
   "name": "python3"
  },
  "language_info": {
   "codemirror_mode": {
    "name": "ipython",
    "version": 3
   },
   "file_extension": ".py",
   "mimetype": "text/x-python",
   "name": "python",
   "nbconvert_exporter": "python",
   "pygments_lexer": "ipython3",
   "version": "3.9.13"
  },
  "toc": {
   "base_numbering": 1,
   "nav_menu": {},
   "number_sections": true,
   "sideBar": true,
   "skip_h1_title": true,
   "title_cell": "Table of Contents",
   "title_sidebar": "Contents",
   "toc_cell": false,
   "toc_position": {},
   "toc_section_display": true,
   "toc_window_display": true
  }
 },
 "nbformat": 4,
 "nbformat_minor": 2
}
