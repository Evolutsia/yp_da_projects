{
 "cells": [
  {
   "cell_type": "markdown",
   "id": "0936ce86",
   "metadata": {},
   "source": [
    "# Анализ взаимодействия пользователей с карточками статей Яндекс.Дзен #"
   ]
  },
  {
   "cell_type": "markdown",
   "id": "f413337c",
   "metadata": {},
   "source": [
    "## Введение ##"
   ]
  },
  {
   "cell_type": "markdown",
   "id": "b6e14896",
   "metadata": {},
   "source": [
    "**Цель:** \n",
    "\n",
    "автоматизировать анализ взаимодействия пользователей с карточками статей Яндекс.Дзен."
   ]
  },
  {
   "cell_type": "markdown",
   "id": "ee5a87ae",
   "metadata": {},
   "source": [
    "**Задача:** \n",
    "    \n",
    "сделать дашборд, который будет основываться на пайплайне, который будет брать данные из таблицы, в которых хранятся сырые данные, трансформировать данные и укладывать их в агрегирующую таблицу. Пайплайн будет разработан дата-инженерами.\n"
   ]
  },
  {
   "cell_type": "markdown",
   "id": "35da1557",
   "metadata": {},
   "source": [
    "## Техническое задание: ##"
   ]
  },
  {
   "cell_type": "markdown",
   "id": "c1a6990a",
   "metadata": {},
   "source": [
    "**Бизнес-задача:** анализ взаимодействия пользователей с карточками Яндекс.Дзен;\n",
    "\n",
    "**Насколько часто предполагается пользоваться дашбордом:** не реже, чем раз в неделю;\n",
    "\n",
    "**Кто будет основным пользователем дашборда:** менеджеры по анализу контента;\n",
    "\n",
    "**Состав данных для дашборда:**\n",
    "\n",
    "- История событий по темам карточек (два графика - абсолютные числа и процентное соотношение);\n",
    "- Разбивка событий по темам источников;\n",
    "- Таблица соответствия тем источников темам карточек;\n",
    "\n",
    "**По каким параметрам данные должны группироваться:**\n",
    "\n",
    "- Дата и время;\n",
    "- Тема карточки;\n",
    "- Тема источника;\n",
    "- Возрастная группа;\n",
    "\n",
    "**Характер данных:**\n",
    "\n",
    "- История событий по темам карточек - абсолютные величины с разбивкой по минутам;\n",
    "- Разбивка событий по темам источников - относительные величины (% событий);\n",
    "- Соответствия тем источников темам карточек - абсолютные величины;\n",
    "\n",
    "**Важность:** все графики имеют равную важность;\n",
    "\n",
    "**Источники данных для дашборда:** cырые данные о событиях взаимодействия пользователей с карточками (таблица log_raw);\n",
    "\n",
    "**База данных, в которой будут храниться агрегированные данные:** дополнительные агрегированные таблицы в БД zen;\n",
    "\n",
    "**Частота обновления данных:** один раз в сутки, в полночь по UTC;\n",
    "\n",
    "**Макет дашборда:**"
   ]
  },
  {
   "cell_type": "markdown",
   "id": "dac4199e",
   "metadata": {},
   "source": [
    "![макет](https://www.dropbox.com/scl/fi/75u7z919bnogguptvoe0a/.jpg.jpg?rlkey=2h4zycr4d11b1vr31tnvn8brb&dl=0)"
   ]
  },
  {
   "cell_type": "markdown",
   "id": "9fa1bed9",
   "metadata": {},
   "source": [
    "## Импорт библиотек Python ##"
   ]
  },
  {
   "cell_type": "code",
   "execution_count": 16,
   "id": "8afd989d",
   "metadata": {},
   "outputs": [],
   "source": [
    "# импортируем библиотеки\n",
    "import pandas as pd\n",
    "from sqlalchemy import text, create_engine\n",
    "# устанавливаем параметры\n",
    "db_config = {'user': 'praktikum_student', # имя пользователя\n",
    "            'pwd': 'Sdf4$2;d-d30pp', # пароль\n",
    "            'host': 'rc1b-wcoijxj3yxfsf3fs.mdb.yandexcloud.net',\n",
    "            'port': 6432, # порт подключения\n",
    "            'db': 'data-analyst-zen-project-db'} # название базы данных\n",
    "            \n",
    "connection_string = 'postgresql://{user}:{pwd}@{host}:{port}/{db}'.format(**db_config)\n",
    "# сохраняем коннектор\n",
    "engine = create_engine(connection_string, connect_args={'sslmode':'require'}) "
   ]
  },
  {
   "cell_type": "markdown",
   "id": "623b3d0a",
   "metadata": {},
   "source": [
    "## Выгрузка данных ##"
   ]
  },
  {
   "cell_type": "markdown",
   "id": "b9b513de",
   "metadata": {},
   "source": [
    "Запускаем скрипт, который использует запрос к базе данных для того, чтобы получить все записи из таблицы:"
   ]
  },
  {
   "cell_type": "code",
   "execution_count": 34,
   "id": "6672464b",
   "metadata": {},
   "outputs": [],
   "source": [
    " query = '''\n",
    "           SELECT *\n",
    "           FROM dash_visits\n",
    "        '''\n",
    "sql_data = pd.io.sql.read_sql(query, con = engine)"
   ]
  },
  {
   "cell_type": "markdown",
   "id": "3956e28e",
   "metadata": {},
   "source": [
    "Экспорт в csv:"
   ]
  },
  {
   "cell_type": "code",
   "execution_count": 35,
   "id": "bce797f6",
   "metadata": {},
   "outputs": [],
   "source": [
    "sql_data.to_csv('dash_visits.csv', index = False)"
   ]
  },
  {
   "cell_type": "markdown",
   "id": "4fb0ac29",
   "metadata": {},
   "source": [
    "Чтение данных из полученного файла csv:"
   ]
  },
  {
   "cell_type": "code",
   "execution_count": 36,
   "id": "52848bb4",
   "metadata": {},
   "outputs": [],
   "source": [
    "visits_data = pd.read_csv('dash_visits.csv', parse_dates=['dt'])"
   ]
  },
  {
   "cell_type": "markdown",
   "id": "9c96c975",
   "metadata": {},
   "source": [
    "Изучим полученные данные:"
   ]
  },
  {
   "cell_type": "code",
   "execution_count": 37,
   "id": "7d5d3ebc",
   "metadata": {},
   "outputs": [
    {
     "data": {
      "text/html": [
       "<div>\n",
       "<style scoped>\n",
       "    .dataframe tbody tr th:only-of-type {\n",
       "        vertical-align: middle;\n",
       "    }\n",
       "\n",
       "    .dataframe tbody tr th {\n",
       "        vertical-align: top;\n",
       "    }\n",
       "\n",
       "    .dataframe thead th {\n",
       "        text-align: right;\n",
       "    }\n",
       "</style>\n",
       "<table border=\"1\" class=\"dataframe\">\n",
       "  <thead>\n",
       "    <tr style=\"text-align: right;\">\n",
       "      <th></th>\n",
       "      <th>record_id</th>\n",
       "      <th>item_topic</th>\n",
       "      <th>source_topic</th>\n",
       "      <th>age_segment</th>\n",
       "      <th>dt</th>\n",
       "      <th>visits</th>\n",
       "    </tr>\n",
       "  </thead>\n",
       "  <tbody>\n",
       "    <tr>\n",
       "      <th>0</th>\n",
       "      <td>1040597</td>\n",
       "      <td>Деньги</td>\n",
       "      <td>Авто</td>\n",
       "      <td>18-25</td>\n",
       "      <td>2019-09-24 18:32:00</td>\n",
       "      <td>3</td>\n",
       "    </tr>\n",
       "    <tr>\n",
       "      <th>1</th>\n",
       "      <td>1040598</td>\n",
       "      <td>Деньги</td>\n",
       "      <td>Авто</td>\n",
       "      <td>18-25</td>\n",
       "      <td>2019-09-24 18:35:00</td>\n",
       "      <td>1</td>\n",
       "    </tr>\n",
       "    <tr>\n",
       "      <th>2</th>\n",
       "      <td>1040599</td>\n",
       "      <td>Деньги</td>\n",
       "      <td>Авто</td>\n",
       "      <td>18-25</td>\n",
       "      <td>2019-09-24 18:54:00</td>\n",
       "      <td>4</td>\n",
       "    </tr>\n",
       "    <tr>\n",
       "      <th>3</th>\n",
       "      <td>1040600</td>\n",
       "      <td>Деньги</td>\n",
       "      <td>Авто</td>\n",
       "      <td>18-25</td>\n",
       "      <td>2019-09-24 18:55:00</td>\n",
       "      <td>17</td>\n",
       "    </tr>\n",
       "    <tr>\n",
       "      <th>4</th>\n",
       "      <td>1040601</td>\n",
       "      <td>Деньги</td>\n",
       "      <td>Авто</td>\n",
       "      <td>18-25</td>\n",
       "      <td>2019-09-24 18:56:00</td>\n",
       "      <td>27</td>\n",
       "    </tr>\n",
       "  </tbody>\n",
       "</table>\n",
       "</div>"
      ],
      "text/plain": [
       "   record_id item_topic source_topic age_segment                  dt  visits\n",
       "0    1040597     Деньги         Авто       18-25 2019-09-24 18:32:00       3\n",
       "1    1040598     Деньги         Авто       18-25 2019-09-24 18:35:00       1\n",
       "2    1040599     Деньги         Авто       18-25 2019-09-24 18:54:00       4\n",
       "3    1040600     Деньги         Авто       18-25 2019-09-24 18:55:00      17\n",
       "4    1040601     Деньги         Авто       18-25 2019-09-24 18:56:00      27"
      ]
     },
     "metadata": {},
     "output_type": "display_data"
    },
    {
     "name": "stdout",
     "output_type": "stream",
     "text": [
      "<class 'pandas.core.frame.DataFrame'>\n",
      "RangeIndex: 30745 entries, 0 to 30744\n",
      "Data columns (total 6 columns):\n",
      " #   Column        Non-Null Count  Dtype         \n",
      "---  ------        --------------  -----         \n",
      " 0   record_id     30745 non-null  int64         \n",
      " 1   item_topic    30745 non-null  object        \n",
      " 2   source_topic  30745 non-null  object        \n",
      " 3   age_segment   30745 non-null  object        \n",
      " 4   dt            30745 non-null  datetime64[ns]\n",
      " 5   visits        30745 non-null  int64         \n",
      "dtypes: datetime64[ns](1), int64(2), object(3)\n",
      "memory usage: 1.4+ MB\n"
     ]
    }
   ],
   "source": [
    "display(visits_data.head())\n",
    "visits_data.info()"
   ]
  },
  {
   "cell_type": "markdown",
   "id": "9ca401ff",
   "metadata": {},
   "source": [
    "Преобразуем идентификатор в тип данных object:"
   ]
  },
  {
   "cell_type": "code",
   "execution_count": 38,
   "id": "b9c7faae",
   "metadata": {},
   "outputs": [],
   "source": [
    "visits_data['record_id'] = visits_data['record_id'].astype('object')"
   ]
  },
  {
   "cell_type": "markdown",
   "id": "586f3909",
   "metadata": {},
   "source": [
    "Изучим статистические характеристики:"
   ]
  },
  {
   "cell_type": "code",
   "execution_count": 39,
   "id": "1391bf53",
   "metadata": {},
   "outputs": [
    {
     "data": {
      "text/html": [
       "<div>\n",
       "<style scoped>\n",
       "    .dataframe tbody tr th:only-of-type {\n",
       "        vertical-align: middle;\n",
       "    }\n",
       "\n",
       "    .dataframe tbody tr th {\n",
       "        vertical-align: top;\n",
       "    }\n",
       "\n",
       "    .dataframe thead th {\n",
       "        text-align: right;\n",
       "    }\n",
       "</style>\n",
       "<table border=\"1\" class=\"dataframe\">\n",
       "  <thead>\n",
       "    <tr style=\"text-align: right;\">\n",
       "      <th></th>\n",
       "      <th>record_id</th>\n",
       "      <th>item_topic</th>\n",
       "      <th>source_topic</th>\n",
       "      <th>age_segment</th>\n",
       "      <th>dt</th>\n",
       "      <th>visits</th>\n",
       "    </tr>\n",
       "  </thead>\n",
       "  <tbody>\n",
       "    <tr>\n",
       "      <th>count</th>\n",
       "      <td>30745.0</td>\n",
       "      <td>30745</td>\n",
       "      <td>30745</td>\n",
       "      <td>30745</td>\n",
       "      <td>30745</td>\n",
       "      <td>30745.0</td>\n",
       "    </tr>\n",
       "    <tr>\n",
       "      <th>unique</th>\n",
       "      <td>30745.0</td>\n",
       "      <td>25</td>\n",
       "      <td>26</td>\n",
       "      <td>6</td>\n",
       "      <td>17</td>\n",
       "      <td></td>\n",
       "    </tr>\n",
       "    <tr>\n",
       "      <th>top</th>\n",
       "      <td>1040597.0</td>\n",
       "      <td>Отношения</td>\n",
       "      <td>Семейные отношения</td>\n",
       "      <td>18-25</td>\n",
       "      <td>2019-09-24 18:58:00</td>\n",
       "      <td></td>\n",
       "    </tr>\n",
       "    <tr>\n",
       "      <th>freq</th>\n",
       "      <td>1.0</td>\n",
       "      <td>1536</td>\n",
       "      <td>1822</td>\n",
       "      <td>7056</td>\n",
       "      <td>3383</td>\n",
       "      <td></td>\n",
       "    </tr>\n",
       "    <tr>\n",
       "      <th>first</th>\n",
       "      <td></td>\n",
       "      <td></td>\n",
       "      <td></td>\n",
       "      <td></td>\n",
       "      <td>2019-09-24 18:28:00</td>\n",
       "      <td></td>\n",
       "    </tr>\n",
       "    <tr>\n",
       "      <th>last</th>\n",
       "      <td></td>\n",
       "      <td></td>\n",
       "      <td></td>\n",
       "      <td></td>\n",
       "      <td>2019-09-24 19:00:00</td>\n",
       "      <td></td>\n",
       "    </tr>\n",
       "    <tr>\n",
       "      <th>mean</th>\n",
       "      <td></td>\n",
       "      <td></td>\n",
       "      <td></td>\n",
       "      <td></td>\n",
       "      <td></td>\n",
       "      <td>10.089673</td>\n",
       "    </tr>\n",
       "    <tr>\n",
       "      <th>std</th>\n",
       "      <td></td>\n",
       "      <td></td>\n",
       "      <td></td>\n",
       "      <td></td>\n",
       "      <td></td>\n",
       "      <td>19.727601</td>\n",
       "    </tr>\n",
       "    <tr>\n",
       "      <th>min</th>\n",
       "      <td></td>\n",
       "      <td></td>\n",
       "      <td></td>\n",
       "      <td></td>\n",
       "      <td></td>\n",
       "      <td>1.0</td>\n",
       "    </tr>\n",
       "    <tr>\n",
       "      <th>25%</th>\n",
       "      <td></td>\n",
       "      <td></td>\n",
       "      <td></td>\n",
       "      <td></td>\n",
       "      <td></td>\n",
       "      <td>1.0</td>\n",
       "    </tr>\n",
       "    <tr>\n",
       "      <th>50%</th>\n",
       "      <td></td>\n",
       "      <td></td>\n",
       "      <td></td>\n",
       "      <td></td>\n",
       "      <td></td>\n",
       "      <td>3.0</td>\n",
       "    </tr>\n",
       "    <tr>\n",
       "      <th>75%</th>\n",
       "      <td></td>\n",
       "      <td></td>\n",
       "      <td></td>\n",
       "      <td></td>\n",
       "      <td></td>\n",
       "      <td>10.0</td>\n",
       "    </tr>\n",
       "    <tr>\n",
       "      <th>max</th>\n",
       "      <td></td>\n",
       "      <td></td>\n",
       "      <td></td>\n",
       "      <td></td>\n",
       "      <td></td>\n",
       "      <td>371.0</td>\n",
       "    </tr>\n",
       "  </tbody>\n",
       "</table>\n",
       "</div>"
      ],
      "text/plain": [
       "        record_id item_topic        source_topic age_segment  \\\n",
       "count     30745.0      30745               30745       30745   \n",
       "unique    30745.0         25                  26           6   \n",
       "top     1040597.0  Отношения  Семейные отношения       18-25   \n",
       "freq          1.0       1536                1822        7056   \n",
       "first                                                          \n",
       "last                                                           \n",
       "mean                                                           \n",
       "std                                                            \n",
       "min                                                            \n",
       "25%                                                            \n",
       "50%                                                            \n",
       "75%                                                            \n",
       "max                                                            \n",
       "\n",
       "                         dt     visits  \n",
       "count                 30745    30745.0  \n",
       "unique                   17             \n",
       "top     2019-09-24 18:58:00             \n",
       "freq                   3383             \n",
       "first   2019-09-24 18:28:00             \n",
       "last    2019-09-24 19:00:00             \n",
       "mean                         10.089673  \n",
       "std                          19.727601  \n",
       "min                                1.0  \n",
       "25%                                1.0  \n",
       "50%                                3.0  \n",
       "75%                               10.0  \n",
       "max                              371.0  "
      ]
     },
     "execution_count": 39,
     "metadata": {},
     "output_type": "execute_result"
    }
   ],
   "source": [
    "visits_data.describe(include='all').fillna('')"
   ]
  },
  {
   "cell_type": "markdown",
   "id": "667c83ca",
   "metadata": {},
   "source": [
    "## Вывод ##"
   ]
  },
  {
   "cell_type": "markdown",
   "id": "8cdd7b08",
   "metadata": {},
   "source": [
    "Выгруженные данные дополнительной обработки не требуют."
   ]
  }
 ],
 "metadata": {
  "kernelspec": {
   "display_name": "Python 3 (ipykernel)",
   "language": "python",
   "name": "python3"
  },
  "language_info": {
   "codemirror_mode": {
    "name": "ipython",
    "version": 3
   },
   "file_extension": ".py",
   "mimetype": "text/x-python",
   "name": "python",
   "nbconvert_exporter": "python",
   "pygments_lexer": "ipython3",
   "version": "3.9.13"
  }
 },
 "nbformat": 4,
 "nbformat_minor": 5
}
