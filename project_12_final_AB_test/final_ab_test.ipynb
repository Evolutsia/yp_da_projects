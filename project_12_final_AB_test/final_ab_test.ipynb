{
 "cells": [
  {
   "cell_type": "markdown",
   "metadata": {},
   "source": [
    "# Выпускной проект курса Аналитика даннных от Яндекс Практикум "
   ]
  },
  {
   "cell_type": "markdown",
   "metadata": {},
   "source": [
    "# Проект по А/B-тестированию "
   ]
  },
  {
   "cell_type": "markdown",
   "metadata": {},
   "source": [
    "## 1. Введение"
   ]
  },
  {
   "cell_type": "markdown",
   "metadata": {},
   "source": [
    "**Цель:**\n",
    "\n",
    "Оценить корректность проведения A/B теста и проанализировать его результаты."
   ]
  },
  {
   "cell_type": "markdown",
   "metadata": {},
   "source": [
    "**Задачи:**\n",
    "\n",
    "- Удостовериться, что нет пересечений с конкурирующим тестом и нет пользователей, участвующих в двух группах теста одновременно;\n",
    "- Проверить равномерность распределения пользователей по тестовым группам и правильность их формирования.\n",
    "- Проанализировать результаты теста.    "
   ]
  },
  {
   "cell_type": "markdown",
   "metadata": {},
   "source": [
    "**Техническое задание:**\n",
    "\n",
    "- Название теста: recommender_system_test;\n",
    "- Группы: А (контрольная), B (новая платёжная воронка);\n",
    "- Дата запуска: 2020-12-07;\n",
    "- Дата остановки набора новых пользователей: 2020-12-21;\n",
    "- Дата остановки: 2021-01-04;\n",
    "- Аудитория: 15% новых пользователей из региона EU;\n",
    "- Назначение теста: тестирование изменений, связанных с внедрением улучшенной рекомендательной системы;\n",
    "- Ожидаемое количество участников теста: 6000.\n",
    "- Ожидаемый эффект: за 14 дней с момента регистрации в системе пользователи покажут улучшение каждой метрики не менее, чем на 10%:\n",
    "   - конверсии в просмотр карточек товаров — событие product_page\n",
    "   - просмотры корзины — product_cart\n",
    "   - покупки — purchase."
   ]
  },
  {
   "cell_type": "markdown",
   "metadata": {},
   "source": [
    "**Описание данных:**\n",
    "\n",
    "ab_project_marketing_events.csv -  **календарь маркетинговых событий на 2020 год;**\n",
    "\n",
    "Структура файла:\n",
    "\n",
    "- name — название маркетингового события;\n",
    "- regions — регионы, в которых будет проводиться рекламная кампания;\n",
    "- start_dt — дата начала кампании;\n",
    "- finish_dt — дата завершения кампании.\n",
    "\n",
    "final_ab_new_users.csv - **все пользователи, зарегистрировавшиеся в интернет-магазине в период с 7 по 21 декабря 2020 года;**\n",
    "\n",
    "Структура файла:\n",
    "\n",
    "- user_id — идентификатор пользователя;\n",
    "- first_date — дата регистрации;\n",
    "- region — регион пользователя;\n",
    "- device — устройство, с которого происходила регистрация.\n",
    "\n",
    "final_ab_events.csv - **все события новых пользователей в период с 7 декабря 2020 по 4 января 2021 года;**\n",
    "\n",
    "Структура файла:\n",
    "\n",
    "- user_id — идентификатор пользователя;\n",
    "- event_dt — дата и время события;\n",
    "- event_name — тип события;\n",
    "- details — дополнительные данные о событии. Например, для покупок, purchase, в этом поле хранится стоимость покупки в долларах.\n",
    "\n",
    "final_ab_participants.csv -  **таблица участников тестов.**\n",
    "\n",
    "Структура файла:\n",
    "\n",
    "- user_id — идентификатор пользователя;\n",
    "- ab_test — название теста;\n",
    "- group — группа пользователя."
   ]
  },
  {
   "cell_type": "markdown",
   "metadata": {},
   "source": [
    "**План исследования:**\n",
    "\n",
    "- Исследуем данные:\n",
    "  - Требуется ли преобразование типов?\n",
    "  - Присутствуют ли пропущенные значения и дубликаты? Если да, то какова их природа?\n",
    "- Оценим корректность проведения теста. Обратим внимание на:\n",
    "  - Соответствие данных требованиям технического задания. Проверим корректность всех пунктов технического задания.\n",
    "  - Время проведения теста. Убедимся, что оно не совпадает с маркетинговыми и другими активностями.\n",
    "  - Аудиторию теста. Удостоверимся, что нет пересечений с конкурирующим тестом и нет пользователей, участвующих в двух группах       теста одновременно. Проверим равномерность распределения пользователей по тестовым группам и правильность их формирования.\n",
    "- Проведем исследовательский анализ данных:\n",
    "  - Количество событий на пользователя одинаково распределены в выборках?\n",
    "  - Как число событий в выборках распределено по дням?\n",
    "  - Как меняется конверсия в воронке в выборках на разных этапах?\n",
    "  - Какие особенности данных нужно учесть, прежде чем приступать к A/B-тестированию?\n",
    "- Проведем оценку результатов A/B-тестирования:\n",
    "  - Что можно сказать про результаты A/B-тестирования?\n",
    "  - Проверим статистическую разницу долей z-критерием.\n",
    "- Сделаем выводы по этапу исследовательского анализа данных и по проведённой оценке результатов A/B-тестирования. Напишем общее заключение о корректности проведения теста."
   ]
  },
  {
   "cell_type": "markdown",
   "metadata": {},
   "source": [
    "## 2. Исследование и преобразование данных."
   ]
  },
  {
   "cell_type": "markdown",
   "metadata": {},
   "source": [
    "Загружаем необходимые библиотеки:"
   ]
  },
  {
   "cell_type": "code",
   "execution_count": 1,
   "metadata": {},
   "outputs": [
    {
     "name": "stdout",
     "output_type": "stream",
     "text": [
      "Requirement already satisfied: matplotlib in c:\\users\\77281\\anaconda3\\lib\\site-packages (3.7.2)\n",
      "Collecting matplotlib\n",
      "  Downloading matplotlib-3.8.0-cp39-cp39-win_amd64.whl (7.6 MB)\n",
      "     ---------------------------------------- 7.6/7.6 MB 1.7 MB/s eta 0:00:00\n",
      "Requirement already satisfied: python-dateutil>=2.7 in c:\\users\\77281\\anaconda3\\lib\\site-packages (from matplotlib) (2.8.2)\n",
      "Requirement already satisfied: contourpy>=1.0.1 in c:\\users\\77281\\anaconda3\\lib\\site-packages (from matplotlib) (1.1.0)\n",
      "Requirement already satisfied: cycler>=0.10 in c:\\users\\77281\\anaconda3\\lib\\site-packages (from matplotlib) (0.11.0)\n",
      "Requirement already satisfied: pyparsing>=2.3.1 in c:\\users\\77281\\anaconda3\\lib\\site-packages (from matplotlib) (3.0.9)\n",
      "Requirement already satisfied: packaging>=20.0 in c:\\users\\77281\\anaconda3\\lib\\site-packages (from matplotlib) (21.3)\n",
      "Requirement already satisfied: pillow>=6.2.0 in c:\\users\\77281\\anaconda3\\lib\\site-packages (from matplotlib) (9.2.0)\n",
      "Requirement already satisfied: kiwisolver>=1.0.1 in c:\\users\\77281\\anaconda3\\lib\\site-packages (from matplotlib) (1.4.2)\n",
      "Requirement already satisfied: fonttools>=4.22.0 in c:\\users\\77281\\anaconda3\\lib\\site-packages (from matplotlib) (4.25.0)\n",
      "Requirement already satisfied: importlib-resources>=3.2.0 in c:\\users\\77281\\anaconda3\\lib\\site-packages (from matplotlib) (6.0.1)\n",
      "Requirement already satisfied: numpy<2,>=1.21 in c:\\users\\77281\\anaconda3\\lib\\site-packages (from matplotlib) (1.21.5)\n",
      "Requirement already satisfied: zipp>=3.1.0 in c:\\users\\77281\\anaconda3\\lib\\site-packages (from importlib-resources>=3.2.0->matplotlib) (3.8.0)\n",
      "Requirement already satisfied: six>=1.5 in c:\\users\\77281\\anaconda3\\lib\\site-packages (from python-dateutil>=2.7->matplotlib) (1.16.0)\n",
      "Installing collected packages: matplotlib\n",
      "  Attempting uninstall: matplotlib\n",
      "    Found existing installation: matplotlib 3.7.2\n",
      "    Uninstalling matplotlib-3.7.2:\n",
      "      Successfully uninstalled matplotlib-3.7.2\n",
      "Successfully installed matplotlib-3.8.0\n",
      "Requirement already satisfied: plotly in c:\\users\\77281\\anaconda3\\lib\\site-packages (5.9.0)\n",
      "Requirement already satisfied: tenacity>=6.2.0 in c:\\users\\77281\\anaconda3\\lib\\site-packages (from plotly) (8.0.1)\n"
     ]
    }
   ],
   "source": [
    "! pip install matplotlib -U\n",
    "\n",
    "import pandas as pd\n",
    "import numpy as np\n",
    "import matplotlib.pyplot as plt\n",
    "#import matplotlib.dates as mdates\n",
    "import seaborn as sns\n",
    "import math\n",
    "\n",
    "! pip install plotly\n",
    "import plotly\n",
    "import plotly.graph_objs as go\n",
    "import plotly.express as px\n",
    "from plotly.subplots import make_subplots\n",
    "\n",
    "import scipy.stats as st\n",
    "\n",
    "import warnings\n",
    "warnings.filterwarnings('ignore')"
   ]
  },
  {
   "cell_type": "markdown",
   "metadata": {},
   "source": [
    "### Изучение и преобразование данных из таблицы ab_project_marketing_events"
   ]
  },
  {
   "cell_type": "markdown",
   "metadata": {},
   "source": [
    "Загружаем данные:"
   ]
  },
  {
   "cell_type": "code",
   "execution_count": 3,
   "metadata": {},
   "outputs": [],
   "source": [
    "ab_project_marketing_events = pd.read_csv('C:\\\\Users\\\\77281\\\\Downloads\\\\ab_project_marketing_events.csv')"
   ]
  },
  {
   "cell_type": "markdown",
   "metadata": {},
   "source": [
    "Изучим таблицу:"
   ]
  },
  {
   "cell_type": "code",
   "execution_count": 5,
   "metadata": {},
   "outputs": [
    {
     "data": {
      "text/html": [
       "<div>\n",
       "<style scoped>\n",
       "    .dataframe tbody tr th:only-of-type {\n",
       "        vertical-align: middle;\n",
       "    }\n",
       "\n",
       "    .dataframe tbody tr th {\n",
       "        vertical-align: top;\n",
       "    }\n",
       "\n",
       "    .dataframe thead th {\n",
       "        text-align: right;\n",
       "    }\n",
       "</style>\n",
       "<table border=\"1\" class=\"dataframe\">\n",
       "  <thead>\n",
       "    <tr style=\"text-align: right;\">\n",
       "      <th></th>\n",
       "      <th>name</th>\n",
       "      <th>regions</th>\n",
       "      <th>start_dt</th>\n",
       "      <th>finish_dt</th>\n",
       "    </tr>\n",
       "  </thead>\n",
       "  <tbody>\n",
       "    <tr>\n",
       "      <th>0</th>\n",
       "      <td>Christmas&amp;New Year Promo</td>\n",
       "      <td>EU, N.America</td>\n",
       "      <td>2020-12-25</td>\n",
       "      <td>2021-01-03</td>\n",
       "    </tr>\n",
       "    <tr>\n",
       "      <th>1</th>\n",
       "      <td>St. Valentine's Day Giveaway</td>\n",
       "      <td>EU, CIS, APAC, N.America</td>\n",
       "      <td>2020-02-14</td>\n",
       "      <td>2020-02-16</td>\n",
       "    </tr>\n",
       "    <tr>\n",
       "      <th>2</th>\n",
       "      <td>St. Patric's Day Promo</td>\n",
       "      <td>EU, N.America</td>\n",
       "      <td>2020-03-17</td>\n",
       "      <td>2020-03-19</td>\n",
       "    </tr>\n",
       "    <tr>\n",
       "      <th>3</th>\n",
       "      <td>Easter Promo</td>\n",
       "      <td>EU, CIS, APAC, N.America</td>\n",
       "      <td>2020-04-12</td>\n",
       "      <td>2020-04-19</td>\n",
       "    </tr>\n",
       "    <tr>\n",
       "      <th>4</th>\n",
       "      <td>4th of July Promo</td>\n",
       "      <td>N.America</td>\n",
       "      <td>2020-07-04</td>\n",
       "      <td>2020-07-11</td>\n",
       "    </tr>\n",
       "    <tr>\n",
       "      <th>5</th>\n",
       "      <td>Black Friday Ads Campaign</td>\n",
       "      <td>EU, CIS, APAC, N.America</td>\n",
       "      <td>2020-11-26</td>\n",
       "      <td>2020-12-01</td>\n",
       "    </tr>\n",
       "    <tr>\n",
       "      <th>6</th>\n",
       "      <td>Chinese New Year Promo</td>\n",
       "      <td>APAC</td>\n",
       "      <td>2020-01-25</td>\n",
       "      <td>2020-02-07</td>\n",
       "    </tr>\n",
       "    <tr>\n",
       "      <th>7</th>\n",
       "      <td>Labor day (May 1st) Ads Campaign</td>\n",
       "      <td>EU, CIS, APAC</td>\n",
       "      <td>2020-05-01</td>\n",
       "      <td>2020-05-03</td>\n",
       "    </tr>\n",
       "    <tr>\n",
       "      <th>8</th>\n",
       "      <td>International Women's Day Promo</td>\n",
       "      <td>EU, CIS, APAC</td>\n",
       "      <td>2020-03-08</td>\n",
       "      <td>2020-03-10</td>\n",
       "    </tr>\n",
       "    <tr>\n",
       "      <th>9</th>\n",
       "      <td>Victory Day CIS (May 9th) Event</td>\n",
       "      <td>CIS</td>\n",
       "      <td>2020-05-09</td>\n",
       "      <td>2020-05-11</td>\n",
       "    </tr>\n",
       "    <tr>\n",
       "      <th>10</th>\n",
       "      <td>CIS New Year Gift Lottery</td>\n",
       "      <td>CIS</td>\n",
       "      <td>2020-12-30</td>\n",
       "      <td>2021-01-07</td>\n",
       "    </tr>\n",
       "    <tr>\n",
       "      <th>11</th>\n",
       "      <td>Dragon Boat Festival Giveaway</td>\n",
       "      <td>APAC</td>\n",
       "      <td>2020-06-25</td>\n",
       "      <td>2020-07-01</td>\n",
       "    </tr>\n",
       "    <tr>\n",
       "      <th>12</th>\n",
       "      <td>Single's Day Gift Promo</td>\n",
       "      <td>APAC</td>\n",
       "      <td>2020-11-11</td>\n",
       "      <td>2020-11-12</td>\n",
       "    </tr>\n",
       "    <tr>\n",
       "      <th>13</th>\n",
       "      <td>Chinese Moon Festival</td>\n",
       "      <td>APAC</td>\n",
       "      <td>2020-10-01</td>\n",
       "      <td>2020-10-07</td>\n",
       "    </tr>\n",
       "  </tbody>\n",
       "</table>\n",
       "</div>"
      ],
      "text/plain": [
       "                                name                   regions    start_dt  \\\n",
       "0           Christmas&New Year Promo             EU, N.America  2020-12-25   \n",
       "1       St. Valentine's Day Giveaway  EU, CIS, APAC, N.America  2020-02-14   \n",
       "2             St. Patric's Day Promo             EU, N.America  2020-03-17   \n",
       "3                       Easter Promo  EU, CIS, APAC, N.America  2020-04-12   \n",
       "4                  4th of July Promo                 N.America  2020-07-04   \n",
       "5          Black Friday Ads Campaign  EU, CIS, APAC, N.America  2020-11-26   \n",
       "6             Chinese New Year Promo                      APAC  2020-01-25   \n",
       "7   Labor day (May 1st) Ads Campaign             EU, CIS, APAC  2020-05-01   \n",
       "8    International Women's Day Promo             EU, CIS, APAC  2020-03-08   \n",
       "9    Victory Day CIS (May 9th) Event                       CIS  2020-05-09   \n",
       "10         CIS New Year Gift Lottery                       CIS  2020-12-30   \n",
       "11     Dragon Boat Festival Giveaway                      APAC  2020-06-25   \n",
       "12           Single's Day Gift Promo                      APAC  2020-11-11   \n",
       "13             Chinese Moon Festival                      APAC  2020-10-01   \n",
       "\n",
       "     finish_dt  \n",
       "0   2021-01-03  \n",
       "1   2020-02-16  \n",
       "2   2020-03-19  \n",
       "3   2020-04-19  \n",
       "4   2020-07-11  \n",
       "5   2020-12-01  \n",
       "6   2020-02-07  \n",
       "7   2020-05-03  \n",
       "8   2020-03-10  \n",
       "9   2020-05-11  \n",
       "10  2021-01-07  \n",
       "11  2020-07-01  \n",
       "12  2020-11-12  \n",
       "13  2020-10-07  "
      ]
     },
     "metadata": {},
     "output_type": "display_data"
    },
    {
     "name": "stdout",
     "output_type": "stream",
     "text": [
      "<class 'pandas.core.frame.DataFrame'>\n",
      "RangeIndex: 14 entries, 0 to 13\n",
      "Data columns (total 4 columns):\n",
      " #   Column     Non-Null Count  Dtype \n",
      "---  ------     --------------  ----- \n",
      " 0   name       14 non-null     object\n",
      " 1   regions    14 non-null     object\n",
      " 2   start_dt   14 non-null     object\n",
      " 3   finish_dt  14 non-null     object\n",
      "dtypes: object(4)\n",
      "memory usage: 576.0+ bytes\n"
     ]
    }
   ],
   "source": [
    "display(ab_project_marketing_events)\n",
    "ab_project_marketing_events.info()"
   ]
  },
  {
   "cell_type": "markdown",
   "metadata": {},
   "source": [
    "Таблица **ab_project_marketing_events** (календарь маркетинговых событий на 2020 год) содержит сведения о 13 маркетинговых событиях на 2020 год, регионы и даты их проведения. В столбцах 'start_dt' и 'finish_dt' необходимо преобразовать данные из типа object в datetime."
   ]
  },
  {
   "cell_type": "markdown",
   "metadata": {},
   "source": [
    "Приведем даты к datetime:"
   ]
  },
  {
   "cell_type": "code",
   "execution_count": 6,
   "metadata": {},
   "outputs": [],
   "source": [
    "ab_project_marketing_events['start_dt'] = pd.to_datetime(ab_project_marketing_events['start_dt'])\n",
    "ab_project_marketing_events['finish_dt'] = pd.to_datetime(ab_project_marketing_events['finish_dt'])"
   ]
  },
  {
   "cell_type": "markdown",
   "metadata": {},
   "source": [
    "Проверим на явные дубликаты и пропуски:"
   ]
  },
  {
   "cell_type": "code",
   "execution_count": 8,
   "metadata": {},
   "outputs": [
    {
     "data": {
      "text/plain": [
       "0"
      ]
     },
     "execution_count": 8,
     "metadata": {},
     "output_type": "execute_result"
    }
   ],
   "source": [
    "ab_project_marketing_events.duplicated().sum()"
   ]
  },
  {
   "cell_type": "code",
   "execution_count": 9,
   "metadata": {},
   "outputs": [
    {
     "data": {
      "text/plain": [
       "name         0\n",
       "regions      0\n",
       "start_dt     0\n",
       "finish_dt    0\n",
       "dtype: int64"
      ]
     },
     "execution_count": 9,
     "metadata": {},
     "output_type": "execute_result"
    }
   ],
   "source": [
    "ab_project_marketing_events.isna().sum()"
   ]
  },
  {
   "cell_type": "markdown",
   "metadata": {},
   "source": [
    "Пропусков и дубликатов не содержит. Дальнейшие преобразования не нужны."
   ]
  },
  {
   "cell_type": "markdown",
   "metadata": {},
   "source": [
    "### Изучение и преобразование данных из таблицы final_ab_new_users"
   ]
  },
  {
   "cell_type": "markdown",
   "metadata": {},
   "source": [
    "Загружаем данные:"
   ]
  },
  {
   "cell_type": "code",
   "execution_count": 11,
   "metadata": {},
   "outputs": [],
   "source": [
    "final_ab_new_users = pd.read_csv('C:\\\\Users\\\\77281\\\\Downloads\\\\final_ab_new_users.csv')\n"
   ]
  },
  {
   "cell_type": "markdown",
   "metadata": {},
   "source": [
    "Изучим таблицу:"
   ]
  },
  {
   "cell_type": "code",
   "execution_count": 13,
   "metadata": {},
   "outputs": [
    {
     "data": {
      "text/html": [
       "<div>\n",
       "<style scoped>\n",
       "    .dataframe tbody tr th:only-of-type {\n",
       "        vertical-align: middle;\n",
       "    }\n",
       "\n",
       "    .dataframe tbody tr th {\n",
       "        vertical-align: top;\n",
       "    }\n",
       "\n",
       "    .dataframe thead th {\n",
       "        text-align: right;\n",
       "    }\n",
       "</style>\n",
       "<table border=\"1\" class=\"dataframe\">\n",
       "  <thead>\n",
       "    <tr style=\"text-align: right;\">\n",
       "      <th></th>\n",
       "      <th>user_id</th>\n",
       "      <th>first_date</th>\n",
       "      <th>region</th>\n",
       "      <th>device</th>\n",
       "    </tr>\n",
       "  </thead>\n",
       "  <tbody>\n",
       "    <tr>\n",
       "      <th>0</th>\n",
       "      <td>D72A72121175D8BE</td>\n",
       "      <td>2020-12-07</td>\n",
       "      <td>EU</td>\n",
       "      <td>PC</td>\n",
       "    </tr>\n",
       "    <tr>\n",
       "      <th>1</th>\n",
       "      <td>F1C668619DFE6E65</td>\n",
       "      <td>2020-12-07</td>\n",
       "      <td>N.America</td>\n",
       "      <td>Android</td>\n",
       "    </tr>\n",
       "    <tr>\n",
       "      <th>2</th>\n",
       "      <td>2E1BF1D4C37EA01F</td>\n",
       "      <td>2020-12-07</td>\n",
       "      <td>EU</td>\n",
       "      <td>PC</td>\n",
       "    </tr>\n",
       "    <tr>\n",
       "      <th>3</th>\n",
       "      <td>50734A22C0C63768</td>\n",
       "      <td>2020-12-07</td>\n",
       "      <td>EU</td>\n",
       "      <td>iPhone</td>\n",
       "    </tr>\n",
       "    <tr>\n",
       "      <th>4</th>\n",
       "      <td>E1BDDCE0DAFA2679</td>\n",
       "      <td>2020-12-07</td>\n",
       "      <td>N.America</td>\n",
       "      <td>iPhone</td>\n",
       "    </tr>\n",
       "    <tr>\n",
       "      <th>...</th>\n",
       "      <td>...</td>\n",
       "      <td>...</td>\n",
       "      <td>...</td>\n",
       "      <td>...</td>\n",
       "    </tr>\n",
       "    <tr>\n",
       "      <th>61728</th>\n",
       "      <td>1DB53B933257165D</td>\n",
       "      <td>2020-12-20</td>\n",
       "      <td>EU</td>\n",
       "      <td>Android</td>\n",
       "    </tr>\n",
       "    <tr>\n",
       "      <th>61729</th>\n",
       "      <td>538643EB4527ED03</td>\n",
       "      <td>2020-12-20</td>\n",
       "      <td>EU</td>\n",
       "      <td>Mac</td>\n",
       "    </tr>\n",
       "    <tr>\n",
       "      <th>61730</th>\n",
       "      <td>7ADEE837D5D8CBBD</td>\n",
       "      <td>2020-12-20</td>\n",
       "      <td>EU</td>\n",
       "      <td>PC</td>\n",
       "    </tr>\n",
       "    <tr>\n",
       "      <th>61731</th>\n",
       "      <td>1C7D23927835213F</td>\n",
       "      <td>2020-12-20</td>\n",
       "      <td>EU</td>\n",
       "      <td>iPhone</td>\n",
       "    </tr>\n",
       "    <tr>\n",
       "      <th>61732</th>\n",
       "      <td>8F04273BB2860229</td>\n",
       "      <td>2020-12-20</td>\n",
       "      <td>EU</td>\n",
       "      <td>Android</td>\n",
       "    </tr>\n",
       "  </tbody>\n",
       "</table>\n",
       "<p>61733 rows × 4 columns</p>\n",
       "</div>"
      ],
      "text/plain": [
       "                user_id  first_date     region   device\n",
       "0      D72A72121175D8BE  2020-12-07         EU       PC\n",
       "1      F1C668619DFE6E65  2020-12-07  N.America  Android\n",
       "2      2E1BF1D4C37EA01F  2020-12-07         EU       PC\n",
       "3      50734A22C0C63768  2020-12-07         EU   iPhone\n",
       "4      E1BDDCE0DAFA2679  2020-12-07  N.America   iPhone\n",
       "...                 ...         ...        ...      ...\n",
       "61728  1DB53B933257165D  2020-12-20         EU  Android\n",
       "61729  538643EB4527ED03  2020-12-20         EU      Mac\n",
       "61730  7ADEE837D5D8CBBD  2020-12-20         EU       PC\n",
       "61731  1C7D23927835213F  2020-12-20         EU   iPhone\n",
       "61732  8F04273BB2860229  2020-12-20         EU  Android\n",
       "\n",
       "[61733 rows x 4 columns]"
      ]
     },
     "metadata": {},
     "output_type": "display_data"
    },
    {
     "name": "stdout",
     "output_type": "stream",
     "text": [
      "<class 'pandas.core.frame.DataFrame'>\n",
      "RangeIndex: 61733 entries, 0 to 61732\n",
      "Data columns (total 4 columns):\n",
      " #   Column      Non-Null Count  Dtype \n",
      "---  ------      --------------  ----- \n",
      " 0   user_id     61733 non-null  object\n",
      " 1   first_date  61733 non-null  object\n",
      " 2   region      61733 non-null  object\n",
      " 3   device      61733 non-null  object\n",
      "dtypes: object(4)\n",
      "memory usage: 1.9+ MB\n"
     ]
    },
    {
     "data": {
      "text/plain": [
       "0"
      ]
     },
     "execution_count": 13,
     "metadata": {},
     "output_type": "execute_result"
    }
   ],
   "source": [
    "display(final_ab_new_users)\n",
    "final_ab_new_users.info()\n",
    "final_ab_new_users.duplicated().sum()"
   ]
  },
  {
   "cell_type": "markdown",
   "metadata": {},
   "source": [
    "Таблица **final_ab_new_users содержит** сведения о 61734 уникальных пользователях зарегистрировавшихся с 7 по 21 декабря 2020 года. Пропуски и дубликаты не содержит. Требуется преобразовать данные в столбце 'first_date' из типа object в datetime."
   ]
  },
  {
   "cell_type": "markdown",
   "metadata": {},
   "source": [
    "Приведем даты к datetime:"
   ]
  },
  {
   "cell_type": "markdown",
   "metadata": {},
   "source": [
    "Проверим на явные дубликаты и пропуски:"
   ]
  },
  {
   "cell_type": "code",
   "execution_count": 15,
   "metadata": {},
   "outputs": [],
   "source": [
    "final_ab_new_users['first_date'] = pd.to_datetime(final_ab_new_users['first_date'])"
   ]
  },
  {
   "cell_type": "code",
   "execution_count": 16,
   "metadata": {},
   "outputs": [
    {
     "data": {
      "text/plain": [
       "0"
      ]
     },
     "execution_count": 16,
     "metadata": {},
     "output_type": "execute_result"
    }
   ],
   "source": [
    "final_ab_new_users.duplicated().sum()"
   ]
  },
  {
   "cell_type": "code",
   "execution_count": 17,
   "metadata": {},
   "outputs": [
    {
     "data": {
      "text/plain": [
       "user_id       0\n",
       "first_date    0\n",
       "region        0\n",
       "device        0\n",
       "dtype: int64"
      ]
     },
     "execution_count": 17,
     "metadata": {},
     "output_type": "execute_result"
    }
   ],
   "source": [
    "final_ab_new_users.isna().sum()"
   ]
  },
  {
   "cell_type": "markdown",
   "metadata": {},
   "source": [
    "Пропусков и явных дубликатов нет."
   ]
  },
  {
   "cell_type": "markdown",
   "metadata": {},
   "source": [
    "Определим регионы пользователей:"
   ]
  },
  {
   "cell_type": "code",
   "execution_count": 18,
   "metadata": {},
   "outputs": [
    {
     "name": "stdout",
     "output_type": "stream",
     "text": [
      "Регионы новых пользователей: EU, N.America, APAC, CIS\n"
     ]
    }
   ],
   "source": [
    "print('Регионы новых пользователей: ', ', '.join(final_ab_new_users['region'].unique()), sep='')"
   ]
  },
  {
   "cell_type": "markdown",
   "metadata": {},
   "source": [
    "Определим список устройств, с которых происходила регистрация:"
   ]
  },
  {
   "cell_type": "code",
   "execution_count": 19,
   "metadata": {},
   "outputs": [
    {
     "name": "stdout",
     "output_type": "stream",
     "text": [
      "Список устройств, с которых происходила регистрация: PC, Android, iPhone, Mac\n"
     ]
    }
   ],
   "source": [
    "print('Список устройств, с которых происходила регистрация: ', \n",
    "      ', '.join(final_ab_new_users['device'].unique()), sep='')"
   ]
  },
  {
   "cell_type": "markdown",
   "metadata": {},
   "source": [
    "Дополнительные преобразования не нужны."
   ]
  },
  {
   "cell_type": "markdown",
   "metadata": {},
   "source": [
    "### Изучение и преобразование данных из таблицы final_ab_events"
   ]
  },
  {
   "cell_type": "markdown",
   "metadata": {},
   "source": [
    "Загружаем данные:"
   ]
  },
  {
   "cell_type": "code",
   "execution_count": 21,
   "metadata": {},
   "outputs": [],
   "source": [
    "final_ab_events = pd.read_csv('C:\\\\Users\\\\77281\\\\Downloads\\\\final_ab_events.csv')"
   ]
  },
  {
   "cell_type": "markdown",
   "metadata": {},
   "source": [
    "Изучим таблицу:"
   ]
  },
  {
   "cell_type": "code",
   "execution_count": 23,
   "metadata": {},
   "outputs": [
    {
     "data": {
      "text/html": [
       "<div>\n",
       "<style scoped>\n",
       "    .dataframe tbody tr th:only-of-type {\n",
       "        vertical-align: middle;\n",
       "    }\n",
       "\n",
       "    .dataframe tbody tr th {\n",
       "        vertical-align: top;\n",
       "    }\n",
       "\n",
       "    .dataframe thead th {\n",
       "        text-align: right;\n",
       "    }\n",
       "</style>\n",
       "<table border=\"1\" class=\"dataframe\">\n",
       "  <thead>\n",
       "    <tr style=\"text-align: right;\">\n",
       "      <th></th>\n",
       "      <th>user_id</th>\n",
       "      <th>event_dt</th>\n",
       "      <th>event_name</th>\n",
       "      <th>details</th>\n",
       "    </tr>\n",
       "  </thead>\n",
       "  <tbody>\n",
       "    <tr>\n",
       "      <th>0</th>\n",
       "      <td>E1BDDCE0DAFA2679</td>\n",
       "      <td>2020-12-07 20:22:03</td>\n",
       "      <td>purchase</td>\n",
       "      <td>99.99</td>\n",
       "    </tr>\n",
       "    <tr>\n",
       "      <th>1</th>\n",
       "      <td>7B6452F081F49504</td>\n",
       "      <td>2020-12-07 09:22:53</td>\n",
       "      <td>purchase</td>\n",
       "      <td>9.99</td>\n",
       "    </tr>\n",
       "    <tr>\n",
       "      <th>2</th>\n",
       "      <td>9CD9F34546DF254C</td>\n",
       "      <td>2020-12-07 12:59:29</td>\n",
       "      <td>purchase</td>\n",
       "      <td>4.99</td>\n",
       "    </tr>\n",
       "    <tr>\n",
       "      <th>3</th>\n",
       "      <td>96F27A054B191457</td>\n",
       "      <td>2020-12-07 04:02:40</td>\n",
       "      <td>purchase</td>\n",
       "      <td>4.99</td>\n",
       "    </tr>\n",
       "    <tr>\n",
       "      <th>4</th>\n",
       "      <td>1FD7660FDF94CA1F</td>\n",
       "      <td>2020-12-07 10:15:09</td>\n",
       "      <td>purchase</td>\n",
       "      <td>4.99</td>\n",
       "    </tr>\n",
       "    <tr>\n",
       "      <th>...</th>\n",
       "      <td>...</td>\n",
       "      <td>...</td>\n",
       "      <td>...</td>\n",
       "      <td>...</td>\n",
       "    </tr>\n",
       "    <tr>\n",
       "      <th>440312</th>\n",
       "      <td>245E85F65C358E08</td>\n",
       "      <td>2020-12-30 19:35:55</td>\n",
       "      <td>login</td>\n",
       "      <td>NaN</td>\n",
       "    </tr>\n",
       "    <tr>\n",
       "      <th>440313</th>\n",
       "      <td>9385A108F5A0A7A7</td>\n",
       "      <td>2020-12-30 10:54:15</td>\n",
       "      <td>login</td>\n",
       "      <td>NaN</td>\n",
       "    </tr>\n",
       "    <tr>\n",
       "      <th>440314</th>\n",
       "      <td>DB650B7559AC6EAC</td>\n",
       "      <td>2020-12-30 10:59:09</td>\n",
       "      <td>login</td>\n",
       "      <td>NaN</td>\n",
       "    </tr>\n",
       "    <tr>\n",
       "      <th>440315</th>\n",
       "      <td>F80C9BDDEA02E53C</td>\n",
       "      <td>2020-12-30 09:53:39</td>\n",
       "      <td>login</td>\n",
       "      <td>NaN</td>\n",
       "    </tr>\n",
       "    <tr>\n",
       "      <th>440316</th>\n",
       "      <td>7AEC61159B672CC5</td>\n",
       "      <td>2020-12-30 11:36:13</td>\n",
       "      <td>login</td>\n",
       "      <td>NaN</td>\n",
       "    </tr>\n",
       "  </tbody>\n",
       "</table>\n",
       "<p>440317 rows × 4 columns</p>\n",
       "</div>"
      ],
      "text/plain": [
       "                 user_id             event_dt event_name  details\n",
       "0       E1BDDCE0DAFA2679  2020-12-07 20:22:03   purchase    99.99\n",
       "1       7B6452F081F49504  2020-12-07 09:22:53   purchase     9.99\n",
       "2       9CD9F34546DF254C  2020-12-07 12:59:29   purchase     4.99\n",
       "3       96F27A054B191457  2020-12-07 04:02:40   purchase     4.99\n",
       "4       1FD7660FDF94CA1F  2020-12-07 10:15:09   purchase     4.99\n",
       "...                  ...                  ...        ...      ...\n",
       "440312  245E85F65C358E08  2020-12-30 19:35:55      login      NaN\n",
       "440313  9385A108F5A0A7A7  2020-12-30 10:54:15      login      NaN\n",
       "440314  DB650B7559AC6EAC  2020-12-30 10:59:09      login      NaN\n",
       "440315  F80C9BDDEA02E53C  2020-12-30 09:53:39      login      NaN\n",
       "440316  7AEC61159B672CC5  2020-12-30 11:36:13      login      NaN\n",
       "\n",
       "[440317 rows x 4 columns]"
      ]
     },
     "metadata": {},
     "output_type": "display_data"
    },
    {
     "name": "stdout",
     "output_type": "stream",
     "text": [
      "<class 'pandas.core.frame.DataFrame'>\n",
      "RangeIndex: 440317 entries, 0 to 440316\n",
      "Data columns (total 4 columns):\n",
      " #   Column      Non-Null Count   Dtype  \n",
      "---  ------      --------------   -----  \n",
      " 0   user_id     440317 non-null  object \n",
      " 1   event_dt    440317 non-null  object \n",
      " 2   event_name  440317 non-null  object \n",
      " 3   details     62740 non-null   float64\n",
      "dtypes: float64(1), object(3)\n",
      "memory usage: 13.4+ MB\n"
     ]
    }
   ],
   "source": [
    "display(final_ab_events)\n",
    "final_ab_events.info()"
   ]
  },
  {
   "cell_type": "code",
   "execution_count": 24,
   "metadata": {},
   "outputs": [
    {
     "data": {
      "text/html": [
       "<div>\n",
       "<style scoped>\n",
       "    .dataframe tbody tr th:only-of-type {\n",
       "        vertical-align: middle;\n",
       "    }\n",
       "\n",
       "    .dataframe tbody tr th {\n",
       "        vertical-align: top;\n",
       "    }\n",
       "\n",
       "    .dataframe thead th {\n",
       "        text-align: right;\n",
       "    }\n",
       "</style>\n",
       "<table border=\"1\" class=\"dataframe\">\n",
       "  <thead>\n",
       "    <tr style=\"text-align: right;\">\n",
       "      <th></th>\n",
       "      <th>user_id</th>\n",
       "      <th>event_dt</th>\n",
       "      <th>event_name</th>\n",
       "      <th>details</th>\n",
       "    </tr>\n",
       "  </thead>\n",
       "  <tbody>\n",
       "    <tr>\n",
       "      <th>count</th>\n",
       "      <td>440317</td>\n",
       "      <td>440317</td>\n",
       "      <td>440317</td>\n",
       "      <td>62740.0</td>\n",
       "    </tr>\n",
       "    <tr>\n",
       "      <th>unique</th>\n",
       "      <td>58703</td>\n",
       "      <td>267268</td>\n",
       "      <td>4</td>\n",
       "      <td></td>\n",
       "    </tr>\n",
       "    <tr>\n",
       "      <th>top</th>\n",
       "      <td>A3917F81482141F2</td>\n",
       "      <td>2020-12-23 02:37:24</td>\n",
       "      <td>login</td>\n",
       "      <td></td>\n",
       "    </tr>\n",
       "    <tr>\n",
       "      <th>freq</th>\n",
       "      <td>36</td>\n",
       "      <td>10</td>\n",
       "      <td>189552</td>\n",
       "      <td></td>\n",
       "    </tr>\n",
       "    <tr>\n",
       "      <th>mean</th>\n",
       "      <td></td>\n",
       "      <td></td>\n",
       "      <td></td>\n",
       "      <td>23.877631</td>\n",
       "    </tr>\n",
       "    <tr>\n",
       "      <th>std</th>\n",
       "      <td></td>\n",
       "      <td></td>\n",
       "      <td></td>\n",
       "      <td>72.180465</td>\n",
       "    </tr>\n",
       "    <tr>\n",
       "      <th>min</th>\n",
       "      <td></td>\n",
       "      <td></td>\n",
       "      <td></td>\n",
       "      <td>4.99</td>\n",
       "    </tr>\n",
       "    <tr>\n",
       "      <th>25%</th>\n",
       "      <td></td>\n",
       "      <td></td>\n",
       "      <td></td>\n",
       "      <td>4.99</td>\n",
       "    </tr>\n",
       "    <tr>\n",
       "      <th>50%</th>\n",
       "      <td></td>\n",
       "      <td></td>\n",
       "      <td></td>\n",
       "      <td>4.99</td>\n",
       "    </tr>\n",
       "    <tr>\n",
       "      <th>75%</th>\n",
       "      <td></td>\n",
       "      <td></td>\n",
       "      <td></td>\n",
       "      <td>9.99</td>\n",
       "    </tr>\n",
       "    <tr>\n",
       "      <th>max</th>\n",
       "      <td></td>\n",
       "      <td></td>\n",
       "      <td></td>\n",
       "      <td>499.99</td>\n",
       "    </tr>\n",
       "  </tbody>\n",
       "</table>\n",
       "</div>"
      ],
      "text/plain": [
       "                 user_id             event_dt event_name    details\n",
       "count             440317               440317     440317    62740.0\n",
       "unique             58703               267268          4           \n",
       "top     A3917F81482141F2  2020-12-23 02:37:24      login           \n",
       "freq                  36                   10     189552           \n",
       "mean                                                      23.877631\n",
       "std                                                       72.180465\n",
       "min                                                            4.99\n",
       "25%                                                            4.99\n",
       "50%                                                            4.99\n",
       "75%                                                            9.99\n",
       "max                                                          499.99"
      ]
     },
     "metadata": {},
     "output_type": "display_data"
    }
   ],
   "source": [
    "display(final_ab_events.describe(include='all').fillna(''))"
   ]
  },
  {
   "cell_type": "markdown",
   "metadata": {},
   "source": [
    "Проверим на дубликаты и пропуски:"
   ]
  },
  {
   "cell_type": "code",
   "execution_count": 25,
   "metadata": {},
   "outputs": [
    {
     "data": {
      "text/plain": [
       "0"
      ]
     },
     "execution_count": 25,
     "metadata": {},
     "output_type": "execute_result"
    }
   ],
   "source": [
    "final_ab_events.duplicated().sum()"
   ]
  },
  {
   "cell_type": "code",
   "execution_count": 26,
   "metadata": {},
   "outputs": [
    {
     "data": {
      "text/plain": [
       "user_id            0\n",
       "event_dt           0\n",
       "event_name         0\n",
       "details       377577\n",
       "dtype: int64"
      ]
     },
     "execution_count": 26,
     "metadata": {},
     "output_type": "execute_result"
    }
   ],
   "source": [
    "final_ab_events.isna().sum()"
   ]
  },
  {
   "cell_type": "markdown",
   "metadata": {},
   "source": [
    "Таблица final_ab_events состоит из 4 столбцов и содержит 440318 строк. В таблице содержатся сведения о действиях 58703 пользователях в период с 7 декабря 00:00:00 по 30 декабря 23:00:00 2020 года, а также дополнительная информацию об этих событиях. Столбец details содержит пропуски, то есть дополнительная информация о событиях отсутствует. Столбец event_name требует преобразования данных c типа object в datetime.  Явных дубликатов не выявлено."
   ]
  },
  {
   "cell_type": "markdown",
   "metadata": {},
   "source": [
    "Проверим строки, в которых появляются пропуске в столбце 'details':"
   ]
  },
  {
   "cell_type": "code",
   "execution_count": 27,
   "metadata": {},
   "outputs": [
    {
     "data": {
      "text/plain": [
       "array(['product_cart', 'product_page', 'login'], dtype=object)"
      ]
     },
     "execution_count": 27,
     "metadata": {},
     "output_type": "execute_result"
    }
   ],
   "source": [
    "final_ab_events[final_ab_events['details'].isna()]['event_name'].unique()"
   ]
  },
  {
   "cell_type": "markdown",
   "metadata": {},
   "source": [
    "Анализ пропусков показал, что строки с отсутствующими значениями в столбце 'details' - это события, не являющимися покупками. Информация о событиях в таблице присутствует только для покупок - purchase, в этом поле хранится стоимость покупки в долларах. Дополнительные преобразования таблицы final_ab_events не нужны."
   ]
  },
  {
   "cell_type": "markdown",
   "metadata": {},
   "source": [
    "Приведем данные столбца 'event_dt' к datetime:"
   ]
  },
  {
   "cell_type": "code",
   "execution_count": 28,
   "metadata": {},
   "outputs": [],
   "source": [
    "final_ab_events['event_dt'] = pd.to_datetime(final_ab_events['event_dt'])"
   ]
  },
  {
   "cell_type": "markdown",
   "metadata": {},
   "source": [
    "### Изучение и преобразование данных из таблицы final_ab_participants"
   ]
  },
  {
   "cell_type": "markdown",
   "metadata": {},
   "source": [
    "Загружаем данные:"
   ]
  },
  {
   "cell_type": "code",
   "execution_count": 29,
   "metadata": {},
   "outputs": [],
   "source": [
    "final_ab_participants = pd.read_csv('C:\\\\Users\\\\77281\\\\Downloads\\\\final_ab_participants.csv')"
   ]
  },
  {
   "cell_type": "markdown",
   "metadata": {},
   "source": [
    "Изучим таблицу:"
   ]
  },
  {
   "cell_type": "code",
   "execution_count": 30,
   "metadata": {},
   "outputs": [
    {
     "data": {
      "text/html": [
       "<div>\n",
       "<style scoped>\n",
       "    .dataframe tbody tr th:only-of-type {\n",
       "        vertical-align: middle;\n",
       "    }\n",
       "\n",
       "    .dataframe tbody tr th {\n",
       "        vertical-align: top;\n",
       "    }\n",
       "\n",
       "    .dataframe thead th {\n",
       "        text-align: right;\n",
       "    }\n",
       "</style>\n",
       "<table border=\"1\" class=\"dataframe\">\n",
       "  <thead>\n",
       "    <tr style=\"text-align: right;\">\n",
       "      <th></th>\n",
       "      <th>user_id</th>\n",
       "      <th>group</th>\n",
       "      <th>ab_test</th>\n",
       "    </tr>\n",
       "  </thead>\n",
       "  <tbody>\n",
       "    <tr>\n",
       "      <th>0</th>\n",
       "      <td>D1ABA3E2887B6A73</td>\n",
       "      <td>A</td>\n",
       "      <td>recommender_system_test</td>\n",
       "    </tr>\n",
       "    <tr>\n",
       "      <th>1</th>\n",
       "      <td>A7A3664BD6242119</td>\n",
       "      <td>A</td>\n",
       "      <td>recommender_system_test</td>\n",
       "    </tr>\n",
       "    <tr>\n",
       "      <th>2</th>\n",
       "      <td>DABC14FDDFADD29E</td>\n",
       "      <td>A</td>\n",
       "      <td>recommender_system_test</td>\n",
       "    </tr>\n",
       "    <tr>\n",
       "      <th>3</th>\n",
       "      <td>04988C5DF189632E</td>\n",
       "      <td>A</td>\n",
       "      <td>recommender_system_test</td>\n",
       "    </tr>\n",
       "    <tr>\n",
       "      <th>4</th>\n",
       "      <td>482F14783456D21B</td>\n",
       "      <td>B</td>\n",
       "      <td>recommender_system_test</td>\n",
       "    </tr>\n",
       "    <tr>\n",
       "      <th>...</th>\n",
       "      <td>...</td>\n",
       "      <td>...</td>\n",
       "      <td>...</td>\n",
       "    </tr>\n",
       "    <tr>\n",
       "      <th>18263</th>\n",
       "      <td>1D302F8688B91781</td>\n",
       "      <td>B</td>\n",
       "      <td>interface_eu_test</td>\n",
       "    </tr>\n",
       "    <tr>\n",
       "      <th>18264</th>\n",
       "      <td>3DE51B726983B657</td>\n",
       "      <td>A</td>\n",
       "      <td>interface_eu_test</td>\n",
       "    </tr>\n",
       "    <tr>\n",
       "      <th>18265</th>\n",
       "      <td>F501F79D332BE86C</td>\n",
       "      <td>A</td>\n",
       "      <td>interface_eu_test</td>\n",
       "    </tr>\n",
       "    <tr>\n",
       "      <th>18266</th>\n",
       "      <td>63FBE257B05F2245</td>\n",
       "      <td>A</td>\n",
       "      <td>interface_eu_test</td>\n",
       "    </tr>\n",
       "    <tr>\n",
       "      <th>18267</th>\n",
       "      <td>79F9ABFB029CF724</td>\n",
       "      <td>B</td>\n",
       "      <td>interface_eu_test</td>\n",
       "    </tr>\n",
       "  </tbody>\n",
       "</table>\n",
       "<p>18268 rows × 3 columns</p>\n",
       "</div>"
      ],
      "text/plain": [
       "                user_id group                  ab_test\n",
       "0      D1ABA3E2887B6A73     A  recommender_system_test\n",
       "1      A7A3664BD6242119     A  recommender_system_test\n",
       "2      DABC14FDDFADD29E     A  recommender_system_test\n",
       "3      04988C5DF189632E     A  recommender_system_test\n",
       "4      482F14783456D21B     B  recommender_system_test\n",
       "...                 ...   ...                      ...\n",
       "18263  1D302F8688B91781     B        interface_eu_test\n",
       "18264  3DE51B726983B657     A        interface_eu_test\n",
       "18265  F501F79D332BE86C     A        interface_eu_test\n",
       "18266  63FBE257B05F2245     A        interface_eu_test\n",
       "18267  79F9ABFB029CF724     B        interface_eu_test\n",
       "\n",
       "[18268 rows x 3 columns]"
      ]
     },
     "metadata": {},
     "output_type": "display_data"
    },
    {
     "name": "stdout",
     "output_type": "stream",
     "text": [
      "<class 'pandas.core.frame.DataFrame'>\n",
      "RangeIndex: 18268 entries, 0 to 18267\n",
      "Data columns (total 3 columns):\n",
      " #   Column   Non-Null Count  Dtype \n",
      "---  ------   --------------  ----- \n",
      " 0   user_id  18268 non-null  object\n",
      " 1   group    18268 non-null  object\n",
      " 2   ab_test  18268 non-null  object\n",
      "dtypes: object(3)\n",
      "memory usage: 428.3+ KB\n"
     ]
    },
    {
     "data": {
      "text/html": [
       "<div>\n",
       "<style scoped>\n",
       "    .dataframe tbody tr th:only-of-type {\n",
       "        vertical-align: middle;\n",
       "    }\n",
       "\n",
       "    .dataframe tbody tr th {\n",
       "        vertical-align: top;\n",
       "    }\n",
       "\n",
       "    .dataframe thead th {\n",
       "        text-align: right;\n",
       "    }\n",
       "</style>\n",
       "<table border=\"1\" class=\"dataframe\">\n",
       "  <thead>\n",
       "    <tr style=\"text-align: right;\">\n",
       "      <th></th>\n",
       "      <th>user_id</th>\n",
       "      <th>group</th>\n",
       "      <th>ab_test</th>\n",
       "    </tr>\n",
       "  </thead>\n",
       "  <tbody>\n",
       "    <tr>\n",
       "      <th>count</th>\n",
       "      <td>18268</td>\n",
       "      <td>18268</td>\n",
       "      <td>18268</td>\n",
       "    </tr>\n",
       "    <tr>\n",
       "      <th>unique</th>\n",
       "      <td>16666</td>\n",
       "      <td>2</td>\n",
       "      <td>2</td>\n",
       "    </tr>\n",
       "    <tr>\n",
       "      <th>top</th>\n",
       "      <td>0FDFDA0B2DEC2D91</td>\n",
       "      <td>A</td>\n",
       "      <td>interface_eu_test</td>\n",
       "    </tr>\n",
       "    <tr>\n",
       "      <th>freq</th>\n",
       "      <td>2</td>\n",
       "      <td>9655</td>\n",
       "      <td>11567</td>\n",
       "    </tr>\n",
       "  </tbody>\n",
       "</table>\n",
       "</div>"
      ],
      "text/plain": [
       "                 user_id  group            ab_test\n",
       "count              18268  18268              18268\n",
       "unique             16666      2                  2\n",
       "top     0FDFDA0B2DEC2D91      A  interface_eu_test\n",
       "freq                   2   9655              11567"
      ]
     },
     "metadata": {},
     "output_type": "display_data"
    }
   ],
   "source": [
    "display(final_ab_participants)\n",
    "final_ab_participants.info()\n",
    "final_ab_participants.duplicated().sum()\n",
    "display(final_ab_participants.describe(include='all').fillna(''))"
   ]
  },
  {
   "cell_type": "markdown",
   "metadata": {},
   "source": [
    "Таблица final_ab_participants состоит из 3 столбцов и 18268 строк и содержит сведения о 16666 участниках тестов."
   ]
  },
  {
   "cell_type": "markdown",
   "metadata": {},
   "source": [
    "Проверим на дубликаты и пропуски:"
   ]
  },
  {
   "cell_type": "code",
   "execution_count": 31,
   "metadata": {},
   "outputs": [
    {
     "data": {
      "text/plain": [
       "user_id    0\n",
       "group      0\n",
       "ab_test    0\n",
       "dtype: int64"
      ]
     },
     "execution_count": 31,
     "metadata": {},
     "output_type": "execute_result"
    }
   ],
   "source": [
    "final_ab_participants.isna().sum()"
   ]
  },
  {
   "cell_type": "markdown",
   "metadata": {},
   "source": [
    "Пропусков нет"
   ]
  },
  {
   "cell_type": "code",
   "execution_count": 32,
   "metadata": {},
   "outputs": [
    {
     "data": {
      "text/plain": [
       "0"
      ]
     },
     "execution_count": 32,
     "metadata": {},
     "output_type": "execute_result"
    }
   ],
   "source": [
    "final_ab_participants.duplicated().sum()"
   ]
  },
  {
   "cell_type": "markdown",
   "metadata": {},
   "source": [
    "Явных дубликатов нет."
   ]
  },
  {
   "cell_type": "markdown",
   "metadata": {},
   "source": [
    "Посмотрим на список групп и список тестов:"
   ]
  },
  {
   "cell_type": "code",
   "execution_count": 33,
   "metadata": {},
   "outputs": [
    {
     "name": "stdout",
     "output_type": "stream",
     "text": [
      "Список групп: A, B\n"
     ]
    }
   ],
   "source": [
    "print('Список групп: ', ', '.join(final_ab_participants['group'].unique()), sep='')"
   ]
  },
  {
   "cell_type": "code",
   "execution_count": 34,
   "metadata": {},
   "outputs": [
    {
     "name": "stdout",
     "output_type": "stream",
     "text": [
      "Названия тестов: recommender_system_test, interface_eu_test\n"
     ]
    }
   ],
   "source": [
    "print('Названия тестов: ', ', '.join(final_ab_participants['ab_test'].unique()), sep='')"
   ]
  },
  {
   "cell_type": "markdown",
   "metadata": {},
   "source": [
    "Дополнительные преобразования не нужны."
   ]
  },
  {
   "cell_type": "markdown",
   "metadata": {},
   "source": [
    "### Выводы после изучения и предобработки данных: "
   ]
  },
  {
   "cell_type": "markdown",
   "metadata": {},
   "source": [
    "Данные из таблиц ab_project_marketing_events, final_ab_new_users, final_ab_events, final_ab_participants были изучены. В результате были сделаны следующие выводы и преобразования:\n",
    "\n",
    "**ab_project_marketing_events** \n",
    "- представляет календарь маркетинговых событий на 2020 год;\n",
    "- содержит сведения о 13 маркетинговых событиях на 2020 год, регионы и даты их проведения; \n",
    "- в столбцах 'start_dt' и 'finish_dt' были преобразованы данные из типа object в datetime;\n",
    "- пропуски и дубликаты не содержит.\n",
    "\n",
    "**final_ab_new_users** \n",
    "- содержит сведения о 61734 уникальных пользователях зарегистрировавшихся с 7 по 21 декабря 2020 года; \n",
    "- пропуски и дубликаты не содержит;\n",
    "- данные в столбце 'first_date' были преобразованы из типа object в datetime;\n",
    "- столбец 'region' содержит регионы новых пользователей: EU, N.America, APAC, CIS;\n",
    "- столбец 'device' содержит список устройств, с которых происходила регистрация: PC, Android, iPhone, Mac.\n",
    "\n",
    "**final_ab_events**\n",
    "- состоит из 4 столбцов и содержит 440318 строк; \n",
    "- содержит сведения о действиях 58703 пользователей в период с 7 декабря 00:00:00 по 30 декабря 23:00:00 2020 года, а также дополнительная информацию об этих событиях; \n",
    "- в столбце 'details' были обнаружены пропуски; \n",
    "- анализ пропусков показал, что строки с отсутствующими значениями в столбце 'details' - это события, не являющимися покупками; - информация о событиях в таблице присутствует только для покупок - purchase, в этом поле хранится стоимость покупки в долларах; \n",
    "- в cтолбце 'event_name' данные были преобразованы c типа object в datetime; \n",
    "- явных дубликатов не выявлено.\n",
    "\n",
    "**final_ab_participants**\n",
    "- таблица final_ab_participants состоит из 3 столбцов и 18268 строк и содержит сведения о 16666 участниках тестов;\n",
    "- пропусков и явных дубликатов нет;\n",
    "- в столбце 'group' два варианта групп - А и В;\n",
    "- в столбце 'ab_test' два варианта названия тестов - recommender_system_test и interface_eu_test."
   ]
  },
  {
   "cell_type": "markdown",
   "metadata": {},
   "source": [
    "## 3. Оценка корректности проведения теста"
   ]
  },
  {
   "cell_type": "markdown",
   "metadata": {},
   "source": [
    "### 3.1. Проверка соответствия данных требованиям техзадания"
   ]
  },
  {
   "cell_type": "markdown",
   "metadata": {},
   "source": [
    "Изучение **участников А/В-теста:**"
   ]
  },
  {
   "cell_type": "markdown",
   "metadata": {},
   "source": [
    "Сохраняем участников теста recommender_system_test в отдельную таблицу:"
   ]
  },
  {
   "cell_type": "code",
   "execution_count": 36,
   "metadata": {},
   "outputs": [],
   "source": [
    "rec_participants = final_ab_participants.query('ab_test == \"recommender_system_test\"')"
   ]
  },
  {
   "cell_type": "markdown",
   "metadata": {},
   "source": [
    "Считаем количество участников:"
   ]
  },
  {
   "cell_type": "code",
   "execution_count": 37,
   "metadata": {},
   "outputs": [
    {
     "data": {
      "text/plain": [
       "6701"
      ]
     },
     "execution_count": 37,
     "metadata": {},
     "output_type": "execute_result"
    }
   ],
   "source": [
    "rec_participants['user_id'].nunique()"
   ]
  },
  {
   "cell_type": "markdown",
   "metadata": {},
   "source": [
    "Количество пользователей, принявших участие в тестировании составляет 6701, это больше 6000, то есть соответствует количеству участников по техзаданию."
   ]
  },
  {
   "cell_type": "markdown",
   "metadata": {},
   "source": [
    "Выделяем информацию про участников нужного а/б-теста из final_ab_new_users:"
   ]
  },
  {
   "cell_type": "code",
   "execution_count": 38,
   "metadata": {},
   "outputs": [],
   "source": [
    "rec_users = final_ab_new_users[\n",
    "        final_ab_new_users['user_id'].isin(rec_participants['user_id'])\n",
    "]"
   ]
  },
  {
   "cell_type": "markdown",
   "metadata": {},
   "source": [
    "Считаем долю новых пользователей из региона EU:"
   ]
  },
  {
   "cell_type": "code",
   "execution_count": 39,
   "metadata": {},
   "outputs": [
    {
     "data": {
      "text/html": [
       "<div>\n",
       "<style scoped>\n",
       "    .dataframe tbody tr th:only-of-type {\n",
       "        vertical-align: middle;\n",
       "    }\n",
       "\n",
       "    .dataframe tbody tr th {\n",
       "        vertical-align: top;\n",
       "    }\n",
       "\n",
       "    .dataframe thead th {\n",
       "        text-align: right;\n",
       "    }\n",
       "</style>\n",
       "<table border=\"1\" class=\"dataframe\">\n",
       "  <thead>\n",
       "    <tr style=\"text-align: right;\">\n",
       "      <th></th>\n",
       "      <th>region</th>\n",
       "      <th>rec_test_participant</th>\n",
       "      <th>users_cnt</th>\n",
       "      <th>users_share</th>\n",
       "    </tr>\n",
       "  </thead>\n",
       "  <tbody>\n",
       "    <tr>\n",
       "      <th>0</th>\n",
       "      <td>EU</td>\n",
       "      <td>False</td>\n",
       "      <td>35989</td>\n",
       "      <td>0.85</td>\n",
       "    </tr>\n",
       "    <tr>\n",
       "      <th>1</th>\n",
       "      <td>EU</td>\n",
       "      <td>True</td>\n",
       "      <td>6351</td>\n",
       "      <td>0.15</td>\n",
       "    </tr>\n",
       "  </tbody>\n",
       "</table>\n",
       "</div>"
      ],
      "text/plain": [
       "  region  rec_test_participant  users_cnt  users_share\n",
       "0     EU                 False      35989         0.85\n",
       "1     EU                  True       6351         0.15"
      ]
     },
     "execution_count": 39,
     "metadata": {},
     "output_type": "execute_result"
    }
   ],
   "source": [
    "(final_ab_new_users\n",
    "     .query('first_date <= \"2020-12-21\"')\n",
    "     .assign(\n",
    "         rec_test_participant = lambda x: x['user_id'].isin(\n",
    "             final_ab_participants.query('ab_test == \"recommender_system_test\"')['user_id'])\n",
    "     ).query('region == \"EU\"')\n",
    "     .groupby(['region', 'rec_test_participant'], as_index=False)\n",
    "     .agg(users_cnt=('user_id', 'nunique'))\n",
    "     .assign(users_share = lambda x: x['users_cnt'] / x['users_cnt'].sum())\n",
    ")"
   ]
  },
  {
   "cell_type": "markdown",
   "metadata": {},
   "source": [
    "Аудитория данного эксперимента - 15% из новых пользователей, зарегистрированных с 7 декабря по 21 декабря в Европе, что соответствует требованиям техзадания."
   ]
  },
  {
   "cell_type": "markdown",
   "metadata": {},
   "source": [
    "Изучим **распределение дат рагистрации** участников теста:"
   ]
  },
  {
   "cell_type": "code",
   "execution_count": 30,
   "metadata": {},
   "outputs": [
    {
     "data": {
      "image/png": "[encoded data removed]",
      "text/plain": [
       "<Figure size 720x360 with 1 Axes>"
      ]
     },
     "metadata": {
      "needs_background": "light"
     },
     "output_type": "display_data"
    }
   ],
   "source": [
    "rec_users['first_date'].hist(\n",
    "    figsize=(10, 5),\n",
    "    bins=14\n",
    ")\n",
    "plt.title('Распределение дат регистрации участников recomendation_system_test')\n",
    "plt.xlabel('Дата регистрации')\n",
    "plt.ylabel('Количество пользователей')\n",
    "plt.show()"
   ]
  },
  {
   "cell_type": "markdown",
   "metadata": {},
   "source": [
    "В датасете нет пользователей, зарегистрированных до 7 декабря 2020 года и  после 21 декабря 2020 года, что согласуется с указанными датами запуска и остановки набора новых пользователей в техзадании."
   ]
  },
  {
   "cell_type": "markdown",
   "metadata": {},
   "source": [
    "Рассмотрим соответствие **времени событий новых пользователей** требованиям техзадания (дата запуска: 2020-12-07, дата остановки: 2021-01-04):"
   ]
  },
  {
   "cell_type": "code",
   "execution_count": 40,
   "metadata": {},
   "outputs": [
    {
     "data": {
      "image/png": "[encoded data removed]",
      "text/plain": [
       "<Figure size 1000x600 with 1 Axes>"
      ]
     },
     "metadata": {},
     "output_type": "display_data"
    },
    {
     "data": {
      "text/plain": [
       "count                  440317\n",
       "unique                 267268\n",
       "top       2020-12-23 02:37:24\n",
       "freq                       10\n",
       "first     2020-12-07 00:00:33\n",
       "last      2020-12-30 23:36:33\n",
       "Name: event_dt, dtype: object"
      ]
     },
     "execution_count": 40,
     "metadata": {},
     "output_type": "execute_result"
    }
   ],
   "source": [
    "final_ab_events['event_dt'].hist(figsize=(10, 6), bins=50)\n",
    "plt.title('Распределение времени событий')\n",
    "plt.ylabel('Количество событий')\n",
    "plt.xlabel('Дата события')\n",
    "plt.show()\n",
    "\n",
    "final_ab_events['event_dt'].describe()"
   ]
  },
  {
   "cell_type": "markdown",
   "metadata": {},
   "source": [
    "Выводы:\n",
    "\n",
    "В основном датасете с событиями новых пользователей данные с 7 по 30 декабря 2020 года\n",
    "Не хватает данных с 2020-12-31 по 2021-01-04;\n",
    "Не все новые пользователи успели \"прожить\" 14 дней, достаточные для выявления нужного эффекта от изменений, следовательно, это может привести к искажению результатов."
   ]
  },
  {
   "cell_type": "markdown",
   "metadata": {},
   "source": [
    "**Ключевые метрики**"
   ]
  },
  {
   "cell_type": "markdown",
   "metadata": {},
   "source": [
    "В ходе этого теста мы должны зафиксировать улучшение не менее, чем на 10%, таких метрик:\n",
    "\n",
    "- конверсии в просмотр карточек товаров — событие product_page,\n",
    "- просмотры корзины — product_cart,\n",
    "- покупки — purchase."
   ]
  },
  {
   "cell_type": "markdown",
   "metadata": {},
   "source": [
    "Сохраняем события участников а/б-теста:"
   ]
  },
  {
   "cell_type": "code",
   "execution_count": 41,
   "metadata": {},
   "outputs": [],
   "source": [
    "rec_events = final_ab_events[\n",
    "        final_ab_events['user_id'].isin(rec_users['user_id'])\n",
    "]"
   ]
  },
  {
   "cell_type": "markdown",
   "metadata": {},
   "source": [
    "Смотрим какие это события:"
   ]
  },
  {
   "cell_type": "code",
   "execution_count": 42,
   "metadata": {},
   "outputs": [
    {
     "data": {
      "text/plain": [
       "array(['purchase', 'product_cart', 'product_page', 'login'], dtype=object)"
      ]
     },
     "execution_count": 42,
     "metadata": {},
     "output_type": "execute_result"
    }
   ],
   "source": [
    "rec_events['event_name'].unique()"
   ]
  },
  {
   "cell_type": "markdown",
   "metadata": {},
   "source": [
    "Присоединяем даты регистрации участников теста:"
   ]
  },
  {
   "cell_type": "code",
   "execution_count": 43,
   "metadata": {},
   "outputs": [],
   "source": [
    "rec_events = rec_events.merge(\n",
    "    rec_users[['user_id', 'first_date']],\n",
    "    on='user_id'\n",
    ")"
   ]
  },
  {
   "cell_type": "markdown",
   "metadata": {},
   "source": [
    "Добавляем столбец с количеством дней, прошедших после регистрации:"
   ]
  },
  {
   "cell_type": "code",
   "execution_count": 44,
   "metadata": {},
   "outputs": [],
   "source": [
    "rec_events['lifetime'] = (np.floor(\n",
    "    (rec_events['event_dt'] - rec_events['first_date']) / np.timedelta64(1, 'D'))\n",
    ").astype(int)"
   ]
  },
  {
   "cell_type": "markdown",
   "metadata": {},
   "source": [
    "Оставляем события, произошедшие в первые 14 дней после момента регистрации:"
   ]
  },
  {
   "cell_type": "code",
   "execution_count": 45,
   "metadata": {},
   "outputs": [],
   "source": [
    "rec_events = rec_events.query('lifetime <= 13')"
   ]
  },
  {
   "cell_type": "markdown",
   "metadata": {},
   "source": [
    "В датасете имеются все события, по которым будут рассчитаны ключевые метрики."
   ]
  },
  {
   "cell_type": "markdown",
   "metadata": {},
   "source": [
    "### 3.2. Проверка совпадения времени теста с маркетинговыми активностями."
   ]
  },
  {
   "cell_type": "markdown",
   "metadata": {},
   "source": [
    "Выделяем кампании, нацеленные на EU:"
   ]
  },
  {
   "cell_type": "code",
   "execution_count": 46,
   "metadata": {},
   "outputs": [],
   "source": [
    "ab_project_marketing_events['in_eu'] = ab_project_marketing_events['regions'].apply(\n",
    "    lambda x: True if 'EU' in x else False\n",
    ")"
   ]
  },
  {
   "cell_type": "markdown",
   "metadata": {},
   "source": [
    "Сохраняем минимальную дату регистрации участников теста:"
   ]
  },
  {
   "cell_type": "code",
   "execution_count": 47,
   "metadata": {},
   "outputs": [
    {
     "data": {
      "text/plain": [
       "Timestamp('2020-12-07 00:00:00')"
      ]
     },
     "execution_count": 47,
     "metadata": {},
     "output_type": "execute_result"
    }
   ],
   "source": [
    "min_reg_date = final_ab_new_users['first_date'].min()\n",
    "min_reg_date"
   ]
  },
  {
   "cell_type": "code",
   "execution_count": 48,
   "metadata": {},
   "outputs": [
    {
     "data": {
      "text/html": [
       "<div>\n",
       "<style scoped>\n",
       "    .dataframe tbody tr th:only-of-type {\n",
       "        vertical-align: middle;\n",
       "    }\n",
       "\n",
       "    .dataframe tbody tr th {\n",
       "        vertical-align: top;\n",
       "    }\n",
       "\n",
       "    .dataframe thead th {\n",
       "        text-align: right;\n",
       "    }\n",
       "</style>\n",
       "<table border=\"1\" class=\"dataframe\">\n",
       "  <thead>\n",
       "    <tr style=\"text-align: right;\">\n",
       "      <th></th>\n",
       "      <th>name</th>\n",
       "      <th>regions</th>\n",
       "      <th>start_dt</th>\n",
       "      <th>finish_dt</th>\n",
       "      <th>in_eu</th>\n",
       "    </tr>\n",
       "  </thead>\n",
       "  <tbody>\n",
       "    <tr>\n",
       "      <th>0</th>\n",
       "      <td>Christmas&amp;New Year Promo</td>\n",
       "      <td>EU, N.America</td>\n",
       "      <td>2020-12-25</td>\n",
       "      <td>2021-01-03</td>\n",
       "      <td>True</td>\n",
       "    </tr>\n",
       "  </tbody>\n",
       "</table>\n",
       "</div>"
      ],
      "text/plain": [
       "                       name        regions   start_dt  finish_dt  in_eu\n",
       "0  Christmas&New Year Promo  EU, N.America 2020-12-25 2021-01-03   True"
      ]
     },
     "metadata": {},
     "output_type": "display_data"
    }
   ],
   "source": [
    "display(ab_project_marketing_events.query('in_eu == True and start_dt >= \"2020-12-07\"'))"
   ]
  },
  {
   "cell_type": "markdown",
   "metadata": {},
   "source": [
    "Период проведения теста пересекается с маркетинговой кампанией Christmas&New Year Promo, которая стартовала 25 декабря 2020 года."
   ]
  },
  {
   "cell_type": "markdown",
   "metadata": {},
   "source": [
    "### 3.3. Проверка на пересечение тестовой аудитории с конкурирующим тестом"
   ]
  },
  {
   "cell_type": "code",
   "execution_count": 49,
   "metadata": {},
   "outputs": [
    {
     "data": {
      "text/plain": [
       "1602"
      ]
     },
     "execution_count": 49,
     "metadata": {},
     "output_type": "execute_result"
    }
   ],
   "source": [
    "final_ab_participants['user_id'].duplicated().sum()"
   ]
  },
  {
   "cell_type": "markdown",
   "metadata": {},
   "source": [
    "Выявили 1602 дубликата в id пользователях. "
   ]
  },
  {
   "cell_type": "markdown",
   "metadata": {},
   "source": [
    "Сохраняем дублирующие id:"
   ]
  },
  {
   "cell_type": "code",
   "execution_count": 50,
   "metadata": {},
   "outputs": [
    {
     "name": "stdout",
     "output_type": "stream",
     "text": [
      "1602\n"
     ]
    },
    {
     "data": {
      "text/plain": [
       "array(['recommender_system_test', 'interface_eu_test'], dtype=object)"
      ]
     },
     "execution_count": 50,
     "metadata": {},
     "output_type": "execute_result"
    }
   ],
   "source": [
    "duplicated_users = final_ab_participants[final_ab_participants['user_id'].duplicated()]['user_id']\n",
    "\n",
    "print(duplicated_users.shape[0])\n",
    "\n",
    "final_ab_participants[\n",
    "        final_ab_participants['user_id'].isin(duplicated_users)\n",
    "]['ab_test'].unique()"
   ]
  },
  {
   "cell_type": "markdown",
   "metadata": {},
   "source": [
    "Данный датасет содержит 1602 пользователя, участвующие в двух A/B-тестах.\n",
    "Для чистоты эксперимента желательно было бы удалить данные этих пользователей, но вданном случае мы этого сделать не можем, так как их удаление повлекло бы снижение количества участников теста ниже требуемого условиями техзадания. Поэтому просто отметим, что данный факт мог отрицательно повлиять на корректность проведения теста."
   ]
  },
  {
   "cell_type": "markdown",
   "metadata": {},
   "source": [
    "Ищем пользователей, оказавшихся в двух группах одновременно:"
   ]
  },
  {
   "cell_type": "code",
   "execution_count": 51,
   "metadata": {},
   "outputs": [
    {
     "name": "stdout",
     "output_type": "stream",
     "text": [
      "recommender_system_test\n",
      "More than one group : 0\n",
      "\n",
      "interface_eu_test\n",
      "More than one group : 0\n",
      "\n"
     ]
    }
   ],
   "source": [
    "for test in final_ab_participants['ab_test'].unique():\n",
    "    more_than_one = (\n",
    "        final_ab_participants\n",
    "            .query('ab_test == @test')\n",
    "            .groupby('user_id')\n",
    "            .agg({'group':'nunique'})\n",
    "            .query('group > 1')\n",
    "            .shape[0]\n",
    "    )\n",
    "    print(test)\n",
    "    print('More than one group :', more_than_one)\n",
    "    print()"
   ]
  },
  {
   "cell_type": "markdown",
   "metadata": {},
   "source": [
    "Не нашлось ни одного участника, который оказался в обеих группах, в двух экспериментах."
   ]
  },
  {
   "cell_type": "markdown",
   "metadata": {},
   "source": [
    "### 3.4. Распределение пользователей по группам"
   ]
  },
  {
   "cell_type": "markdown",
   "metadata": {},
   "source": [
    "Считаем распределение участников по группам А и В:"
   ]
  },
  {
   "cell_type": "code",
   "execution_count": 52,
   "metadata": {},
   "outputs": [],
   "source": [
    "number_of_participants = (\n",
    "    rec_participants\n",
    "            .groupby('group', as_index=False)\n",
    "            .agg({'user_id' : 'nunique'})\n",
    ")\n",
    "number_of_participants['percent'] = number_of_participants['user_id'] * 100 / number_of_participants['user_id'].sum()"
   ]
  },
  {
   "cell_type": "markdown",
   "metadata": {},
   "source": [
    "Строим столбчатую диаграмму:"
   ]
  },
  {
   "cell_type": "code",
   "execution_count": 53,
   "metadata": {},
   "outputs": [
    {
     "data": {
      "image/png": "[encoded data removed]",
      "text/plain": [
       "<Figure size 800x500 with 1 Axes>"
      ]
     },
     "metadata": {},
     "output_type": "display_data"
    }
   ],
   "source": [
    "sns.set_palette('deep')\n",
    "plt.figure(figsize=(8, 5))\n",
    "ax = sns.barplot(\n",
    "    data=number_of_participants,\n",
    "    x='group',\n",
    "    y='percent'\n",
    ")\n",
    "plt.xlabel('Группа участников')\n",
    "plt.ylabel('Количество участников')\n",
    "plt.title('Количество участников в группах А и В')\n",
    "ax.bar_label(ax.containers[0], fmt='%.1f%%')\n",
    "sns.despine()\n",
    "plt.show()"
   ]
  },
  {
   "cell_type": "markdown",
   "metadata": {},
   "source": [
    "Разделение участников по группам А и В прошло не поровну:\n",
    "\n",
    "- В группе А - 57,1%;\n",
    "- В группе В - 42,9%."
   ]
  },
  {
   "cell_type": "code",
   "execution_count": null,
   "metadata": {},
   "outputs": [],
   "source": [
    "Добавляем столбцы с группой пользователя:"
   ]
  },
  {
   "cell_type": "code",
   "execution_count": 54,
   "metadata": {},
   "outputs": [],
   "source": [
    "rec_users = rec_users.merge(\n",
    "    rec_participants[['user_id', 'group']],\n",
    "    on='user_id'\n",
    ")\n",
    "rec_events = rec_events.merge(\n",
    "    rec_participants[['user_id', 'group']],\n",
    "    on='user_id'\n",
    ")"
   ]
  },
  {
   "cell_type": "markdown",
   "metadata": {},
   "source": [
    "Рассмотрим распределение участников, совершивших хоть одно действие, по группам А и В:"
   ]
  },
  {
   "cell_type": "code",
   "execution_count": 55,
   "metadata": {},
   "outputs": [],
   "source": [
    "users_agg = pd.melt(\n",
    "    (rec_events # считаю пользователей, совершившие события\n",
    "            .groupby('group')\n",
    "            .agg(events=('user_id', 'nunique'))\n",
    "            ).join(\n",
    "                rec_users # считаю всех новых пользователей\n",
    "                    .groupby('group')\n",
    "                    .agg(all=('user_id', 'nunique'))\n",
    "            ).T.reset_index()\n",
    "             .rename(columns={'index' : 'users'}),\n",
    "    # переплавливаю таблицу в длинный формат\n",
    "    id_vars=['users'],\n",
    "    var_name='group',\n",
    "    value_name='users_cnt'\n",
    ")"
   ]
  },
  {
   "cell_type": "markdown",
   "metadata": {},
   "source": [
    "Строим барчарт:"
   ]
  },
  {
   "cell_type": "code",
   "execution_count": 56,
   "metadata": {},
   "outputs": [
    {
     "data": {
      "text/plain": [
       "Text(0.5, 1.0, 'Аудитория')"
      ]
     },
     "execution_count": 56,
     "metadata": {},
     "output_type": "execute_result"
    },
    {
     "data": {
      "image/png": "[encoded data removed]",
      "text/plain": [
       "<Figure size 600x600 with 1 Axes>"
      ]
     },
     "metadata": {},
     "output_type": "display_data"
    }
   ],
   "source": [
    "plt.figure(figsize=(6, 6))\n",
    "ax = sns.barplot(\n",
    "    data=users_agg,\n",
    "    x='group',\n",
    "    y='users_cnt',\n",
    "    hue='users'\n",
    ")\n",
    "for container in ax.containers:\n",
    "    ax.bar_label(container)\n",
    "plt.title('Аудитория')"
   ]
  },
  {
   "cell_type": "markdown",
   "metadata": {},
   "source": [
    "В ходе эксперимента не все участники воспользовались нашим продуктом:\n",
    "\n",
    "- 71,6% пользователей группы А совершили хотя бы одно действие;\n",
    "- 32,3% пользователей группы В совершили хотя бы одно действие.\n",
    "\n",
    "То есть в группе В (новая платежная воронка) доля неактивных участников выше, чем в группе А (контрольной)."
   ]
  },
  {
   "cell_type": "markdown",
   "metadata": {},
   "source": [
    "Рассмотрим распределение участников, одновременно принимающих участие в двух экспериментах, по группам А и В:"
   ]
  },
  {
   "cell_type": "code",
   "execution_count": 57,
   "metadata": {},
   "outputs": [
    {
     "data": {
      "image/png": "[encoded data removed]",
      "text/plain": [
       "<Figure size 600x500 with 1 Axes>"
      ]
     },
     "metadata": {},
     "output_type": "display_data"
    }
   ],
   "source": [
    "plt.figure(figsize=(6, 5))\n",
    "ax = sns.countplot(\n",
    "    data=final_ab_participants[\n",
    "        final_ab_participants['user_id'].isin(rec_users['user_id'])\n",
    "    ],\n",
    "    x='group',\n",
    "    hue='ab_test'\n",
    ")\n",
    "for container in ax.containers:\n",
    "    ax.bar_label(container)\n",
    "sns.despine()\n",
    "plt.title('Количество пользователи, одновременно принимающие участие в двух экспериментах')\n",
    "plt.ylabel('Количество пользователей')\n",
    "plt.xlabel('')\n",
    "plt.show()"
   ]
  },
  {
   "cell_type": "markdown",
   "metadata": {},
   "source": [
    "В группе В относительно больше пользователей, участвующих еще в параллельном эксперименте interface_eu_test:\n",
    "\n",
    "- 22,5% в группе А;\n",
    "- 28,8% в группе В."
   ]
  },
  {
   "cell_type": "markdown",
   "metadata": {},
   "source": [
    "### 3.5. Выводы по оценке корректности проведения теста:"
   ]
  },
  {
   "cell_type": "markdown",
   "metadata": {},
   "source": [
    "**1. Соответствие данных требованиям технического задания**\n",
    "- Количество пользователей, принявших участие в тестировании составляет 6701, это больше 6000, то есть соответствует количеству участников по техзаданию.\n",
    "- Аудитория данного эксперимента - 15% из новых пользователей, зарегистрированных с 7 декабря по 21 декабря в Европе, что соответствует требованиям техзадания.\n",
    "- В датасете нет пользователей, зарегистрированных до 7 декабря 2020 года и после 21 декабря 2020 года, что согласуется с указанными датами запуска и остановки набора новых пользователей в техзадании.\n",
    "- В основном датасете с событиями новых пользователей данные с 7 по 30 декабря 2020 года. Не хватает данных с 2020-12-31 по 2021-01-04; \n",
    "- Не все новые пользователи успели \"прожить\" 14 дней, достаточные для выявления нужного эффекта от изменений, следовательно, это может привести к искажению результатов.\n",
    "- В датасете имеются все события, по которым будут рассчитаны ключевые метрики.\n",
    "   - конверсии в просмотр карточек товаров — событие product_page,\n",
    "   - просмотры корзины — product_cart,\n",
    "   - покупки — purchase.\n",
    "   \n",
    "**2. Пересечение с другими активностями** \n",
    "- Маркетинговая кампания Christmas&New Year Promo , прошедшая с 25 декабря 2020 года по 3 января 2021 года, пересекается с периодом проявления эффекта от изменений пользователей, которые зарегистрировались 11 декабря по 21 декабря 2020 года;\n",
    "- Данный датасет содержит 1602 пользователя, участвующие в двух A/B-тестах.'recommender_system_test', 'interface_eu_test'\n",
    "- Не нашлось ни одного участника, который оказался в обеих группах, в двух экспериментах.\n",
    "\n",
    "**3. Аудитория теста**\n",
    "\n",
    "- Разделение участников по группам А и В прошло не поровну:\n",
    "\n",
    "   - В группе А - 57,1%;\n",
    "   - В группе В - 42,9%.\n",
    "\n",
    "- В ходе эксперимента не все участники воспользовались нашим продуктом:\n",
    "\n",
    "   - 71,6% пользователей группы А совершили хотя бы одно действие;\n",
    "   - 32,3% пользователей группы В совершили хотя бы одно действие.\n",
    "То есть в группе В (новая платежная воронка) доля неактивных участников выше, чем в группе А (контрольной).\n",
    "\n",
    "В группе В относительно больше пользователей, участвующих еще в параллельном эксперименте interface_eu_test:\n",
    "\n",
    "   - 22,5% в группе А;\n",
    "   - 28,8% в группе В"
   ]
  },
  {
   "cell_type": "markdown",
   "metadata": {},
   "source": [
    "## 4. Исследовательский анализ данных"
   ]
  },
  {
   "cell_type": "markdown",
   "metadata": {},
   "source": [
    "Посмотрим сколько событий приходится на одного пользователя:"
   ]
  },
  {
   "cell_type": "code",
   "execution_count": 58,
   "metadata": {},
   "outputs": [
    {
     "name": "stdout",
     "output_type": "stream",
     "text": [
      "Усредненное количество событий на пользователя =  6.0\n"
     ]
    }
   ],
   "source": [
    "print ('Усредненное количество событий на пользователя = ', \\\n",
    "    round (rec_events['event_name'].count() / rec_events['user_id'].nunique(), 0))"
   ]
  },
  {
   "cell_type": "code",
   "execution_count": 59,
   "metadata": {},
   "outputs": [
    {
     "data": {
      "image/png": "[encoded data removed]",
      "text/plain": [
       "<Figure size 1000x500 with 1 Axes>"
      ]
     },
     "metadata": {},
     "output_type": "display_data"
    }
   ],
   "source": [
    "plt.figure(figsize=(10, 5))\n",
    "sns.boxplot(\n",
    "    data=rec_events\n",
    "            .groupby(['user_id'])\n",
    "            .agg({'event_dt' : 'count'}),\n",
    "    x='event_dt'\n",
    ")\n",
    "    \n",
    "plt.title('Количество событий на пользователя')\n",
    "plt.xlabel('Количество событий на пользователя')\n",
    "plt.xticks((range(20)))\n",
    "plt.xlim(0, 20)\n",
    "sns.despine()\n",
    "plt.show()"
   ]
  },
  {
   "cell_type": "markdown",
   "metadata": {},
   "source": [
    "В среднем пользователи совершают 6 событий, что совпадает с медианным значением."
   ]
  },
  {
   "cell_type": "markdown",
   "metadata": {},
   "source": [
    "Сколько событий приходится на одного пользователя в группе А:"
   ]
  },
  {
   "cell_type": "code",
   "execution_count": 60,
   "metadata": {},
   "outputs": [
    {
     "name": "stdout",
     "output_type": "stream",
     "text": [
      "Усредненное количество событий на пользователя в группе А =  7.0\n"
     ]
    }
   ],
   "source": [
    "print ('Усредненное количество событий на пользователя в группе А = ', \\\n",
    "    round (rec_events.query('group == \"A\"')['event_name'].count() / rec_events.query('group == \"A\"')['user_id'].nunique(), 0))"
   ]
  },
  {
   "cell_type": "code",
   "execution_count": 61,
   "metadata": {},
   "outputs": [
    {
     "data": {
      "image/png": "[encoded data removed]",
      "text/plain": [
       "<Figure size 1000x500 with 1 Axes>"
      ]
     },
     "metadata": {},
     "output_type": "display_data"
    }
   ],
   "source": [
    "plt.figure(figsize=(10, 5))\n",
    "sns.boxplot(\n",
    "    data=rec_events.query('group == \"A\"')\n",
    "            .groupby(['user_id'])\n",
    "            .agg({'event_dt' : 'count'}),\n",
    "    x='event_dt'\n",
    ")\n",
    "    \n",
    "plt.title('Количество событий на пользователя в группе А')\n",
    "plt.xlabel('Количество событий на пользователя в группе А')\n",
    "plt.xticks((range(20)))\n",
    "plt.xlim(0, 20)\n",
    "sns.despine()\n",
    "plt.show()"
   ]
  },
  {
   "cell_type": "markdown",
   "metadata": {},
   "source": [
    "В группе А пользователи совершают в среднем 7 событий, медианное значение - 6."
   ]
  },
  {
   "cell_type": "markdown",
   "metadata": {},
   "source": [
    "Сколько событий приходится на одного пользователя в группе В:"
   ]
  },
  {
   "cell_type": "code",
   "execution_count": 62,
   "metadata": {},
   "outputs": [
    {
     "name": "stdout",
     "output_type": "stream",
     "text": [
      "Усредненное количество событий на пользователя в группе B =  5.0\n"
     ]
    }
   ],
   "source": [
    "print ('Усредненное количество событий на пользователя в группе B = ', \\\n",
    "    round (rec_events.query('group == \"B\"')['event_name'].count() / rec_events.query('group == \"B\"')['user_id'].nunique(), 0))"
   ]
  },
  {
   "cell_type": "code",
   "execution_count": 63,
   "metadata": {},
   "outputs": [
    {
     "data": {
      "image/png": "[encoded data removed]",
      "text/plain": [
       "<Figure size 1000x500 with 1 Axes>"
      ]
     },
     "metadata": {},
     "output_type": "display_data"
    }
   ],
   "source": [
    "plt.figure(figsize=(10, 5))\n",
    "sns.boxplot(\n",
    "    data=rec_events.query('group == \"B\"')\n",
    "            .groupby(['user_id'])\n",
    "            .agg({'event_dt' : 'count'}),\n",
    "    x='event_dt'\n",
    ")\n",
    "    \n",
    "plt.title('Количество событий на пользователя в группе В')\n",
    "plt.xlabel('Количество событий на пользователя в группе В')\n",
    "plt.xticks((range(20)))\n",
    "plt.xlim(0, 20)\n",
    "sns.despine()\n",
    "plt.show()"
   ]
  },
  {
   "cell_type": "markdown",
   "metadata": {},
   "source": [
    "В группе В пользователи совершают в среднем 5 событий, медианное значение - 4."
   ]
  },
  {
   "cell_type": "markdown",
   "metadata": {},
   "source": [
    "Выяснили, что показатели активности пользователей в группе А близка к общей активности участников А/В теста, а в группе В пользователи менее активны по сравнению с группой А и в целом с участниками теста . "
   ]
  },
  {
   "cell_type": "markdown",
   "metadata": {},
   "source": [
    "Количество всех событий на одного нового пользователя:"
   ]
  },
  {
   "cell_type": "code",
   "execution_count": 64,
   "metadata": {},
   "outputs": [
    {
     "data": {
      "image/png": "[encoded data removed]",
      "text/plain": [
       "<Figure size 1000x1100 with 5 Axes>"
      ]
     },
     "metadata": {},
     "output_type": "display_data"
    }
   ],
   "source": [
    "number_of_events = (\n",
    "        final_ab_events\n",
    "            .groupby(['user_id', 'event_name'], as_index=False)\n",
    "            .agg({'event_dt' : 'count'})\n",
    "    )\n",
    "\n",
    "plt.figure(figsize=(10, 11))\n",
    "for i, event in enumerate(number_of_events['event_name'].unique()):\n",
    "        ax=plt.subplot(2, 2, i+1, sharey=(plt.subplot(2, 2, 1)))\n",
    "        sns.histplot(\n",
    "                data=number_of_events.query('event_name == @event'),\n",
    "                x='event_dt',\n",
    "                ax=ax)\n",
    "    \n",
    "        plt.title(f'Событие - {event}')\n",
    "        plt.xlabel('Количество событий на пользователя')\n",
    "        plt.ylabel('Частота')\n",
    "        sns.despine()\n",
    "\n",
    "plt.suptitle('Распределение количества событий на одного пользователя')\n",
    "plt.show()"
   ]
  },
  {
   "cell_type": "markdown",
   "metadata": {},
   "source": [
    "Выводы:\n",
    "\n",
    "- Распределения событий выглядят нормальными;\n",
    "- Большинство пользователей совершило до 6 действий каждого типа;\n",
    "- Треть вошедших в сервис пользователей совершают покупку"
   ]
  },
  {
   "cell_type": "markdown",
   "metadata": {},
   "source": [
    "Количество событий на одного участника а/б-теста:"
   ]
  },
  {
   "cell_type": "code",
   "execution_count": 65,
   "metadata": {},
   "outputs": [
    {
     "data": {
      "image/png": "[encoded data removed]",
      "text/plain": [
       "<Figure size 1000x1100 with 5 Axes>"
      ]
     },
     "metadata": {},
     "output_type": "display_data"
    }
   ],
   "source": [
    "number_of_events = (\n",
    "        rec_events\n",
    "            .groupby(['group', 'user_id','event_name'], as_index=False)\n",
    "            .agg({'event_dt' : 'count'})\n",
    "    )\n",
    "\n",
    "plt.figure(figsize=(10, 11))\n",
    "for i, event in enumerate(number_of_events['event_name'].unique()):\n",
    "        ax=plt.subplot(2, 2, i+1, sharey=(plt.subplot(2, 2, 1)))\n",
    "        sns.histplot(\n",
    "                data=number_of_events.query('event_name == @event'),\n",
    "                x='event_dt',\n",
    "                hue='group',\n",
    "                multiple='stack',\n",
    "                ax=ax\n",
    "        )\n",
    "    \n",
    "        plt.title(f'Событие - {event}')\n",
    "        plt.xlabel('Количество событий на пользователя')\n",
    "        plt.ylabel('Частота')\n",
    "        sns.despine()\n",
    "\n",
    "plt.suptitle('Распределение количества событий на одного пользователя')\n",
    "plt.show()\n"
   ]
  },
  {
   "cell_type": "markdown",
   "metadata": {},
   "source": [
    "Выводы:\n",
    "\n",
    "- Распределения имеют нормальный вид;\n",
    "- Большинство пользователей совершают до 6 событий;\n",
    "- Просмотр корзины и покупка случаются примерно в три раза реже, чем действие login;\n",
    "- Участники теста практически не отличаются от всех пользователей, зарегистрировавшиеся в интернет-магазине в период с 7 по 21 декабря 2020 года;"
   ]
  },
  {
   "cell_type": "markdown",
   "metadata": {},
   "source": [
    "Изучим распределение количества событий пользователей по дням:"
   ]
  },
  {
   "cell_type": "markdown",
   "metadata": {},
   "source": [
    "Создадим дополнительный столбец с днями исследования:"
   ]
  },
  {
   "cell_type": "code",
   "execution_count": 66,
   "metadata": {},
   "outputs": [],
   "source": [
    "rec_events['day_of_december'] = rec_events['event_dt'].dt.strftime('%d')"
   ]
  },
  {
   "cell_type": "markdown",
   "metadata": {},
   "source": [
    "Сгруппируем события по дням и построим столбчатую диаграмму:"
   ]
  },
  {
   "cell_type": "code",
   "execution_count": 68,
   "metadata": {},
   "outputs": [
    {
     "data": {
      "application/vnd.plotly.v1+json": {
       "config": {
        "plotlyServerURL": "https://plot.ly"
       },
       "data": [
        {
         "alignmentgroup": "True",
         "hovertemplate": "День : %{x} <br>Количество: %{y}",
         "legendgroup": "",
         "marker": {
          "color": "#F8766D",
          "pattern": {
           "shape": ""
          }
         },
         "name": "",
         "offsetgroup": "",
         "orientation": "v",
         "showlegend": false,
         "textposition": "auto",
         "type": "bar",
         "x": [
          "07",
          "08",
          "09",
          "10",
          "11",
          "12",
          "13",
          "14",
          "15",
          "16",
          "17",
          "18",
          "19",
          "20",
          "21",
          "22",
          "23",
          "24",
          "25",
          "26",
          "27",
          "28",
          "29"
         ],
         "xaxis": "x",
         "y": [
          709,
          593,
          746,
          613,
          542,
          558,
          504,
          1355,
          1316,
          1454,
          1548,
          1584,
          1810,
          1848,
          2399,
          1457,
          1139,
          960,
          705,
          635,
          597,
          463,
          321
         ],
         "yaxis": "y"
        }
       ],
       "layout": {
        "barmode": "relative",
        "legend": {
         "tracegroupgap": 0
        },
        "template": {
         "data": {
          "bar": [
           {
            "error_x": {
             "color": "rgb(51,51,51)"
            },
            "error_y": {
             "color": "rgb(51,51,51)"
            },
            "marker": {
             "line": {
              "color": "rgb(237,237,237)",
              "width": 0.5
             },
             "pattern": {
              "fillmode": "overlay",
              "size": 10,
              "solidity": 0.2
             }
            },
            "type": "bar"
           }
          ],
          "barpolar": [
           {
            "marker": {
             "line": {
              "color": "rgb(237,237,237)",
              "width": 0.5
             },
             "pattern": {
              "fillmode": "overlay",
              "size": 10,
              "solidity": 0.2
             }
            },
            "type": "barpolar"
           }
          ],
          "carpet": [
           {
            "aaxis": {
             "endlinecolor": "rgb(51,51,51)",
             "gridcolor": "white",
             "linecolor": "white",
             "minorgridcolor": "white",
             "startlinecolor": "rgb(51,51,51)"
            },
            "baxis": {
             "endlinecolor": "rgb(51,51,51)",
             "gridcolor": "white",
             "linecolor": "white",
             "minorgridcolor": "white",
             "startlinecolor": "rgb(51,51,51)"
            },
            "type": "carpet"
           }
          ],
          "choropleth": [
           {
            "colorbar": {
             "outlinewidth": 0,
             "tickcolor": "rgb(237,237,237)",
             "ticklen": 6,
             "ticks": "inside"
            },
            "type": "choropleth"
           }
          ],
          "contour": [
           {
            "colorbar": {
             "outlinewidth": 0,
             "tickcolor": "rgb(237,237,237)",
             "ticklen": 6,
             "ticks": "inside"
            },
            "colorscale": [
             [
              0,
              "rgb(20,44,66)"
             ],
             [
              1,
              "rgb(90,179,244)"
             ]
            ],
            "type": "contour"
           }
          ],
          "contourcarpet": [
           {
            "colorbar": {
             "outlinewidth": 0,
             "tickcolor": "rgb(237,237,237)",
             "ticklen": 6,
             "ticks": "inside"
            },
            "type": "contourcarpet"
           }
          ],
          "heatmap": [
           {
            "colorbar": {
             "outlinewidth": 0,
             "tickcolor": "rgb(237,237,237)",
             "ticklen": 6,
             "ticks": "inside"
            },
            "colorscale": [
             [
              0,
              "rgb(20,44,66)"
             ],
             [
              1,
              "rgb(90,179,244)"
             ]
            ],
            "type": "heatmap"
           }
          ],
          "heatmapgl": [
           {
            "colorbar": {
             "outlinewidth": 0,
             "tickcolor": "rgb(237,237,237)",
             "ticklen": 6,
             "ticks": "inside"
            },
            "colorscale": [
             [
              0,
              "rgb(20,44,66)"
             ],
             [
              1,
              "rgb(90,179,244)"
             ]
            ],
            "type": "heatmapgl"
           }
          ],
          "histogram": [
           {
            "marker": {
             "pattern": {
              "fillmode": "overlay",
              "size": 10,
              "solidity": 0.2
             }
            },
            "type": "histogram"
           }
          ],
          "histogram2d": [
           {
            "colorbar": {
             "outlinewidth": 0,
             "tickcolor": "rgb(237,237,237)",
             "ticklen": 6,
             "ticks": "inside"
            },
            "colorscale": [
             [
              0,
              "rgb(20,44,66)"
             ],
             [
              1,
              "rgb(90,179,244)"
             ]
            ],
            "type": "histogram2d"
           }
          ],
          "histogram2dcontour": [
           {
            "colorbar": {
             "outlinewidth": 0,
             "tickcolor": "rgb(237,237,237)",
             "ticklen": 6,
             "ticks": "inside"
            },
            "colorscale": [
             [
              0,
              "rgb(20,44,66)"
             ],
             [
              1,
              "rgb(90,179,244)"
             ]
            ],
            "type": "histogram2dcontour"
           }
          ],
          "mesh3d": [
           {
            "colorbar": {
             "outlinewidth": 0,
             "tickcolor": "rgb(237,237,237)",
             "ticklen": 6,
             "ticks": "inside"
            },
            "type": "mesh3d"
           }
          ],
          "parcoords": [
           {
            "line": {
             "colorbar": {
              "outlinewidth": 0,
              "tickcolor": "rgb(237,237,237)",
              "ticklen": 6,
              "ticks": "inside"
             }
            },
            "type": "parcoords"
           }
          ],
          "pie": [
           {
            "automargin": true,
            "type": "pie"
           }
          ],
          "scatter": [
           {
            "fillpattern": {
             "fillmode": "overlay",
             "size": 10,
             "solidity": 0.2
            },
            "type": "scatter"
           }
          ],
          "scatter3d": [
           {
            "line": {
             "colorbar": {
              "outlinewidth": 0,
              "tickcolor": "rgb(237,237,237)",
              "ticklen": 6,
              "ticks": "inside"
             }
            },
            "marker": {
             "colorbar": {
              "outlinewidth": 0,
              "tickcolor": "rgb(237,237,237)",
              "ticklen": 6,
              "ticks": "inside"
             }
            },
            "type": "scatter3d"
           }
          ],
          "scattercarpet": [
           {
            "marker": {
             "colorbar": {
              "outlinewidth": 0,
              "tickcolor": "rgb(237,237,237)",
              "ticklen": 6,
              "ticks": "inside"
             }
            },
            "type": "scattercarpet"
           }
          ],
          "scattergeo": [
           {
            "marker": {
             "colorbar": {
              "outlinewidth": 0,
              "tickcolor": "rgb(237,237,237)",
              "ticklen": 6,
              "ticks": "inside"
             }
            },
            "type": "scattergeo"
           }
          ],
          "scattergl": [
           {
            "marker": {
             "colorbar": {
              "outlinewidth": 0,
              "tickcolor": "rgb(237,237,237)",
              "ticklen": 6,
              "ticks": "inside"
             }
            },
            "type": "scattergl"
           }
          ],
          "scattermapbox": [
           {
            "marker": {
             "colorbar": {
              "outlinewidth": 0,
              "tickcolor": "rgb(237,237,237)",
              "ticklen": 6,
              "ticks": "inside"
             }
            },
            "type": "scattermapbox"
           }
          ],
          "scatterpolar": [
           {
            "marker": {
             "colorbar": {
              "outlinewidth": 0,
              "tickcolor": "rgb(237,237,237)",
              "ticklen": 6,
              "ticks": "inside"
             }
            },
            "type": "scatterpolar"
           }
          ],
          "scatterpolargl": [
           {
            "marker": {
             "colorbar": {
              "outlinewidth": 0,
              "tickcolor": "rgb(237,237,237)",
              "ticklen": 6,
              "ticks": "inside"
             }
            },
            "type": "scatterpolargl"
           }
          ],
          "scatterternary": [
           {
            "marker": {
             "colorbar": {
              "outlinewidth": 0,
              "tickcolor": "rgb(237,237,237)",
              "ticklen": 6,
              "ticks": "inside"
             }
            },
            "type": "scatterternary"
           }
          ],
          "surface": [
           {
            "colorbar": {
             "outlinewidth": 0,
             "tickcolor": "rgb(237,237,237)",
             "ticklen": 6,
             "ticks": "inside"
            },
            "colorscale": [
             [
              0,
              "rgb(20,44,66)"
             ],
             [
              1,
              "rgb(90,179,244)"
             ]
            ],
            "type": "surface"
           }
          ],
          "table": [
           {
            "cells": {
             "fill": {
              "color": "rgb(237,237,237)"
             },
             "line": {
              "color": "white"
             }
            },
            "header": {
             "fill": {
              "color": "rgb(217,217,217)"
             },
             "line": {
              "color": "white"
             }
            },
            "type": "table"
           }
          ]
         },
         "layout": {
          "annotationdefaults": {
           "arrowhead": 0,
           "arrowwidth": 1
          },
          "autotypenumbers": "strict",
          "coloraxis": {
           "colorbar": {
            "outlinewidth": 0,
            "tickcolor": "rgb(237,237,237)",
            "ticklen": 6,
            "ticks": "inside"
           }
          },
          "colorscale": {
           "sequential": [
            [
             0,
             "rgb(20,44,66)"
            ],
            [
             1,
             "rgb(90,179,244)"
            ]
           ],
           "sequentialminus": [
            [
             0,
             "rgb(20,44,66)"
            ],
            [
             1,
             "rgb(90,179,244)"
            ]
           ]
          },
          "colorway": [
           "#F8766D",
           "#A3A500",
           "#00BF7D",
           "#00B0F6",
           "#E76BF3"
          ],
          "font": {
           "color": "rgb(51,51,51)"
          },
          "geo": {
           "bgcolor": "white",
           "lakecolor": "white",
           "landcolor": "rgb(237,237,237)",
           "showlakes": true,
           "showland": true,
           "subunitcolor": "white"
          },
          "hoverlabel": {
           "align": "left"
          },
          "hovermode": "closest",
          "paper_bgcolor": "white",
          "plot_bgcolor": "rgb(237,237,237)",
          "polar": {
           "angularaxis": {
            "gridcolor": "white",
            "linecolor": "white",
            "showgrid": true,
            "tickcolor": "rgb(51,51,51)",
            "ticks": "outside"
           },
           "bgcolor": "rgb(237,237,237)",
           "radialaxis": {
            "gridcolor": "white",
            "linecolor": "white",
            "showgrid": true,
            "tickcolor": "rgb(51,51,51)",
            "ticks": "outside"
           }
          },
          "scene": {
           "xaxis": {
            "backgroundcolor": "rgb(237,237,237)",
            "gridcolor": "white",
            "gridwidth": 2,
            "linecolor": "white",
            "showbackground": true,
            "showgrid": true,
            "tickcolor": "rgb(51,51,51)",
            "ticks": "outside",
            "zerolinecolor": "white"
           },
           "yaxis": {
            "backgroundcolor": "rgb(237,237,237)",
            "gridcolor": "white",
            "gridwidth": 2,
            "linecolor": "white",
            "showbackground": true,
            "showgrid": true,
            "tickcolor": "rgb(51,51,51)",
            "ticks": "outside",
            "zerolinecolor": "white"
           },
           "zaxis": {
            "backgroundcolor": "rgb(237,237,237)",
            "gridcolor": "white",
            "gridwidth": 2,
            "linecolor": "white",
            "showbackground": true,
            "showgrid": true,
            "tickcolor": "rgb(51,51,51)",
            "ticks": "outside",
            "zerolinecolor": "white"
           }
          },
          "shapedefaults": {
           "fillcolor": "black",
           "line": {
            "width": 0
           },
           "opacity": 0.3
          },
          "ternary": {
           "aaxis": {
            "gridcolor": "white",
            "linecolor": "white",
            "showgrid": true,
            "tickcolor": "rgb(51,51,51)",
            "ticks": "outside"
           },
           "baxis": {
            "gridcolor": "white",
            "linecolor": "white",
            "showgrid": true,
            "tickcolor": "rgb(51,51,51)",
            "ticks": "outside"
           },
           "bgcolor": "rgb(237,237,237)",
           "caxis": {
            "gridcolor": "white",
            "linecolor": "white",
            "showgrid": true,
            "tickcolor": "rgb(51,51,51)",
            "ticks": "outside"
           }
          },
          "xaxis": {
           "automargin": true,
           "gridcolor": "white",
           "linecolor": "white",
           "showgrid": true,
           "tickcolor": "rgb(51,51,51)",
           "ticks": "outside",
           "title": {
            "standoff": 15
           },
           "zerolinecolor": "white"
          },
          "yaxis": {
           "automargin": true,
           "gridcolor": "white",
           "linecolor": "white",
           "showgrid": true,
           "tickcolor": "rgb(51,51,51)",
           "ticks": "outside",
           "title": {
            "standoff": 15
           },
           "zerolinecolor": "white"
          }
         }
        },
        "title": {
         "text": "Общее количество действий пользователей"
        },
        "xaxis": {
         "anchor": "y",
         "domain": [
          0,
          1
         ],
         "tickangle": 45,
         "title": {
          "text": "Дата"
         }
        },
        "yaxis": {
         "anchor": "x",
         "domain": [
          0,
          1
         ],
         "title": {
          "text": "Количество действий"
         }
        }
       }
      },
      "text/html": [
       "<div>                            <div id=\"ffc052f3-b52f-4d4f-ba3e-c01e0d1385be\" class=\"plotly-graph-div\" style=\"height:525px; width:100%;\"></div>            <script type=\"text/javascript\">                require([\"plotly\"], function(Plotly) {                    window.PLOTLYENV=window.PLOTLYENV || {};                                    if (document.getElementById(\"ffc052f3-b52f-4d4f-ba3e-c01e0d1385be\")) {                    Plotly.newPlot(                        \"ffc052f3-b52f-4d4f-ba3e-c01e0d1385be\",                        [{\"alignmentgroup\":\"True\",\"hovertemplate\":\"\\u0414\\u0435\\u043d\\u044c : %{x} <br>\\u041a\\u043e\\u043b\\u0438\\u0447\\u0435\\u0441\\u0442\\u0432\\u043e: %{y}\",\"legendgroup\":\"\",\"marker\":{\"color\":\"#F8766D\",\"pattern\":{\"shape\":\"\"}},\"name\":\"\",\"offsetgroup\":\"\",\"orientation\":\"v\",\"showlegend\":false,\"textposition\":\"auto\",\"x\":[\"07\",\"08\",\"09\",\"10\",\"11\",\"12\",\"13\",\"14\",\"15\",\"16\",\"17\",\"18\",\"19\",\"20\",\"21\",\"22\",\"23\",\"24\",\"25\",\"26\",\"27\",\"28\",\"29\"],\"xaxis\":\"x\",\"y\":[709,593,746,613,542,558,504,1355,1316,1454,1548,1584,1810,1848,2399,1457,1139,960,705,635,597,463,321],\"yaxis\":\"y\",\"type\":\"bar\"}],                        {\"template\":{\"data\":{\"barpolar\":[{\"marker\":{\"line\":{\"color\":\"rgb(237,237,237)\",\"width\":0.5},\"pattern\":{\"fillmode\":\"overlay\",\"size\":10,\"solidity\":0.2}},\"type\":\"barpolar\"}],\"bar\":[{\"error_x\":{\"color\":\"rgb(51,51,51)\"},\"error_y\":{\"color\":\"rgb(51,51,51)\"},\"marker\":{\"line\":{\"color\":\"rgb(237,237,237)\",\"width\":0.5},\"pattern\":{\"fillmode\":\"overlay\",\"size\":10,\"solidity\":0.2}},\"type\":\"bar\"}],\"carpet\":[{\"aaxis\":{\"endlinecolor\":\"rgb(51,51,51)\",\"gridcolor\":\"white\",\"linecolor\":\"white\",\"minorgridcolor\":\"white\",\"startlinecolor\":\"rgb(51,51,51)\"},\"baxis\":{\"endlinecolor\":\"rgb(51,51,51)\",\"gridcolor\":\"white\",\"linecolor\":\"white\",\"minorgridcolor\":\"white\",\"startlinecolor\":\"rgb(51,51,51)\"},\"type\":\"carpet\"}],\"choropleth\":[{\"colorbar\":{\"outlinewidth\":0,\"tickcolor\":\"rgb(237,237,237)\",\"ticklen\":6,\"ticks\":\"inside\"},\"type\":\"choropleth\"}],\"contourcarpet\":[{\"colorbar\":{\"outlinewidth\":0,\"tickcolor\":\"rgb(237,237,237)\",\"ticklen\":6,\"ticks\":\"inside\"},\"type\":\"contourcarpet\"}],\"contour\":[{\"colorbar\":{\"outlinewidth\":0,\"tickcolor\":\"rgb(237,237,237)\",\"ticklen\":6,\"ticks\":\"inside\"},\"colorscale\":[[0,\"rgb(20,44,66)\"],[1,\"rgb(90,179,244)\"]],\"type\":\"contour\"}],\"heatmapgl\":[{\"colorbar\":{\"outlinewidth\":0,\"tickcolor\":\"rgb(237,237,237)\",\"ticklen\":6,\"ticks\":\"inside\"},\"colorscale\":[[0,\"rgb(20,44,66)\"],[1,\"rgb(90,179,244)\"]],\"type\":\"heatmapgl\"}],\"heatmap\":[{\"colorbar\":{\"outlinewidth\":0,\"tickcolor\":\"rgb(237,237,237)\",\"ticklen\":6,\"ticks\":\"inside\"},\"colorscale\":[[0,\"rgb(20,44,66)\"],[1,\"rgb(90,179,244)\"]],\"type\":\"heatmap\"}],\"histogram2dcontour\":[{\"colorbar\":{\"outlinewidth\":0,\"tickcolor\":\"rgb(237,237,237)\",\"ticklen\":6,\"ticks\":\"inside\"},\"colorscale\":[[0,\"rgb(20,44,66)\"],[1,\"rgb(90,179,244)\"]],\"type\":\"histogram2dcontour\"}],\"histogram2d\":[{\"colorbar\":{\"outlinewidth\":0,\"tickcolor\":\"rgb(237,237,237)\",\"ticklen\":6,\"ticks\":\"inside\"},\"colorscale\":[[0,\"rgb(20,44,66)\"],[1,\"rgb(90,179,244)\"]],\"type\":\"histogram2d\"}],\"histogram\":[{\"marker\":{\"pattern\":{\"fillmode\":\"overlay\",\"size\":10,\"solidity\":0.2}},\"type\":\"histogram\"}],\"mesh3d\":[{\"colorbar\":{\"outlinewidth\":0,\"tickcolor\":\"rgb(237,237,237)\",\"ticklen\":6,\"ticks\":\"inside\"},\"type\":\"mesh3d\"}],\"parcoords\":[{\"line\":{\"colorbar\":{\"outlinewidth\":0,\"tickcolor\":\"rgb(237,237,237)\",\"ticklen\":6,\"ticks\":\"inside\"}},\"type\":\"parcoords\"}],\"pie\":[{\"automargin\":true,\"type\":\"pie\"}],\"scatter3d\":[{\"line\":{\"colorbar\":{\"outlinewidth\":0,\"tickcolor\":\"rgb(237,237,237)\",\"ticklen\":6,\"ticks\":\"inside\"}},\"marker\":{\"colorbar\":{\"outlinewidth\":0,\"tickcolor\":\"rgb(237,237,237)\",\"ticklen\":6,\"ticks\":\"inside\"}},\"type\":\"scatter3d\"}],\"scattercarpet\":[{\"marker\":{\"colorbar\":{\"outlinewidth\":0,\"tickcolor\":\"rgb(237,237,237)\",\"ticklen\":6,\"ticks\":\"inside\"}},\"type\":\"scattercarpet\"}],\"scattergeo\":[{\"marker\":{\"colorbar\":{\"outlinewidth\":0,\"tickcolor\":\"rgb(237,237,237)\",\"ticklen\":6,\"ticks\":\"inside\"}},\"type\":\"scattergeo\"}],\"scattergl\":[{\"marker\":{\"colorbar\":{\"outlinewidth\":0,\"tickcolor\":\"rgb(237,237,237)\",\"ticklen\":6,\"ticks\":\"inside\"}},\"type\":\"scattergl\"}],\"scattermapbox\":[{\"marker\":{\"colorbar\":{\"outlinewidth\":0,\"tickcolor\":\"rgb(237,237,237)\",\"ticklen\":6,\"ticks\":\"inside\"}},\"type\":\"scattermapbox\"}],\"scatterpolargl\":[{\"marker\":{\"colorbar\":{\"outlinewidth\":0,\"tickcolor\":\"rgb(237,237,237)\",\"ticklen\":6,\"ticks\":\"inside\"}},\"type\":\"scatterpolargl\"}],\"scatterpolar\":[{\"marker\":{\"colorbar\":{\"outlinewidth\":0,\"tickcolor\":\"rgb(237,237,237)\",\"ticklen\":6,\"ticks\":\"inside\"}},\"type\":\"scatterpolar\"}],\"scatter\":[{\"fillpattern\":{\"fillmode\":\"overlay\",\"size\":10,\"solidity\":0.2},\"type\":\"scatter\"}],\"scatterternary\":[{\"marker\":{\"colorbar\":{\"outlinewidth\":0,\"tickcolor\":\"rgb(237,237,237)\",\"ticklen\":6,\"ticks\":\"inside\"}},\"type\":\"scatterternary\"}],\"surface\":[{\"colorbar\":{\"outlinewidth\":0,\"tickcolor\":\"rgb(237,237,237)\",\"ticklen\":6,\"ticks\":\"inside\"},\"colorscale\":[[0,\"rgb(20,44,66)\"],[1,\"rgb(90,179,244)\"]],\"type\":\"surface\"}],\"table\":[{\"cells\":{\"fill\":{\"color\":\"rgb(237,237,237)\"},\"line\":{\"color\":\"white\"}},\"header\":{\"fill\":{\"color\":\"rgb(217,217,217)\"},\"line\":{\"color\":\"white\"}},\"type\":\"table\"}]},\"layout\":{\"annotationdefaults\":{\"arrowhead\":0,\"arrowwidth\":1},\"autotypenumbers\":\"strict\",\"coloraxis\":{\"colorbar\":{\"outlinewidth\":0,\"tickcolor\":\"rgb(237,237,237)\",\"ticklen\":6,\"ticks\":\"inside\"}},\"colorscale\":{\"sequential\":[[0,\"rgb(20,44,66)\"],[1,\"rgb(90,179,244)\"]],\"sequentialminus\":[[0,\"rgb(20,44,66)\"],[1,\"rgb(90,179,244)\"]]},\"colorway\":[\"#F8766D\",\"#A3A500\",\"#00BF7D\",\"#00B0F6\",\"#E76BF3\"],\"font\":{\"color\":\"rgb(51,51,51)\"},\"geo\":{\"bgcolor\":\"white\",\"lakecolor\":\"white\",\"landcolor\":\"rgb(237,237,237)\",\"showlakes\":true,\"showland\":true,\"subunitcolor\":\"white\"},\"hoverlabel\":{\"align\":\"left\"},\"hovermode\":\"closest\",\"paper_bgcolor\":\"white\",\"plot_bgcolor\":\"rgb(237,237,237)\",\"polar\":{\"angularaxis\":{\"gridcolor\":\"white\",\"linecolor\":\"white\",\"showgrid\":true,\"tickcolor\":\"rgb(51,51,51)\",\"ticks\":\"outside\"},\"bgcolor\":\"rgb(237,237,237)\",\"radialaxis\":{\"gridcolor\":\"white\",\"linecolor\":\"white\",\"showgrid\":true,\"tickcolor\":\"rgb(51,51,51)\",\"ticks\":\"outside\"}},\"scene\":{\"xaxis\":{\"backgroundcolor\":\"rgb(237,237,237)\",\"gridcolor\":\"white\",\"gridwidth\":2,\"linecolor\":\"white\",\"showbackground\":true,\"showgrid\":true,\"tickcolor\":\"rgb(51,51,51)\",\"ticks\":\"outside\",\"zerolinecolor\":\"white\"},\"yaxis\":{\"backgroundcolor\":\"rgb(237,237,237)\",\"gridcolor\":\"white\",\"gridwidth\":2,\"linecolor\":\"white\",\"showbackground\":true,\"showgrid\":true,\"tickcolor\":\"rgb(51,51,51)\",\"ticks\":\"outside\",\"zerolinecolor\":\"white\"},\"zaxis\":{\"backgroundcolor\":\"rgb(237,237,237)\",\"gridcolor\":\"white\",\"gridwidth\":2,\"linecolor\":\"white\",\"showbackground\":true,\"showgrid\":true,\"tickcolor\":\"rgb(51,51,51)\",\"ticks\":\"outside\",\"zerolinecolor\":\"white\"}},\"shapedefaults\":{\"fillcolor\":\"black\",\"line\":{\"width\":0},\"opacity\":0.3},\"ternary\":{\"aaxis\":{\"gridcolor\":\"white\",\"linecolor\":\"white\",\"showgrid\":true,\"tickcolor\":\"rgb(51,51,51)\",\"ticks\":\"outside\"},\"baxis\":{\"gridcolor\":\"white\",\"linecolor\":\"white\",\"showgrid\":true,\"tickcolor\":\"rgb(51,51,51)\",\"ticks\":\"outside\"},\"bgcolor\":\"rgb(237,237,237)\",\"caxis\":{\"gridcolor\":\"white\",\"linecolor\":\"white\",\"showgrid\":true,\"tickcolor\":\"rgb(51,51,51)\",\"ticks\":\"outside\"}},\"xaxis\":{\"automargin\":true,\"gridcolor\":\"white\",\"linecolor\":\"white\",\"showgrid\":true,\"tickcolor\":\"rgb(51,51,51)\",\"ticks\":\"outside\",\"title\":{\"standoff\":15},\"zerolinecolor\":\"white\"},\"yaxis\":{\"automargin\":true,\"gridcolor\":\"white\",\"linecolor\":\"white\",\"showgrid\":true,\"tickcolor\":\"rgb(51,51,51)\",\"ticks\":\"outside\",\"title\":{\"standoff\":15},\"zerolinecolor\":\"white\"}}},\"xaxis\":{\"anchor\":\"y\",\"domain\":[0.0,1.0],\"title\":{\"text\":\"\\u0414\\u0430\\u0442\\u0430\"},\"tickangle\":45},\"yaxis\":{\"anchor\":\"x\",\"domain\":[0.0,1.0],\"title\":{\"text\":\"\\u041a\\u043e\\u043b\\u0438\\u0447\\u0435\\u0441\\u0442\\u0432\\u043e \\u0434\\u0435\\u0439\\u0441\\u0442\\u0432\\u0438\\u0439\"}},\"legend\":{\"tracegroupgap\":0},\"title\":{\"text\":\"\\u041e\\u0431\\u0449\\u0435\\u0435 \\u043a\\u043e\\u043b\\u0438\\u0447\\u0435\\u0441\\u0442\\u0432\\u043e \\u0434\\u0435\\u0439\\u0441\\u0442\\u0432\\u0438\\u0439 \\u043f\\u043e\\u043b\\u044c\\u0437\\u043e\\u0432\\u0430\\u0442\\u0435\\u043b\\u0435\\u0439\"},\"barmode\":\"relative\"},                        {\"responsive\": true}                    ).then(function(){\n",
       "                            \n",
       "var gd = document.getElementById('ffc052f3-b52f-4d4f-ba3e-c01e0d1385be');\n",
       "var x = new MutationObserver(function (mutations, observer) {{\n",
       "        var display = window.getComputedStyle(gd).display;\n",
       "        if (!display || display === 'none') {{\n",
       "            console.log([gd, 'removed!']);\n",
       "            Plotly.purge(gd);\n",
       "            observer.disconnect();\n",
       "        }}\n",
       "}});\n",
       "\n",
       "// Listen for the removal of the full notebook cells\n",
       "var notebookContainer = gd.closest('#notebook-container');\n",
       "if (notebookContainer) {{\n",
       "    x.observe(notebookContainer, {childList: true});\n",
       "}}\n",
       "\n",
       "// Listen for the clearing of the current output cell\n",
       "var outputEl = gd.closest('.output');\n",
       "if (outputEl) {{\n",
       "    x.observe(outputEl, {childList: true});\n",
       "}}\n",
       "\n",
       "                        })                };                });            </script>        </div>"
      ]
     },
     "metadata": {},
     "output_type": "display_data"
    }
   ],
   "source": [
    "events_count = rec_events.groupby('day_of_december')['event_name'].count().reset_index().rename(columns={'day_event_dt': 'day', 'event_name': 'count'})\n",
    "fig = px.bar(events_count, \n",
    "             y='count', \n",
    "             x= 'day_of_december', \n",
    "             title = 'Общее количество действий пользователей',\n",
    "             template = 'ggplot2'\n",
    "             )\n",
    "fig.update_layout(yaxis_title = 'Количество действий',\n",
    "                 xaxis_title = 'Дата'\n",
    "                 )\n",
    "fig.update_xaxes(tickangle=45)\n",
    "fig.update_traces(hovertemplate = 'День : %{x} <br>Количество: %{y}')\n",
    "\n",
    "fig.show()"
   ]
  },
  {
   "cell_type": "markdown",
   "metadata": {},
   "source": [
    "Выводы:\n",
    "\n",
    "- Количество событий увеличивается с начала наблюдений, достигая своего максимума 21 декабря, затем частота уменьшается до конца декабря;\n",
    "- Также видим два пика активности 14 и 21 декабря."
   ]
  },
  {
   "cell_type": "markdown",
   "metadata": {},
   "source": [
    "Изучим распределение количества событий пользователей по дням по группам"
   ]
  },
  {
   "cell_type": "markdown",
   "metadata": {},
   "source": [
    "Сгруппируем события по дням и по группам и построим столбчатую диаграмму:"
   ]
  },
  {
   "cell_type": "code",
   "execution_count": 69,
   "metadata": {},
   "outputs": [],
   "source": [
    "events_count_by_group = rec_events.groupby(['day_of_december','group'])['event_name'].count().reset_index().rename(columns={'day_event_dt': 'day', 'event_name': 'count'})"
   ]
  },
  {
   "cell_type": "code",
   "execution_count": 70,
   "metadata": {},
   "outputs": [
    {
     "data": {
      "application/vnd.plotly.v1+json": {
       "config": {
        "plotlyServerURL": "https://plot.ly"
       },
       "data": [
        {
         "alignmentgroup": "True",
         "hovertemplate": "День : %{x} <br>Количество: %{y}",
         "legendgroup": "A",
         "marker": {
          "color": "#F8766D",
          "pattern": {
           "shape": ""
          }
         },
         "name": "A",
         "offsetgroup": "A",
         "orientation": "v",
         "showlegend": true,
         "textposition": "auto",
         "type": "bar",
         "x": [
          "07",
          "08",
          "09",
          "10",
          "11",
          "12",
          "13",
          "14",
          "15",
          "16",
          "17",
          "18",
          "19",
          "20",
          "21",
          "22",
          "23",
          "24",
          "25",
          "26",
          "27",
          "28",
          "29"
         ],
         "xaxis": "x",
         "y": [
          331,
          341,
          385,
          350,
          374,
          355,
          328,
          1083,
          1084,
          1069,
          1252,
          1312,
          1506,
          1528,
          1995,
          1278,
          988,
          836,
          630,
          569,
          527,
          399,
          281
         ],
         "yaxis": "y"
        },
        {
         "alignmentgroup": "True",
         "hovertemplate": "День : %{x} <br>Количество: %{y}",
         "legendgroup": "B",
         "marker": {
          "color": "#A3A500",
          "pattern": {
           "shape": ""
          }
         },
         "name": "B",
         "offsetgroup": "B",
         "orientation": "v",
         "showlegend": true,
         "textposition": "auto",
         "type": "bar",
         "x": [
          "07",
          "08",
          "09",
          "10",
          "11",
          "12",
          "13",
          "14",
          "15",
          "16",
          "17",
          "18",
          "19",
          "20",
          "21",
          "22",
          "23",
          "24",
          "25",
          "26",
          "27",
          "28",
          "29"
         ],
         "xaxis": "x",
         "y": [
          378,
          252,
          361,
          263,
          168,
          203,
          176,
          272,
          232,
          385,
          296,
          272,
          304,
          320,
          404,
          179,
          151,
          124,
          75,
          66,
          70,
          64,
          40
         ],
         "yaxis": "y"
        }
       ],
       "layout": {
        "barmode": "group",
        "legend": {
         "title": {
          "text": "group"
         },
         "tracegroupgap": 0
        },
        "template": {
         "data": {
          "bar": [
           {
            "error_x": {
             "color": "rgb(51,51,51)"
            },
            "error_y": {
             "color": "rgb(51,51,51)"
            },
            "marker": {
             "line": {
              "color": "rgb(237,237,237)",
              "width": 0.5
             },
             "pattern": {
              "fillmode": "overlay",
              "size": 10,
              "solidity": 0.2
             }
            },
            "type": "bar"
           }
          ],
          "barpolar": [
           {
            "marker": {
             "line": {
              "color": "rgb(237,237,237)",
              "width": 0.5
             },
             "pattern": {
              "fillmode": "overlay",
              "size": 10,
              "solidity": 0.2
             }
            },
            "type": "barpolar"
           }
          ],
          "carpet": [
           {
            "aaxis": {
             "endlinecolor": "rgb(51,51,51)",
             "gridcolor": "white",
             "linecolor": "white",
             "minorgridcolor": "white",
             "startlinecolor": "rgb(51,51,51)"
            },
            "baxis": {
             "endlinecolor": "rgb(51,51,51)",
             "gridcolor": "white",
             "linecolor": "white",
             "minorgridcolor": "white",
             "startlinecolor": "rgb(51,51,51)"
            },
            "type": "carpet"
           }
          ],
          "choropleth": [
           {
            "colorbar": {
             "outlinewidth": 0,
             "tickcolor": "rgb(237,237,237)",
             "ticklen": 6,
             "ticks": "inside"
            },
            "type": "choropleth"
           }
          ],
          "contour": [
           {
            "colorbar": {
             "outlinewidth": 0,
             "tickcolor": "rgb(237,237,237)",
             "ticklen": 6,
             "ticks": "inside"
            },
            "colorscale": [
             [
              0,
              "rgb(20,44,66)"
             ],
             [
              1,
              "rgb(90,179,244)"
             ]
            ],
            "type": "contour"
           }
          ],
          "contourcarpet": [
           {
            "colorbar": {
             "outlinewidth": 0,
             "tickcolor": "rgb(237,237,237)",
             "ticklen": 6,
             "ticks": "inside"
            },
            "type": "contourcarpet"
           }
          ],
          "heatmap": [
           {
            "colorbar": {
             "outlinewidth": 0,
             "tickcolor": "rgb(237,237,237)",
             "ticklen": 6,
             "ticks": "inside"
            },
            "colorscale": [
             [
              0,
              "rgb(20,44,66)"
             ],
             [
              1,
              "rgb(90,179,244)"
             ]
            ],
            "type": "heatmap"
           }
          ],
          "heatmapgl": [
           {
            "colorbar": {
             "outlinewidth": 0,
             "tickcolor": "rgb(237,237,237)",
             "ticklen": 6,
             "ticks": "inside"
            },
            "colorscale": [
             [
              0,
              "rgb(20,44,66)"
             ],
             [
              1,
              "rgb(90,179,244)"
             ]
            ],
            "type": "heatmapgl"
           }
          ],
          "histogram": [
           {
            "marker": {
             "pattern": {
              "fillmode": "overlay",
              "size": 10,
              "solidity": 0.2
             }
            },
            "type": "histogram"
           }
          ],
          "histogram2d": [
           {
            "colorbar": {
             "outlinewidth": 0,
             "tickcolor": "rgb(237,237,237)",
             "ticklen": 6,
             "ticks": "inside"
            },
            "colorscale": [
             [
              0,
              "rgb(20,44,66)"
             ],
             [
              1,
              "rgb(90,179,244)"
             ]
            ],
            "type": "histogram2d"
           }
          ],
          "histogram2dcontour": [
           {
            "colorbar": {
             "outlinewidth": 0,
             "tickcolor": "rgb(237,237,237)",
             "ticklen": 6,
             "ticks": "inside"
            },
            "colorscale": [
             [
              0,
              "rgb(20,44,66)"
             ],
             [
              1,
              "rgb(90,179,244)"
             ]
            ],
            "type": "histogram2dcontour"
           }
          ],
          "mesh3d": [
           {
            "colorbar": {
             "outlinewidth": 0,
             "tickcolor": "rgb(237,237,237)",
             "ticklen": 6,
             "ticks": "inside"
            },
            "type": "mesh3d"
           }
          ],
          "parcoords": [
           {
            "line": {
             "colorbar": {
              "outlinewidth": 0,
              "tickcolor": "rgb(237,237,237)",
              "ticklen": 6,
              "ticks": "inside"
             }
            },
            "type": "parcoords"
           }
          ],
          "pie": [
           {
            "automargin": true,
            "type": "pie"
           }
          ],
          "scatter": [
           {
            "fillpattern": {
             "fillmode": "overlay",
             "size": 10,
             "solidity": 0.2
            },
            "type": "scatter"
           }
          ],
          "scatter3d": [
           {
            "line": {
             "colorbar": {
              "outlinewidth": 0,
              "tickcolor": "rgb(237,237,237)",
              "ticklen": 6,
              "ticks": "inside"
             }
            },
            "marker": {
             "colorbar": {
              "outlinewidth": 0,
              "tickcolor": "rgb(237,237,237)",
              "ticklen": 6,
              "ticks": "inside"
             }
            },
            "type": "scatter3d"
           }
          ],
          "scattercarpet": [
           {
            "marker": {
             "colorbar": {
              "outlinewidth": 0,
              "tickcolor": "rgb(237,237,237)",
              "ticklen": 6,
              "ticks": "inside"
             }
            },
            "type": "scattercarpet"
           }
          ],
          "scattergeo": [
           {
            "marker": {
             "colorbar": {
              "outlinewidth": 0,
              "tickcolor": "rgb(237,237,237)",
              "ticklen": 6,
              "ticks": "inside"
             }
            },
            "type": "scattergeo"
           }
          ],
          "scattergl": [
           {
            "marker": {
             "colorbar": {
              "outlinewidth": 0,
              "tickcolor": "rgb(237,237,237)",
              "ticklen": 6,
              "ticks": "inside"
             }
            },
            "type": "scattergl"
           }
          ],
          "scattermapbox": [
           {
            "marker": {
             "colorbar": {
              "outlinewidth": 0,
              "tickcolor": "rgb(237,237,237)",
              "ticklen": 6,
              "ticks": "inside"
             }
            },
            "type": "scattermapbox"
           }
          ],
          "scatterpolar": [
           {
            "marker": {
             "colorbar": {
              "outlinewidth": 0,
              "tickcolor": "rgb(237,237,237)",
              "ticklen": 6,
              "ticks": "inside"
             }
            },
            "type": "scatterpolar"
           }
          ],
          "scatterpolargl": [
           {
            "marker": {
             "colorbar": {
              "outlinewidth": 0,
              "tickcolor": "rgb(237,237,237)",
              "ticklen": 6,
              "ticks": "inside"
             }
            },
            "type": "scatterpolargl"
           }
          ],
          "scatterternary": [
           {
            "marker": {
             "colorbar": {
              "outlinewidth": 0,
              "tickcolor": "rgb(237,237,237)",
              "ticklen": 6,
              "ticks": "inside"
             }
            },
            "type": "scatterternary"
           }
          ],
          "surface": [
           {
            "colorbar": {
             "outlinewidth": 0,
             "tickcolor": "rgb(237,237,237)",
             "ticklen": 6,
             "ticks": "inside"
            },
            "colorscale": [
             [
              0,
              "rgb(20,44,66)"
             ],
             [
              1,
              "rgb(90,179,244)"
             ]
            ],
            "type": "surface"
           }
          ],
          "table": [
           {
            "cells": {
             "fill": {
              "color": "rgb(237,237,237)"
             },
             "line": {
              "color": "white"
             }
            },
            "header": {
             "fill": {
              "color": "rgb(217,217,217)"
             },
             "line": {
              "color": "white"
             }
            },
            "type": "table"
           }
          ]
         },
         "layout": {
          "annotationdefaults": {
           "arrowhead": 0,
           "arrowwidth": 1
          },
          "autotypenumbers": "strict",
          "coloraxis": {
           "colorbar": {
            "outlinewidth": 0,
            "tickcolor": "rgb(237,237,237)",
            "ticklen": 6,
            "ticks": "inside"
           }
          },
          "colorscale": {
           "sequential": [
            [
             0,
             "rgb(20,44,66)"
            ],
            [
             1,
             "rgb(90,179,244)"
            ]
           ],
           "sequentialminus": [
            [
             0,
             "rgb(20,44,66)"
            ],
            [
             1,
             "rgb(90,179,244)"
            ]
           ]
          },
          "colorway": [
           "#F8766D",
           "#A3A500",
           "#00BF7D",
           "#00B0F6",
           "#E76BF3"
          ],
          "font": {
           "color": "rgb(51,51,51)"
          },
          "geo": {
           "bgcolor": "white",
           "lakecolor": "white",
           "landcolor": "rgb(237,237,237)",
           "showlakes": true,
           "showland": true,
           "subunitcolor": "white"
          },
          "hoverlabel": {
           "align": "left"
          },
          "hovermode": "closest",
          "paper_bgcolor": "white",
          "plot_bgcolor": "rgb(237,237,237)",
          "polar": {
           "angularaxis": {
            "gridcolor": "white",
            "linecolor": "white",
            "showgrid": true,
            "tickcolor": "rgb(51,51,51)",
            "ticks": "outside"
           },
           "bgcolor": "rgb(237,237,237)",
           "radialaxis": {
            "gridcolor": "white",
            "linecolor": "white",
            "showgrid": true,
            "tickcolor": "rgb(51,51,51)",
            "ticks": "outside"
           }
          },
          "scene": {
           "xaxis": {
            "backgroundcolor": "rgb(237,237,237)",
            "gridcolor": "white",
            "gridwidth": 2,
            "linecolor": "white",
            "showbackground": true,
            "showgrid": true,
            "tickcolor": "rgb(51,51,51)",
            "ticks": "outside",
            "zerolinecolor": "white"
           },
           "yaxis": {
            "backgroundcolor": "rgb(237,237,237)",
            "gridcolor": "white",
            "gridwidth": 2,
            "linecolor": "white",
            "showbackground": true,
            "showgrid": true,
            "tickcolor": "rgb(51,51,51)",
            "ticks": "outside",
            "zerolinecolor": "white"
           },
           "zaxis": {
            "backgroundcolor": "rgb(237,237,237)",
            "gridcolor": "white",
            "gridwidth": 2,
            "linecolor": "white",
            "showbackground": true,
            "showgrid": true,
            "tickcolor": "rgb(51,51,51)",
            "ticks": "outside",
            "zerolinecolor": "white"
           }
          },
          "shapedefaults": {
           "fillcolor": "black",
           "line": {
            "width": 0
           },
           "opacity": 0.3
          },
          "ternary": {
           "aaxis": {
            "gridcolor": "white",
            "linecolor": "white",
            "showgrid": true,
            "tickcolor": "rgb(51,51,51)",
            "ticks": "outside"
           },
           "baxis": {
            "gridcolor": "white",
            "linecolor": "white",
            "showgrid": true,
            "tickcolor": "rgb(51,51,51)",
            "ticks": "outside"
           },
           "bgcolor": "rgb(237,237,237)",
           "caxis": {
            "gridcolor": "white",
            "linecolor": "white",
            "showgrid": true,
            "tickcolor": "rgb(51,51,51)",
            "ticks": "outside"
           }
          },
          "xaxis": {
           "automargin": true,
           "gridcolor": "white",
           "linecolor": "white",
           "showgrid": true,
           "tickcolor": "rgb(51,51,51)",
           "ticks": "outside",
           "title": {
            "standoff": 15
           },
           "zerolinecolor": "white"
          },
          "yaxis": {
           "automargin": true,
           "gridcolor": "white",
           "linecolor": "white",
           "showgrid": true,
           "tickcolor": "rgb(51,51,51)",
           "ticks": "outside",
           "title": {
            "standoff": 15
           },
           "zerolinecolor": "white"
          }
         }
        },
        "title": {
         "text": "Количество действий пользователей по группам"
        },
        "xaxis": {
         "anchor": "y",
         "domain": [
          0,
          1
         ],
         "tickangle": 45,
         "title": {
          "text": "Дата"
         }
        },
        "yaxis": {
         "anchor": "x",
         "domain": [
          0,
          1
         ],
         "title": {
          "text": "Количество действий"
         }
        }
       }
      },
      "text/html": [
       "<div>                            <div id=\"e3bac1f6-2805-4cd6-bb69-628eed5549a2\" class=\"plotly-graph-div\" style=\"height:525px; width:100%;\"></div>            <script type=\"text/javascript\">                require([\"plotly\"], function(Plotly) {                    window.PLOTLYENV=window.PLOTLYENV || {};                                    if (document.getElementById(\"e3bac1f6-2805-4cd6-bb69-628eed5549a2\")) {                    Plotly.newPlot(                        \"e3bac1f6-2805-4cd6-bb69-628eed5549a2\",                        [{\"alignmentgroup\":\"True\",\"hovertemplate\":\"\\u0414\\u0435\\u043d\\u044c : %{x} <br>\\u041a\\u043e\\u043b\\u0438\\u0447\\u0435\\u0441\\u0442\\u0432\\u043e: %{y}\",\"legendgroup\":\"A\",\"marker\":{\"color\":\"#F8766D\",\"pattern\":{\"shape\":\"\"}},\"name\":\"A\",\"offsetgroup\":\"A\",\"orientation\":\"v\",\"showlegend\":true,\"textposition\":\"auto\",\"x\":[\"07\",\"08\",\"09\",\"10\",\"11\",\"12\",\"13\",\"14\",\"15\",\"16\",\"17\",\"18\",\"19\",\"20\",\"21\",\"22\",\"23\",\"24\",\"25\",\"26\",\"27\",\"28\",\"29\"],\"xaxis\":\"x\",\"y\":[331,341,385,350,374,355,328,1083,1084,1069,1252,1312,1506,1528,1995,1278,988,836,630,569,527,399,281],\"yaxis\":\"y\",\"type\":\"bar\"},{\"alignmentgroup\":\"True\",\"hovertemplate\":\"\\u0414\\u0435\\u043d\\u044c : %{x} <br>\\u041a\\u043e\\u043b\\u0438\\u0447\\u0435\\u0441\\u0442\\u0432\\u043e: %{y}\",\"legendgroup\":\"B\",\"marker\":{\"color\":\"#A3A500\",\"pattern\":{\"shape\":\"\"}},\"name\":\"B\",\"offsetgroup\":\"B\",\"orientation\":\"v\",\"showlegend\":true,\"textposition\":\"auto\",\"x\":[\"07\",\"08\",\"09\",\"10\",\"11\",\"12\",\"13\",\"14\",\"15\",\"16\",\"17\",\"18\",\"19\",\"20\",\"21\",\"22\",\"23\",\"24\",\"25\",\"26\",\"27\",\"28\",\"29\"],\"xaxis\":\"x\",\"y\":[378,252,361,263,168,203,176,272,232,385,296,272,304,320,404,179,151,124,75,66,70,64,40],\"yaxis\":\"y\",\"type\":\"bar\"}],                        {\"template\":{\"data\":{\"barpolar\":[{\"marker\":{\"line\":{\"color\":\"rgb(237,237,237)\",\"width\":0.5},\"pattern\":{\"fillmode\":\"overlay\",\"size\":10,\"solidity\":0.2}},\"type\":\"barpolar\"}],\"bar\":[{\"error_x\":{\"color\":\"rgb(51,51,51)\"},\"error_y\":{\"color\":\"rgb(51,51,51)\"},\"marker\":{\"line\":{\"color\":\"rgb(237,237,237)\",\"width\":0.5},\"pattern\":{\"fillmode\":\"overlay\",\"size\":10,\"solidity\":0.2}},\"type\":\"bar\"}],\"carpet\":[{\"aaxis\":{\"endlinecolor\":\"rgb(51,51,51)\",\"gridcolor\":\"white\",\"linecolor\":\"white\",\"minorgridcolor\":\"white\",\"startlinecolor\":\"rgb(51,51,51)\"},\"baxis\":{\"endlinecolor\":\"rgb(51,51,51)\",\"gridcolor\":\"white\",\"linecolor\":\"white\",\"minorgridcolor\":\"white\",\"startlinecolor\":\"rgb(51,51,51)\"},\"type\":\"carpet\"}],\"choropleth\":[{\"colorbar\":{\"outlinewidth\":0,\"tickcolor\":\"rgb(237,237,237)\",\"ticklen\":6,\"ticks\":\"inside\"},\"type\":\"choropleth\"}],\"contourcarpet\":[{\"colorbar\":{\"outlinewidth\":0,\"tickcolor\":\"rgb(237,237,237)\",\"ticklen\":6,\"ticks\":\"inside\"},\"type\":\"contourcarpet\"}],\"contour\":[{\"colorbar\":{\"outlinewidth\":0,\"tickcolor\":\"rgb(237,237,237)\",\"ticklen\":6,\"ticks\":\"inside\"},\"colorscale\":[[0,\"rgb(20,44,66)\"],[1,\"rgb(90,179,244)\"]],\"type\":\"contour\"}],\"heatmapgl\":[{\"colorbar\":{\"outlinewidth\":0,\"tickcolor\":\"rgb(237,237,237)\",\"ticklen\":6,\"ticks\":\"inside\"},\"colorscale\":[[0,\"rgb(20,44,66)\"],[1,\"rgb(90,179,244)\"]],\"type\":\"heatmapgl\"}],\"heatmap\":[{\"colorbar\":{\"outlinewidth\":0,\"tickcolor\":\"rgb(237,237,237)\",\"ticklen\":6,\"ticks\":\"inside\"},\"colorscale\":[[0,\"rgb(20,44,66)\"],[1,\"rgb(90,179,244)\"]],\"type\":\"heatmap\"}],\"histogram2dcontour\":[{\"colorbar\":{\"outlinewidth\":0,\"tickcolor\":\"rgb(237,237,237)\",\"ticklen\":6,\"ticks\":\"inside\"},\"colorscale\":[[0,\"rgb(20,44,66)\"],[1,\"rgb(90,179,244)\"]],\"type\":\"histogram2dcontour\"}],\"histogram2d\":[{\"colorbar\":{\"outlinewidth\":0,\"tickcolor\":\"rgb(237,237,237)\",\"ticklen\":6,\"ticks\":\"inside\"},\"colorscale\":[[0,\"rgb(20,44,66)\"],[1,\"rgb(90,179,244)\"]],\"type\":\"histogram2d\"}],\"histogram\":[{\"marker\":{\"pattern\":{\"fillmode\":\"overlay\",\"size\":10,\"solidity\":0.2}},\"type\":\"histogram\"}],\"mesh3d\":[{\"colorbar\":{\"outlinewidth\":0,\"tickcolor\":\"rgb(237,237,237)\",\"ticklen\":6,\"ticks\":\"inside\"},\"type\":\"mesh3d\"}],\"parcoords\":[{\"line\":{\"colorbar\":{\"outlinewidth\":0,\"tickcolor\":\"rgb(237,237,237)\",\"ticklen\":6,\"ticks\":\"inside\"}},\"type\":\"parcoords\"}],\"pie\":[{\"automargin\":true,\"type\":\"pie\"}],\"scatter3d\":[{\"line\":{\"colorbar\":{\"outlinewidth\":0,\"tickcolor\":\"rgb(237,237,237)\",\"ticklen\":6,\"ticks\":\"inside\"}},\"marker\":{\"colorbar\":{\"outlinewidth\":0,\"tickcolor\":\"rgb(237,237,237)\",\"ticklen\":6,\"ticks\":\"inside\"}},\"type\":\"scatter3d\"}],\"scattercarpet\":[{\"marker\":{\"colorbar\":{\"outlinewidth\":0,\"tickcolor\":\"rgb(237,237,237)\",\"ticklen\":6,\"ticks\":\"inside\"}},\"type\":\"scattercarpet\"}],\"scattergeo\":[{\"marker\":{\"colorbar\":{\"outlinewidth\":0,\"tickcolor\":\"rgb(237,237,237)\",\"ticklen\":6,\"ticks\":\"inside\"}},\"type\":\"scattergeo\"}],\"scattergl\":[{\"marker\":{\"colorbar\":{\"outlinewidth\":0,\"tickcolor\":\"rgb(237,237,237)\",\"ticklen\":6,\"ticks\":\"inside\"}},\"type\":\"scattergl\"}],\"scattermapbox\":[{\"marker\":{\"colorbar\":{\"outlinewidth\":0,\"tickcolor\":\"rgb(237,237,237)\",\"ticklen\":6,\"ticks\":\"inside\"}},\"type\":\"scattermapbox\"}],\"scatterpolargl\":[{\"marker\":{\"colorbar\":{\"outlinewidth\":0,\"tickcolor\":\"rgb(237,237,237)\",\"ticklen\":6,\"ticks\":\"inside\"}},\"type\":\"scatterpolargl\"}],\"scatterpolar\":[{\"marker\":{\"colorbar\":{\"outlinewidth\":0,\"tickcolor\":\"rgb(237,237,237)\",\"ticklen\":6,\"ticks\":\"inside\"}},\"type\":\"scatterpolar\"}],\"scatter\":[{\"fillpattern\":{\"fillmode\":\"overlay\",\"size\":10,\"solidity\":0.2},\"type\":\"scatter\"}],\"scatterternary\":[{\"marker\":{\"colorbar\":{\"outlinewidth\":0,\"tickcolor\":\"rgb(237,237,237)\",\"ticklen\":6,\"ticks\":\"inside\"}},\"type\":\"scatterternary\"}],\"surface\":[{\"colorbar\":{\"outlinewidth\":0,\"tickcolor\":\"rgb(237,237,237)\",\"ticklen\":6,\"ticks\":\"inside\"},\"colorscale\":[[0,\"rgb(20,44,66)\"],[1,\"rgb(90,179,244)\"]],\"type\":\"surface\"}],\"table\":[{\"cells\":{\"fill\":{\"color\":\"rgb(237,237,237)\"},\"line\":{\"color\":\"white\"}},\"header\":{\"fill\":{\"color\":\"rgb(217,217,217)\"},\"line\":{\"color\":\"white\"}},\"type\":\"table\"}]},\"layout\":{\"annotationdefaults\":{\"arrowhead\":0,\"arrowwidth\":1},\"autotypenumbers\":\"strict\",\"coloraxis\":{\"colorbar\":{\"outlinewidth\":0,\"tickcolor\":\"rgb(237,237,237)\",\"ticklen\":6,\"ticks\":\"inside\"}},\"colorscale\":{\"sequential\":[[0,\"rgb(20,44,66)\"],[1,\"rgb(90,179,244)\"]],\"sequentialminus\":[[0,\"rgb(20,44,66)\"],[1,\"rgb(90,179,244)\"]]},\"colorway\":[\"#F8766D\",\"#A3A500\",\"#00BF7D\",\"#00B0F6\",\"#E76BF3\"],\"font\":{\"color\":\"rgb(51,51,51)\"},\"geo\":{\"bgcolor\":\"white\",\"lakecolor\":\"white\",\"landcolor\":\"rgb(237,237,237)\",\"showlakes\":true,\"showland\":true,\"subunitcolor\":\"white\"},\"hoverlabel\":{\"align\":\"left\"},\"hovermode\":\"closest\",\"paper_bgcolor\":\"white\",\"plot_bgcolor\":\"rgb(237,237,237)\",\"polar\":{\"angularaxis\":{\"gridcolor\":\"white\",\"linecolor\":\"white\",\"showgrid\":true,\"tickcolor\":\"rgb(51,51,51)\",\"ticks\":\"outside\"},\"bgcolor\":\"rgb(237,237,237)\",\"radialaxis\":{\"gridcolor\":\"white\",\"linecolor\":\"white\",\"showgrid\":true,\"tickcolor\":\"rgb(51,51,51)\",\"ticks\":\"outside\"}},\"scene\":{\"xaxis\":{\"backgroundcolor\":\"rgb(237,237,237)\",\"gridcolor\":\"white\",\"gridwidth\":2,\"linecolor\":\"white\",\"showbackground\":true,\"showgrid\":true,\"tickcolor\":\"rgb(51,51,51)\",\"ticks\":\"outside\",\"zerolinecolor\":\"white\"},\"yaxis\":{\"backgroundcolor\":\"rgb(237,237,237)\",\"gridcolor\":\"white\",\"gridwidth\":2,\"linecolor\":\"white\",\"showbackground\":true,\"showgrid\":true,\"tickcolor\":\"rgb(51,51,51)\",\"ticks\":\"outside\",\"zerolinecolor\":\"white\"},\"zaxis\":{\"backgroundcolor\":\"rgb(237,237,237)\",\"gridcolor\":\"white\",\"gridwidth\":2,\"linecolor\":\"white\",\"showbackground\":true,\"showgrid\":true,\"tickcolor\":\"rgb(51,51,51)\",\"ticks\":\"outside\",\"zerolinecolor\":\"white\"}},\"shapedefaults\":{\"fillcolor\":\"black\",\"line\":{\"width\":0},\"opacity\":0.3},\"ternary\":{\"aaxis\":{\"gridcolor\":\"white\",\"linecolor\":\"white\",\"showgrid\":true,\"tickcolor\":\"rgb(51,51,51)\",\"ticks\":\"outside\"},\"baxis\":{\"gridcolor\":\"white\",\"linecolor\":\"white\",\"showgrid\":true,\"tickcolor\":\"rgb(51,51,51)\",\"ticks\":\"outside\"},\"bgcolor\":\"rgb(237,237,237)\",\"caxis\":{\"gridcolor\":\"white\",\"linecolor\":\"white\",\"showgrid\":true,\"tickcolor\":\"rgb(51,51,51)\",\"ticks\":\"outside\"}},\"xaxis\":{\"automargin\":true,\"gridcolor\":\"white\",\"linecolor\":\"white\",\"showgrid\":true,\"tickcolor\":\"rgb(51,51,51)\",\"ticks\":\"outside\",\"title\":{\"standoff\":15},\"zerolinecolor\":\"white\"},\"yaxis\":{\"automargin\":true,\"gridcolor\":\"white\",\"linecolor\":\"white\",\"showgrid\":true,\"tickcolor\":\"rgb(51,51,51)\",\"ticks\":\"outside\",\"title\":{\"standoff\":15},\"zerolinecolor\":\"white\"}}},\"xaxis\":{\"anchor\":\"y\",\"domain\":[0.0,1.0],\"title\":{\"text\":\"\\u0414\\u0430\\u0442\\u0430\"},\"tickangle\":45},\"yaxis\":{\"anchor\":\"x\",\"domain\":[0.0,1.0],\"title\":{\"text\":\"\\u041a\\u043e\\u043b\\u0438\\u0447\\u0435\\u0441\\u0442\\u0432\\u043e \\u0434\\u0435\\u0439\\u0441\\u0442\\u0432\\u0438\\u0439\"}},\"legend\":{\"title\":{\"text\":\"group\"},\"tracegroupgap\":0},\"title\":{\"text\":\"\\u041a\\u043e\\u043b\\u0438\\u0447\\u0435\\u0441\\u0442\\u0432\\u043e \\u0434\\u0435\\u0439\\u0441\\u0442\\u0432\\u0438\\u0439 \\u043f\\u043e\\u043b\\u044c\\u0437\\u043e\\u0432\\u0430\\u0442\\u0435\\u043b\\u0435\\u0439 \\u043f\\u043e \\u0433\\u0440\\u0443\\u043f\\u043f\\u0430\\u043c\"},\"barmode\":\"group\"},                        {\"responsive\": true}                    ).then(function(){\n",
       "                            \n",
       "var gd = document.getElementById('e3bac1f6-2805-4cd6-bb69-628eed5549a2');\n",
       "var x = new MutationObserver(function (mutations, observer) {{\n",
       "        var display = window.getComputedStyle(gd).display;\n",
       "        if (!display || display === 'none') {{\n",
       "            console.log([gd, 'removed!']);\n",
       "            Plotly.purge(gd);\n",
       "            observer.disconnect();\n",
       "        }}\n",
       "}});\n",
       "\n",
       "// Listen for the removal of the full notebook cells\n",
       "var notebookContainer = gd.closest('#notebook-container');\n",
       "if (notebookContainer) {{\n",
       "    x.observe(notebookContainer, {childList: true});\n",
       "}}\n",
       "\n",
       "// Listen for the clearing of the current output cell\n",
       "var outputEl = gd.closest('.output');\n",
       "if (outputEl) {{\n",
       "    x.observe(outputEl, {childList: true});\n",
       "}}\n",
       "\n",
       "                        })                };                });            </script>        </div>"
      ]
     },
     "metadata": {},
     "output_type": "display_data"
    }
   ],
   "source": [
    "fig = px.bar(events_count_by_group, \n",
    "             y='count', \n",
    "             x= 'day_of_december', \n",
    "             title = 'Количество действий пользователей по группам', \n",
    "             template = 'ggplot2',\n",
    "             color = 'group', barmode='group'\n",
    "             )\n",
    "fig.update_layout(yaxis_title = 'Количество действий',\n",
    "                 xaxis_title = 'Дата'\n",
    "                 )\n",
    "fig.update_xaxes(tickangle=45)\n",
    "fig.update_traces(hovertemplate = 'День : %{x} <br>Количество: %{y}')\n",
    "\n",
    "fig.show()"
   ]
  },
  {
   "cell_type": "markdown",
   "metadata": {},
   "source": [
    "Выводы:\n",
    "\n",
    "- График событий участников теста из группы А практически повторяет график для всех пользователей;\n",
    "- Активность участников группы В в начале тестирования мало отличались от активности группы А, но 14 числа активность участников группы А резко выросла и продолжила расти  до 21 числа, а активность участников группы В осталась на прежнем уровне;\n",
    "- После 21 числа активность пошла на спад, как для участников группы А, так и для участников группы В."
   ]
  },
  {
   "cell_type": "markdown",
   "metadata": {},
   "source": [
    "Коэффициент удержания"
   ]
  },
  {
   "cell_type": "code",
   "execution_count": 71,
   "metadata": {},
   "outputs": [
    {
     "data": {
      "image/png": "[encoded data removed]",
      "text/plain": [
       "<Figure size 800x600 with 2 Axes>"
      ]
     },
     "metadata": {},
     "output_type": "display_data"
    }
   ],
   "source": [
    "plt.figure(figsize=(8, 6))\n",
    "ax = sns.heatmap(\n",
    "    data=rec_events\n",
    "        .assign(first_date = lambda x: x['first_date'].dt.date)\n",
    "        .pivot_table(\n",
    "                index='first_date',\n",
    "                columns='lifetime',\n",
    "                values='user_id',\n",
    "                aggfunc='nunique')\n",
    "        .apply(lambda x: x / x[0], axis=1)\n",
    ")\n",
    "ax.set(\n",
    "    title='Коэффициент удержания',\n",
    "    ylabel='Дата регистрации',\n",
    "    xlabel='Лайфтайм'\n",
    ")\n",
    "plt.show()"
   ]
  },
  {
   "cell_type": "markdown",
   "metadata": {},
   "source": [
    "Выводы:\n",
    "\n",
    "- В первые три дня 40% пользователей возвращаются в сервис;\n",
    "- Затем до первой недели эта метрика держится выше 20%."
   ]
  },
  {
   "cell_type": "markdown",
   "metadata": {},
   "source": [
    "**Динамика событий и регистраций новых пользователей**"
   ]
  },
  {
   "cell_type": "markdown",
   "metadata": {},
   "source": [
    "Готовим данные для графика:"
   ]
  },
  {
   "cell_type": "markdown",
   "metadata": {},
   "source": [
    "Пользователи:"
   ]
  },
  {
   "cell_type": "code",
   "execution_count": 72,
   "metadata": {},
   "outputs": [],
   "source": [
    "users_temp = (\n",
    "    rec_users\n",
    "         .assign(first_date_dec = lambda x: x['first_date'].dt.strftime('%d'))\n",
    "         .groupby(['first_date_dec', 'group'], as_index=False)\n",
    "         .agg(users_cnt = ('user_id', 'nunique'))\n",
    ")"
   ]
  },
  {
   "cell_type": "markdown",
   "metadata": {},
   "source": [
    "События:"
   ]
  },
  {
   "cell_type": "code",
   "execution_count": 73,
   "metadata": {},
   "outputs": [],
   "source": [
    "events_temp = (rec_events\n",
    "                 .assign(event_date_dec = lambda x: x['event_dt'].dt.strftime('%d'))\n",
    "                 .groupby(['event_date_dec', 'group'], as_index=False)\n",
    "                 .agg(events_cnt = ('event_dt', 'count')))"
   ]
  },
  {
   "cell_type": "code",
   "execution_count": 74,
   "metadata": {},
   "outputs": [
    {
     "data": {
      "image/png": "[encoded data removed]",
      "text/plain": [
       "<Figure size 1400x600 with 2 Axes>"
      ]
     },
     "metadata": {},
     "output_type": "display_data"
    }
   ],
   "source": [
    "fig, ax1 = plt.subplots(1, 1, figsize=(14, 6))\n",
    "\n",
    "sns.lineplot(\n",
    "    data=rec_users\n",
    "         .assign(first_date_dec = lambda x: x['first_date'].dt.strftime('%d'))\n",
    "         .groupby(['first_date_dec'], as_index=False)\n",
    "         .agg(users_cnt = ('user_id', 'nunique')),\n",
    "    x='first_date_dec',\n",
    "    y='users_cnt',\n",
    "    marker='o',\n",
    "    label=f'Количество зарегистрованных пользователей',\n",
    "    ax=ax1,\n",
    "    color='#2677bb'\n",
    ")\n",
    "ax1.set(\n",
    "    title='Динамика событий и регистрации новых пользователей',\n",
    "    ylabel='Количество пользователей',\n",
    "    xlabel='Декабрь'\n",
    ")\n",
    "ax1.legend(loc='upper right', bbox_to_anchor=(1, 0.95))\n",
    "\n",
    "ax2 = ax1.twinx()\n",
    "\n",
    "sns.lineplot(\n",
    "    data=rec_events\n",
    "                 .assign(event_date_dec = lambda x: x['event_dt'].dt.strftime('%d'))\n",
    "                 .groupby(['event_date_dec'], as_index=False)\n",
    "                 .agg(events_cnt = ('event_dt', 'count')),\n",
    "    x='event_date_dec',\n",
    "    y='events_cnt',\n",
    "    marker='o',\n",
    "    ax=ax2,\n",
    "    color='#f67944',\n",
    "    label='Среднее количество событий'\n",
    ")\n",
    "ax2.set(ylabel='Количество событий')\n",
    "ax2.legend(loc='upper right', bbox_to_anchor=(1, 0.83))\n",
    "plt.grid()\n",
    "plt.show()"
   ]
  },
  {
   "cell_type": "markdown",
   "metadata": {},
   "source": [
    "Выводы:\n",
    "\n",
    "- так как 40% пользователей активно пользуются продуктом в первые три дня после регистрации, поэтому мы видим отложенный рост в количестве событий после такого же роста, только в наборе новых пользователей. Яркий пример этому - резкие скачки в наборе пользователей 11-12 декабря и количестве событий 13-14 декабря;\n",
    "- Также после резкого падения набора новых пользователей мы не видим такого же падения в активности, так как в дело вступает накопительная активность пользователей зарегистрированных в последние 2-3 дня;\n",
    "- После остановки регистрации новых участников теста число событий уменьшилось примерно в 10 раз за 8 дней."
   ]
  },
  {
   "cell_type": "markdown",
   "metadata": {},
   "source": [
    "**Анализ конверсии**"
   ]
  },
  {
   "cell_type": "markdown",
   "metadata": {},
   "source": [
    "Последовательность в воронке можно выстроить так:\n",
    "\n",
    "- login - вход в систему;\n",
    "- product_page - просмотр товара;\n",
    "- product_cart - просмотр корзины;\n",
    "- purchase - покупка."
   ]
  },
  {
   "cell_type": "code",
   "execution_count": 75,
   "metadata": {},
   "outputs": [],
   "source": [
    "funnel_data = rec_events.pivot_table(\n",
    "    index='event_name',\n",
    "    columns='group',\n",
    "    values='user_id',\n",
    "    aggfunc='nunique'\n",
    ").loc[['login', 'product_page', 'product_cart', 'purchase']]\\\n",
    " .reset_index()"
   ]
  },
  {
   "cell_type": "code",
   "execution_count": 76,
   "metadata": {},
   "outputs": [
    {
     "data": {
      "application/vnd.plotly.v1+json": {
       "config": {
        "plotlyServerURL": "https://plot.ly"
       },
       "data": [
        {
         "name": "A",
         "textinfo": "value+percent initial",
         "type": "funnel",
         "x": [
          2747,
          1780,
          824,
          872
         ],
         "y": [
          "login",
          "product_page",
          "product_cart",
          "purchase"
         ]
        },
        {
         "name": "B",
         "textinfo": "value+percent initial",
         "type": "funnel",
         "x": [
          927,
          523,
          255,
          256
         ],
         "y": [
          "login",
          "product_page",
          "product_cart",
          "purchase"
         ]
        }
       ],
       "layout": {
        "template": {
         "data": {
          "bar": [
           {
            "error_x": {
             "color": "#2a3f5f"
            },
            "error_y": {
             "color": "#2a3f5f"
            },
            "marker": {
             "line": {
              "color": "#E5ECF6",
              "width": 0.5
             },
             "pattern": {
              "fillmode": "overlay",
              "size": 10,
              "solidity": 0.2
             }
            },
            "type": "bar"
           }
          ],
          "barpolar": [
           {
            "marker": {
             "line": {
              "color": "#E5ECF6",
              "width": 0.5
             },
             "pattern": {
              "fillmode": "overlay",
              "size": 10,
              "solidity": 0.2
             }
            },
            "type": "barpolar"
           }
          ],
          "carpet": [
           {
            "aaxis": {
             "endlinecolor": "#2a3f5f",
             "gridcolor": "white",
             "linecolor": "white",
             "minorgridcolor": "white",
             "startlinecolor": "#2a3f5f"
            },
            "baxis": {
             "endlinecolor": "#2a3f5f",
             "gridcolor": "white",
             "linecolor": "white",
             "minorgridcolor": "white",
             "startlinecolor": "#2a3f5f"
            },
            "type": "carpet"
           }
          ],
          "choropleth": [
           {
            "colorbar": {
             "outlinewidth": 0,
             "ticks": ""
            },
            "type": "choropleth"
           }
          ],
          "contour": [
           {
            "colorbar": {
             "outlinewidth": 0,
             "ticks": ""
            },
            "colorscale": [
             [
              0,
              "#0d0887"
             ],
             [
              0.1111111111111111,
              "#46039f"
             ],
             [
              0.2222222222222222,
              "#7201a8"
             ],
             [
              0.3333333333333333,
              "#9c179e"
             ],
             [
              0.4444444444444444,
              "#bd3786"
             ],
             [
              0.5555555555555556,
              "#d8576b"
             ],
             [
              0.6666666666666666,
              "#ed7953"
             ],
             [
              0.7777777777777778,
              "#fb9f3a"
             ],
             [
              0.8888888888888888,
              "#fdca26"
             ],
             [
              1,
              "#f0f921"
             ]
            ],
            "type": "contour"
           }
          ],
          "contourcarpet": [
           {
            "colorbar": {
             "outlinewidth": 0,
             "ticks": ""
            },
            "type": "contourcarpet"
           }
          ],
          "heatmap": [
           {
            "colorbar": {
             "outlinewidth": 0,
             "ticks": ""
            },
            "colorscale": [
             [
              0,
              "#0d0887"
             ],
             [
              0.1111111111111111,
              "#46039f"
             ],
             [
              0.2222222222222222,
              "#7201a8"
             ],
             [
              0.3333333333333333,
              "#9c179e"
             ],
             [
              0.4444444444444444,
              "#bd3786"
             ],
             [
              0.5555555555555556,
              "#d8576b"
             ],
             [
              0.6666666666666666,
              "#ed7953"
             ],
             [
              0.7777777777777778,
              "#fb9f3a"
             ],
             [
              0.8888888888888888,
              "#fdca26"
             ],
             [
              1,
              "#f0f921"
             ]
            ],
            "type": "heatmap"
           }
          ],
          "heatmapgl": [
           {
            "colorbar": {
             "outlinewidth": 0,
             "ticks": ""
            },
            "colorscale": [
             [
              0,
              "#0d0887"
             ],
             [
              0.1111111111111111,
              "#46039f"
             ],
             [
              0.2222222222222222,
              "#7201a8"
             ],
             [
              0.3333333333333333,
              "#9c179e"
             ],
             [
              0.4444444444444444,
              "#bd3786"
             ],
             [
              0.5555555555555556,
              "#d8576b"
             ],
             [
              0.6666666666666666,
              "#ed7953"
             ],
             [
              0.7777777777777778,
              "#fb9f3a"
             ],
             [
              0.8888888888888888,
              "#fdca26"
             ],
             [
              1,
              "#f0f921"
             ]
            ],
            "type": "heatmapgl"
           }
          ],
          "histogram": [
           {
            "marker": {
             "pattern": {
              "fillmode": "overlay",
              "size": 10,
              "solidity": 0.2
             }
            },
            "type": "histogram"
           }
          ],
          "histogram2d": [
           {
            "colorbar": {
             "outlinewidth": 0,
             "ticks": ""
            },
            "colorscale": [
             [
              0,
              "#0d0887"
             ],
             [
              0.1111111111111111,
              "#46039f"
             ],
             [
              0.2222222222222222,
              "#7201a8"
             ],
             [
              0.3333333333333333,
              "#9c179e"
             ],
             [
              0.4444444444444444,
              "#bd3786"
             ],
             [
              0.5555555555555556,
              "#d8576b"
             ],
             [
              0.6666666666666666,
              "#ed7953"
             ],
             [
              0.7777777777777778,
              "#fb9f3a"
             ],
             [
              0.8888888888888888,
              "#fdca26"
             ],
             [
              1,
              "#f0f921"
             ]
            ],
            "type": "histogram2d"
           }
          ],
          "histogram2dcontour": [
           {
            "colorbar": {
             "outlinewidth": 0,
             "ticks": ""
            },
            "colorscale": [
             [
              0,
              "#0d0887"
             ],
             [
              0.1111111111111111,
              "#46039f"
             ],
             [
              0.2222222222222222,
              "#7201a8"
             ],
             [
              0.3333333333333333,
              "#9c179e"
             ],
             [
              0.4444444444444444,
              "#bd3786"
             ],
             [
              0.5555555555555556,
              "#d8576b"
             ],
             [
              0.6666666666666666,
              "#ed7953"
             ],
             [
              0.7777777777777778,
              "#fb9f3a"
             ],
             [
              0.8888888888888888,
              "#fdca26"
             ],
             [
              1,
              "#f0f921"
             ]
            ],
            "type": "histogram2dcontour"
           }
          ],
          "mesh3d": [
           {
            "colorbar": {
             "outlinewidth": 0,
             "ticks": ""
            },
            "type": "mesh3d"
           }
          ],
          "parcoords": [
           {
            "line": {
             "colorbar": {
              "outlinewidth": 0,
              "ticks": ""
             }
            },
            "type": "parcoords"
           }
          ],
          "pie": [
           {
            "automargin": true,
            "type": "pie"
           }
          ],
          "scatter": [
           {
            "fillpattern": {
             "fillmode": "overlay",
             "size": 10,
             "solidity": 0.2
            },
            "type": "scatter"
           }
          ],
          "scatter3d": [
           {
            "line": {
             "colorbar": {
              "outlinewidth": 0,
              "ticks": ""
             }
            },
            "marker": {
             "colorbar": {
              "outlinewidth": 0,
              "ticks": ""
             }
            },
            "type": "scatter3d"
           }
          ],
          "scattercarpet": [
           {
            "marker": {
             "colorbar": {
              "outlinewidth": 0,
              "ticks": ""
             }
            },
            "type": "scattercarpet"
           }
          ],
          "scattergeo": [
           {
            "marker": {
             "colorbar": {
              "outlinewidth": 0,
              "ticks": ""
             }
            },
            "type": "scattergeo"
           }
          ],
          "scattergl": [
           {
            "marker": {
             "colorbar": {
              "outlinewidth": 0,
              "ticks": ""
             }
            },
            "type": "scattergl"
           }
          ],
          "scattermapbox": [
           {
            "marker": {
             "colorbar": {
              "outlinewidth": 0,
              "ticks": ""
             }
            },
            "type": "scattermapbox"
           }
          ],
          "scatterpolar": [
           {
            "marker": {
             "colorbar": {
              "outlinewidth": 0,
              "ticks": ""
             }
            },
            "type": "scatterpolar"
           }
          ],
          "scatterpolargl": [
           {
            "marker": {
             "colorbar": {
              "outlinewidth": 0,
              "ticks": ""
             }
            },
            "type": "scatterpolargl"
           }
          ],
          "scatterternary": [
           {
            "marker": {
             "colorbar": {
              "outlinewidth": 0,
              "ticks": ""
             }
            },
            "type": "scatterternary"
           }
          ],
          "surface": [
           {
            "colorbar": {
             "outlinewidth": 0,
             "ticks": ""
            },
            "colorscale": [
             [
              0,
              "#0d0887"
             ],
             [
              0.1111111111111111,
              "#46039f"
             ],
             [
              0.2222222222222222,
              "#7201a8"
             ],
             [
              0.3333333333333333,
              "#9c179e"
             ],
             [
              0.4444444444444444,
              "#bd3786"
             ],
             [
              0.5555555555555556,
              "#d8576b"
             ],
             [
              0.6666666666666666,
              "#ed7953"
             ],
             [
              0.7777777777777778,
              "#fb9f3a"
             ],
             [
              0.8888888888888888,
              "#fdca26"
             ],
             [
              1,
              "#f0f921"
             ]
            ],
            "type": "surface"
           }
          ],
          "table": [
           {
            "cells": {
             "fill": {
              "color": "#EBF0F8"
             },
             "line": {
              "color": "white"
             }
            },
            "header": {
             "fill": {
              "color": "#C8D4E3"
             },
             "line": {
              "color": "white"
             }
            },
            "type": "table"
           }
          ]
         },
         "layout": {
          "annotationdefaults": {
           "arrowcolor": "#2a3f5f",
           "arrowhead": 0,
           "arrowwidth": 1
          },
          "autotypenumbers": "strict",
          "coloraxis": {
           "colorbar": {
            "outlinewidth": 0,
            "ticks": ""
           }
          },
          "colorscale": {
           "diverging": [
            [
             0,
             "#8e0152"
            ],
            [
             0.1,
             "#c51b7d"
            ],
            [
             0.2,
             "#de77ae"
            ],
            [
             0.3,
             "#f1b6da"
            ],
            [
             0.4,
             "#fde0ef"
            ],
            [
             0.5,
             "#f7f7f7"
            ],
            [
             0.6,
             "#e6f5d0"
            ],
            [
             0.7,
             "#b8e186"
            ],
            [
             0.8,
             "#7fbc41"
            ],
            [
             0.9,
             "#4d9221"
            ],
            [
             1,
             "#276419"
            ]
           ],
           "sequential": [
            [
             0,
             "#0d0887"
            ],
            [
             0.1111111111111111,
             "#46039f"
            ],
            [
             0.2222222222222222,
             "#7201a8"
            ],
            [
             0.3333333333333333,
             "#9c179e"
            ],
            [
             0.4444444444444444,
             "#bd3786"
            ],
            [
             0.5555555555555556,
             "#d8576b"
            ],
            [
             0.6666666666666666,
             "#ed7953"
            ],
            [
             0.7777777777777778,
             "#fb9f3a"
            ],
            [
             0.8888888888888888,
             "#fdca26"
            ],
            [
             1,
             "#f0f921"
            ]
           ],
           "sequentialminus": [
            [
             0,
             "#0d0887"
            ],
            [
             0.1111111111111111,
             "#46039f"
            ],
            [
             0.2222222222222222,
             "#7201a8"
            ],
            [
             0.3333333333333333,
             "#9c179e"
            ],
            [
             0.4444444444444444,
             "#bd3786"
            ],
            [
             0.5555555555555556,
             "#d8576b"
            ],
            [
             0.6666666666666666,
             "#ed7953"
            ],
            [
             0.7777777777777778,
             "#fb9f3a"
            ],
            [
             0.8888888888888888,
             "#fdca26"
            ],
            [
             1,
             "#f0f921"
            ]
           ]
          },
          "colorway": [
           "#636efa",
           "#EF553B",
           "#00cc96",
           "#ab63fa",
           "#FFA15A",
           "#19d3f3",
           "#FF6692",
           "#B6E880",
           "#FF97FF",
           "#FECB52"
          ],
          "font": {
           "color": "#2a3f5f"
          },
          "geo": {
           "bgcolor": "white",
           "lakecolor": "white",
           "landcolor": "#E5ECF6",
           "showlakes": true,
           "showland": true,
           "subunitcolor": "white"
          },
          "hoverlabel": {
           "align": "left"
          },
          "hovermode": "closest",
          "mapbox": {
           "style": "light"
          },
          "paper_bgcolor": "white",
          "plot_bgcolor": "#E5ECF6",
          "polar": {
           "angularaxis": {
            "gridcolor": "white",
            "linecolor": "white",
            "ticks": ""
           },
           "bgcolor": "#E5ECF6",
           "radialaxis": {
            "gridcolor": "white",
            "linecolor": "white",
            "ticks": ""
           }
          },
          "scene": {
           "xaxis": {
            "backgroundcolor": "#E5ECF6",
            "gridcolor": "white",
            "gridwidth": 2,
            "linecolor": "white",
            "showbackground": true,
            "ticks": "",
            "zerolinecolor": "white"
           },
           "yaxis": {
            "backgroundcolor": "#E5ECF6",
            "gridcolor": "white",
            "gridwidth": 2,
            "linecolor": "white",
            "showbackground": true,
            "ticks": "",
            "zerolinecolor": "white"
           },
           "zaxis": {
            "backgroundcolor": "#E5ECF6",
            "gridcolor": "white",
            "gridwidth": 2,
            "linecolor": "white",
            "showbackground": true,
            "ticks": "",
            "zerolinecolor": "white"
           }
          },
          "shapedefaults": {
           "line": {
            "color": "#2a3f5f"
           }
          },
          "ternary": {
           "aaxis": {
            "gridcolor": "white",
            "linecolor": "white",
            "ticks": ""
           },
           "baxis": {
            "gridcolor": "white",
            "linecolor": "white",
            "ticks": ""
           },
           "bgcolor": "#E5ECF6",
           "caxis": {
            "gridcolor": "white",
            "linecolor": "white",
            "ticks": ""
           }
          },
          "title": {
           "x": 0.05
          },
          "xaxis": {
           "automargin": true,
           "gridcolor": "white",
           "linecolor": "white",
           "ticks": "",
           "title": {
            "standoff": 15
           },
           "zerolinecolor": "white",
           "zerolinewidth": 2
          },
          "yaxis": {
           "automargin": true,
           "gridcolor": "white",
           "linecolor": "white",
           "ticks": "",
           "title": {
            "standoff": 15
           },
           "zerolinecolor": "white",
           "zerolinewidth": 2
          }
         }
        },
        "title": {
         "text": "Воронка конверсии"
        },
        "yaxis": {
         "title": {
          "text": "Тип события"
         }
        }
       }
      },
      "text/html": [
       "<div>                            <div id=\"0e9a5b74-3cce-4d95-9394-341ed1d867ed\" class=\"plotly-graph-div\" style=\"height:525px; width:100%;\"></div>            <script type=\"text/javascript\">                require([\"plotly\"], function(Plotly) {                    window.PLOTLYENV=window.PLOTLYENV || {};                                    if (document.getElementById(\"0e9a5b74-3cce-4d95-9394-341ed1d867ed\")) {                    Plotly.newPlot(                        \"0e9a5b74-3cce-4d95-9394-341ed1d867ed\",                        [{\"name\":\"A\",\"textinfo\":\"value+percent initial\",\"x\":[2747,1780,824,872],\"y\":[\"login\",\"product_page\",\"product_cart\",\"purchase\"],\"type\":\"funnel\"},{\"name\":\"B\",\"textinfo\":\"value+percent initial\",\"x\":[927,523,255,256],\"y\":[\"login\",\"product_page\",\"product_cart\",\"purchase\"],\"type\":\"funnel\"}],                        {\"template\":{\"data\":{\"histogram2dcontour\":[{\"type\":\"histogram2dcontour\",\"colorbar\":{\"outlinewidth\":0,\"ticks\":\"\"},\"colorscale\":[[0.0,\"#0d0887\"],[0.1111111111111111,\"#46039f\"],[0.2222222222222222,\"#7201a8\"],[0.3333333333333333,\"#9c179e\"],[0.4444444444444444,\"#bd3786\"],[0.5555555555555556,\"#d8576b\"],[0.6666666666666666,\"#ed7953\"],[0.7777777777777778,\"#fb9f3a\"],[0.8888888888888888,\"#fdca26\"],[1.0,\"#f0f921\"]]}],\"choropleth\":[{\"type\":\"choropleth\",\"colorbar\":{\"outlinewidth\":0,\"ticks\":\"\"}}],\"histogram2d\":[{\"type\":\"histogram2d\",\"colorbar\":{\"outlinewidth\":0,\"ticks\":\"\"},\"colorscale\":[[0.0,\"#0d0887\"],[0.1111111111111111,\"#46039f\"],[0.2222222222222222,\"#7201a8\"],[0.3333333333333333,\"#9c179e\"],[0.4444444444444444,\"#bd3786\"],[0.5555555555555556,\"#d8576b\"],[0.6666666666666666,\"#ed7953\"],[0.7777777777777778,\"#fb9f3a\"],[0.8888888888888888,\"#fdca26\"],[1.0,\"#f0f921\"]]}],\"heatmap\":[{\"type\":\"heatmap\",\"colorbar\":{\"outlinewidth\":0,\"ticks\":\"\"},\"colorscale\":[[0.0,\"#0d0887\"],[0.1111111111111111,\"#46039f\"],[0.2222222222222222,\"#7201a8\"],[0.3333333333333333,\"#9c179e\"],[0.4444444444444444,\"#bd3786\"],[0.5555555555555556,\"#d8576b\"],[0.6666666666666666,\"#ed7953\"],[0.7777777777777778,\"#fb9f3a\"],[0.8888888888888888,\"#fdca26\"],[1.0,\"#f0f921\"]]}],\"heatmapgl\":[{\"type\":\"heatmapgl\",\"colorbar\":{\"outlinewidth\":0,\"ticks\":\"\"},\"colorscale\":[[0.0,\"#0d0887\"],[0.1111111111111111,\"#46039f\"],[0.2222222222222222,\"#7201a8\"],[0.3333333333333333,\"#9c179e\"],[0.4444444444444444,\"#bd3786\"],[0.5555555555555556,\"#d8576b\"],[0.6666666666666666,\"#ed7953\"],[0.7777777777777778,\"#fb9f3a\"],[0.8888888888888888,\"#fdca26\"],[1.0,\"#f0f921\"]]}],\"contourcarpet\":[{\"type\":\"contourcarpet\",\"colorbar\":{\"outlinewidth\":0,\"ticks\":\"\"}}],\"contour\":[{\"type\":\"contour\",\"colorbar\":{\"outlinewidth\":0,\"ticks\":\"\"},\"colorscale\":[[0.0,\"#0d0887\"],[0.1111111111111111,\"#46039f\"],[0.2222222222222222,\"#7201a8\"],[0.3333333333333333,\"#9c179e\"],[0.4444444444444444,\"#bd3786\"],[0.5555555555555556,\"#d8576b\"],[0.6666666666666666,\"#ed7953\"],[0.7777777777777778,\"#fb9f3a\"],[0.8888888888888888,\"#fdca26\"],[1.0,\"#f0f921\"]]}],\"surface\":[{\"type\":\"surface\",\"colorbar\":{\"outlinewidth\":0,\"ticks\":\"\"},\"colorscale\":[[0.0,\"#0d0887\"],[0.1111111111111111,\"#46039f\"],[0.2222222222222222,\"#7201a8\"],[0.3333333333333333,\"#9c179e\"],[0.4444444444444444,\"#bd3786\"],[0.5555555555555556,\"#d8576b\"],[0.6666666666666666,\"#ed7953\"],[0.7777777777777778,\"#fb9f3a\"],[0.8888888888888888,\"#fdca26\"],[1.0,\"#f0f921\"]]}],\"mesh3d\":[{\"type\":\"mesh3d\",\"colorbar\":{\"outlinewidth\":0,\"ticks\":\"\"}}],\"scatter\":[{\"fillpattern\":{\"fillmode\":\"overlay\",\"size\":10,\"solidity\":0.2},\"type\":\"scatter\"}],\"parcoords\":[{\"type\":\"parcoords\",\"line\":{\"colorbar\":{\"outlinewidth\":0,\"ticks\":\"\"}}}],\"scatterpolargl\":[{\"type\":\"scatterpolargl\",\"marker\":{\"colorbar\":{\"outlinewidth\":0,\"ticks\":\"\"}}}],\"bar\":[{\"error_x\":{\"color\":\"#2a3f5f\"},\"error_y\":{\"color\":\"#2a3f5f\"},\"marker\":{\"line\":{\"color\":\"#E5ECF6\",\"width\":0.5},\"pattern\":{\"fillmode\":\"overlay\",\"size\":10,\"solidity\":0.2}},\"type\":\"bar\"}],\"scattergeo\":[{\"type\":\"scattergeo\",\"marker\":{\"colorbar\":{\"outlinewidth\":0,\"ticks\":\"\"}}}],\"scatterpolar\":[{\"type\":\"scatterpolar\",\"marker\":{\"colorbar\":{\"outlinewidth\":0,\"ticks\":\"\"}}}],\"histogram\":[{\"marker\":{\"pattern\":{\"fillmode\":\"overlay\",\"size\":10,\"solidity\":0.2}},\"type\":\"histogram\"}],\"scattergl\":[{\"type\":\"scattergl\",\"marker\":{\"colorbar\":{\"outlinewidth\":0,\"ticks\":\"\"}}}],\"scatter3d\":[{\"type\":\"scatter3d\",\"line\":{\"colorbar\":{\"outlinewidth\":0,\"ticks\":\"\"}},\"marker\":{\"colorbar\":{\"outlinewidth\":0,\"ticks\":\"\"}}}],\"scattermapbox\":[{\"type\":\"scattermapbox\",\"marker\":{\"colorbar\":{\"outlinewidth\":0,\"ticks\":\"\"}}}],\"scatterternary\":[{\"type\":\"scatterternary\",\"marker\":{\"colorbar\":{\"outlinewidth\":0,\"ticks\":\"\"}}}],\"scattercarpet\":[{\"type\":\"scattercarpet\",\"marker\":{\"colorbar\":{\"outlinewidth\":0,\"ticks\":\"\"}}}],\"carpet\":[{\"aaxis\":{\"endlinecolor\":\"#2a3f5f\",\"gridcolor\":\"white\",\"linecolor\":\"white\",\"minorgridcolor\":\"white\",\"startlinecolor\":\"#2a3f5f\"},\"baxis\":{\"endlinecolor\":\"#2a3f5f\",\"gridcolor\":\"white\",\"linecolor\":\"white\",\"minorgridcolor\":\"white\",\"startlinecolor\":\"#2a3f5f\"},\"type\":\"carpet\"}],\"table\":[{\"cells\":{\"fill\":{\"color\":\"#EBF0F8\"},\"line\":{\"color\":\"white\"}},\"header\":{\"fill\":{\"color\":\"#C8D4E3\"},\"line\":{\"color\":\"white\"}},\"type\":\"table\"}],\"barpolar\":[{\"marker\":{\"line\":{\"color\":\"#E5ECF6\",\"width\":0.5},\"pattern\":{\"fillmode\":\"overlay\",\"size\":10,\"solidity\":0.2}},\"type\":\"barpolar\"}],\"pie\":[{\"automargin\":true,\"type\":\"pie\"}]},\"layout\":{\"autotypenumbers\":\"strict\",\"colorway\":[\"#636efa\",\"#EF553B\",\"#00cc96\",\"#ab63fa\",\"#FFA15A\",\"#19d3f3\",\"#FF6692\",\"#B6E880\",\"#FF97FF\",\"#FECB52\"],\"font\":{\"color\":\"#2a3f5f\"},\"hovermode\":\"closest\",\"hoverlabel\":{\"align\":\"left\"},\"paper_bgcolor\":\"white\",\"plot_bgcolor\":\"#E5ECF6\",\"polar\":{\"bgcolor\":\"#E5ECF6\",\"angularaxis\":{\"gridcolor\":\"white\",\"linecolor\":\"white\",\"ticks\":\"\"},\"radialaxis\":{\"gridcolor\":\"white\",\"linecolor\":\"white\",\"ticks\":\"\"}},\"ternary\":{\"bgcolor\":\"#E5ECF6\",\"aaxis\":{\"gridcolor\":\"white\",\"linecolor\":\"white\",\"ticks\":\"\"},\"baxis\":{\"gridcolor\":\"white\",\"linecolor\":\"white\",\"ticks\":\"\"},\"caxis\":{\"gridcolor\":\"white\",\"linecolor\":\"white\",\"ticks\":\"\"}},\"coloraxis\":{\"colorbar\":{\"outlinewidth\":0,\"ticks\":\"\"}},\"colorscale\":{\"sequential\":[[0.0,\"#0d0887\"],[0.1111111111111111,\"#46039f\"],[0.2222222222222222,\"#7201a8\"],[0.3333333333333333,\"#9c179e\"],[0.4444444444444444,\"#bd3786\"],[0.5555555555555556,\"#d8576b\"],[0.6666666666666666,\"#ed7953\"],[0.7777777777777778,\"#fb9f3a\"],[0.8888888888888888,\"#fdca26\"],[1.0,\"#f0f921\"]],\"sequentialminus\":[[0.0,\"#0d0887\"],[0.1111111111111111,\"#46039f\"],[0.2222222222222222,\"#7201a8\"],[0.3333333333333333,\"#9c179e\"],[0.4444444444444444,\"#bd3786\"],[0.5555555555555556,\"#d8576b\"],[0.6666666666666666,\"#ed7953\"],[0.7777777777777778,\"#fb9f3a\"],[0.8888888888888888,\"#fdca26\"],[1.0,\"#f0f921\"]],\"diverging\":[[0,\"#8e0152\"],[0.1,\"#c51b7d\"],[0.2,\"#de77ae\"],[0.3,\"#f1b6da\"],[0.4,\"#fde0ef\"],[0.5,\"#f7f7f7\"],[0.6,\"#e6f5d0\"],[0.7,\"#b8e186\"],[0.8,\"#7fbc41\"],[0.9,\"#4d9221\"],[1,\"#276419\"]]},\"xaxis\":{\"gridcolor\":\"white\",\"linecolor\":\"white\",\"ticks\":\"\",\"title\":{\"standoff\":15},\"zerolinecolor\":\"white\",\"automargin\":true,\"zerolinewidth\":2},\"yaxis\":{\"gridcolor\":\"white\",\"linecolor\":\"white\",\"ticks\":\"\",\"title\":{\"standoff\":15},\"zerolinecolor\":\"white\",\"automargin\":true,\"zerolinewidth\":2},\"scene\":{\"xaxis\":{\"backgroundcolor\":\"#E5ECF6\",\"gridcolor\":\"white\",\"linecolor\":\"white\",\"showbackground\":true,\"ticks\":\"\",\"zerolinecolor\":\"white\",\"gridwidth\":2},\"yaxis\":{\"backgroundcolor\":\"#E5ECF6\",\"gridcolor\":\"white\",\"linecolor\":\"white\",\"showbackground\":true,\"ticks\":\"\",\"zerolinecolor\":\"white\",\"gridwidth\":2},\"zaxis\":{\"backgroundcolor\":\"#E5ECF6\",\"gridcolor\":\"white\",\"linecolor\":\"white\",\"showbackground\":true,\"ticks\":\"\",\"zerolinecolor\":\"white\",\"gridwidth\":2}},\"shapedefaults\":{\"line\":{\"color\":\"#2a3f5f\"}},\"annotationdefaults\":{\"arrowcolor\":\"#2a3f5f\",\"arrowhead\":0,\"arrowwidth\":1},\"geo\":{\"bgcolor\":\"white\",\"landcolor\":\"#E5ECF6\",\"subunitcolor\":\"white\",\"showland\":true,\"showlakes\":true,\"lakecolor\":\"white\"},\"title\":{\"x\":0.05},\"mapbox\":{\"style\":\"light\"}}},\"yaxis\":{\"title\":{\"text\":\"\\u0422\\u0438\\u043f \\u0441\\u043e\\u0431\\u044b\\u0442\\u0438\\u044f\"}},\"title\":{\"text\":\"\\u0412\\u043e\\u0440\\u043e\\u043d\\u043a\\u0430 \\u043a\\u043e\\u043d\\u0432\\u0435\\u0440\\u0441\\u0438\\u0438\"}},                        {\"responsive\": true}                    ).then(function(){\n",
       "                            \n",
       "var gd = document.getElementById('0e9a5b74-3cce-4d95-9394-341ed1d867ed');\n",
       "var x = new MutationObserver(function (mutations, observer) {{\n",
       "        var display = window.getComputedStyle(gd).display;\n",
       "        if (!display || display === 'none') {{\n",
       "            console.log([gd, 'removed!']);\n",
       "            Plotly.purge(gd);\n",
       "            observer.disconnect();\n",
       "        }}\n",
       "}});\n",
       "\n",
       "// Listen for the removal of the full notebook cells\n",
       "var notebookContainer = gd.closest('#notebook-container');\n",
       "if (notebookContainer) {{\n",
       "    x.observe(notebookContainer, {childList: true});\n",
       "}}\n",
       "\n",
       "// Listen for the clearing of the current output cell\n",
       "var outputEl = gd.closest('.output');\n",
       "if (outputEl) {{\n",
       "    x.observe(outputEl, {childList: true});\n",
       "}}\n",
       "\n",
       "                        })                };                });            </script>        </div>"
      ]
     },
     "metadata": {},
     "output_type": "display_data"
    }
   ],
   "source": [
    "fig = go.Figure()\n",
    "\n",
    "fig.add_trace(go.Funnel(\n",
    "    name = 'A',\n",
    "    y = funnel_data['event_name'],\n",
    "    x = funnel_data['A'],\n",
    "    textinfo = \"value+percent initial\")\n",
    ")\n",
    "\n",
    "fig.add_trace(go.Funnel(\n",
    "    name = 'B',\n",
    "    y = funnel_data['event_name'],\n",
    "    x = funnel_data['B'],\n",
    "    textinfo = \"value+percent initial\")\n",
    ")\n",
    "fig.update_layout(\n",
    "    yaxis_title='Тип события',\n",
    "    title='Воронка конверсии'\n",
    ")\n",
    "fig.show()"
   ]
  },
  {
   "cell_type": "markdown",
   "metadata": {},
   "source": [
    "Выводы:\n",
    "\n",
    "- Падение конверсии группы В на стадии просмотра товара упала на 9%;\n",
    "- Разница в конверсиях на стадиях просмотра корзины и покупки на уровне погрешности, так как в техзадании указано, что ждут улучшение на 10% и не менее. Чтобы зафиксировать разницу меньше 10%, необходимо планировать эксперимент с большим количеством участников."
   ]
  },
  {
   "cell_type": "markdown",
   "metadata": {},
   "source": [
    "### Выводы по исследовательскому анализу данных:"
   ]
  },
  {
   "cell_type": "markdown",
   "metadata": {},
   "source": [
    "- Количество событий на одного участника а/б-теста:\n",
    "\n",
    "   - В среднем пользователи совершают 6 событий, что совпадает с медианным значением.\n",
    "   - В группе А пользователи совершают в среднем 7 событий, медианное значение - 6.\n",
    "   - В группе В пользователи совершают в среднем 5 событий, медианное значение - 4.\n",
    "   - Выяснили, что показатели активности пользователей в группе А близка к общей активности участников А/В теста, а в группе В пользователи менее активны по сравнению с группой А и в целом с участниками теста .\n",
    "\n",
    "- Количество событий на одного нового пользователя:\n",
    "   - Распределения событий выглядят нормальными;\n",
    "   - Большинство пользователей совершило до 6 действий каждого типа;\n",
    "   - Треть вошедших в сервис пользователей совершают покупку\n",
    "\n",
    "- Количество событий на одного участника а/б-теста:\n",
    "   - Распределения имеют нормальный вид;\n",
    "   - Большинство пользователей совершают до 6 событий;\n",
    "   - Просмотр корзины и покупка случаются примерно в три раза реже, чем действие login;\n",
    "   - Участники теста практически не отличаются от всех пользователей, зарегистрировавшиеся в интернет-магазине в период с 7 по   21 декабря 2020 года;\n",
    "\n",
    "- Распределение событий новых пользователей по дням:\n",
    "   - Количество событий увеличивается с начала наблюдений, достигая своего максимума 21 декабря, затем частота уменьшается до конца декабря;\n",
    "   - Также видим два пика активности 14 и 21 декабря.\n",
    "\n",
    "- Распределение событий участников а/б-теста по дням:\n",
    "   - Количество событий увеличивается с начала наблюдений, достигая своего максимума 21 декабря, затем частота уменьшается до конца декабря;\n",
    "   - Также видим два пика активности 14 и 21 декабря.\n",
    "   - График событий участников теста из группы А практически повторяет график для всех пользователей;\n",
    "   - Активность участников группы В в начале тестирования мало отличались от активности группы А, но 14 числа активность участников группы А резко выросла и продолжила расти до 21 числа, а активность участников группы В осталась на прежнем уровне;\n",
    "   - После 21 числа активность пошла на спад, как для участников группы А, так и для участников группы В.\n",
    "   \n",
    "\n",
    "- Изучение коэффициэнта удержания показало, что:\n",
    "   - В первые три дня 40% пользователей возвращаются в сервис;\n",
    "   - Затем до первой недели эта метрика держится выше 20%.\n",
    "\n",
    "- Динамика событий и регистраций новых пользователей\n",
    "   - Так как 40% пользователей активно пользуются продуктом в первые три дня после регистрации, мы видим отложенный рост в количестве событий после такого же роста, только в наборе новых пользователей. Пример - резкие скачки в наборе пользователей 11-12 декабря и количестве событий 13-14 декабря;\n",
    "   - Также после резкого падения набора новых пользователей мы не видим такого же падения в активности, так как в дело вступает накопительная активность пользователей зарегистрированных в последние 2-3 дня;\n",
    "   - После остановки регистрации новых участников теста число событий уменьшилось примерно в 10 раз за 8 дней.\n",
    "\n",
    "- Анализ конверсии\n",
    "   - Падение конверсии группы В на стадии просмотра товара упала на 9%;\n",
    "   - Разница в конверсиях на стадиях просмотра корзины и покупки на уровне погрешности, так как в техзадании указано, что ждут улучшение на 10% и не менее. Чтобы зафиксировать разницу меньше 10%, необходимо планировать эксперимент с большим количеством участников.\n",
    "   \n",
    "   \n",
    "**Прежде чем приступать к А/В- тестированию нужно учесть следующие особенности данных:**\n",
    "\n",
    "- Отсутствуют данные о действиях пользователей с 31.12.2020 по 04.01.2021.\n",
    "- В период проведения теста для интересующих нас пользователей параллельно проходила акция Christmas&New Year Promo.\n",
    "- Во время иследования мы выяснили, что параллельно проходило другое тестирование, аудитория которого пересекается с нашим тестом. Для чистоты эксперимента требуется удаление не репрезентативных пользователей, но при этом аудитория теста снижается ниже требований техзадания.\n",
    "- Медианы по количеству совершенных действий у пользователей в группах различаются. У группы А - 6, у группы В - 4."
   ]
  },
  {
   "cell_type": "markdown",
   "metadata": {},
   "source": [
    "## 5. Оценка результатов А/В тестирования"
   ]
  },
  {
   "cell_type": "markdown",
   "metadata": {},
   "source": [
    "В техзадании указано, что в первые две недели после регистрации покажут улучшение ключевых метрик не менее, чем на 10%:\n",
    "\n",
    "- конверсии в просмотр карточек товаров;\n",
    "- просмотры корзины;\n",
    "- покупки."
   ]
  },
  {
   "cell_type": "markdown",
   "metadata": {},
   "source": [
    "**Расчет метрик**"
   ]
  },
  {
   "cell_type": "code",
   "execution_count": 77,
   "metadata": {},
   "outputs": [],
   "source": [
    "rec_events = rec_events.drop(columns=['day_of_december'])"
   ]
  },
  {
   "cell_type": "code",
   "execution_count": 78,
   "metadata": {},
   "outputs": [],
   "source": [
    "main_funnel = (rec_events\n",
    "    .pivot_table(\n",
    "        index='event_name',\n",
    "        columns='group',\n",
    "        values='user_id',\n",
    "        aggfunc='nunique')\n",
    ").loc[['login', 'product_page', 'product_cart', 'purchase']]"
   ]
  },
  {
   "cell_type": "code",
   "execution_count": 79,
   "metadata": {},
   "outputs": [
    {
     "data": {
      "application/vnd.plotly.v1+json": {
       "config": {
        "plotlyServerURL": "https://plot.ly"
       },
       "data": [
        {
         "name": "A",
         "textinfo": "value+percent initial",
         "type": "funnel",
         "x": [
          2747,
          1780,
          824,
          872
         ],
         "y": [
          "login",
          "product_page",
          "product_cart",
          "purchase"
         ]
        },
        {
         "name": "B",
         "textinfo": "value+percent initial",
         "type": "funnel",
         "x": [
          927,
          523,
          255,
          256
         ],
         "y": [
          "login",
          "product_page",
          "product_cart",
          "purchase"
         ]
        }
       ],
       "layout": {
        "template": {
         "data": {
          "bar": [
           {
            "error_x": {
             "color": "#2a3f5f"
            },
            "error_y": {
             "color": "#2a3f5f"
            },
            "marker": {
             "line": {
              "color": "#E5ECF6",
              "width": 0.5
             },
             "pattern": {
              "fillmode": "overlay",
              "size": 10,
              "solidity": 0.2
             }
            },
            "type": "bar"
           }
          ],
          "barpolar": [
           {
            "marker": {
             "line": {
              "color": "#E5ECF6",
              "width": 0.5
             },
             "pattern": {
              "fillmode": "overlay",
              "size": 10,
              "solidity": 0.2
             }
            },
            "type": "barpolar"
           }
          ],
          "carpet": [
           {
            "aaxis": {
             "endlinecolor": "#2a3f5f",
             "gridcolor": "white",
             "linecolor": "white",
             "minorgridcolor": "white",
             "startlinecolor": "#2a3f5f"
            },
            "baxis": {
             "endlinecolor": "#2a3f5f",
             "gridcolor": "white",
             "linecolor": "white",
             "minorgridcolor": "white",
             "startlinecolor": "#2a3f5f"
            },
            "type": "carpet"
           }
          ],
          "choropleth": [
           {
            "colorbar": {
             "outlinewidth": 0,
             "ticks": ""
            },
            "type": "choropleth"
           }
          ],
          "contour": [
           {
            "colorbar": {
             "outlinewidth": 0,
             "ticks": ""
            },
            "colorscale": [
             [
              0,
              "#0d0887"
             ],
             [
              0.1111111111111111,
              "#46039f"
             ],
             [
              0.2222222222222222,
              "#7201a8"
             ],
             [
              0.3333333333333333,
              "#9c179e"
             ],
             [
              0.4444444444444444,
              "#bd3786"
             ],
             [
              0.5555555555555556,
              "#d8576b"
             ],
             [
              0.6666666666666666,
              "#ed7953"
             ],
             [
              0.7777777777777778,
              "#fb9f3a"
             ],
             [
              0.8888888888888888,
              "#fdca26"
             ],
             [
              1,
              "#f0f921"
             ]
            ],
            "type": "contour"
           }
          ],
          "contourcarpet": [
           {
            "colorbar": {
             "outlinewidth": 0,
             "ticks": ""
            },
            "type": "contourcarpet"
           }
          ],
          "heatmap": [
           {
            "colorbar": {
             "outlinewidth": 0,
             "ticks": ""
            },
            "colorscale": [
             [
              0,
              "#0d0887"
             ],
             [
              0.1111111111111111,
              "#46039f"
             ],
             [
              0.2222222222222222,
              "#7201a8"
             ],
             [
              0.3333333333333333,
              "#9c179e"
             ],
             [
              0.4444444444444444,
              "#bd3786"
             ],
             [
              0.5555555555555556,
              "#d8576b"
             ],
             [
              0.6666666666666666,
              "#ed7953"
             ],
             [
              0.7777777777777778,
              "#fb9f3a"
             ],
             [
              0.8888888888888888,
              "#fdca26"
             ],
             [
              1,
              "#f0f921"
             ]
            ],
            "type": "heatmap"
           }
          ],
          "heatmapgl": [
           {
            "colorbar": {
             "outlinewidth": 0,
             "ticks": ""
            },
            "colorscale": [
             [
              0,
              "#0d0887"
             ],
             [
              0.1111111111111111,
              "#46039f"
             ],
             [
              0.2222222222222222,
              "#7201a8"
             ],
             [
              0.3333333333333333,
              "#9c179e"
             ],
             [
              0.4444444444444444,
              "#bd3786"
             ],
             [
              0.5555555555555556,
              "#d8576b"
             ],
             [
              0.6666666666666666,
              "#ed7953"
             ],
             [
              0.7777777777777778,
              "#fb9f3a"
             ],
             [
              0.8888888888888888,
              "#fdca26"
             ],
             [
              1,
              "#f0f921"
             ]
            ],
            "type": "heatmapgl"
           }
          ],
          "histogram": [
           {
            "marker": {
             "pattern": {
              "fillmode": "overlay",
              "size": 10,
              "solidity": 0.2
             }
            },
            "type": "histogram"
           }
          ],
          "histogram2d": [
           {
            "colorbar": {
             "outlinewidth": 0,
             "ticks": ""
            },
            "colorscale": [
             [
              0,
              "#0d0887"
             ],
             [
              0.1111111111111111,
              "#46039f"
             ],
             [
              0.2222222222222222,
              "#7201a8"
             ],
             [
              0.3333333333333333,
              "#9c179e"
             ],
             [
              0.4444444444444444,
              "#bd3786"
             ],
             [
              0.5555555555555556,
              "#d8576b"
             ],
             [
              0.6666666666666666,
              "#ed7953"
             ],
             [
              0.7777777777777778,
              "#fb9f3a"
             ],
             [
              0.8888888888888888,
              "#fdca26"
             ],
             [
              1,
              "#f0f921"
             ]
            ],
            "type": "histogram2d"
           }
          ],
          "histogram2dcontour": [
           {
            "colorbar": {
             "outlinewidth": 0,
             "ticks": ""
            },
            "colorscale": [
             [
              0,
              "#0d0887"
             ],
             [
              0.1111111111111111,
              "#46039f"
             ],
             [
              0.2222222222222222,
              "#7201a8"
             ],
             [
              0.3333333333333333,
              "#9c179e"
             ],
             [
              0.4444444444444444,
              "#bd3786"
             ],
             [
              0.5555555555555556,
              "#d8576b"
             ],
             [
              0.6666666666666666,
              "#ed7953"
             ],
             [
              0.7777777777777778,
              "#fb9f3a"
             ],
             [
              0.8888888888888888,
              "#fdca26"
             ],
             [
              1,
              "#f0f921"
             ]
            ],
            "type": "histogram2dcontour"
           }
          ],
          "mesh3d": [
           {
            "colorbar": {
             "outlinewidth": 0,
             "ticks": ""
            },
            "type": "mesh3d"
           }
          ],
          "parcoords": [
           {
            "line": {
             "colorbar": {
              "outlinewidth": 0,
              "ticks": ""
             }
            },
            "type": "parcoords"
           }
          ],
          "pie": [
           {
            "automargin": true,
            "type": "pie"
           }
          ],
          "scatter": [
           {
            "fillpattern": {
             "fillmode": "overlay",
             "size": 10,
             "solidity": 0.2
            },
            "type": "scatter"
           }
          ],
          "scatter3d": [
           {
            "line": {
             "colorbar": {
              "outlinewidth": 0,
              "ticks": ""
             }
            },
            "marker": {
             "colorbar": {
              "outlinewidth": 0,
              "ticks": ""
             }
            },
            "type": "scatter3d"
           }
          ],
          "scattercarpet": [
           {
            "marker": {
             "colorbar": {
              "outlinewidth": 0,
              "ticks": ""
             }
            },
            "type": "scattercarpet"
           }
          ],
          "scattergeo": [
           {
            "marker": {
             "colorbar": {
              "outlinewidth": 0,
              "ticks": ""
             }
            },
            "type": "scattergeo"
           }
          ],
          "scattergl": [
           {
            "marker": {
             "colorbar": {
              "outlinewidth": 0,
              "ticks": ""
             }
            },
            "type": "scattergl"
           }
          ],
          "scattermapbox": [
           {
            "marker": {
             "colorbar": {
              "outlinewidth": 0,
              "ticks": ""
             }
            },
            "type": "scattermapbox"
           }
          ],
          "scatterpolar": [
           {
            "marker": {
             "colorbar": {
              "outlinewidth": 0,
              "ticks": ""
             }
            },
            "type": "scatterpolar"
           }
          ],
          "scatterpolargl": [
           {
            "marker": {
             "colorbar": {
              "outlinewidth": 0,
              "ticks": ""
             }
            },
            "type": "scatterpolargl"
           }
          ],
          "scatterternary": [
           {
            "marker": {
             "colorbar": {
              "outlinewidth": 0,
              "ticks": ""
             }
            },
            "type": "scatterternary"
           }
          ],
          "surface": [
           {
            "colorbar": {
             "outlinewidth": 0,
             "ticks": ""
            },
            "colorscale": [
             [
              0,
              "#0d0887"
             ],
             [
              0.1111111111111111,
              "#46039f"
             ],
             [
              0.2222222222222222,
              "#7201a8"
             ],
             [
              0.3333333333333333,
              "#9c179e"
             ],
             [
              0.4444444444444444,
              "#bd3786"
             ],
             [
              0.5555555555555556,
              "#d8576b"
             ],
             [
              0.6666666666666666,
              "#ed7953"
             ],
             [
              0.7777777777777778,
              "#fb9f3a"
             ],
             [
              0.8888888888888888,
              "#fdca26"
             ],
             [
              1,
              "#f0f921"
             ]
            ],
            "type": "surface"
           }
          ],
          "table": [
           {
            "cells": {
             "fill": {
              "color": "#EBF0F8"
             },
             "line": {
              "color": "white"
             }
            },
            "header": {
             "fill": {
              "color": "#C8D4E3"
             },
             "line": {
              "color": "white"
             }
            },
            "type": "table"
           }
          ]
         },
         "layout": {
          "annotationdefaults": {
           "arrowcolor": "#2a3f5f",
           "arrowhead": 0,
           "arrowwidth": 1
          },
          "autotypenumbers": "strict",
          "coloraxis": {
           "colorbar": {
            "outlinewidth": 0,
            "ticks": ""
           }
          },
          "colorscale": {
           "diverging": [
            [
             0,
             "#8e0152"
            ],
            [
             0.1,
             "#c51b7d"
            ],
            [
             0.2,
             "#de77ae"
            ],
            [
             0.3,
             "#f1b6da"
            ],
            [
             0.4,
             "#fde0ef"
            ],
            [
             0.5,
             "#f7f7f7"
            ],
            [
             0.6,
             "#e6f5d0"
            ],
            [
             0.7,
             "#b8e186"
            ],
            [
             0.8,
             "#7fbc41"
            ],
            [
             0.9,
             "#4d9221"
            ],
            [
             1,
             "#276419"
            ]
           ],
           "sequential": [
            [
             0,
             "#0d0887"
            ],
            [
             0.1111111111111111,
             "#46039f"
            ],
            [
             0.2222222222222222,
             "#7201a8"
            ],
            [
             0.3333333333333333,
             "#9c179e"
            ],
            [
             0.4444444444444444,
             "#bd3786"
            ],
            [
             0.5555555555555556,
             "#d8576b"
            ],
            [
             0.6666666666666666,
             "#ed7953"
            ],
            [
             0.7777777777777778,
             "#fb9f3a"
            ],
            [
             0.8888888888888888,
             "#fdca26"
            ],
            [
             1,
             "#f0f921"
            ]
           ],
           "sequentialminus": [
            [
             0,
             "#0d0887"
            ],
            [
             0.1111111111111111,
             "#46039f"
            ],
            [
             0.2222222222222222,
             "#7201a8"
            ],
            [
             0.3333333333333333,
             "#9c179e"
            ],
            [
             0.4444444444444444,
             "#bd3786"
            ],
            [
             0.5555555555555556,
             "#d8576b"
            ],
            [
             0.6666666666666666,
             "#ed7953"
            ],
            [
             0.7777777777777778,
             "#fb9f3a"
            ],
            [
             0.8888888888888888,
             "#fdca26"
            ],
            [
             1,
             "#f0f921"
            ]
           ]
          },
          "colorway": [
           "#636efa",
           "#EF553B",
           "#00cc96",
           "#ab63fa",
           "#FFA15A",
           "#19d3f3",
           "#FF6692",
           "#B6E880",
           "#FF97FF",
           "#FECB52"
          ],
          "font": {
           "color": "#2a3f5f"
          },
          "geo": {
           "bgcolor": "white",
           "lakecolor": "white",
           "landcolor": "#E5ECF6",
           "showlakes": true,
           "showland": true,
           "subunitcolor": "white"
          },
          "hoverlabel": {
           "align": "left"
          },
          "hovermode": "closest",
          "mapbox": {
           "style": "light"
          },
          "paper_bgcolor": "white",
          "plot_bgcolor": "#E5ECF6",
          "polar": {
           "angularaxis": {
            "gridcolor": "white",
            "linecolor": "white",
            "ticks": ""
           },
           "bgcolor": "#E5ECF6",
           "radialaxis": {
            "gridcolor": "white",
            "linecolor": "white",
            "ticks": ""
           }
          },
          "scene": {
           "xaxis": {
            "backgroundcolor": "#E5ECF6",
            "gridcolor": "white",
            "gridwidth": 2,
            "linecolor": "white",
            "showbackground": true,
            "ticks": "",
            "zerolinecolor": "white"
           },
           "yaxis": {
            "backgroundcolor": "#E5ECF6",
            "gridcolor": "white",
            "gridwidth": 2,
            "linecolor": "white",
            "showbackground": true,
            "ticks": "",
            "zerolinecolor": "white"
           },
           "zaxis": {
            "backgroundcolor": "#E5ECF6",
            "gridcolor": "white",
            "gridwidth": 2,
            "linecolor": "white",
            "showbackground": true,
            "ticks": "",
            "zerolinecolor": "white"
           }
          },
          "shapedefaults": {
           "line": {
            "color": "#2a3f5f"
           }
          },
          "ternary": {
           "aaxis": {
            "gridcolor": "white",
            "linecolor": "white",
            "ticks": ""
           },
           "baxis": {
            "gridcolor": "white",
            "linecolor": "white",
            "ticks": ""
           },
           "bgcolor": "#E5ECF6",
           "caxis": {
            "gridcolor": "white",
            "linecolor": "white",
            "ticks": ""
           }
          },
          "title": {
           "x": 0.05
          },
          "xaxis": {
           "automargin": true,
           "gridcolor": "white",
           "linecolor": "white",
           "ticks": "",
           "title": {
            "standoff": 15
           },
           "zerolinecolor": "white",
           "zerolinewidth": 2
          },
          "yaxis": {
           "automargin": true,
           "gridcolor": "white",
           "linecolor": "white",
           "ticks": "",
           "title": {
            "standoff": 15
           },
           "zerolinecolor": "white",
           "zerolinewidth": 2
          }
         }
        },
        "title": {
         "text": "Воронка конверсии в первые 14 дней после регистрации"
        },
        "yaxis": {
         "title": {
          "text": "Тип события"
         }
        }
       }
      },
      "text/html": [
       "<div>                            <div id=\"c1cb939a-cc5b-401b-a43e-d8ab9466a8a9\" class=\"plotly-graph-div\" style=\"height:525px; width:100%;\"></div>            <script type=\"text/javascript\">                require([\"plotly\"], function(Plotly) {                    window.PLOTLYENV=window.PLOTLYENV || {};                                    if (document.getElementById(\"c1cb939a-cc5b-401b-a43e-d8ab9466a8a9\")) {                    Plotly.newPlot(                        \"c1cb939a-cc5b-401b-a43e-d8ab9466a8a9\",                        [{\"name\":\"A\",\"textinfo\":\"value+percent initial\",\"x\":[2747,1780,824,872],\"y\":[\"login\",\"product_page\",\"product_cart\",\"purchase\"],\"type\":\"funnel\"},{\"name\":\"B\",\"textinfo\":\"value+percent initial\",\"x\":[927,523,255,256],\"y\":[\"login\",\"product_page\",\"product_cart\",\"purchase\"],\"type\":\"funnel\"}],                        {\"template\":{\"data\":{\"histogram2dcontour\":[{\"type\":\"histogram2dcontour\",\"colorbar\":{\"outlinewidth\":0,\"ticks\":\"\"},\"colorscale\":[[0.0,\"#0d0887\"],[0.1111111111111111,\"#46039f\"],[0.2222222222222222,\"#7201a8\"],[0.3333333333333333,\"#9c179e\"],[0.4444444444444444,\"#bd3786\"],[0.5555555555555556,\"#d8576b\"],[0.6666666666666666,\"#ed7953\"],[0.7777777777777778,\"#fb9f3a\"],[0.8888888888888888,\"#fdca26\"],[1.0,\"#f0f921\"]]}],\"choropleth\":[{\"type\":\"choropleth\",\"colorbar\":{\"outlinewidth\":0,\"ticks\":\"\"}}],\"histogram2d\":[{\"type\":\"histogram2d\",\"colorbar\":{\"outlinewidth\":0,\"ticks\":\"\"},\"colorscale\":[[0.0,\"#0d0887\"],[0.1111111111111111,\"#46039f\"],[0.2222222222222222,\"#7201a8\"],[0.3333333333333333,\"#9c179e\"],[0.4444444444444444,\"#bd3786\"],[0.5555555555555556,\"#d8576b\"],[0.6666666666666666,\"#ed7953\"],[0.7777777777777778,\"#fb9f3a\"],[0.8888888888888888,\"#fdca26\"],[1.0,\"#f0f921\"]]}],\"heatmap\":[{\"type\":\"heatmap\",\"colorbar\":{\"outlinewidth\":0,\"ticks\":\"\"},\"colorscale\":[[0.0,\"#0d0887\"],[0.1111111111111111,\"#46039f\"],[0.2222222222222222,\"#7201a8\"],[0.3333333333333333,\"#9c179e\"],[0.4444444444444444,\"#bd3786\"],[0.5555555555555556,\"#d8576b\"],[0.6666666666666666,\"#ed7953\"],[0.7777777777777778,\"#fb9f3a\"],[0.8888888888888888,\"#fdca26\"],[1.0,\"#f0f921\"]]}],\"heatmapgl\":[{\"type\":\"heatmapgl\",\"colorbar\":{\"outlinewidth\":0,\"ticks\":\"\"},\"colorscale\":[[0.0,\"#0d0887\"],[0.1111111111111111,\"#46039f\"],[0.2222222222222222,\"#7201a8\"],[0.3333333333333333,\"#9c179e\"],[0.4444444444444444,\"#bd3786\"],[0.5555555555555556,\"#d8576b\"],[0.6666666666666666,\"#ed7953\"],[0.7777777777777778,\"#fb9f3a\"],[0.8888888888888888,\"#fdca26\"],[1.0,\"#f0f921\"]]}],\"contourcarpet\":[{\"type\":\"contourcarpet\",\"colorbar\":{\"outlinewidth\":0,\"ticks\":\"\"}}],\"contour\":[{\"type\":\"contour\",\"colorbar\":{\"outlinewidth\":0,\"ticks\":\"\"},\"colorscale\":[[0.0,\"#0d0887\"],[0.1111111111111111,\"#46039f\"],[0.2222222222222222,\"#7201a8\"],[0.3333333333333333,\"#9c179e\"],[0.4444444444444444,\"#bd3786\"],[0.5555555555555556,\"#d8576b\"],[0.6666666666666666,\"#ed7953\"],[0.7777777777777778,\"#fb9f3a\"],[0.8888888888888888,\"#fdca26\"],[1.0,\"#f0f921\"]]}],\"surface\":[{\"type\":\"surface\",\"colorbar\":{\"outlinewidth\":0,\"ticks\":\"\"},\"colorscale\":[[0.0,\"#0d0887\"],[0.1111111111111111,\"#46039f\"],[0.2222222222222222,\"#7201a8\"],[0.3333333333333333,\"#9c179e\"],[0.4444444444444444,\"#bd3786\"],[0.5555555555555556,\"#d8576b\"],[0.6666666666666666,\"#ed7953\"],[0.7777777777777778,\"#fb9f3a\"],[0.8888888888888888,\"#fdca26\"],[1.0,\"#f0f921\"]]}],\"mesh3d\":[{\"type\":\"mesh3d\",\"colorbar\":{\"outlinewidth\":0,\"ticks\":\"\"}}],\"scatter\":[{\"fillpattern\":{\"fillmode\":\"overlay\",\"size\":10,\"solidity\":0.2},\"type\":\"scatter\"}],\"parcoords\":[{\"type\":\"parcoords\",\"line\":{\"colorbar\":{\"outlinewidth\":0,\"ticks\":\"\"}}}],\"scatterpolargl\":[{\"type\":\"scatterpolargl\",\"marker\":{\"colorbar\":{\"outlinewidth\":0,\"ticks\":\"\"}}}],\"bar\":[{\"error_x\":{\"color\":\"#2a3f5f\"},\"error_y\":{\"color\":\"#2a3f5f\"},\"marker\":{\"line\":{\"color\":\"#E5ECF6\",\"width\":0.5},\"pattern\":{\"fillmode\":\"overlay\",\"size\":10,\"solidity\":0.2}},\"type\":\"bar\"}],\"scattergeo\":[{\"type\":\"scattergeo\",\"marker\":{\"colorbar\":{\"outlinewidth\":0,\"ticks\":\"\"}}}],\"scatterpolar\":[{\"type\":\"scatterpolar\",\"marker\":{\"colorbar\":{\"outlinewidth\":0,\"ticks\":\"\"}}}],\"histogram\":[{\"marker\":{\"pattern\":{\"fillmode\":\"overlay\",\"size\":10,\"solidity\":0.2}},\"type\":\"histogram\"}],\"scattergl\":[{\"type\":\"scattergl\",\"marker\":{\"colorbar\":{\"outlinewidth\":0,\"ticks\":\"\"}}}],\"scatter3d\":[{\"type\":\"scatter3d\",\"line\":{\"colorbar\":{\"outlinewidth\":0,\"ticks\":\"\"}},\"marker\":{\"colorbar\":{\"outlinewidth\":0,\"ticks\":\"\"}}}],\"scattermapbox\":[{\"type\":\"scattermapbox\",\"marker\":{\"colorbar\":{\"outlinewidth\":0,\"ticks\":\"\"}}}],\"scatterternary\":[{\"type\":\"scatterternary\",\"marker\":{\"colorbar\":{\"outlinewidth\":0,\"ticks\":\"\"}}}],\"scattercarpet\":[{\"type\":\"scattercarpet\",\"marker\":{\"colorbar\":{\"outlinewidth\":0,\"ticks\":\"\"}}}],\"carpet\":[{\"aaxis\":{\"endlinecolor\":\"#2a3f5f\",\"gridcolor\":\"white\",\"linecolor\":\"white\",\"minorgridcolor\":\"white\",\"startlinecolor\":\"#2a3f5f\"},\"baxis\":{\"endlinecolor\":\"#2a3f5f\",\"gridcolor\":\"white\",\"linecolor\":\"white\",\"minorgridcolor\":\"white\",\"startlinecolor\":\"#2a3f5f\"},\"type\":\"carpet\"}],\"table\":[{\"cells\":{\"fill\":{\"color\":\"#EBF0F8\"},\"line\":{\"color\":\"white\"}},\"header\":{\"fill\":{\"color\":\"#C8D4E3\"},\"line\":{\"color\":\"white\"}},\"type\":\"table\"}],\"barpolar\":[{\"marker\":{\"line\":{\"color\":\"#E5ECF6\",\"width\":0.5},\"pattern\":{\"fillmode\":\"overlay\",\"size\":10,\"solidity\":0.2}},\"type\":\"barpolar\"}],\"pie\":[{\"automargin\":true,\"type\":\"pie\"}]},\"layout\":{\"autotypenumbers\":\"strict\",\"colorway\":[\"#636efa\",\"#EF553B\",\"#00cc96\",\"#ab63fa\",\"#FFA15A\",\"#19d3f3\",\"#FF6692\",\"#B6E880\",\"#FF97FF\",\"#FECB52\"],\"font\":{\"color\":\"#2a3f5f\"},\"hovermode\":\"closest\",\"hoverlabel\":{\"align\":\"left\"},\"paper_bgcolor\":\"white\",\"plot_bgcolor\":\"#E5ECF6\",\"polar\":{\"bgcolor\":\"#E5ECF6\",\"angularaxis\":{\"gridcolor\":\"white\",\"linecolor\":\"white\",\"ticks\":\"\"},\"radialaxis\":{\"gridcolor\":\"white\",\"linecolor\":\"white\",\"ticks\":\"\"}},\"ternary\":{\"bgcolor\":\"#E5ECF6\",\"aaxis\":{\"gridcolor\":\"white\",\"linecolor\":\"white\",\"ticks\":\"\"},\"baxis\":{\"gridcolor\":\"white\",\"linecolor\":\"white\",\"ticks\":\"\"},\"caxis\":{\"gridcolor\":\"white\",\"linecolor\":\"white\",\"ticks\":\"\"}},\"coloraxis\":{\"colorbar\":{\"outlinewidth\":0,\"ticks\":\"\"}},\"colorscale\":{\"sequential\":[[0.0,\"#0d0887\"],[0.1111111111111111,\"#46039f\"],[0.2222222222222222,\"#7201a8\"],[0.3333333333333333,\"#9c179e\"],[0.4444444444444444,\"#bd3786\"],[0.5555555555555556,\"#d8576b\"],[0.6666666666666666,\"#ed7953\"],[0.7777777777777778,\"#fb9f3a\"],[0.8888888888888888,\"#fdca26\"],[1.0,\"#f0f921\"]],\"sequentialminus\":[[0.0,\"#0d0887\"],[0.1111111111111111,\"#46039f\"],[0.2222222222222222,\"#7201a8\"],[0.3333333333333333,\"#9c179e\"],[0.4444444444444444,\"#bd3786\"],[0.5555555555555556,\"#d8576b\"],[0.6666666666666666,\"#ed7953\"],[0.7777777777777778,\"#fb9f3a\"],[0.8888888888888888,\"#fdca26\"],[1.0,\"#f0f921\"]],\"diverging\":[[0,\"#8e0152\"],[0.1,\"#c51b7d\"],[0.2,\"#de77ae\"],[0.3,\"#f1b6da\"],[0.4,\"#fde0ef\"],[0.5,\"#f7f7f7\"],[0.6,\"#e6f5d0\"],[0.7,\"#b8e186\"],[0.8,\"#7fbc41\"],[0.9,\"#4d9221\"],[1,\"#276419\"]]},\"xaxis\":{\"gridcolor\":\"white\",\"linecolor\":\"white\",\"ticks\":\"\",\"title\":{\"standoff\":15},\"zerolinecolor\":\"white\",\"automargin\":true,\"zerolinewidth\":2},\"yaxis\":{\"gridcolor\":\"white\",\"linecolor\":\"white\",\"ticks\":\"\",\"title\":{\"standoff\":15},\"zerolinecolor\":\"white\",\"automargin\":true,\"zerolinewidth\":2},\"scene\":{\"xaxis\":{\"backgroundcolor\":\"#E5ECF6\",\"gridcolor\":\"white\",\"linecolor\":\"white\",\"showbackground\":true,\"ticks\":\"\",\"zerolinecolor\":\"white\",\"gridwidth\":2},\"yaxis\":{\"backgroundcolor\":\"#E5ECF6\",\"gridcolor\":\"white\",\"linecolor\":\"white\",\"showbackground\":true,\"ticks\":\"\",\"zerolinecolor\":\"white\",\"gridwidth\":2},\"zaxis\":{\"backgroundcolor\":\"#E5ECF6\",\"gridcolor\":\"white\",\"linecolor\":\"white\",\"showbackground\":true,\"ticks\":\"\",\"zerolinecolor\":\"white\",\"gridwidth\":2}},\"shapedefaults\":{\"line\":{\"color\":\"#2a3f5f\"}},\"annotationdefaults\":{\"arrowcolor\":\"#2a3f5f\",\"arrowhead\":0,\"arrowwidth\":1},\"geo\":{\"bgcolor\":\"white\",\"landcolor\":\"#E5ECF6\",\"subunitcolor\":\"white\",\"showland\":true,\"showlakes\":true,\"lakecolor\":\"white\"},\"title\":{\"x\":0.05},\"mapbox\":{\"style\":\"light\"}}},\"yaxis\":{\"title\":{\"text\":\"\\u0422\\u0438\\u043f \\u0441\\u043e\\u0431\\u044b\\u0442\\u0438\\u044f\"}},\"title\":{\"text\":\"\\u0412\\u043e\\u0440\\u043e\\u043d\\u043a\\u0430 \\u043a\\u043e\\u043d\\u0432\\u0435\\u0440\\u0441\\u0438\\u0438 \\u0432 \\u043f\\u0435\\u0440\\u0432\\u044b\\u0435 14 \\u0434\\u043d\\u0435\\u0439 \\u043f\\u043e\\u0441\\u043b\\u0435 \\u0440\\u0435\\u0433\\u0438\\u0441\\u0442\\u0440\\u0430\\u0446\\u0438\\u0438\"}},                        {\"responsive\": true}                    ).then(function(){\n",
       "                            \n",
       "var gd = document.getElementById('c1cb939a-cc5b-401b-a43e-d8ab9466a8a9');\n",
       "var x = new MutationObserver(function (mutations, observer) {{\n",
       "        var display = window.getComputedStyle(gd).display;\n",
       "        if (!display || display === 'none') {{\n",
       "            console.log([gd, 'removed!']);\n",
       "            Plotly.purge(gd);\n",
       "            observer.disconnect();\n",
       "        }}\n",
       "}});\n",
       "\n",
       "// Listen for the removal of the full notebook cells\n",
       "var notebookContainer = gd.closest('#notebook-container');\n",
       "if (notebookContainer) {{\n",
       "    x.observe(notebookContainer, {childList: true});\n",
       "}}\n",
       "\n",
       "// Listen for the clearing of the current output cell\n",
       "var outputEl = gd.closest('.output');\n",
       "if (outputEl) {{\n",
       "    x.observe(outputEl, {childList: true});\n",
       "}}\n",
       "\n",
       "                        })                };                });            </script>        </div>"
      ]
     },
     "metadata": {},
     "output_type": "display_data"
    }
   ],
   "source": [
    "fig = go.Figure()\n",
    "\n",
    "fig.add_trace(go.Funnel(\n",
    "    name = 'A',\n",
    "    y = main_funnel.index,\n",
    "    x = main_funnel['A'],\n",
    "    textinfo = \"value+percent initial\")\n",
    ")\n",
    "\n",
    "fig.add_trace(go.Funnel(\n",
    "    name = 'B',\n",
    "    y = main_funnel.index,\n",
    "    x = main_funnel['B'],\n",
    "    textinfo = \"value+percent initial\")\n",
    ")\n",
    "fig.update_layout(\n",
    "    yaxis_title='Тип события',\n",
    "    title='Воронка конверсии в первые 14 дней после регистрации'\n",
    ")\n",
    "fig.show()"
   ]
  },
  {
   "cell_type": "markdown",
   "metadata": {},
   "source": [
    "Выводы:\n",
    "\n",
    "- На стадии просмотра товара у группы В видим падение конверсии на 9%;\n",
    "- На стадиях просмотра корзины и покупки у группы В конверсия на 2% и 3% меньше соответственно;\n",
    "- Совершили покупку все пользователи, которые просмотрели корзину;\n",
    "- На этапе покупки у контрольной группы конверсия на 1% больше, чем на этапе product_cart, что может свидетельствовать о    необязательности в воронке стадии просмотра корзины."
   ]
  },
  {
   "cell_type": "markdown",
   "metadata": {},
   "source": [
    "Объявление функции для расчета z-критерия"
   ]
  },
  {
   "cell_type": "code",
   "execution_count": 80,
   "metadata": {},
   "outputs": [],
   "source": [
    "def z_value(group_1_successes, # число успешных событий первой группы\n",
    "            group_1_trials, # число всех событий первой группы\n",
    "            group_2_successes, # число успешных событий второй группы\n",
    "            group_2_trials, # число всех событий второй группы\n",
    "            alpha # задаю критический уровень статистический значимости\n",
    "):\n",
    "\n",
    "    p1 = group_1_successes / group_1_trials\n",
    "    \n",
    "    p2 = group_2_successes / group_2_trials\n",
    "\n",
    "    p_comb = (group_1_successes + group_2_successes\n",
    "         ) / (group_1_trials + group_2_trials)\n",
    "\n",
    "    diff = p1 - p2\n",
    "\n",
    "    z_value = diff / math.sqrt(\n",
    "        p_comb * \n",
    "        (1 - p_comb) * \n",
    "        (1 / group_1_trials + 1 / group_2_trials)\n",
    "    )\n",
    "\n",
    "\n",
    "    distr = st.norm(0, 1)\n",
    "\n",
    "    p_value = (1 - distr.cdf(abs(z_value))) * 2\n",
    "\n",
    "    print(f'P-уровень значимости : {p_value}')\n",
    "\n",
    "    if p_value < alpha:\n",
    "        print('Нулевая гипотеза отвергнута')\n",
    "    else:\n",
    "        print('Нет оснований отвергнуть нулевую гипотезу')"
   ]
  },
  {
   "cell_type": "markdown",
   "metadata": {},
   "source": [
    "Зададим критический уровень. Учитывая, что мы одновременно проводим 4 теста, необходимо применить одну из поправок, для исключения ошибки первого рода. Применем метод Шидока:"
   ]
  },
  {
   "cell_type": "code",
   "execution_count": 81,
   "metadata": {},
   "outputs": [
    {
     "name": "stdout",
     "output_type": "stream",
     "text": [
      "Критический уровень статистический значимости:  0.012741455098566168\n"
     ]
    }
   ],
   "source": [
    "alpha = 1 - (1 - 0.05)**(1/4)\n",
    "print('Критический уровень статистический значимости: ', alpha)"
   ]
  },
  {
   "cell_type": "markdown",
   "metadata": {},
   "source": [
    "**Проведение статистических тестов**"
   ]
  },
  {
   "cell_type": "markdown",
   "metadata": {},
   "source": [
    "Необходимо проверить статистическую разницу долей z-критерием:\n",
    "\n",
    "- конверсии в просмотр карточек товаров — событие product_page,\n",
    "- просмотры корзины — product_cart,\n",
    "- покупки — purchase."
   ]
  },
  {
   "cell_type": "markdown",
   "metadata": {},
   "source": [
    "Проверяем конверсию в просмотр карточек товаров z-критерием:\n",
    "- H 0 : пропорции пользователей групп А и В, которые совершили действие product_page, равны;\n",
    "- H A : пропорции групп отличаются."
   ]
  },
  {
   "cell_type": "code",
   "execution_count": 82,
   "metadata": {},
   "outputs": [
    {
     "name": "stdout",
     "output_type": "stream",
     "text": [
      "P-уровень значимости : 5.084368080776613e-06\n",
      "Нулевая гипотеза отвергнута\n"
     ]
    }
   ],
   "source": [
    "z_value(\n",
    "    # число пользователей группы А, совершивших событие product_page\n",
    "    main_funnel.loc['product_page', 'A'], \n",
    "    # число пользователей группы A, совершивших событие login\n",
    "    main_funnel.loc['login', 'A'], \n",
    "    # число пользователей группы B, совершивших событие product_page\n",
    "    main_funnel.loc['product_page', 'B'], \n",
    "    # число пользователей группы B, совершивших событие login\n",
    "    main_funnel.loc['login', 'B'],\n",
    "    # задаю пороговый уровень статистической значимости\n",
    "    alpha=0.012741455098566168\n",
    ")"
   ]
  },
  {
   "cell_type": "markdown",
   "metadata": {},
   "source": [
    "Результаты статистического теста дают нам основания сказать, что у группы В конверсия в просмотры карточек хуже."
   ]
  },
  {
   "cell_type": "markdown",
   "metadata": {},
   "source": [
    "Проверяем конверсию в просмотр корзины:\n",
    "- H 0 : пропорции пользователей групп А и В, которые совершили действие product_cart, равны;\n",
    "- H A : пропорции групп отличаются."
   ]
  },
  {
   "cell_type": "code",
   "execution_count": 83,
   "metadata": {},
   "outputs": [
    {
     "name": "stdout",
     "output_type": "stream",
     "text": [
      "P-уровень значимости : 0.15034216422194624\n",
      "Нет оснований отвергнуть нулевую гипотезу\n"
     ]
    }
   ],
   "source": [
    "z_value(\n",
    "    # число пользователей группы А, совершивших событие product_page\n",
    "    main_funnel.loc['product_cart', 'A'], \n",
    "    # число пользователей группы A, совершивших событие login\n",
    "    main_funnel.loc['login', 'A'], \n",
    "    # число пользователей группы B, совершивших событие product_page\n",
    "    main_funnel.loc['product_cart', 'B'], \n",
    "    # число пользователей группы B, совершивших событие login\n",
    "    main_funnel.loc['login', 'B'],\n",
    "    # задаю пороговый уровень статистической значимости\n",
    "    alpha=0.012741455098566168\n",
    ")"
   ]
  },
  {
   "cell_type": "markdown",
   "metadata": {},
   "source": [
    "Z-критерий показал, что различия в конверсиях просмотра корзины статистически не существенны."
   ]
  },
  {
   "cell_type": "markdown",
   "metadata": {},
   "source": [
    "Проверяю конверсию в покупки:\n",
    "- H 0 : пропорции пользователей групп А и В, которые совершили действие purchase, равны;\n",
    "- H A : пропорции групп отличаются."
   ]
  },
  {
   "cell_type": "code",
   "execution_count": 84,
   "metadata": {},
   "outputs": [
    {
     "name": "stdout",
     "output_type": "stream",
     "text": [
      "P-уровень значимости : 0.018474632659979617\n",
      "Нет оснований отвергнуть нулевую гипотезу\n"
     ]
    }
   ],
   "source": [
    "z_value(\n",
    "    # число пользователей группы А, совершивших событие purchase\n",
    "    main_funnel.loc['purchase', 'A'], \n",
    "    # число пользователей группы A, совершивших событие login\n",
    "    main_funnel.loc['login', 'A'], \n",
    "    # число пользователей группы B, совершивших событие purchase\n",
    "    main_funnel.loc['purchase', 'B'], \n",
    "    # число пользователей группы B, совершивших событие login\n",
    "    main_funnel.loc['login', 'B'],\n",
    "    # задаю пороговый уровень статистической значимости\n",
    "    alpha=0.012741455098566168\n",
    ")"
   ]
  },
  {
   "cell_type": "markdown",
   "metadata": {},
   "source": [
    "Различия в конверсии в покупки у группы В статистически не существенны."
   ]
  },
  {
   "cell_type": "markdown",
   "metadata": {},
   "source": [
    "### Выводы по оценке результатов А/В тестирования:"
   ]
  },
  {
   "cell_type": "markdown",
   "metadata": {},
   "source": [
    "- До действия login дошли только:\n",
    "   - 71,7% от общего количества участников или 2604 пользователей из группы А;\n",
    "   - 32,3% от общего количества участников или 877 пользователей из группы В.\n",
    "   \n",
    "   \n",
    "- Конверсия в просмотры карточек товаров составила:\n",
    "   - группа А - 65% (1685 пользователей);\n",
    "   - группа В - 56% (493 пользователей).\n",
    "Эта разница статистически значима.\n",
    "\n",
    "\n",
    "- Конверсия в просмотры корзины:\n",
    "   - группа А - 30% (782 пользователей);\n",
    "   - группа В - 28% (244 пользователей).\n",
    "Нет оснований утверждать, что эта разница статистически значима.\n",
    "\n",
    "\n",
    "- Конверсия в покупки:\n",
    "группа А - 32% (833 пользователей);\n",
    "группа В - 28% (249 пользователей).\n",
    "Нет оснований утверждать, что эта разница статистически значима.\n",
    "\n",
    "\n",
    "**Тесты показали, что ухудшение ключевых метрик в группе В статистически значимо только для конверсии в просмотры карточек. Для конверсии в просмотры корзины и конверсии в покупки нет оснований утверждать, что эта разница статистически значима.**"
   ]
  },
  {
   "cell_type": "markdown",
   "metadata": {},
   "source": [
    "## 6. Общие выводы"
   ]
  },
  {
   "cell_type": "markdown",
   "metadata": {},
   "source": [
    "**Перед нами была поставлена задача оценить корректность проведения A/B теста и проанализировать его результаты.**\n",
    "\n",
    "**Было предоставлено техническое задание и данные четырех датасетов:**\n",
    "\n",
    "Данные из таблиц ab_project_marketing_events, final_ab_new_users, final_ab_events, final_ab_participants были изучены. В результате были сделаны следующие выводы и преобразования:\n",
    "\n",
    "**ab_project_marketing_events**\n",
    "\n",
    "- представляет календарь маркетинговых событий на 2020 год;\n",
    "- содержит сведения о 13 маркетинговых событиях на 2020 год, регионы и даты их проведения;\n",
    "- в столбцах 'start_dt' и 'finish_dt' были преобразованы данные из типа object в datetime;\n",
    "- пропуски и дубликаты не содержит.\n",
    "\n",
    "**final_ab_new_users**\n",
    "\n",
    "-  содержит сведения о 61734 уникальных пользователях зарегистрировавшихся с 7 по 21 декабря 2020 года;\n",
    "- пропуски и дубликаты не содержит;\n",
    "- данные в столбце 'first_date' были преобразованы из типа object в datetime;\n",
    "- столбец 'region' содержит регионы новых пользователей: EU, N.America, APAC, CIS;\n",
    "- столбец 'device' содержит список устройств, с которых происходила регистрация: PC, Android, iPhone, Mac.\n",
    "\n",
    "**final_ab_events**\n",
    "\n",
    "- состоит из 4 столбцов и содержит 440318 строк;\n",
    "- содержит сведения о действиях 58703 пользователей в период с 7 декабря 00:00:00 по 30 декабря 23:00:00 2020 года, а также дополнительная информацию об этих событиях;\n",
    "- в столбце 'details' были обнаружены пропуски;\n",
    "- анализ пропусков показал, что строки с отсутствующими значениями в столбце 'details' - это события, не являющимися покупками; - информация о событиях в таблице присутствует только для покупок - purchase, в этом поле хранится стоимость покупки в долларах;\n",
    "- в cтолбце 'event_name' данные были преобразованы c типа object в datetime;\n",
    "- явных дубликатов не выявлено.\n",
    "\n",
    "**final_ab_participants**\n",
    "\n",
    "- таблица final_ab_participants состоит из 3 столбцов и 18268 строк и содержит сведения о 16666 участниках тестов;\n",
    "- пропусков и явных дубликатов нет;\n",
    "- в столбце 'group' два варианта групп - А и В;\n",
    "- в столбце 'ab_test' два варианта названия тестов - recommender_system_test и interface_eu_test.\n",
    "\n",
    "**Далее нами были проведены этапы:**\n",
    "\n",
    "**Оценка корректности проведения теста:**\n",
    "   - на соответствие данных требованиям технического задания;\n",
    "   - проверка времени проведения теста;\n",
    "   - исследование аудитории теста.\n",
    "   \n",
    "**Исследовательский анализ данных:**\n",
    "   - как количество событий на пользователя распределены в выборках;\n",
    "   - как число событий в выборках распределено по дням;\n",
    "   - как меняется конверсия в воронке в выборках на разных этапах;\n",
    "   - какие особенности данных нужно учесть, прежде чем приступать к A/B-тестированию.\n",
    "   \n",
    "**Оценка результатов A/B-тестирования:**\n",
    "   - что можно сказать про результаты A/B-тестирования;\n",
    "   - проверка статистической разницы долей z-критерием.\n",
    "   \n",
    "\n",
    "**В ходе проведенного исследования были выявлены ошибки и нарушения техзадания:**\n",
    "\n",
    "- Отсутствуют данные о действиях пользователей с 31.12.2020 по 04.01.2021;\n",
    "\n",
    "- В период проведения теста для интересующих нас пользователей параллельно проходила акция Christmas&New Year Promo;\n",
    "\n",
    "- Во время иследования мы выяснили, что параллельно проходило другое тестирование, аудитория которого пересекается с нашим тестом. Для чистоты эксперимента было бы желательно удалить не репрезентативных пользователей, но так как при этом аудитория теста снижается ниже требований техзадания, данные оставили без изменеия;\n",
    "\n",
    "- Доли количества участников теста неравноценны: в группе А - 57,1%, в группе В - 42,9%;\n",
    "\n",
    "- Для активных участников (для пользователей, совершивших хотя бы одно действие) различие в долях выражено еще сильнее: в группе А - 71,6%, в группе В - 32,3%;\n",
    "\n",
    "- Медианы по количеству совершенных действий у пользователей в группах различаются. У группы А - 6, у группы В - 4;\n",
    "\n",
    "- в группе А до конца воронки (совершения целевого действия - покупки) доходит на 4% больше пользователей чем в группе B (32%/28% соответственно)\n",
    "\n",
    "- По результатам множественного тестирования, 3 действиям (login, product_cart, purchase) не удалось отвергнуть нулевую гипотезу. Нет оснований считать, что доли пользователей разные. По действию product_page отвергнули гипотезу, доли разные.\n",
    "При этом у группы В конверсия в просмотры карточек хуже, а не лучше, как ожидалось.\n",
    "\n",
    "**Учитывая вышесказанное, проведенное тестирование не вызывает доверия. Советуем подготовить данные заново, провериь их целостность и соответствие ТЗ и провести тестирование заново.**"
   ]
  }
 ],
 "metadata": {
  "ExecuteTimeLog": [
   {
    "duration": 1833,
    "start_time": "2023-08-25T08:23:38.789Z"
   },
   {
    "duration": 6,
    "start_time": "2023-08-25T08:32:05.247Z"
   },
   {
    "duration": 788,
    "start_time": "2023-08-25T08:33:42.116Z"
   },
   {
    "duration": 155,
    "start_time": "2023-08-25T08:36:50.537Z"
   },
   {
    "duration": 4,
    "start_time": "2023-08-25T08:36:57.967Z"
   },
   {
    "duration": 67,
    "start_time": "2023-08-25T08:37:00.654Z"
   },
   {
    "duration": 168,
    "start_time": "2023-08-25T08:39:43.696Z"
   },
   {
    "duration": 8,
    "start_time": "2023-08-25T08:39:45.579Z"
   },
   {
    "duration": 117,
    "start_time": "2023-08-25T08:40:05.297Z"
   },
   {
    "duration": 18,
    "start_time": "2023-08-25T08:40:06.041Z"
   },
   {
    "duration": 5,
    "start_time": "2023-08-25T08:40:23.048Z"
   },
   {
    "duration": 79,
    "start_time": "2023-08-25T08:40:25.790Z"
   },
   {
    "duration": 13,
    "start_time": "2023-08-25T08:40:26.941Z"
   },
   {
    "duration": 93,
    "start_time": "2023-08-25T08:42:26.554Z"
   },
   {
    "duration": 12,
    "start_time": "2023-08-25T08:42:27.079Z"
   },
   {
    "duration": 19,
    "start_time": "2023-08-25T08:43:18.912Z"
   },
   {
    "duration": 9,
    "start_time": "2023-08-25T08:43:39.492Z"
   },
   {
    "duration": 9,
    "start_time": "2023-08-25T08:44:12.500Z"
   },
   {
    "duration": 16,
    "start_time": "2023-08-25T08:44:36.694Z"
   },
   {
    "duration": 19,
    "start_time": "2023-08-25T08:44:47.545Z"
   },
   {
    "duration": 267,
    "start_time": "2023-08-25T08:48:20.244Z"
   },
   {
    "duration": 36,
    "start_time": "2023-08-25T08:48:56.223Z"
   },
   {
    "duration": 9,
    "start_time": "2023-08-25T08:51:10.915Z"
   },
   {
    "duration": 3,
    "start_time": "2023-08-25T08:51:19.197Z"
   },
   {
    "duration": 113,
    "start_time": "2023-08-25T08:51:19.829Z"
   },
   {
    "duration": 4,
    "start_time": "2023-08-25T08:53:36.663Z"
   },
   {
    "duration": 143,
    "start_time": "2023-08-25T08:53:45.823Z"
   },
   {
    "duration": 14,
    "start_time": "2023-08-25T08:56:31.396Z"
   },
   {
    "duration": 37,
    "start_time": "2023-08-25T08:56:39.875Z"
   },
   {
    "duration": 62,
    "start_time": "2023-08-25T08:59:41.564Z"
   },
   {
    "duration": 6,
    "start_time": "2023-08-25T09:00:47.803Z"
   },
   {
    "duration": 7,
    "start_time": "2023-08-25T09:01:39.700Z"
   },
   {
    "duration": 149,
    "start_time": "2023-08-25T09:02:28.007Z"
   },
   {
    "duration": 72,
    "start_time": "2023-08-25T09:02:28.545Z"
   },
   {
    "duration": 10,
    "start_time": "2023-08-25T09:02:30.012Z"
   },
   {
    "duration": 10,
    "start_time": "2023-08-25T09:02:30.643Z"
   },
   {
    "duration": 11,
    "start_time": "2023-08-25T09:04:03.148Z"
   },
   {
    "duration": 647,
    "start_time": "2023-08-25T09:04:06.210Z"
   },
   {
    "duration": 508,
    "start_time": "2023-08-25T09:04:06.861Z"
   },
   {
    "duration": 141,
    "start_time": "2023-08-25T13:50:13.944Z"
   },
   {
    "duration": 39,
    "start_time": "2023-08-25T13:50:44.548Z"
   },
   {
    "duration": 65,
    "start_time": "2023-08-25T13:51:37.831Z"
   },
   {
    "duration": 149,
    "start_time": "2023-08-25T13:54:10.829Z"
   },
   {
    "duration": 2218,
    "start_time": "2023-08-25T13:54:27.023Z"
   },
   {
    "duration": 100,
    "start_time": "2023-08-25T13:54:29.243Z"
   },
   {
    "duration": 20,
    "start_time": "2023-08-25T13:54:29.345Z"
   },
   {
    "duration": 289,
    "start_time": "2023-08-25T13:54:29.367Z"
   },
   {
    "duration": 86,
    "start_time": "2023-08-25T13:54:29.659Z"
   },
   {
    "duration": 108,
    "start_time": "2023-08-25T13:54:29.747Z"
   },
   {
    "duration": 11,
    "start_time": "2023-08-25T13:54:29.858Z"
   },
   {
    "duration": 653,
    "start_time": "2023-08-25T13:54:29.871Z"
   },
   {
    "duration": 439,
    "start_time": "2023-08-25T13:54:30.525Z"
   },
   {
    "duration": 141,
    "start_time": "2023-08-25T13:54:30.969Z"
   },
   {
    "duration": 55,
    "start_time": "2023-08-25T13:54:31.112Z"
   },
   {
    "duration": 208,
    "start_time": "2023-08-25T13:54:31.169Z"
   },
   {
    "duration": 296,
    "start_time": "2023-08-25T13:54:31.379Z"
   },
   {
    "duration": 142,
    "start_time": "2023-08-25T13:54:44.850Z"
   },
   {
    "duration": 37,
    "start_time": "2023-08-25T13:56:06.667Z"
   },
   {
    "duration": 48,
    "start_time": "2023-08-25T13:57:23.267Z"
   },
   {
    "duration": 43,
    "start_time": "2023-08-27T10:22:48.326Z"
   },
   {
    "duration": 1916,
    "start_time": "2023-08-27T10:22:54.218Z"
   },
   {
    "duration": 105,
    "start_time": "2023-08-27T10:22:56.136Z"
   },
   {
    "duration": 20,
    "start_time": "2023-08-27T10:22:56.243Z"
   },
   {
    "duration": 213,
    "start_time": "2023-08-27T10:22:56.264Z"
   },
   {
    "duration": 58,
    "start_time": "2023-08-27T10:22:56.479Z"
   },
   {
    "duration": 6,
    "start_time": "2023-08-27T10:22:56.538Z"
   },
   {
    "duration": 7,
    "start_time": "2023-08-27T10:22:56.545Z"
   },
   {
    "duration": 637,
    "start_time": "2023-08-27T10:22:56.553Z"
   },
   {
    "duration": 334,
    "start_time": "2023-08-27T10:22:57.192Z"
   },
   {
    "duration": 141,
    "start_time": "2023-08-27T10:22:57.528Z"
   },
   {
    "duration": 37,
    "start_time": "2023-08-27T10:22:57.670Z"
   },
   {
    "duration": 70,
    "start_time": "2023-08-27T10:22:57.708Z"
   },
   {
    "duration": 138,
    "start_time": "2023-08-27T10:22:57.779Z"
   },
   {
    "duration": 39,
    "start_time": "2023-08-27T10:22:57.920Z"
   },
   {
    "duration": 53,
    "start_time": "2023-08-27T10:25:47.573Z"
   },
   {
    "duration": 166,
    "start_time": "2023-08-27T10:25:55.031Z"
   },
   {
    "duration": 24,
    "start_time": "2023-08-27T10:26:00.691Z"
   },
   {
    "duration": 135,
    "start_time": "2023-08-27T10:26:08.496Z"
   },
   {
    "duration": 187,
    "start_time": "2023-08-27T10:27:20.773Z"
   },
   {
    "duration": 28,
    "start_time": "2023-08-27T10:28:23.634Z"
   },
   {
    "duration": 37,
    "start_time": "2023-08-27T10:28:25.522Z"
   },
   {
    "duration": 50,
    "start_time": "2023-08-27T10:28:44.929Z"
   },
   {
    "duration": 42,
    "start_time": "2023-08-27T10:33:10.057Z"
   },
   {
    "duration": 27,
    "start_time": "2023-08-27T10:33:17.599Z"
   },
   {
    "duration": 41,
    "start_time": "2023-08-27T10:33:18.183Z"
   },
   {
    "duration": 31,
    "start_time": "2023-08-27T10:34:22.031Z"
   },
   {
    "duration": 13,
    "start_time": "2023-08-27T10:34:41.846Z"
   },
   {
    "duration": 113,
    "start_time": "2023-08-27T10:37:17.096Z"
   },
   {
    "duration": 137,
    "start_time": "2023-08-27T10:37:20.894Z"
   },
   {
    "duration": 9,
    "start_time": "2023-08-27T10:37:23.600Z"
   },
   {
    "duration": 151,
    "start_time": "2023-08-27T10:37:30.267Z"
   },
   {
    "duration": 9,
    "start_time": "2023-08-27T10:37:32.563Z"
   },
   {
    "duration": 37,
    "start_time": "2023-08-27T10:37:43.014Z"
   },
   {
    "duration": 38,
    "start_time": "2023-08-27T10:39:22.831Z"
   },
   {
    "duration": 37,
    "start_time": "2023-08-27T10:41:54.812Z"
   },
   {
    "duration": 196,
    "start_time": "2023-08-27T10:44:14.426Z"
   },
   {
    "duration": 129,
    "start_time": "2023-08-27T10:44:21.788Z"
   },
   {
    "duration": 38,
    "start_time": "2023-08-27T10:44:23.509Z"
   },
   {
    "duration": 4,
    "start_time": "2023-08-27T10:54:37.682Z"
   },
   {
    "duration": 4,
    "start_time": "2023-08-27T10:54:54.371Z"
   },
   {
    "duration": 13,
    "start_time": "2023-08-27T11:00:53.240Z"
   },
   {
    "duration": 7,
    "start_time": "2023-08-27T11:01:27.851Z"
   },
   {
    "duration": 24,
    "start_time": "2023-08-27T11:02:29.586Z"
   },
   {
    "duration": 8,
    "start_time": "2023-08-27T11:03:27.651Z"
   },
   {
    "duration": 12,
    "start_time": "2023-08-27T11:03:51.320Z"
   },
   {
    "duration": 10,
    "start_time": "2023-08-27T12:32:42.638Z"
   },
   {
    "duration": 10,
    "start_time": "2023-08-27T12:34:45.233Z"
   },
   {
    "duration": 11,
    "start_time": "2023-08-27T12:34:50.658Z"
   },
   {
    "duration": 14,
    "start_time": "2023-08-27T12:34:51.403Z"
   },
   {
    "duration": 15,
    "start_time": "2023-08-27T12:35:12.623Z"
   },
   {
    "duration": 12,
    "start_time": "2023-08-27T12:35:20.798Z"
   },
   {
    "duration": 13,
    "start_time": "2023-08-27T12:35:42.593Z"
   },
   {
    "duration": 12,
    "start_time": "2023-08-27T12:35:45.217Z"
   },
   {
    "duration": 8,
    "start_time": "2023-08-27T12:38:53.429Z"
   },
   {
    "duration": 13,
    "start_time": "2023-08-27T12:38:55.730Z"
   },
   {
    "duration": 13,
    "start_time": "2023-08-27T12:39:56.702Z"
   },
   {
    "duration": 98,
    "start_time": "2023-08-27T12:41:18.923Z"
   },
   {
    "duration": 8,
    "start_time": "2023-08-27T12:43:13.357Z"
   },
   {
    "duration": 8,
    "start_time": "2023-08-27T12:43:55.746Z"
   },
   {
    "duration": 413,
    "start_time": "2023-08-27T12:59:30.197Z"
   },
   {
    "duration": 39,
    "start_time": "2023-08-27T13:06:09.142Z"
   },
   {
    "duration": 106,
    "start_time": "2023-08-27T13:06:22.790Z"
   },
   {
    "duration": 12,
    "start_time": "2023-08-27T13:11:31.296Z"
   },
   {
    "duration": 11,
    "start_time": "2023-08-27T13:11:39.761Z"
   },
   {
    "duration": 6,
    "start_time": "2023-08-27T13:12:31.158Z"
   },
   {
    "duration": 39,
    "start_time": "2023-08-27T13:15:14.839Z"
   },
   {
    "duration": 13,
    "start_time": "2023-08-27T13:15:41.370Z"
   },
   {
    "duration": 6,
    "start_time": "2023-08-27T13:15:45.684Z"
   },
   {
    "duration": 7,
    "start_time": "2023-08-27T13:15:46.714Z"
   },
   {
    "duration": 637,
    "start_time": "2023-08-27T13:16:39.485Z"
   },
   {
    "duration": 122,
    "start_time": "2023-08-27T13:16:40.348Z"
   },
   {
    "duration": 598,
    "start_time": "2023-08-27T13:16:40.822Z"
   },
   {
    "duration": 291,
    "start_time": "2023-08-27T13:16:42.114Z"
   },
   {
    "duration": 40,
    "start_time": "2023-08-27T13:16:43.185Z"
   },
   {
    "duration": 151,
    "start_time": "2023-08-27T13:16:44.595Z"
   },
   {
    "duration": 150,
    "start_time": "2023-08-27T13:16:48.894Z"
   },
   {
    "duration": 45,
    "start_time": "2023-08-27T13:16:49.962Z"
   },
   {
    "duration": 187,
    "start_time": "2023-08-27T13:16:59.306Z"
   },
   {
    "duration": 6,
    "start_time": "2023-08-27T13:16:59.775Z"
   },
   {
    "duration": 6,
    "start_time": "2023-08-27T13:17:17.831Z"
   },
   {
    "duration": 4,
    "start_time": "2023-08-27T13:17:18.943Z"
   },
   {
    "duration": 12,
    "start_time": "2023-08-27T13:17:26.463Z"
   },
   {
    "duration": 11,
    "start_time": "2023-08-27T13:17:45.184Z"
   },
   {
    "duration": 8,
    "start_time": "2023-08-27T13:17:45.997Z"
   },
   {
    "duration": 14,
    "start_time": "2023-08-27T13:17:46.347Z"
   },
   {
    "duration": 7,
    "start_time": "2023-08-27T13:17:46.619Z"
   },
   {
    "duration": 313,
    "start_time": "2023-08-27T13:17:47.039Z"
   },
   {
    "duration": 266,
    "start_time": "2023-08-27T13:22:55.423Z"
   },
   {
    "duration": 4,
    "start_time": "2023-08-27T13:32:31.503Z"
   },
   {
    "duration": 649,
    "start_time": "2023-08-27T13:33:43.961Z"
   },
   {
    "duration": 5,
    "start_time": "2023-08-27T13:33:47.499Z"
   },
   {
    "duration": 3,
    "start_time": "2023-08-27T13:36:43.460Z"
   },
   {
    "duration": 83,
    "start_time": "2023-08-27T13:37:31.415Z"
   },
   {
    "duration": 4,
    "start_time": "2023-08-27T13:43:01.277Z"
   },
   {
    "duration": 84,
    "start_time": "2023-08-27T13:44:51.045Z"
   },
   {
    "duration": 4,
    "start_time": "2023-08-27T13:46:07.684Z"
   },
   {
    "duration": 120,
    "start_time": "2023-08-27T13:49:21.953Z"
   },
   {
    "duration": 14,
    "start_time": "2023-08-27T14:13:55.511Z"
   },
   {
    "duration": 11,
    "start_time": "2023-08-27T14:14:20.957Z"
   },
   {
    "duration": 38,
    "start_time": "2023-08-27T14:14:47.784Z"
   },
   {
    "duration": 13,
    "start_time": "2023-08-27T14:15:00.091Z"
   },
   {
    "duration": 28,
    "start_time": "2023-08-27T14:18:04.918Z"
   },
   {
    "duration": 56,
    "start_time": "2023-08-27T14:18:35.097Z"
   },
   {
    "duration": 15,
    "start_time": "2023-08-27T14:19:30.538Z"
   },
   {
    "duration": 15,
    "start_time": "2023-08-27T14:19:47.789Z"
   },
   {
    "duration": 40,
    "start_time": "2023-08-27T14:20:26.890Z"
   },
   {
    "duration": 33,
    "start_time": "2023-08-27T14:20:45.947Z"
   },
   {
    "duration": 10,
    "start_time": "2023-08-27T14:22:39.380Z"
   },
   {
    "duration": 144,
    "start_time": "2023-08-27T14:25:20.253Z"
   },
   {
    "duration": 154,
    "start_time": "2023-08-27T14:25:46.340Z"
   },
   {
    "duration": 74,
    "start_time": "2023-08-27T14:27:33.816Z"
   },
   {
    "duration": 104,
    "start_time": "2023-08-27T14:29:06.551Z"
   },
   {
    "duration": 111,
    "start_time": "2023-08-27T14:29:16.531Z"
   },
   {
    "duration": 122,
    "start_time": "2023-08-27T14:30:15.146Z"
   },
   {
    "duration": 108,
    "start_time": "2023-08-27T14:33:19.031Z"
   },
   {
    "duration": 13,
    "start_time": "2023-08-27T14:34:36.763Z"
   },
   {
    "duration": 32,
    "start_time": "2023-08-27T14:35:28.747Z"
   },
   {
    "duration": 11,
    "start_time": "2023-08-27T15:39:30.367Z"
   },
   {
    "duration": 12,
    "start_time": "2023-08-27T15:40:42.792Z"
   },
   {
    "duration": 6,
    "start_time": "2023-08-27T15:49:09.152Z"
   },
   {
    "duration": 5,
    "start_time": "2023-08-27T15:49:40.201Z"
   },
   {
    "duration": 5,
    "start_time": "2023-08-27T15:50:21.896Z"
   },
   {
    "duration": 4,
    "start_time": "2023-08-27T15:51:00.858Z"
   },
   {
    "duration": 10,
    "start_time": "2023-08-27T15:52:27.261Z"
   },
   {
    "duration": 37,
    "start_time": "2023-08-27T15:53:36.350Z"
   },
   {
    "duration": 34,
    "start_time": "2023-08-27T16:00:45.822Z"
   },
   {
    "duration": 13,
    "start_time": "2023-08-27T16:01:06.029Z"
   },
   {
    "duration": 5,
    "start_time": "2023-08-27T16:01:12.325Z"
   },
   {
    "duration": 34,
    "start_time": "2023-08-27T16:01:45.441Z"
   },
   {
    "duration": 28,
    "start_time": "2023-08-27T16:01:53.894Z"
   },
   {
    "duration": 7,
    "start_time": "2023-08-27T16:01:54.622Z"
   },
   {
    "duration": 5,
    "start_time": "2023-08-27T16:02:41.009Z"
   },
   {
    "duration": 9,
    "start_time": "2023-08-27T16:04:41.911Z"
   },
   {
    "duration": 119,
    "start_time": "2023-08-27T16:04:59.519Z"
   },
   {
    "duration": 134,
    "start_time": "2023-08-27T16:05:34.726Z"
   },
   {
    "duration": 118,
    "start_time": "2023-08-27T16:05:50.357Z"
   },
   {
    "duration": 10700,
    "start_time": "2023-08-27T16:06:46.406Z"
   },
   {
    "duration": 118,
    "start_time": "2023-08-27T16:06:57.108Z"
   },
   {
    "duration": 1550,
    "start_time": "2023-08-27T16:15:14.956Z"
   },
   {
    "duration": 5006,
    "start_time": "2023-08-27T16:15:16.510Z"
   },
   {
    "duration": 92,
    "start_time": "2023-08-27T16:15:21.518Z"
   },
   {
    "duration": 31,
    "start_time": "2023-08-27T16:15:21.613Z"
   },
   {
    "duration": 5,
    "start_time": "2023-08-27T16:15:21.646Z"
   },
   {
    "duration": 140,
    "start_time": "2023-08-27T16:15:21.652Z"
   },
   {
    "duration": 69,
    "start_time": "2023-08-27T16:15:21.794Z"
   },
   {
    "duration": 16,
    "start_time": "2023-08-27T16:15:21.865Z"
   },
   {
    "duration": 7,
    "start_time": "2023-08-27T16:15:21.882Z"
   },
   {
    "duration": 8,
    "start_time": "2023-08-27T16:15:21.892Z"
   },
   {
    "duration": 576,
    "start_time": "2023-08-27T16:15:21.902Z"
   },
   {
    "duration": 83,
    "start_time": "2023-08-27T16:15:22.480Z"
   },
   {
    "duration": 555,
    "start_time": "2023-08-27T16:15:22.565Z"
   },
   {
    "duration": 265,
    "start_time": "2023-08-27T16:15:23.122Z"
   },
   {
    "duration": 63,
    "start_time": "2023-08-27T16:15:23.389Z"
   },
   {
    "duration": 95,
    "start_time": "2023-08-27T16:15:23.453Z"
   },
   {
    "duration": 69,
    "start_time": "2023-08-27T16:15:23.550Z"
   },
   {
    "duration": 44,
    "start_time": "2023-08-27T16:15:23.621Z"
   },
   {
    "duration": 6,
    "start_time": "2023-08-27T16:15:23.667Z"
   },
   {
    "duration": 24,
    "start_time": "2023-08-27T16:15:23.675Z"
   },
   {
    "duration": 5,
    "start_time": "2023-08-27T16:15:23.701Z"
   },
   {
    "duration": 27,
    "start_time": "2023-08-27T16:15:23.707Z"
   },
   {
    "duration": 18,
    "start_time": "2023-08-27T16:15:23.741Z"
   },
   {
    "duration": 10,
    "start_time": "2023-08-27T16:15:23.760Z"
   },
   {
    "duration": 18,
    "start_time": "2023-08-27T16:15:23.772Z"
   },
   {
    "duration": 5,
    "start_time": "2023-08-27T16:15:23.792Z"
   },
   {
    "duration": 541,
    "start_time": "2023-08-27T16:15:23.798Z"
   },
   {
    "duration": 580,
    "start_time": "2023-08-27T16:15:24.345Z"
   },
   {
    "duration": 39,
    "start_time": "2023-08-27T16:15:24.926Z"
   },
   {
    "duration": 17,
    "start_time": "2023-08-27T16:15:24.966Z"
   },
   {
    "duration": 11,
    "start_time": "2023-08-27T16:15:24.985Z"
   },
   {
    "duration": 16,
    "start_time": "2023-08-27T16:15:24.998Z"
   },
   {
    "duration": 374,
    "start_time": "2023-08-27T16:15:25.016Z"
   },
   {
    "duration": 5,
    "start_time": "2023-08-27T16:15:25.392Z"
   },
   {
    "duration": 9,
    "start_time": "2023-08-27T16:15:25.398Z"
   },
   {
    "duration": 11,
    "start_time": "2023-08-27T16:15:25.409Z"
   },
   {
    "duration": 22,
    "start_time": "2023-08-27T16:15:25.421Z"
   },
   {
    "duration": 13,
    "start_time": "2023-08-27T16:15:25.444Z"
   },
   {
    "duration": 35,
    "start_time": "2023-08-27T16:15:25.458Z"
   },
   {
    "duration": 12,
    "start_time": "2023-08-27T16:15:25.536Z"
   },
   {
    "duration": 257,
    "start_time": "2023-08-27T16:15:25.550Z"
   },
   {
    "duration": 13,
    "start_time": "2023-08-27T16:15:25.808Z"
   },
   {
    "duration": 7,
    "start_time": "2023-08-27T16:15:25.841Z"
   },
   {
    "duration": 25,
    "start_time": "2023-08-27T16:15:25.850Z"
   },
   {
    "duration": 176,
    "start_time": "2023-08-27T16:15:25.877Z"
   },
   {
    "duration": 0,
    "start_time": "2023-08-27T16:15:26.055Z"
   },
   {
    "duration": 0,
    "start_time": "2023-08-27T16:15:26.056Z"
   },
   {
    "duration": 0,
    "start_time": "2023-08-27T16:15:26.057Z"
   },
   {
    "duration": 0,
    "start_time": "2023-08-27T16:15:26.058Z"
   },
   {
    "duration": 0,
    "start_time": "2023-08-27T16:15:26.059Z"
   },
   {
    "duration": 0,
    "start_time": "2023-08-27T16:15:26.060Z"
   },
   {
    "duration": 0,
    "start_time": "2023-08-27T16:15:26.061Z"
   },
   {
    "duration": 21,
    "start_time": "2023-08-27T16:17:07.343Z"
   },
   {
    "duration": 31,
    "start_time": "2023-08-27T16:18:40.987Z"
   },
   {
    "duration": 6,
    "start_time": "2023-08-27T16:18:41.567Z"
   },
   {
    "duration": 22,
    "start_time": "2023-08-27T16:18:51.014Z"
   },
   {
    "duration": 36,
    "start_time": "2023-08-27T16:19:35.832Z"
   },
   {
    "duration": 9,
    "start_time": "2023-08-27T16:20:25.895Z"
   },
   {
    "duration": 24,
    "start_time": "2023-08-27T16:21:34.107Z"
   },
   {
    "duration": 1469,
    "start_time": "2023-08-27T16:21:40.212Z"
   },
   {
    "duration": 5219,
    "start_time": "2023-08-27T16:21:41.682Z"
   },
   {
    "duration": 72,
    "start_time": "2023-08-27T16:21:46.903Z"
   },
   {
    "duration": 22,
    "start_time": "2023-08-27T16:21:46.977Z"
   },
   {
    "duration": 4,
    "start_time": "2023-08-27T16:21:47.001Z"
   },
   {
    "duration": 159,
    "start_time": "2023-08-27T16:21:47.007Z"
   },
   {
    "duration": 57,
    "start_time": "2023-08-27T16:21:47.168Z"
   },
   {
    "duration": 26,
    "start_time": "2023-08-27T16:21:47.227Z"
   },
   {
    "duration": 14,
    "start_time": "2023-08-27T16:21:47.255Z"
   },
   {
    "duration": 10,
    "start_time": "2023-08-27T16:21:47.271Z"
   },
   {
    "duration": 529,
    "start_time": "2023-08-27T16:21:47.283Z"
   },
   {
    "duration": 78,
    "start_time": "2023-08-27T16:21:47.814Z"
   },
   {
    "duration": 554,
    "start_time": "2023-08-27T16:21:47.894Z"
   },
   {
    "duration": 257,
    "start_time": "2023-08-27T16:21:48.451Z"
   },
   {
    "duration": 64,
    "start_time": "2023-08-27T16:21:48.710Z"
   },
   {
    "duration": 101,
    "start_time": "2023-08-27T16:21:48.775Z"
   },
   {
    "duration": 80,
    "start_time": "2023-08-27T16:21:48.877Z"
   },
   {
    "duration": 40,
    "start_time": "2023-08-27T16:21:48.958Z"
   },
   {
    "duration": 6,
    "start_time": "2023-08-27T16:21:49.000Z"
   },
   {
    "duration": 20,
    "start_time": "2023-08-27T16:21:49.008Z"
   },
   {
    "duration": 5,
    "start_time": "2023-08-27T16:21:49.029Z"
   },
   {
    "duration": 14,
    "start_time": "2023-08-27T16:21:49.035Z"
   },
   {
    "duration": 17,
    "start_time": "2023-08-27T16:21:49.051Z"
   },
   {
    "duration": 13,
    "start_time": "2023-08-27T16:21:49.070Z"
   },
   {
    "duration": 22,
    "start_time": "2023-08-27T16:21:49.085Z"
   },
   {
    "duration": 7,
    "start_time": "2023-08-27T16:21:49.109Z"
   },
   {
    "duration": 556,
    "start_time": "2023-08-27T16:21:49.117Z"
   },
   {
    "duration": 552,
    "start_time": "2023-08-27T16:21:49.676Z"
   },
   {
    "duration": 33,
    "start_time": "2023-08-27T16:21:50.230Z"
   },
   {
    "duration": 24,
    "start_time": "2023-08-27T16:21:50.264Z"
   },
   {
    "duration": 21,
    "start_time": "2023-08-27T16:21:50.290Z"
   },
   {
    "duration": 20,
    "start_time": "2023-08-27T16:21:50.313Z"
   },
   {
    "duration": 16,
    "start_time": "2023-08-27T16:21:50.337Z"
   },
   {
    "duration": 347,
    "start_time": "2023-08-27T16:21:50.354Z"
   },
   {
    "duration": 5,
    "start_time": "2023-08-27T16:21:50.703Z"
   },
   {
    "duration": 32,
    "start_time": "2023-08-27T16:21:50.709Z"
   },
   {
    "duration": 4,
    "start_time": "2023-08-27T16:21:50.749Z"
   },
   {
    "duration": 15,
    "start_time": "2023-08-27T16:21:50.755Z"
   },
   {
    "duration": 23,
    "start_time": "2023-08-27T16:21:50.771Z"
   },
   {
    "duration": 75,
    "start_time": "2023-08-27T16:21:50.796Z"
   },
   {
    "duration": 7,
    "start_time": "2023-08-27T16:21:50.873Z"
   },
   {
    "duration": 311,
    "start_time": "2023-08-27T16:21:50.881Z"
   },
   {
    "duration": 20,
    "start_time": "2023-08-27T16:21:51.194Z"
   },
   {
    "duration": 39,
    "start_time": "2023-08-27T16:21:51.215Z"
   },
   {
    "duration": 15,
    "start_time": "2023-08-27T16:21:51.255Z"
   },
   {
    "duration": 11,
    "start_time": "2023-08-27T16:21:51.272Z"
   },
   {
    "duration": 34,
    "start_time": "2023-08-27T16:21:51.285Z"
   },
   {
    "duration": 186,
    "start_time": "2023-08-27T16:21:51.320Z"
   },
   {
    "duration": 0,
    "start_time": "2023-08-27T16:21:51.508Z"
   },
   {
    "duration": 0,
    "start_time": "2023-08-27T16:21:51.509Z"
   },
   {
    "duration": 0,
    "start_time": "2023-08-27T16:21:51.510Z"
   },
   {
    "duration": 0,
    "start_time": "2023-08-27T16:21:51.511Z"
   },
   {
    "duration": 0,
    "start_time": "2023-08-27T16:21:51.512Z"
   },
   {
    "duration": 0,
    "start_time": "2023-08-27T16:21:51.513Z"
   },
   {
    "duration": 0,
    "start_time": "2023-08-27T16:21:51.514Z"
   },
   {
    "duration": 30,
    "start_time": "2023-08-27T16:22:01.819Z"
   },
   {
    "duration": 358,
    "start_time": "2023-08-27T16:22:15.318Z"
   },
   {
    "duration": 15,
    "start_time": "2023-08-27T16:24:57.105Z"
   },
   {
    "duration": 314,
    "start_time": "2023-08-27T16:25:32.274Z"
   },
   {
    "duration": 13,
    "start_time": "2023-08-27T16:27:22.733Z"
   },
   {
    "duration": 35,
    "start_time": "2023-08-27T16:28:15.830Z"
   },
   {
    "duration": 54,
    "start_time": "2023-08-27T16:28:47.291Z"
   },
   {
    "duration": 332,
    "start_time": "2023-08-27T17:06:50.093Z"
   },
   {
    "duration": 47,
    "start_time": "2023-08-27T17:07:03.993Z"
   },
   {
    "duration": 40,
    "start_time": "2023-08-27T17:09:26.763Z"
   },
   {
    "duration": 1719,
    "start_time": "2023-08-27T17:15:47.154Z"
   },
   {
    "duration": 4917,
    "start_time": "2023-08-27T17:15:48.875Z"
   },
   {
    "duration": 69,
    "start_time": "2023-08-27T17:15:53.794Z"
   },
   {
    "duration": 23,
    "start_time": "2023-08-27T17:15:53.865Z"
   },
   {
    "duration": 9,
    "start_time": "2023-08-27T17:15:53.890Z"
   },
   {
    "duration": 136,
    "start_time": "2023-08-27T17:15:53.900Z"
   },
   {
    "duration": 58,
    "start_time": "2023-08-27T17:15:54.038Z"
   },
   {
    "duration": 14,
    "start_time": "2023-08-27T17:15:54.098Z"
   },
   {
    "duration": 20,
    "start_time": "2023-08-27T17:15:54.114Z"
   },
   {
    "duration": 6,
    "start_time": "2023-08-27T17:15:54.138Z"
   },
   {
    "duration": 567,
    "start_time": "2023-08-27T17:15:54.145Z"
   },
   {
    "duration": 83,
    "start_time": "2023-08-27T17:15:54.714Z"
   },
   {
    "duration": 548,
    "start_time": "2023-08-27T17:15:54.799Z"
   },
   {
    "duration": 285,
    "start_time": "2023-08-27T17:15:55.349Z"
   },
   {
    "duration": 55,
    "start_time": "2023-08-27T17:15:55.636Z"
   },
   {
    "duration": 90,
    "start_time": "2023-08-27T17:15:55.693Z"
   },
   {
    "duration": 69,
    "start_time": "2023-08-27T17:15:55.785Z"
   },
   {
    "duration": 43,
    "start_time": "2023-08-27T17:15:55.856Z"
   },
   {
    "duration": 7,
    "start_time": "2023-08-27T17:15:55.901Z"
   },
   {
    "duration": 16,
    "start_time": "2023-08-27T17:15:55.909Z"
   },
   {
    "duration": 9,
    "start_time": "2023-08-27T17:15:55.926Z"
   },
   {
    "duration": 8,
    "start_time": "2023-08-27T17:15:55.936Z"
   },
   {
    "duration": 11,
    "start_time": "2023-08-27T17:15:55.945Z"
   },
   {
    "duration": 20,
    "start_time": "2023-08-27T17:15:55.957Z"
   },
   {
    "duration": 36,
    "start_time": "2023-08-27T17:15:55.980Z"
   },
   {
    "duration": 12,
    "start_time": "2023-08-27T17:15:56.018Z"
   },
   {
    "duration": 43,
    "start_time": "2023-08-27T17:15:56.031Z"
   },
   {
    "duration": 543,
    "start_time": "2023-08-27T17:15:56.079Z"
   },
   {
    "duration": 516,
    "start_time": "2023-08-27T17:15:56.624Z"
   },
   {
    "duration": 29,
    "start_time": "2023-08-27T17:15:57.142Z"
   },
   {
    "duration": 10,
    "start_time": "2023-08-27T17:15:57.173Z"
   },
   {
    "duration": 6,
    "start_time": "2023-08-27T17:15:57.185Z"
   },
   {
    "duration": 5,
    "start_time": "2023-08-27T17:15:57.193Z"
   },
   {
    "duration": 351,
    "start_time": "2023-08-27T17:15:57.199Z"
   },
   {
    "duration": 5,
    "start_time": "2023-08-27T17:15:57.551Z"
   },
   {
    "duration": 7,
    "start_time": "2023-08-27T17:15:57.558Z"
   },
   {
    "duration": 7,
    "start_time": "2023-08-27T17:15:57.566Z"
   },
   {
    "duration": 7,
    "start_time": "2023-08-27T17:15:57.574Z"
   },
   {
    "duration": 54,
    "start_time": "2023-08-27T17:15:57.583Z"
   },
   {
    "duration": 103,
    "start_time": "2023-08-27T17:15:57.639Z"
   },
   {
    "duration": 11,
    "start_time": "2023-08-27T17:15:57.745Z"
   },
   {
    "duration": 245,
    "start_time": "2023-08-27T17:15:57.758Z"
   },
   {
    "duration": 33,
    "start_time": "2023-08-27T17:15:58.005Z"
   },
   {
    "duration": 29,
    "start_time": "2023-08-27T17:15:58.039Z"
   },
   {
    "duration": 298,
    "start_time": "2023-08-27T17:15:58.069Z"
   },
   {
    "duration": 274,
    "start_time": "2023-08-27T17:15:58.368Z"
   },
   {
    "duration": 14,
    "start_time": "2023-08-27T17:15:58.643Z"
   },
   {
    "duration": 6,
    "start_time": "2023-08-27T17:15:58.659Z"
   },
   {
    "duration": 25,
    "start_time": "2023-08-27T17:15:58.667Z"
   },
   {
    "duration": 189,
    "start_time": "2023-08-27T17:15:58.693Z"
   },
   {
    "duration": 0,
    "start_time": "2023-08-27T17:15:58.884Z"
   },
   {
    "duration": 0,
    "start_time": "2023-08-27T17:15:58.885Z"
   },
   {
    "duration": 0,
    "start_time": "2023-08-27T17:15:58.886Z"
   },
   {
    "duration": 0,
    "start_time": "2023-08-27T17:15:58.887Z"
   },
   {
    "duration": 0,
    "start_time": "2023-08-27T17:15:58.888Z"
   },
   {
    "duration": 0,
    "start_time": "2023-08-27T17:15:58.889Z"
   },
   {
    "duration": 0,
    "start_time": "2023-08-27T17:15:58.890Z"
   },
   {
    "duration": 28,
    "start_time": "2023-08-27T17:21:42.730Z"
   },
   {
    "duration": 16,
    "start_time": "2023-08-27T17:22:12.872Z"
   },
   {
    "duration": 506,
    "start_time": "2023-08-27T17:22:51.246Z"
   },
   {
    "duration": 1522,
    "start_time": "2023-08-27T17:23:46.749Z"
   },
   {
    "duration": 539,
    "start_time": "2023-08-27T17:24:27.571Z"
   },
   {
    "duration": 1323,
    "start_time": "2023-08-27T17:24:37.181Z"
   },
   {
    "duration": 1187,
    "start_time": "2023-08-27T17:25:30.302Z"
   },
   {
    "duration": 131,
    "start_time": "2023-08-27T17:25:57.694Z"
   },
   {
    "duration": 1465,
    "start_time": "2023-08-27T17:27:19.595Z"
   },
   {
    "duration": 1326,
    "start_time": "2023-08-27T17:28:06.737Z"
   },
   {
    "duration": 131,
    "start_time": "2023-08-27T17:28:44.011Z"
   },
   {
    "duration": 91,
    "start_time": "2023-08-27T17:28:53.798Z"
   },
   {
    "duration": 117,
    "start_time": "2023-08-27T17:29:44.437Z"
   },
   {
    "duration": 1622,
    "start_time": "2023-08-27T17:29:55.687Z"
   },
   {
    "duration": 516,
    "start_time": "2023-08-27T17:30:54.074Z"
   },
   {
    "duration": 121,
    "start_time": "2023-08-27T17:31:43.542Z"
   },
   {
    "duration": 609,
    "start_time": "2023-08-27T17:31:58.310Z"
   },
   {
    "duration": 180,
    "start_time": "2023-08-27T17:33:14.607Z"
   },
   {
    "duration": 20,
    "start_time": "2023-08-27T17:33:31.509Z"
   },
   {
    "duration": 16,
    "start_time": "2023-08-27T17:33:44.713Z"
   },
   {
    "duration": 5,
    "start_time": "2023-08-27T17:36:17.524Z"
   },
   {
    "duration": 20,
    "start_time": "2023-08-27T17:36:30.264Z"
   },
   {
    "duration": 11,
    "start_time": "2023-08-27T17:36:40.034Z"
   },
   {
    "duration": 5,
    "start_time": "2023-08-27T17:37:35.243Z"
   },
   {
    "duration": 130,
    "start_time": "2023-08-27T17:38:08.552Z"
   },
   {
    "duration": 5,
    "start_time": "2023-08-27T17:38:52.401Z"
   },
   {
    "duration": 5,
    "start_time": "2023-08-27T17:39:38.390Z"
   },
   {
    "duration": 5,
    "start_time": "2023-08-27T17:40:22.875Z"
   },
   {
    "duration": 12744,
    "start_time": "2023-08-28T09:58:14.152Z"
   },
   {
    "duration": 4733,
    "start_time": "2023-08-28T09:59:42.957Z"
   },
   {
    "duration": 117,
    "start_time": "2023-08-28T09:59:50.754Z"
   },
   {
    "duration": 11,
    "start_time": "2023-08-28T10:01:57.037Z"
   },
   {
    "duration": 7,
    "start_time": "2023-08-28T10:03:10.251Z"
   },
   {
    "duration": 109,
    "start_time": "2023-08-28T10:04:40.239Z"
   },
   {
    "duration": 264,
    "start_time": "2023-08-28T10:04:46.272Z"
   },
   {
    "duration": 62,
    "start_time": "2023-08-28T10:04:47.152Z"
   },
   {
    "duration": 16,
    "start_time": "2023-08-28T10:04:48.496Z"
   },
   {
    "duration": 33,
    "start_time": "2023-08-28T10:04:50.628Z"
   },
   {
    "duration": 11,
    "start_time": "2023-08-28T10:05:14.111Z"
   },
   {
    "duration": 13,
    "start_time": "2023-08-28T10:05:31.087Z"
   },
   {
    "duration": 9,
    "start_time": "2023-08-28T10:06:41.396Z"
   },
   {
    "duration": 1601,
    "start_time": "2023-08-28T10:06:46.168Z"
   },
   {
    "duration": 65,
    "start_time": "2023-08-28T10:06:47.771Z"
   },
   {
    "duration": 601,
    "start_time": "2023-08-28T10:06:47.838Z"
   },
   {
    "duration": 301,
    "start_time": "2023-08-28T10:06:48.442Z"
   },
   {
    "duration": 59,
    "start_time": "2023-08-28T10:06:48.745Z"
   },
   {
    "duration": 13,
    "start_time": "2023-08-28T10:08:48.902Z"
   },
   {
    "duration": 32,
    "start_time": "2023-08-28T10:08:49.206Z"
   },
   {
    "duration": 13,
    "start_time": "2023-08-28T10:08:49.769Z"
   },
   {
    "duration": 7,
    "start_time": "2023-08-28T10:08:50.865Z"
   },
   {
    "duration": 8,
    "start_time": "2023-08-28T10:08:51.567Z"
   },
   {
    "duration": 588,
    "start_time": "2023-08-28T10:08:54.102Z"
   },
   {
    "duration": 67,
    "start_time": "2023-08-28T10:08:55.305Z"
   },
   {
    "duration": 517,
    "start_time": "2023-08-28T10:08:55.968Z"
   },
   {
    "duration": 303,
    "start_time": "2023-08-28T10:09:01.478Z"
   },
   {
    "duration": 52,
    "start_time": "2023-08-28T10:09:02.881Z"
   },
   {
    "duration": 47,
    "start_time": "2023-08-28T10:09:50.704Z"
   },
   {
    "duration": 46,
    "start_time": "2023-08-28T10:13:47.854Z"
   },
   {
    "duration": 83,
    "start_time": "2023-08-28T10:13:49.564Z"
   },
   {
    "duration": 11,
    "start_time": "2023-08-28T10:14:56.203Z"
   },
   {
    "duration": 182,
    "start_time": "2023-08-28T10:14:58.185Z"
   },
   {
    "duration": 43,
    "start_time": "2023-08-28T10:15:01.066Z"
   },
   {
    "duration": 7,
    "start_time": "2023-08-28T10:15:11.866Z"
   },
   {
    "duration": 10,
    "start_time": "2023-08-28T10:15:13.512Z"
   },
   {
    "duration": 4,
    "start_time": "2023-08-28T10:15:15.511Z"
   },
   {
    "duration": 4,
    "start_time": "2023-08-28T10:15:16.606Z"
   },
   {
    "duration": 10,
    "start_time": "2023-08-28T10:49:16.833Z"
   },
   {
    "duration": 10,
    "start_time": "2023-08-28T10:50:35.582Z"
   },
   {
    "duration": 10,
    "start_time": "2023-08-28T10:52:07.164Z"
   },
   {
    "duration": 9,
    "start_time": "2023-08-28T11:00:24.829Z"
   },
   {
    "duration": 17,
    "start_time": "2023-08-28T11:00:27.431Z"
   },
   {
    "duration": 7,
    "start_time": "2023-08-28T11:00:33.520Z"
   },
   {
    "duration": 63,
    "start_time": "2023-08-28T11:02:15.960Z"
   },
   {
    "duration": 51,
    "start_time": "2023-08-28T11:03:11.846Z"
   },
   {
    "duration": 617,
    "start_time": "2023-08-28T11:03:24.881Z"
   },
   {
    "duration": 552,
    "start_time": "2023-08-28T11:03:35.842Z"
   },
   {
    "duration": 49,
    "start_time": "2023-08-28T11:05:24.764Z"
   },
   {
    "duration": 11,
    "start_time": "2023-08-28T11:05:26.673Z"
   },
   {
    "duration": 6,
    "start_time": "2023-08-28T11:05:32.859Z"
   },
   {
    "duration": 4,
    "start_time": "2023-08-28T11:06:03.205Z"
   },
   {
    "duration": 6,
    "start_time": "2023-08-28T11:06:12.514Z"
   },
   {
    "duration": 597,
    "start_time": "2023-08-28T11:06:16.116Z"
   },
   {
    "duration": 51,
    "start_time": "2023-08-28T11:06:58.337Z"
   },
   {
    "duration": 6,
    "start_time": "2023-08-28T11:07:04.535Z"
   },
   {
    "duration": 7,
    "start_time": "2023-08-28T11:07:06.183Z"
   },
   {
    "duration": 7,
    "start_time": "2023-08-28T11:07:08.777Z"
   },
   {
    "duration": 5,
    "start_time": "2023-08-28T11:07:11.796Z"
   },
   {
    "duration": 5,
    "start_time": "2023-08-28T11:10:50.991Z"
   },
   {
    "duration": 13,
    "start_time": "2023-08-28T11:14:27.486Z"
   },
   {
    "duration": 36,
    "start_time": "2023-08-28T11:14:51.849Z"
   },
   {
    "duration": 9,
    "start_time": "2023-08-28T11:15:16.744Z"
   },
   {
    "duration": 267,
    "start_time": "2023-08-28T11:15:46.076Z"
   },
   {
    "duration": 23,
    "start_time": "2023-08-28T11:20:26.238Z"
   },
   {
    "duration": 32,
    "start_time": "2023-08-28T11:20:28.280Z"
   },
   {
    "duration": 383,
    "start_time": "2023-08-28T11:21:32.663Z"
   },
   {
    "duration": 318,
    "start_time": "2023-08-28T11:32:06.575Z"
   },
   {
    "duration": 348,
    "start_time": "2023-08-28T11:34:48.718Z"
   },
   {
    "duration": 6056,
    "start_time": "2023-08-28T12:21:57.341Z"
   },
   {
    "duration": 73,
    "start_time": "2023-08-28T12:22:03.399Z"
   },
   {
    "duration": 23,
    "start_time": "2023-08-28T12:22:03.474Z"
   },
   {
    "duration": 5,
    "start_time": "2023-08-28T12:22:03.500Z"
   },
   {
    "duration": 15,
    "start_time": "2023-08-28T12:22:03.507Z"
   },
   {
    "duration": 28,
    "start_time": "2023-08-28T12:22:03.524Z"
   },
   {
    "duration": 116,
    "start_time": "2023-08-28T12:22:03.554Z"
   },
   {
    "duration": 69,
    "start_time": "2023-08-28T12:22:03.672Z"
   },
   {
    "duration": 26,
    "start_time": "2023-08-28T12:22:03.743Z"
   },
   {
    "duration": 61,
    "start_time": "2023-08-28T12:22:03.772Z"
   },
   {
    "duration": 19,
    "start_time": "2023-08-28T12:22:03.835Z"
   },
   {
    "duration": 94,
    "start_time": "2023-08-28T12:22:03.856Z"
   },
   {
    "duration": 48,
    "start_time": "2023-08-28T12:22:03.952Z"
   },
   {
    "duration": 530,
    "start_time": "2023-08-28T12:22:04.003Z"
   },
   {
    "duration": 75,
    "start_time": "2023-08-28T12:22:04.534Z"
   },
   {
    "duration": 550,
    "start_time": "2023-08-28T12:22:04.611Z"
   },
   {
    "duration": 283,
    "start_time": "2023-08-28T12:22:05.163Z"
   },
   {
    "duration": 55,
    "start_time": "2023-08-28T12:22:05.448Z"
   },
   {
    "duration": 67,
    "start_time": "2023-08-28T12:22:05.505Z"
   },
   {
    "duration": 75,
    "start_time": "2023-08-28T12:22:05.574Z"
   },
   {
    "duration": 64,
    "start_time": "2023-08-28T12:22:05.651Z"
   },
   {
    "duration": 42,
    "start_time": "2023-08-28T12:22:05.717Z"
   },
   {
    "duration": 7,
    "start_time": "2023-08-28T12:22:05.761Z"
   },
   {
    "duration": 27,
    "start_time": "2023-08-28T12:22:05.770Z"
   },
   {
    "duration": 20,
    "start_time": "2023-08-28T12:22:05.798Z"
   },
   {
    "duration": 11,
    "start_time": "2023-08-28T12:22:05.820Z"
   },
   {
    "duration": 36,
    "start_time": "2023-08-28T12:22:05.832Z"
   },
   {
    "duration": 21,
    "start_time": "2023-08-28T12:22:05.871Z"
   },
   {
    "duration": 57,
    "start_time": "2023-08-28T12:22:05.893Z"
   },
   {
    "duration": 506,
    "start_time": "2023-08-28T12:22:05.952Z"
   },
   {
    "duration": 513,
    "start_time": "2023-08-28T12:22:06.459Z"
   },
   {
    "duration": 31,
    "start_time": "2023-08-28T12:22:06.974Z"
   },
   {
    "duration": 27,
    "start_time": "2023-08-28T12:22:07.007Z"
   },
   {
    "duration": 26,
    "start_time": "2023-08-28T12:22:07.036Z"
   },
   {
    "duration": 23,
    "start_time": "2023-08-28T12:22:07.063Z"
   },
   {
    "duration": 437,
    "start_time": "2023-08-28T12:22:07.088Z"
   },
   {
    "duration": 6,
    "start_time": "2023-08-28T12:22:07.526Z"
   },
   {
    "duration": 36,
    "start_time": "2023-08-28T12:22:07.534Z"
   },
   {
    "duration": 37,
    "start_time": "2023-08-28T12:22:07.572Z"
   },
   {
    "duration": 56,
    "start_time": "2023-08-28T12:22:07.611Z"
   },
   {
    "duration": 288,
    "start_time": "2023-08-28T12:22:07.669Z"
   },
   {
    "duration": 27,
    "start_time": "2023-08-28T12:22:07.958Z"
   },
   {
    "duration": 54,
    "start_time": "2023-08-28T12:22:07.987Z"
   },
   {
    "duration": 363,
    "start_time": "2023-08-28T12:22:08.043Z"
   },
   {
    "duration": 294,
    "start_time": "2023-08-28T12:22:08.408Z"
   },
   {
    "duration": 21,
    "start_time": "2023-08-28T12:22:08.704Z"
   },
   {
    "duration": 444,
    "start_time": "2023-08-28T12:22:08.727Z"
   },
   {
    "duration": 1408,
    "start_time": "2023-08-28T12:22:09.173Z"
   },
   {
    "duration": 1277,
    "start_time": "2023-08-28T12:22:10.582Z"
   },
   {
    "duration": 1652,
    "start_time": "2023-08-28T12:22:11.867Z"
   },
   {
    "duration": 1493,
    "start_time": "2023-08-28T12:22:13.520Z"
   },
   {
    "duration": 107,
    "start_time": "2023-08-28T12:22:15.015Z"
   },
   {
    "duration": 1413,
    "start_time": "2023-08-28T12:22:15.123Z"
   },
   {
    "duration": 650,
    "start_time": "2023-08-28T12:22:16.538Z"
   },
   {
    "duration": 152,
    "start_time": "2023-08-28T12:22:17.189Z"
   },
   {
    "duration": 739,
    "start_time": "2023-08-28T12:22:17.343Z"
   },
   {
    "duration": 23,
    "start_time": "2023-08-28T12:22:18.084Z"
   },
   {
    "duration": 14,
    "start_time": "2023-08-28T12:22:18.109Z"
   },
   {
    "duration": 8,
    "start_time": "2023-08-28T12:22:18.124Z"
   },
   {
    "duration": 52,
    "start_time": "2023-08-28T12:22:18.133Z"
   },
   {
    "duration": 11,
    "start_time": "2023-08-28T12:22:18.187Z"
   },
   {
    "duration": 8,
    "start_time": "2023-08-28T12:22:18.200Z"
   },
   {
    "duration": 15,
    "start_time": "2023-08-28T12:22:18.210Z"
   },
   {
    "duration": 18,
    "start_time": "2023-08-28T12:22:18.227Z"
   },
   {
    "duration": 22,
    "start_time": "2023-08-28T12:22:18.247Z"
   },
   {
    "duration": 1247,
    "start_time": "2023-08-28T12:45:25.205Z"
   },
   {
    "duration": 4498,
    "start_time": "2023-08-28T12:45:37.722Z"
   },
   {
    "duration": 101,
    "start_time": "2023-08-28T12:45:42.222Z"
   },
   {
    "duration": 21,
    "start_time": "2023-08-28T12:45:42.325Z"
   },
   {
    "duration": 5,
    "start_time": "2023-08-28T12:45:42.565Z"
   },
   {
    "duration": 8,
    "start_time": "2023-08-28T12:45:42.823Z"
   },
   {
    "duration": 7,
    "start_time": "2023-08-28T12:45:43.088Z"
   },
   {
    "duration": 115,
    "start_time": "2023-08-28T12:45:44.040Z"
   },
   {
    "duration": 53,
    "start_time": "2023-08-28T12:45:44.259Z"
   },
   {
    "duration": 12,
    "start_time": "2023-08-28T12:45:44.697Z"
   },
   {
    "duration": 34,
    "start_time": "2023-08-28T12:45:45.013Z"
   },
   {
    "duration": 13,
    "start_time": "2023-08-28T12:45:45.271Z"
   },
   {
    "duration": 6,
    "start_time": "2023-08-28T12:45:45.767Z"
   },
   {
    "duration": 6,
    "start_time": "2023-08-28T12:45:46.001Z"
   },
   {
    "duration": 505,
    "start_time": "2023-08-28T12:45:46.692Z"
   },
   {
    "duration": 73,
    "start_time": "2023-08-28T12:45:47.199Z"
   },
   {
    "duration": 516,
    "start_time": "2023-08-28T12:45:47.274Z"
   },
   {
    "duration": 276,
    "start_time": "2023-08-28T12:45:47.792Z"
   },
   {
    "duration": 51,
    "start_time": "2023-08-28T12:45:48.069Z"
   },
   {
    "duration": 60,
    "start_time": "2023-08-28T12:45:48.122Z"
   },
   {
    "duration": 75,
    "start_time": "2023-08-28T12:45:48.413Z"
   },
   {
    "duration": 72,
    "start_time": "2023-08-28T12:45:48.853Z"
   },
   {
    "duration": 43,
    "start_time": "2023-08-28T12:45:49.101Z"
   },
   {
    "duration": 9,
    "start_time": "2023-08-28T12:45:49.571Z"
   },
   {
    "duration": 12,
    "start_time": "2023-08-28T12:45:50.016Z"
   },
   {
    "duration": 5,
    "start_time": "2023-08-28T12:45:50.495Z"
   },
   {
    "duration": 5,
    "start_time": "2023-08-28T12:45:50.731Z"
   },
   {
    "duration": 10,
    "start_time": "2023-08-28T12:45:52.367Z"
   },
   {
    "duration": 14,
    "start_time": "2023-08-28T12:45:52.889Z"
   },
   {
    "duration": 53,
    "start_time": "2023-08-28T12:45:53.112Z"
   },
   {
    "duration": 511,
    "start_time": "2023-08-28T12:45:53.807Z"
   },
   {
    "duration": 499,
    "start_time": "2023-08-28T12:45:54.486Z"
   },
   {
    "duration": 30,
    "start_time": "2023-08-28T12:45:55.358Z"
   },
   {
    "duration": 5,
    "start_time": "2023-08-28T12:45:55.578Z"
   },
   {
    "duration": 4,
    "start_time": "2023-08-28T12:45:56.337Z"
   },
   {
    "duration": 5,
    "start_time": "2023-08-28T12:45:56.461Z"
   },
   {
    "duration": 56,
    "start_time": "2023-08-28T12:45:56.679Z"
   },
   {
    "duration": 7,
    "start_time": "2023-08-28T12:45:57.325Z"
   },
   {
    "duration": 12,
    "start_time": "2023-08-28T12:45:57.780Z"
   },
   {
    "duration": 36,
    "start_time": "2023-08-28T12:45:58.241Z"
   },
   {
    "duration": 9,
    "start_time": "2023-08-28T12:45:58.942Z"
   },
   {
    "duration": 277,
    "start_time": "2023-08-28T12:45:59.134Z"
   },
   {
    "duration": 24,
    "start_time": "2023-08-28T12:45:59.584Z"
   },
   {
    "duration": 27,
    "start_time": "2023-08-28T12:45:59.792Z"
   },
   {
    "duration": 362,
    "start_time": "2023-08-28T12:46:00.022Z"
   },
   {
    "duration": 309,
    "start_time": "2023-08-28T12:46:00.478Z"
   },
   {
    "duration": 23,
    "start_time": "2023-08-28T12:46:03.325Z"
   },
   {
    "duration": 378,
    "start_time": "2023-08-28T12:47:29.493Z"
   },
   {
    "duration": 1496,
    "start_time": "2023-08-28T12:48:36.973Z"
   },
   {
    "duration": 1191,
    "start_time": "2023-08-28T12:50:06.459Z"
   },
   {
    "duration": 1186,
    "start_time": "2023-08-28T12:54:13.297Z"
   },
   {
    "duration": 1340,
    "start_time": "2023-08-28T12:55:34.739Z"
   },
   {
    "duration": 1623,
    "start_time": "2023-08-28T12:57:21.644Z"
   },
   {
    "duration": 1429,
    "start_time": "2023-08-28T13:00:15.795Z"
   },
   {
    "duration": 310,
    "start_time": "2023-08-28T13:00:31.033Z"
   },
   {
    "duration": 99,
    "start_time": "2023-08-28T13:00:36.936Z"
   },
   {
    "duration": 1474,
    "start_time": "2023-08-28T13:00:37.522Z"
   },
   {
    "duration": 1389,
    "start_time": "2023-08-28T13:02:52.311Z"
   },
   {
    "duration": 531,
    "start_time": "2023-08-28T13:07:33.690Z"
   },
   {
    "duration": 135,
    "start_time": "2023-08-28T13:08:47.789Z"
   },
   {
    "duration": 23,
    "start_time": "2023-08-28T13:12:54.682Z"
   },
   {
    "duration": 14,
    "start_time": "2023-08-28T13:12:55.829Z"
   },
   {
    "duration": 7,
    "start_time": "2023-08-28T13:14:13.955Z"
   },
   {
    "duration": 21,
    "start_time": "2023-08-28T13:14:14.846Z"
   },
   {
    "duration": 13,
    "start_time": "2023-08-28T13:14:16.198Z"
   },
   {
    "duration": 5,
    "start_time": "2023-08-28T13:14:36.536Z"
   },
   {
    "duration": 5,
    "start_time": "2023-08-28T13:14:42.759Z"
   },
   {
    "duration": 5,
    "start_time": "2023-08-28T13:14:44.506Z"
   },
   {
    "duration": 6,
    "start_time": "2023-08-28T13:14:46.136Z"
   },
   {
    "duration": 20,
    "start_time": "2023-08-28T13:33:54.018Z"
   },
   {
    "duration": 23,
    "start_time": "2023-08-28T13:33:54.535Z"
   },
   {
    "duration": 13,
    "start_time": "2023-08-28T13:33:54.949Z"
   },
   {
    "duration": 4,
    "start_time": "2023-08-28T13:33:55.702Z"
   },
   {
    "duration": 6,
    "start_time": "2023-08-28T13:33:56.767Z"
   },
   {
    "duration": 5,
    "start_time": "2023-08-28T13:33:57.499Z"
   },
   {
    "duration": 6308,
    "start_time": "2023-08-28T13:35:05.298Z"
   },
   {
    "duration": 60,
    "start_time": "2023-08-28T13:35:11.608Z"
   },
   {
    "duration": 24,
    "start_time": "2023-08-28T13:35:11.669Z"
   },
   {
    "duration": 4,
    "start_time": "2023-08-28T13:35:11.696Z"
   },
   {
    "duration": 20,
    "start_time": "2023-08-28T13:35:11.702Z"
   },
   {
    "duration": 12,
    "start_time": "2023-08-28T13:35:11.723Z"
   },
   {
    "duration": 105,
    "start_time": "2023-08-28T13:35:11.737Z"
   },
   {
    "duration": 54,
    "start_time": "2023-08-28T13:35:11.844Z"
   },
   {
    "duration": 13,
    "start_time": "2023-08-28T13:35:11.900Z"
   },
   {
    "duration": 50,
    "start_time": "2023-08-28T13:35:11.916Z"
   },
   {
    "duration": 11,
    "start_time": "2023-08-28T13:35:11.968Z"
   },
   {
    "duration": 24,
    "start_time": "2023-08-28T13:35:11.980Z"
   },
   {
    "duration": 10,
    "start_time": "2023-08-28T13:35:12.006Z"
   },
   {
    "duration": 525,
    "start_time": "2023-08-28T13:35:12.018Z"
   },
   {
    "duration": 73,
    "start_time": "2023-08-28T13:35:12.545Z"
   },
   {
    "duration": 571,
    "start_time": "2023-08-28T13:35:12.620Z"
   },
   {
    "duration": 281,
    "start_time": "2023-08-28T13:35:13.193Z"
   },
   {
    "duration": 49,
    "start_time": "2023-08-28T13:35:13.476Z"
   },
   {
    "duration": 67,
    "start_time": "2023-08-28T13:35:13.527Z"
   },
   {
    "duration": 86,
    "start_time": "2023-08-28T13:35:13.595Z"
   },
   {
    "duration": 69,
    "start_time": "2023-08-28T13:35:13.682Z"
   },
   {
    "duration": 42,
    "start_time": "2023-08-28T13:35:13.753Z"
   },
   {
    "duration": 8,
    "start_time": "2023-08-28T13:35:13.797Z"
   },
   {
    "duration": 16,
    "start_time": "2023-08-28T13:35:13.808Z"
   },
   {
    "duration": 4,
    "start_time": "2023-08-28T13:35:13.826Z"
   },
   {
    "duration": 16,
    "start_time": "2023-08-28T13:35:13.832Z"
   },
   {
    "duration": 25,
    "start_time": "2023-08-28T13:35:13.850Z"
   },
   {
    "duration": 13,
    "start_time": "2023-08-28T13:35:13.879Z"
   },
   {
    "duration": 74,
    "start_time": "2023-08-28T13:35:13.894Z"
   },
   {
    "duration": 597,
    "start_time": "2023-08-28T13:35:13.970Z"
   },
   {
    "duration": 520,
    "start_time": "2023-08-28T13:35:14.569Z"
   },
   {
    "duration": 35,
    "start_time": "2023-08-28T13:35:15.091Z"
   },
   {
    "duration": 23,
    "start_time": "2023-08-28T13:35:15.128Z"
   },
   {
    "duration": 5,
    "start_time": "2023-08-28T13:35:15.152Z"
   },
   {
    "duration": 23,
    "start_time": "2023-08-28T13:35:15.158Z"
   },
   {
    "duration": 480,
    "start_time": "2023-08-28T13:35:15.183Z"
   },
   {
    "duration": 5,
    "start_time": "2023-08-28T13:35:15.665Z"
   },
   {
    "duration": 23,
    "start_time": "2023-08-28T13:35:15.672Z"
   },
   {
    "duration": 86,
    "start_time": "2023-08-28T13:35:15.697Z"
   },
   {
    "duration": 8,
    "start_time": "2023-08-28T13:35:15.785Z"
   },
   {
    "duration": 247,
    "start_time": "2023-08-28T13:35:15.795Z"
   },
   {
    "duration": 35,
    "start_time": "2023-08-28T13:35:16.043Z"
   },
   {
    "duration": 30,
    "start_time": "2023-08-28T13:35:16.080Z"
   },
   {
    "duration": 365,
    "start_time": "2023-08-28T13:35:16.111Z"
   },
   {
    "duration": 321,
    "start_time": "2023-08-28T13:35:16.478Z"
   },
   {
    "duration": 26,
    "start_time": "2023-08-28T13:35:16.800Z"
   },
   {
    "duration": 443,
    "start_time": "2023-08-28T13:35:16.828Z"
   },
   {
    "duration": 1609,
    "start_time": "2023-08-28T13:35:17.273Z"
   },
   {
    "duration": 1302,
    "start_time": "2023-08-28T13:35:18.885Z"
   },
   {
    "duration": 1612,
    "start_time": "2023-08-28T13:35:20.189Z"
   },
   {
    "duration": 1476,
    "start_time": "2023-08-28T13:35:21.804Z"
   },
   {
    "duration": 95,
    "start_time": "2023-08-28T13:35:23.282Z"
   },
   {
    "duration": 1538,
    "start_time": "2023-08-28T13:35:23.379Z"
   },
   {
    "duration": 486,
    "start_time": "2023-08-28T13:35:24.919Z"
   },
   {
    "duration": 150,
    "start_time": "2023-08-28T13:35:25.407Z"
   },
   {
    "duration": 676,
    "start_time": "2023-08-28T13:35:25.559Z"
   },
   {
    "duration": 30,
    "start_time": "2023-08-28T13:35:26.236Z"
   },
   {
    "duration": 15,
    "start_time": "2023-08-28T13:35:26.268Z"
   },
   {
    "duration": 5,
    "start_time": "2023-08-28T13:35:26.284Z"
   },
   {
    "duration": 26,
    "start_time": "2023-08-28T13:35:26.291Z"
   },
   {
    "duration": 11,
    "start_time": "2023-08-28T13:35:26.319Z"
   },
   {
    "duration": 16,
    "start_time": "2023-08-28T13:35:26.332Z"
   },
   {
    "duration": 5,
    "start_time": "2023-08-28T13:35:26.367Z"
   },
   {
    "duration": 17,
    "start_time": "2023-08-28T13:35:26.374Z"
   },
   {
    "duration": 25,
    "start_time": "2023-08-28T13:35:26.393Z"
   },
   {
    "duration": 13007,
    "start_time": "2023-08-29T07:38:36.675Z"
   },
   {
    "duration": 119,
    "start_time": "2023-08-29T07:38:49.684Z"
   },
   {
    "duration": 29,
    "start_time": "2023-08-29T07:38:49.804Z"
   },
   {
    "duration": 6,
    "start_time": "2023-08-29T07:38:49.836Z"
   },
   {
    "duration": 10,
    "start_time": "2023-08-29T07:38:49.844Z"
   },
   {
    "duration": 7,
    "start_time": "2023-08-29T07:38:49.856Z"
   },
   {
    "duration": 257,
    "start_time": "2023-08-29T07:39:05.268Z"
   },
   {
    "duration": 69,
    "start_time": "2023-08-29T07:39:06.026Z"
   },
   {
    "duration": 15,
    "start_time": "2023-08-29T07:39:07.476Z"
   },
   {
    "duration": 31,
    "start_time": "2023-08-29T07:39:08.033Z"
   },
   {
    "duration": 15,
    "start_time": "2023-08-29T07:39:08.643Z"
   },
   {
    "duration": 7,
    "start_time": "2023-08-29T07:39:09.777Z"
   },
   {
    "duration": 7,
    "start_time": "2023-08-29T07:39:10.394Z"
   },
   {
    "duration": 712,
    "start_time": "2023-08-29T07:39:12.387Z"
   },
   {
    "duration": 74,
    "start_time": "2023-08-29T07:39:13.101Z"
   },
   {
    "duration": 544,
    "start_time": "2023-08-29T07:39:13.686Z"
   },
   {
    "duration": 284,
    "start_time": "2023-08-29T07:39:14.232Z"
   },
   {
    "duration": 63,
    "start_time": "2023-08-29T07:39:14.605Z"
   },
   {
    "duration": 56,
    "start_time": "2023-08-29T07:39:15.682Z"
   },
   {
    "duration": 86,
    "start_time": "2023-08-29T07:39:16.644Z"
   },
   {
    "duration": 120,
    "start_time": "2023-08-29T07:39:17.606Z"
   },
   {
    "duration": 51,
    "start_time": "2023-08-29T07:39:17.859Z"
   },
   {
    "duration": 8,
    "start_time": "2023-08-29T07:39:18.425Z"
   },
   {
    "duration": 11,
    "start_time": "2023-08-29T07:39:18.910Z"
   },
   {
    "duration": 7,
    "start_time": "2023-08-29T07:39:19.410Z"
   },
   {
    "duration": 5,
    "start_time": "2023-08-29T07:39:19.654Z"
   },
   {
    "duration": 9,
    "start_time": "2023-08-29T07:39:22.074Z"
   },
   {
    "duration": 9,
    "start_time": "2023-08-29T07:39:22.568Z"
   },
   {
    "duration": 48,
    "start_time": "2023-08-29T07:39:22.794Z"
   },
   {
    "duration": 510,
    "start_time": "2023-08-29T07:39:23.933Z"
   },
   {
    "duration": 118,
    "start_time": "2023-08-29T07:39:40.239Z"
   },
   {
    "duration": 607,
    "start_time": "2023-08-29T07:40:11.483Z"
   },
   {
    "duration": 30,
    "start_time": "2023-08-29T07:40:13.675Z"
   },
   {
    "duration": 5,
    "start_time": "2023-08-29T07:40:13.955Z"
   },
   {
    "duration": 4,
    "start_time": "2023-08-29T07:40:14.939Z"
   },
   {
    "duration": 5,
    "start_time": "2023-08-29T07:40:15.180Z"
   },
   {
    "duration": 524,
    "start_time": "2023-08-29T07:40:15.422Z"
   },
   {
    "duration": 6,
    "start_time": "2023-08-29T07:42:01.592Z"
   },
   {
    "duration": 163,
    "start_time": "2023-08-29T07:48:40.505Z"
   },
   {
    "duration": 6,
    "start_time": "2023-08-29T07:48:57.920Z"
   },
   {
    "duration": 5,
    "start_time": "2023-08-29T07:48:58.720Z"
   },
   {
    "duration": 54,
    "start_time": "2023-08-29T07:48:59.682Z"
   },
   {
    "duration": 12,
    "start_time": "2023-08-29T07:49:01.485Z"
   },
   {
    "duration": 7110,
    "start_time": "2023-08-29T07:49:14.169Z"
   },
   {
    "duration": 108,
    "start_time": "2023-08-29T07:49:21.281Z"
   },
   {
    "duration": 24,
    "start_time": "2023-08-29T07:49:21.391Z"
   },
   {
    "duration": 5,
    "start_time": "2023-08-29T07:49:21.417Z"
   },
   {
    "duration": 9,
    "start_time": "2023-08-29T07:49:21.425Z"
   },
   {
    "duration": 12,
    "start_time": "2023-08-29T07:49:21.436Z"
   },
   {
    "duration": 148,
    "start_time": "2023-08-29T07:49:21.450Z"
   },
   {
    "duration": 82,
    "start_time": "2023-08-29T07:49:21.600Z"
   },
   {
    "duration": 15,
    "start_time": "2023-08-29T07:49:21.684Z"
   },
   {
    "duration": 51,
    "start_time": "2023-08-29T07:49:21.702Z"
   },
   {
    "duration": 13,
    "start_time": "2023-08-29T07:49:21.755Z"
   },
   {
    "duration": 7,
    "start_time": "2023-08-29T07:49:21.770Z"
   },
   {
    "duration": 8,
    "start_time": "2023-08-29T07:49:21.779Z"
   },
   {
    "duration": 592,
    "start_time": "2023-08-29T07:49:21.789Z"
   },
   {
    "duration": 85,
    "start_time": "2023-08-29T07:49:22.384Z"
   },
   {
    "duration": 568,
    "start_time": "2023-08-29T07:49:22.472Z"
   },
   {
    "duration": 280,
    "start_time": "2023-08-29T07:49:23.047Z"
   },
   {
    "duration": 67,
    "start_time": "2023-08-29T07:49:23.329Z"
   },
   {
    "duration": 66,
    "start_time": "2023-08-29T07:49:23.398Z"
   },
   {
    "duration": 91,
    "start_time": "2023-08-29T07:49:23.465Z"
   },
   {
    "duration": 107,
    "start_time": "2023-08-29T07:49:23.558Z"
   },
   {
    "duration": 45,
    "start_time": "2023-08-29T07:49:23.667Z"
   },
   {
    "duration": 8,
    "start_time": "2023-08-29T07:49:23.714Z"
   },
   {
    "duration": 26,
    "start_time": "2023-08-29T07:49:23.724Z"
   },
   {
    "duration": 5,
    "start_time": "2023-08-29T07:49:23.752Z"
   },
   {
    "duration": 6,
    "start_time": "2023-08-29T07:49:23.759Z"
   },
   {
    "duration": 12,
    "start_time": "2023-08-29T07:49:23.767Z"
   },
   {
    "duration": 10,
    "start_time": "2023-08-29T07:49:23.782Z"
   },
   {
    "duration": 76,
    "start_time": "2023-08-29T07:49:23.793Z"
   },
   {
    "duration": 525,
    "start_time": "2023-08-29T07:49:23.871Z"
   },
   {
    "duration": 478,
    "start_time": "2023-08-29T07:49:24.398Z"
   },
   {
    "duration": 31,
    "start_time": "2023-08-29T07:49:24.878Z"
   },
   {
    "duration": 28,
    "start_time": "2023-08-29T07:49:24.911Z"
   },
   {
    "duration": 19,
    "start_time": "2023-08-29T07:49:24.941Z"
   },
   {
    "duration": 15,
    "start_time": "2023-08-29T07:49:24.961Z"
   },
   {
    "duration": 589,
    "start_time": "2023-08-29T07:49:24.978Z"
   },
   {
    "duration": 227,
    "start_time": "2023-08-29T07:49:25.568Z"
   },
   {
    "duration": 0,
    "start_time": "2023-08-29T07:49:25.796Z"
   },
   {
    "duration": 0,
    "start_time": "2023-08-29T07:49:25.798Z"
   },
   {
    "duration": 0,
    "start_time": "2023-08-29T07:49:25.799Z"
   },
   {
    "duration": 0,
    "start_time": "2023-08-29T07:49:25.801Z"
   },
   {
    "duration": 0,
    "start_time": "2023-08-29T07:49:25.802Z"
   },
   {
    "duration": 0,
    "start_time": "2023-08-29T07:49:25.803Z"
   },
   {
    "duration": 0,
    "start_time": "2023-08-29T07:49:25.804Z"
   },
   {
    "duration": 0,
    "start_time": "2023-08-29T07:49:25.805Z"
   },
   {
    "duration": 0,
    "start_time": "2023-08-29T07:49:25.807Z"
   },
   {
    "duration": 0,
    "start_time": "2023-08-29T07:49:25.809Z"
   },
   {
    "duration": 1,
    "start_time": "2023-08-29T07:49:25.810Z"
   },
   {
    "duration": 0,
    "start_time": "2023-08-29T07:49:25.812Z"
   },
   {
    "duration": 0,
    "start_time": "2023-08-29T07:49:25.813Z"
   },
   {
    "duration": 0,
    "start_time": "2023-08-29T07:49:25.815Z"
   },
   {
    "duration": 0,
    "start_time": "2023-08-29T07:49:25.847Z"
   },
   {
    "duration": 0,
    "start_time": "2023-08-29T07:49:25.849Z"
   },
   {
    "duration": 0,
    "start_time": "2023-08-29T07:49:25.850Z"
   },
   {
    "duration": 0,
    "start_time": "2023-08-29T07:49:25.852Z"
   },
   {
    "duration": 0,
    "start_time": "2023-08-29T07:49:25.854Z"
   },
   {
    "duration": 0,
    "start_time": "2023-08-29T07:49:25.855Z"
   },
   {
    "duration": 0,
    "start_time": "2023-08-29T07:49:25.857Z"
   },
   {
    "duration": 0,
    "start_time": "2023-08-29T07:49:25.858Z"
   },
   {
    "duration": 0,
    "start_time": "2023-08-29T07:49:25.860Z"
   },
   {
    "duration": 0,
    "start_time": "2023-08-29T07:49:25.861Z"
   },
   {
    "duration": 0,
    "start_time": "2023-08-29T07:49:25.863Z"
   },
   {
    "duration": 0,
    "start_time": "2023-08-29T07:49:25.865Z"
   },
   {
    "duration": 0,
    "start_time": "2023-08-29T07:49:25.867Z"
   },
   {
    "duration": 0,
    "start_time": "2023-08-29T07:49:25.868Z"
   },
   {
    "duration": 0,
    "start_time": "2023-08-29T07:49:25.870Z"
   },
   {
    "duration": 11,
    "start_time": "2023-08-29T07:49:51.532Z"
   },
   {
    "duration": 4,
    "start_time": "2023-08-29T07:50:37.017Z"
   },
   {
    "duration": 6,
    "start_time": "2023-08-29T07:50:46.334Z"
   },
   {
    "duration": 95,
    "start_time": "2023-08-29T07:52:23.765Z"
   },
   {
    "duration": 77,
    "start_time": "2023-08-29T07:52:46.855Z"
   },
   {
    "duration": 14,
    "start_time": "2023-08-29T07:54:25.422Z"
   },
   {
    "duration": 90,
    "start_time": "2023-08-29T08:58:34.059Z"
   },
   {
    "duration": 44,
    "start_time": "2023-08-29T08:58:43.059Z"
   },
   {
    "duration": 11,
    "start_time": "2023-08-29T08:58:48.022Z"
   },
   {
    "duration": 271,
    "start_time": "2023-08-29T08:58:50.453Z"
   },
   {
    "duration": 23,
    "start_time": "2023-08-29T08:58:51.935Z"
   },
   {
    "duration": 28,
    "start_time": "2023-08-29T08:58:52.489Z"
   },
   {
    "duration": 358,
    "start_time": "2023-08-29T08:58:53.053Z"
   },
   {
    "duration": 349,
    "start_time": "2023-08-29T08:58:54.314Z"
   },
   {
    "duration": 23,
    "start_time": "2023-08-29T09:01:59.914Z"
   },
   {
    "duration": 394,
    "start_time": "2023-08-29T09:03:13.773Z"
   },
   {
    "duration": 15,
    "start_time": "2023-08-29T11:58:49.155Z"
   },
   {
    "duration": 7061,
    "start_time": "2023-08-29T11:58:57.450Z"
   },
   {
    "duration": 72,
    "start_time": "2023-08-29T11:59:04.514Z"
   },
   {
    "duration": 26,
    "start_time": "2023-08-29T11:59:04.587Z"
   },
   {
    "duration": 7,
    "start_time": "2023-08-29T11:59:04.615Z"
   },
   {
    "duration": 52,
    "start_time": "2023-08-29T11:59:04.623Z"
   },
   {
    "duration": 38,
    "start_time": "2023-08-29T11:59:04.677Z"
   },
   {
    "duration": 158,
    "start_time": "2023-08-29T11:59:04.716Z"
   },
   {
    "duration": 72,
    "start_time": "2023-08-29T11:59:04.876Z"
   },
   {
    "duration": 16,
    "start_time": "2023-08-29T11:59:04.949Z"
   },
   {
    "duration": 40,
    "start_time": "2023-08-29T11:59:04.968Z"
   },
   {
    "duration": 15,
    "start_time": "2023-08-29T11:59:05.010Z"
   },
   {
    "duration": 34,
    "start_time": "2023-08-29T11:59:05.026Z"
   },
   {
    "duration": 46,
    "start_time": "2023-08-29T11:59:05.062Z"
   },
   {
    "duration": 637,
    "start_time": "2023-08-29T11:59:05.110Z"
   },
   {
    "duration": 77,
    "start_time": "2023-08-29T11:59:05.749Z"
   },
   {
    "duration": 606,
    "start_time": "2023-08-29T11:59:05.827Z"
   },
   {
    "duration": 316,
    "start_time": "2023-08-29T11:59:06.435Z"
   },
   {
    "duration": 64,
    "start_time": "2023-08-29T11:59:06.753Z"
   },
   {
    "duration": 75,
    "start_time": "2023-08-29T11:59:06.819Z"
   },
   {
    "duration": 85,
    "start_time": "2023-08-29T11:59:06.896Z"
   },
   {
    "duration": 85,
    "start_time": "2023-08-29T11:59:06.982Z"
   },
   {
    "duration": 48,
    "start_time": "2023-08-29T11:59:07.069Z"
   },
   {
    "duration": 11,
    "start_time": "2023-08-29T11:59:07.119Z"
   },
   {
    "duration": 31,
    "start_time": "2023-08-29T11:59:07.131Z"
   },
   {
    "duration": 10,
    "start_time": "2023-08-29T11:59:07.164Z"
   },
   {
    "duration": 29,
    "start_time": "2023-08-29T11:59:07.176Z"
   },
   {
    "duration": 46,
    "start_time": "2023-08-29T11:59:07.207Z"
   },
   {
    "duration": 41,
    "start_time": "2023-08-29T11:59:07.257Z"
   },
   {
    "duration": 58,
    "start_time": "2023-08-29T11:59:07.300Z"
   },
   {
    "duration": 530,
    "start_time": "2023-08-29T11:59:07.360Z"
   },
   {
    "duration": 498,
    "start_time": "2023-08-29T11:59:07.892Z"
   },
   {
    "duration": 39,
    "start_time": "2023-08-29T11:59:08.393Z"
   },
   {
    "duration": 13,
    "start_time": "2023-08-29T11:59:08.435Z"
   },
   {
    "duration": 6,
    "start_time": "2023-08-29T11:59:08.450Z"
   },
   {
    "duration": 14,
    "start_time": "2023-08-29T11:59:08.458Z"
   },
   {
    "duration": 498,
    "start_time": "2023-08-29T11:59:08.473Z"
   },
   {
    "duration": 13,
    "start_time": "2023-08-29T11:59:08.973Z"
   },
   {
    "duration": 23,
    "start_time": "2023-08-29T11:59:08.988Z"
   },
   {
    "duration": 52,
    "start_time": "2023-08-29T11:59:09.013Z"
   },
   {
    "duration": 97,
    "start_time": "2023-08-29T11:59:09.067Z"
   },
   {
    "duration": 11,
    "start_time": "2023-08-29T11:59:09.167Z"
   },
   {
    "duration": 252,
    "start_time": "2023-08-29T11:59:09.180Z"
   },
   {
    "duration": 31,
    "start_time": "2023-08-29T11:59:09.434Z"
   },
   {
    "duration": 31,
    "start_time": "2023-08-29T11:59:09.466Z"
   },
   {
    "duration": 408,
    "start_time": "2023-08-29T11:59:09.499Z"
   },
   {
    "duration": 384,
    "start_time": "2023-08-29T11:59:09.909Z"
   },
   {
    "duration": 25,
    "start_time": "2023-08-29T11:59:10.295Z"
   },
   {
    "duration": 196,
    "start_time": "2023-08-29T11:59:10.323Z"
   },
   {
    "duration": 0,
    "start_time": "2023-08-29T11:59:10.521Z"
   },
   {
    "duration": 0,
    "start_time": "2023-08-29T11:59:10.522Z"
   },
   {
    "duration": 0,
    "start_time": "2023-08-29T11:59:10.524Z"
   },
   {
    "duration": 0,
    "start_time": "2023-08-29T11:59:10.525Z"
   },
   {
    "duration": 0,
    "start_time": "2023-08-29T11:59:10.526Z"
   },
   {
    "duration": 0,
    "start_time": "2023-08-29T11:59:10.527Z"
   },
   {
    "duration": 0,
    "start_time": "2023-08-29T11:59:10.528Z"
   },
   {
    "duration": 0,
    "start_time": "2023-08-29T11:59:10.529Z"
   },
   {
    "duration": 0,
    "start_time": "2023-08-29T11:59:10.547Z"
   },
   {
    "duration": 0,
    "start_time": "2023-08-29T11:59:10.549Z"
   },
   {
    "duration": 0,
    "start_time": "2023-08-29T11:59:10.550Z"
   },
   {
    "duration": 0,
    "start_time": "2023-08-29T11:59:10.551Z"
   },
   {
    "duration": 0,
    "start_time": "2023-08-29T11:59:10.552Z"
   },
   {
    "duration": 0,
    "start_time": "2023-08-29T11:59:10.553Z"
   },
   {
    "duration": 0,
    "start_time": "2023-08-29T11:59:10.554Z"
   },
   {
    "duration": 0,
    "start_time": "2023-08-29T11:59:10.555Z"
   },
   {
    "duration": 0,
    "start_time": "2023-08-29T11:59:10.556Z"
   },
   {
    "duration": 0,
    "start_time": "2023-08-29T11:59:10.557Z"
   },
   {
    "duration": 0,
    "start_time": "2023-08-29T11:59:10.558Z"
   },
   {
    "duration": 1907,
    "start_time": "2023-08-29T11:59:31.036Z"
   },
   {
    "duration": 12,
    "start_time": "2023-08-29T11:59:33.948Z"
   },
   {
    "duration": 5758,
    "start_time": "2023-08-29T12:01:29.246Z"
   },
   {
    "duration": 108,
    "start_time": "2023-08-29T12:01:35.008Z"
   },
   {
    "duration": 29,
    "start_time": "2023-08-29T12:01:35.119Z"
   },
   {
    "duration": 28,
    "start_time": "2023-08-29T12:01:35.150Z"
   },
   {
    "duration": 20,
    "start_time": "2023-08-29T12:01:35.181Z"
   },
   {
    "duration": 34,
    "start_time": "2023-08-29T12:01:35.203Z"
   },
   {
    "duration": 184,
    "start_time": "2023-08-29T12:01:35.239Z"
   },
   {
    "duration": 72,
    "start_time": "2023-08-29T12:01:35.426Z"
   },
   {
    "duration": 14,
    "start_time": "2023-08-29T12:01:35.500Z"
   },
   {
    "duration": 64,
    "start_time": "2023-08-29T12:01:35.517Z"
   },
   {
    "duration": 20,
    "start_time": "2023-08-29T12:01:35.584Z"
   },
   {
    "duration": 27,
    "start_time": "2023-08-29T12:01:35.606Z"
   },
   {
    "duration": 16,
    "start_time": "2023-08-29T12:01:42.599Z"
   },
   {
    "duration": 40,
    "start_time": "2023-08-29T12:01:44.352Z"
   },
   {
    "duration": 18,
    "start_time": "2023-08-29T12:01:44.395Z"
   },
   {
    "duration": 7,
    "start_time": "2023-08-29T12:01:45.593Z"
   },
   {
    "duration": 8,
    "start_time": "2023-08-29T12:01:47.204Z"
   },
   {
    "duration": 598,
    "start_time": "2023-08-29T12:01:48.866Z"
   },
   {
    "duration": 86,
    "start_time": "2023-08-29T12:01:49.466Z"
   },
   {
    "duration": 600,
    "start_time": "2023-08-29T12:01:49.830Z"
   },
   {
    "duration": 292,
    "start_time": "2023-08-29T12:01:50.432Z"
   },
   {
    "duration": 62,
    "start_time": "2023-08-29T12:01:50.828Z"
   },
   {
    "duration": 49,
    "start_time": "2023-08-29T12:01:51.997Z"
   },
   {
    "duration": 83,
    "start_time": "2023-08-29T12:01:52.764Z"
   },
   {
    "duration": 100,
    "start_time": "2023-08-29T12:01:53.600Z"
   },
   {
    "duration": 53,
    "start_time": "2023-08-29T12:01:53.849Z"
   },
   {
    "duration": 9,
    "start_time": "2023-08-29T12:01:54.365Z"
   },
   {
    "duration": 11,
    "start_time": "2023-08-29T12:01:54.896Z"
   },
   {
    "duration": 5,
    "start_time": "2023-08-29T12:01:55.605Z"
   },
   {
    "duration": 6,
    "start_time": "2023-08-29T12:01:55.864Z"
   },
   {
    "duration": 9,
    "start_time": "2023-08-29T12:01:57.889Z"
   },
   {
    "duration": 13,
    "start_time": "2023-08-29T12:01:58.364Z"
   },
   {
    "duration": 52,
    "start_time": "2023-08-29T12:01:58.604Z"
   },
   {
    "duration": 424,
    "start_time": "2023-08-29T12:01:59.567Z"
   },
   {
    "duration": 484,
    "start_time": "2023-08-29T12:02:02.503Z"
   },
   {
    "duration": 35,
    "start_time": "2023-08-29T12:02:04.319Z"
   },
   {
    "duration": 6,
    "start_time": "2023-08-29T12:02:04.741Z"
   },
   {
    "duration": 9,
    "start_time": "2023-08-29T12:02:06.045Z"
   },
   {
    "duration": 6,
    "start_time": "2023-08-29T12:02:06.320Z"
   },
   {
    "duration": 63,
    "start_time": "2023-08-29T12:02:06.686Z"
   },
   {
    "duration": 12,
    "start_time": "2023-08-29T12:02:07.505Z"
   },
   {
    "duration": 6,
    "start_time": "2023-08-29T12:03:18.932Z"
   },
   {
    "duration": 13,
    "start_time": "2023-08-29T12:03:19.969Z"
   },
   {
    "duration": 42,
    "start_time": "2023-08-29T12:03:22.455Z"
   },
   {
    "duration": 10,
    "start_time": "2023-08-29T12:03:26.250Z"
   },
   {
    "duration": 293,
    "start_time": "2023-08-29T12:03:27.012Z"
   },
   {
    "duration": 25,
    "start_time": "2023-08-29T12:03:28.016Z"
   },
   {
    "duration": 29,
    "start_time": "2023-08-29T12:03:28.709Z"
   },
   {
    "duration": 376,
    "start_time": "2023-08-29T12:03:29.397Z"
   },
   {
    "duration": 325,
    "start_time": "2023-08-29T12:03:30.584Z"
   },
   {
    "duration": 26,
    "start_time": "2023-08-29T12:03:32.192Z"
   },
   {
    "duration": 15,
    "start_time": "2023-08-29T12:03:37.989Z"
   },
   {
    "duration": 33,
    "start_time": "2023-08-29T12:14:59.588Z"
   },
   {
    "duration": 10,
    "start_time": "2023-08-29T12:15:31.298Z"
   },
   {
    "duration": 14,
    "start_time": "2023-08-29T12:17:55.321Z"
   },
   {
    "duration": 16,
    "start_time": "2023-08-29T12:18:39.890Z"
   },
   {
    "duration": 14,
    "start_time": "2023-08-29T12:19:26.352Z"
   },
   {
    "duration": 16,
    "start_time": "2023-08-29T12:24:30.212Z"
   },
   {
    "duration": 12,
    "start_time": "2023-08-29T12:24:30.650Z"
   },
   {
    "duration": 451,
    "start_time": "2023-08-29T12:24:31.829Z"
   },
   {
    "duration": 306,
    "start_time": "2023-08-29T12:25:59.640Z"
   },
   {
    "duration": 261,
    "start_time": "2023-08-29T12:26:38.203Z"
   },
   {
    "duration": 1645,
    "start_time": "2023-08-29T12:28:06.589Z"
   },
   {
    "duration": 11,
    "start_time": "2023-08-29T12:42:33.675Z"
   },
   {
    "duration": 258,
    "start_time": "2023-08-29T12:43:03.499Z"
   },
   {
    "duration": 251,
    "start_time": "2023-08-29T12:43:30.314Z"
   },
   {
    "duration": 264,
    "start_time": "2023-08-29T12:43:43.496Z"
   },
   {
    "duration": 271,
    "start_time": "2023-08-29T12:43:52.989Z"
   },
   {
    "duration": 301,
    "start_time": "2023-08-29T12:44:10.347Z"
   },
   {
    "duration": 11,
    "start_time": "2023-08-29T12:50:14.357Z"
   },
   {
    "duration": 341,
    "start_time": "2023-08-29T12:50:15.630Z"
   },
   {
    "duration": 99,
    "start_time": "2023-08-29T12:51:28.180Z"
   },
   {
    "duration": 16,
    "start_time": "2023-08-29T12:51:33.517Z"
   },
   {
    "duration": 247,
    "start_time": "2023-08-29T12:51:36.117Z"
   },
   {
    "duration": 127,
    "start_time": "2023-08-29T12:58:30.110Z"
   },
   {
    "duration": 1747,
    "start_time": "2023-08-29T13:00:46.784Z"
   },
   {
    "duration": 1634,
    "start_time": "2023-08-29T13:00:48.533Z"
   },
   {
    "duration": 99,
    "start_time": "2023-08-29T13:00:51.650Z"
   },
   {
    "duration": 1445,
    "start_time": "2023-08-29T13:00:53.521Z"
   },
   {
    "duration": 48,
    "start_time": "2023-08-29T16:21:27.619Z"
   },
   {
    "duration": 42237,
    "start_time": "2023-08-29T16:21:36.484Z"
   },
   {
    "duration": 137,
    "start_time": "2023-08-29T16:22:18.724Z"
   },
   {
    "duration": 25,
    "start_time": "2023-08-29T16:22:18.863Z"
   },
   {
    "duration": 5,
    "start_time": "2023-08-29T16:22:18.891Z"
   },
   {
    "duration": 16,
    "start_time": "2023-08-29T16:22:18.898Z"
   },
   {
    "duration": 31,
    "start_time": "2023-08-29T16:22:18.916Z"
   },
   {
    "duration": 264,
    "start_time": "2023-08-29T16:22:18.948Z"
   },
   {
    "duration": 70,
    "start_time": "2023-08-29T16:22:19.213Z"
   },
   {
    "duration": 14,
    "start_time": "2023-08-29T16:22:19.284Z"
   },
   {
    "duration": 46,
    "start_time": "2023-08-29T16:22:19.300Z"
   },
   {
    "duration": 18,
    "start_time": "2023-08-29T16:22:19.347Z"
   },
   {
    "duration": 37,
    "start_time": "2023-08-29T16:22:19.369Z"
   },
   {
    "duration": 9,
    "start_time": "2023-08-29T16:22:19.408Z"
   },
   {
    "duration": 750,
    "start_time": "2023-08-29T16:22:19.419Z"
   },
   {
    "duration": 75,
    "start_time": "2023-08-29T16:22:20.170Z"
   },
   {
    "duration": 630,
    "start_time": "2023-08-29T16:22:20.247Z"
   },
   {
    "duration": 282,
    "start_time": "2023-08-29T16:22:20.879Z"
   },
   {
    "duration": 55,
    "start_time": "2023-08-29T16:22:21.163Z"
   },
   {
    "duration": 60,
    "start_time": "2023-08-29T16:22:21.224Z"
   },
   {
    "duration": 87,
    "start_time": "2023-08-29T16:22:21.285Z"
   },
   {
    "duration": 141,
    "start_time": "2023-08-29T16:22:21.374Z"
   },
   {
    "duration": 46,
    "start_time": "2023-08-29T16:22:21.517Z"
   },
   {
    "duration": 9,
    "start_time": "2023-08-29T16:22:21.565Z"
   },
   {
    "duration": 34,
    "start_time": "2023-08-29T16:22:21.575Z"
   },
   {
    "duration": 38,
    "start_time": "2023-08-29T16:22:21.611Z"
   },
   {
    "duration": 18,
    "start_time": "2023-08-29T16:22:21.651Z"
   },
   {
    "duration": 21,
    "start_time": "2023-08-29T16:22:21.671Z"
   },
   {
    "duration": 9,
    "start_time": "2023-08-29T16:22:21.697Z"
   },
   {
    "duration": 45,
    "start_time": "2023-08-29T16:22:21.708Z"
   },
   {
    "duration": 440,
    "start_time": "2023-08-29T16:22:21.755Z"
   },
   {
    "duration": 470,
    "start_time": "2023-08-29T16:22:22.196Z"
   },
   {
    "duration": 32,
    "start_time": "2023-08-29T16:22:22.667Z"
   },
   {
    "duration": 24,
    "start_time": "2023-08-29T16:22:22.700Z"
   },
   {
    "duration": 6,
    "start_time": "2023-08-29T16:22:22.725Z"
   },
   {
    "duration": 24,
    "start_time": "2023-08-29T16:22:22.733Z"
   },
   {
    "duration": 21,
    "start_time": "2023-08-29T16:22:22.758Z"
   },
   {
    "duration": 9,
    "start_time": "2023-08-29T16:22:22.781Z"
   },
   {
    "duration": 15,
    "start_time": "2023-08-29T16:22:22.791Z"
   },
   {
    "duration": 37,
    "start_time": "2023-08-29T16:22:22.807Z"
   },
   {
    "duration": 8,
    "start_time": "2023-08-29T16:22:22.845Z"
   },
   {
    "duration": 253,
    "start_time": "2023-08-29T16:22:22.854Z"
   },
   {
    "duration": 33,
    "start_time": "2023-08-29T16:22:23.108Z"
   },
   {
    "duration": 33,
    "start_time": "2023-08-29T16:22:23.143Z"
   },
   {
    "duration": 403,
    "start_time": "2023-08-29T16:22:23.179Z"
   },
   {
    "duration": 342,
    "start_time": "2023-08-29T16:22:23.583Z"
   },
   {
    "duration": 25,
    "start_time": "2023-08-29T16:22:23.926Z"
   },
   {
    "duration": 11,
    "start_time": "2023-08-29T16:22:23.953Z"
   },
   {
    "duration": 263,
    "start_time": "2023-08-29T16:22:23.965Z"
   },
   {
    "duration": 15,
    "start_time": "2023-08-29T16:22:24.230Z"
   },
   {
    "duration": 207,
    "start_time": "2023-08-29T16:22:24.247Z"
   },
   {
    "duration": 325,
    "start_time": "2023-08-29T16:22:24.525Z"
   },
   {
    "duration": 0,
    "start_time": "2023-08-29T16:22:24.851Z"
   },
   {
    "duration": 0,
    "start_time": "2023-08-29T16:22:24.852Z"
   },
   {
    "duration": 0,
    "start_time": "2023-08-29T16:22:24.853Z"
   },
   {
    "duration": 0,
    "start_time": "2023-08-29T16:22:24.854Z"
   },
   {
    "duration": 0,
    "start_time": "2023-08-29T16:22:24.855Z"
   },
   {
    "duration": 0,
    "start_time": "2023-08-29T16:22:24.856Z"
   },
   {
    "duration": 0,
    "start_time": "2023-08-29T16:22:24.857Z"
   },
   {
    "duration": 0,
    "start_time": "2023-08-29T16:22:24.858Z"
   },
   {
    "duration": 0,
    "start_time": "2023-08-29T16:22:24.859Z"
   },
   {
    "duration": 1,
    "start_time": "2023-08-29T16:22:24.859Z"
   },
   {
    "duration": 0,
    "start_time": "2023-08-29T16:22:24.860Z"
   },
   {
    "duration": 0,
    "start_time": "2023-08-29T16:22:24.862Z"
   },
   {
    "duration": 0,
    "start_time": "2023-08-29T16:22:24.863Z"
   },
   {
    "duration": 0,
    "start_time": "2023-08-29T16:22:24.863Z"
   },
   {
    "duration": 0,
    "start_time": "2023-08-29T16:22:24.864Z"
   },
   {
    "duration": 0,
    "start_time": "2023-08-29T16:22:24.865Z"
   },
   {
    "duration": 0,
    "start_time": "2023-08-29T16:22:24.866Z"
   },
   {
    "duration": 0,
    "start_time": "2023-08-29T16:22:24.867Z"
   },
   {
    "duration": 0,
    "start_time": "2023-08-29T16:22:24.868Z"
   },
   {
    "duration": 0,
    "start_time": "2023-08-29T16:22:24.868Z"
   },
   {
    "duration": 0,
    "start_time": "2023-08-29T16:22:24.869Z"
   },
   {
    "duration": 12,
    "start_time": "2023-08-29T16:22:42.358Z"
   },
   {
    "duration": 317,
    "start_time": "2023-08-29T16:22:43.123Z"
   },
   {
    "duration": 1450,
    "start_time": "2023-08-29T16:22:47.999Z"
   },
   {
    "duration": 1126,
    "start_time": "2023-08-29T16:22:51.412Z"
   },
   {
    "duration": 1477,
    "start_time": "2023-08-29T16:22:57.324Z"
   },
   {
    "duration": 1469,
    "start_time": "2023-08-29T16:22:58.803Z"
   },
   {
    "duration": 93,
    "start_time": "2023-08-29T16:23:17.854Z"
   },
   {
    "duration": 1426,
    "start_time": "2023-08-29T16:23:19.708Z"
   },
   {
    "duration": 1047,
    "start_time": "2023-08-29T16:23:21.136Z"
   },
   {
    "duration": 12,
    "start_time": "2023-08-29T16:24:57.692Z"
   },
   {
    "duration": 793,
    "start_time": "2023-08-29T16:25:49.072Z"
   },
   {
    "duration": 689,
    "start_time": "2023-08-29T16:26:16.044Z"
   },
   {
    "duration": 1167,
    "start_time": "2023-08-29T16:27:27.801Z"
   },
   {
    "duration": 710,
    "start_time": "2023-08-29T16:27:51.465Z"
   },
   {
    "duration": 122,
    "start_time": "2023-08-29T16:31:44.946Z"
   },
   {
    "duration": 11,
    "start_time": "2023-08-29T16:32:20.893Z"
   },
   {
    "duration": 2464,
    "start_time": "2023-08-29T16:41:41.531Z"
   },
   {
    "duration": 7136,
    "start_time": "2023-08-29T16:41:56.615Z"
   },
   {
    "duration": 80,
    "start_time": "2023-08-29T16:42:03.753Z"
   },
   {
    "duration": 28,
    "start_time": "2023-08-29T16:42:03.837Z"
   },
   {
    "duration": 15,
    "start_time": "2023-08-29T16:42:03.868Z"
   },
   {
    "duration": 64,
    "start_time": "2023-08-29T16:42:03.885Z"
   },
   {
    "duration": 14,
    "start_time": "2023-08-29T16:42:03.951Z"
   },
   {
    "duration": 119,
    "start_time": "2023-08-29T16:42:03.966Z"
   },
   {
    "duration": 71,
    "start_time": "2023-08-29T16:42:04.087Z"
   },
   {
    "duration": 15,
    "start_time": "2023-08-29T16:42:04.159Z"
   },
   {
    "duration": 29,
    "start_time": "2023-08-29T16:42:04.176Z"
   },
   {
    "duration": 20,
    "start_time": "2023-08-29T16:42:04.226Z"
   },
   {
    "duration": 8,
    "start_time": "2023-08-29T16:42:04.247Z"
   },
   {
    "duration": 9,
    "start_time": "2023-08-29T16:42:04.257Z"
   },
   {
    "duration": 629,
    "start_time": "2023-08-29T16:42:04.267Z"
   },
   {
    "duration": 91,
    "start_time": "2023-08-29T16:42:04.898Z"
   },
   {
    "duration": 661,
    "start_time": "2023-08-29T16:42:04.991Z"
   },
   {
    "duration": 364,
    "start_time": "2023-08-29T16:42:05.654Z"
   },
   {
    "duration": 77,
    "start_time": "2023-08-29T16:42:06.028Z"
   },
   {
    "duration": 75,
    "start_time": "2023-08-29T16:42:06.106Z"
   },
   {
    "duration": 99,
    "start_time": "2023-08-29T16:42:06.182Z"
   },
   {
    "duration": 74,
    "start_time": "2023-08-29T16:42:06.283Z"
   },
   {
    "duration": 39,
    "start_time": "2023-08-29T16:42:06.359Z"
   },
   {
    "duration": 8,
    "start_time": "2023-08-29T16:42:06.400Z"
   },
   {
    "duration": 11,
    "start_time": "2023-08-29T16:42:06.409Z"
   },
   {
    "duration": 9,
    "start_time": "2023-08-29T16:42:06.422Z"
   },
   {
    "duration": 5,
    "start_time": "2023-08-29T16:42:06.433Z"
   },
   {
    "duration": 11,
    "start_time": "2023-08-29T16:42:06.440Z"
   },
   {
    "duration": 10,
    "start_time": "2023-08-29T16:42:06.456Z"
   },
   {
    "duration": 65,
    "start_time": "2023-08-29T16:42:06.468Z"
   },
   {
    "duration": 511,
    "start_time": "2023-08-29T16:42:06.535Z"
   },
   {
    "duration": 536,
    "start_time": "2023-08-29T16:42:07.048Z"
   },
   {
    "duration": 43,
    "start_time": "2023-08-29T16:42:07.586Z"
   },
   {
    "duration": 9,
    "start_time": "2023-08-29T16:42:07.632Z"
   },
   {
    "duration": 7,
    "start_time": "2023-08-29T16:42:07.644Z"
   },
   {
    "duration": 10,
    "start_time": "2023-08-29T16:42:07.653Z"
   },
   {
    "duration": 12,
    "start_time": "2023-08-29T16:42:07.665Z"
   },
   {
    "duration": 6,
    "start_time": "2023-08-29T16:42:07.679Z"
   },
   {
    "duration": 10,
    "start_time": "2023-08-29T16:42:07.686Z"
   },
   {
    "duration": 52,
    "start_time": "2023-08-29T16:42:07.725Z"
   },
   {
    "duration": 8,
    "start_time": "2023-08-29T16:42:07.779Z"
   },
   {
    "duration": 297,
    "start_time": "2023-08-29T16:42:07.789Z"
   },
   {
    "duration": 21,
    "start_time": "2023-08-29T16:42:08.088Z"
   },
   {
    "duration": 45,
    "start_time": "2023-08-29T16:42:08.111Z"
   },
   {
    "duration": 335,
    "start_time": "2023-08-29T16:42:08.158Z"
   },
   {
    "duration": 362,
    "start_time": "2023-08-29T16:42:08.494Z"
   },
   {
    "duration": 28,
    "start_time": "2023-08-29T16:42:08.858Z"
   },
   {
    "duration": 10,
    "start_time": "2023-08-29T16:42:08.888Z"
   },
   {
    "duration": 249,
    "start_time": "2023-08-29T16:42:08.900Z"
   },
   {
    "duration": 215,
    "start_time": "2023-08-29T16:42:09.152Z"
   },
   {
    "duration": 0,
    "start_time": "2023-08-29T16:42:09.368Z"
   },
   {
    "duration": 0,
    "start_time": "2023-08-29T16:42:09.370Z"
   },
   {
    "duration": 0,
    "start_time": "2023-08-29T16:42:09.371Z"
   },
   {
    "duration": 0,
    "start_time": "2023-08-29T16:42:09.372Z"
   },
   {
    "duration": 0,
    "start_time": "2023-08-29T16:42:09.373Z"
   },
   {
    "duration": 0,
    "start_time": "2023-08-29T16:42:09.376Z"
   },
   {
    "duration": 0,
    "start_time": "2023-08-29T16:42:09.377Z"
   },
   {
    "duration": 0,
    "start_time": "2023-08-29T16:42:09.378Z"
   },
   {
    "duration": 0,
    "start_time": "2023-08-29T16:42:09.379Z"
   },
   {
    "duration": 0,
    "start_time": "2023-08-29T16:42:09.381Z"
   },
   {
    "duration": 0,
    "start_time": "2023-08-29T16:42:09.382Z"
   },
   {
    "duration": 0,
    "start_time": "2023-08-29T16:42:09.383Z"
   },
   {
    "duration": 0,
    "start_time": "2023-08-29T16:42:09.385Z"
   },
   {
    "duration": 0,
    "start_time": "2023-08-29T16:42:09.386Z"
   },
   {
    "duration": 0,
    "start_time": "2023-08-29T16:42:09.387Z"
   },
   {
    "duration": 0,
    "start_time": "2023-08-29T16:42:09.388Z"
   },
   {
    "duration": 0,
    "start_time": "2023-08-29T16:42:09.424Z"
   },
   {
    "duration": 0,
    "start_time": "2023-08-29T16:42:09.425Z"
   },
   {
    "duration": 0,
    "start_time": "2023-08-29T16:42:09.426Z"
   },
   {
    "duration": 0,
    "start_time": "2023-08-29T16:42:09.428Z"
   },
   {
    "duration": 0,
    "start_time": "2023-08-29T16:42:09.429Z"
   },
   {
    "duration": 0,
    "start_time": "2023-08-29T16:42:09.431Z"
   },
   {
    "duration": 0,
    "start_time": "2023-08-29T16:42:09.432Z"
   },
   {
    "duration": 0,
    "start_time": "2023-08-29T16:42:09.434Z"
   },
   {
    "duration": 2124,
    "start_time": "2023-08-29T16:43:28.053Z"
   },
   {
    "duration": 5521,
    "start_time": "2023-08-29T16:43:48.042Z"
   },
   {
    "duration": 72,
    "start_time": "2023-08-29T16:43:53.566Z"
   },
   {
    "duration": 17,
    "start_time": "2023-08-29T16:43:53.640Z"
   },
   {
    "duration": 13,
    "start_time": "2023-08-29T16:43:53.659Z"
   },
   {
    "duration": 8,
    "start_time": "2023-08-29T16:43:53.674Z"
   },
   {
    "duration": 24,
    "start_time": "2023-08-29T16:43:53.683Z"
   },
   {
    "duration": 183,
    "start_time": "2023-08-29T16:43:53.709Z"
   },
   {
    "duration": 72,
    "start_time": "2023-08-29T16:43:53.894Z"
   },
   {
    "duration": 14,
    "start_time": "2023-08-29T16:43:53.969Z"
   },
   {
    "duration": 32,
    "start_time": "2023-08-29T16:43:53.985Z"
   },
   {
    "duration": 25,
    "start_time": "2023-08-29T16:43:54.026Z"
   },
   {
    "duration": 36,
    "start_time": "2023-08-29T16:43:54.053Z"
   },
   {
    "duration": 54,
    "start_time": "2023-08-29T16:43:54.090Z"
   },
   {
    "duration": 558,
    "start_time": "2023-08-29T16:43:54.147Z"
   },
   {
    "duration": 73,
    "start_time": "2023-08-29T16:43:54.707Z"
   },
   {
    "duration": 548,
    "start_time": "2023-08-29T16:43:54.782Z"
   },
   {
    "duration": 249,
    "start_time": "2023-08-29T16:43:55.333Z"
   },
   {
    "duration": 63,
    "start_time": "2023-08-29T16:43:55.584Z"
   },
   {
    "duration": 49,
    "start_time": "2023-08-29T16:43:55.649Z"
   },
   {
    "duration": 88,
    "start_time": "2023-08-29T16:43:56.458Z"
   },
   {
    "duration": 246,
    "start_time": "2023-08-29T16:43:58.105Z"
   },
   {
    "duration": 53,
    "start_time": "2023-08-29T16:43:58.447Z"
   },
   {
    "duration": 11,
    "start_time": "2023-08-29T16:43:59.420Z"
   },
   {
    "duration": 10,
    "start_time": "2023-08-29T16:44:00.107Z"
   },
   {
    "duration": 5,
    "start_time": "2023-08-29T16:44:00.662Z"
   },
   {
    "duration": 5,
    "start_time": "2023-08-29T16:44:00.965Z"
   },
   {
    "duration": 11,
    "start_time": "2023-08-29T16:44:03.622Z"
   },
   {
    "duration": 18,
    "start_time": "2023-08-29T16:44:04.228Z"
   },
   {
    "duration": 46,
    "start_time": "2023-08-29T16:44:04.525Z"
   },
   {
    "duration": 456,
    "start_time": "2023-08-29T16:44:05.714Z"
   },
   {
    "duration": 502,
    "start_time": "2023-08-29T16:44:08.207Z"
   },
   {
    "duration": 29,
    "start_time": "2023-08-29T16:44:09.965Z"
   },
   {
    "duration": 6,
    "start_time": "2023-08-29T16:44:10.565Z"
   },
   {
    "duration": 3,
    "start_time": "2023-08-29T16:44:12.229Z"
   },
   {
    "duration": 5,
    "start_time": "2023-08-29T16:44:12.745Z"
   },
   {
    "duration": 12,
    "start_time": "2023-08-29T16:44:13.055Z"
   },
   {
    "duration": 7,
    "start_time": "2023-08-29T16:44:15.174Z"
   },
   {
    "duration": 11,
    "start_time": "2023-08-29T16:44:15.640Z"
   },
   {
    "duration": 40,
    "start_time": "2023-08-29T16:44:16.948Z"
   },
   {
    "duration": 11,
    "start_time": "2023-08-29T16:44:19.144Z"
   },
   {
    "duration": 300,
    "start_time": "2023-08-29T16:44:19.626Z"
   },
   {
    "duration": 24,
    "start_time": "2023-08-29T16:44:20.402Z"
   },
   {
    "duration": 32,
    "start_time": "2023-08-29T16:44:20.637Z"
   },
   {
    "duration": 492,
    "start_time": "2023-08-29T16:44:20.888Z"
   },
   {
    "duration": 347,
    "start_time": "2023-08-29T16:44:21.474Z"
   },
   {
    "duration": 25,
    "start_time": "2023-08-29T16:44:22.286Z"
   },
   {
    "duration": 1425,
    "start_time": "2023-08-29T16:44:26.801Z"
   },
   {
    "duration": 10,
    "start_time": "2023-08-29T16:45:13.967Z"
   },
   {
    "duration": 297,
    "start_time": "2023-08-29T16:45:27.161Z"
   },
   {
    "duration": 18,
    "start_time": "2023-08-29T16:45:30.163Z"
   },
   {
    "duration": 338,
    "start_time": "2023-08-29T16:45:32.301Z"
   },
   {
    "duration": 11,
    "start_time": "2023-08-29T16:45:38.981Z"
   },
   {
    "duration": 306,
    "start_time": "2023-08-29T16:45:41.342Z"
   },
   {
    "duration": 1533,
    "start_time": "2023-08-29T16:45:51.046Z"
   },
   {
    "duration": 1352,
    "start_time": "2023-08-29T16:45:54.977Z"
   },
   {
    "duration": 1715,
    "start_time": "2023-08-29T16:46:07.333Z"
   },
   {
    "duration": 1471,
    "start_time": "2023-08-29T16:46:10.929Z"
   },
   {
    "duration": 2009,
    "start_time": "2023-08-29T16:46:42.454Z"
   },
   {
    "duration": 4,
    "start_time": "2023-08-29T16:47:23.585Z"
   },
   {
    "duration": 83,
    "start_time": "2023-08-29T16:47:44.792Z"
   },
   {
    "duration": 288,
    "start_time": "2023-08-29T16:47:57.581Z"
   },
   {
    "duration": 28,
    "start_time": "2023-08-29T16:50:05.209Z"
   },
   {
    "duration": 10,
    "start_time": "2023-08-29T16:50:19.473Z"
   },
   {
    "duration": 15,
    "start_time": "2023-08-29T16:50:43.845Z"
   },
   {
    "duration": 7249,
    "start_time": "2023-08-29T16:51:43.915Z"
   },
   {
    "duration": 84,
    "start_time": "2023-08-29T16:51:51.167Z"
   },
   {
    "duration": 27,
    "start_time": "2023-08-29T16:51:51.253Z"
   },
   {
    "duration": 5,
    "start_time": "2023-08-29T16:51:51.282Z"
   },
   {
    "duration": 33,
    "start_time": "2023-08-29T16:51:51.289Z"
   },
   {
    "duration": 24,
    "start_time": "2023-08-29T16:51:51.325Z"
   },
   {
    "duration": 152,
    "start_time": "2023-08-29T16:51:51.350Z"
   },
   {
    "duration": 74,
    "start_time": "2023-08-29T16:51:51.504Z"
   },
   {
    "duration": 15,
    "start_time": "2023-08-29T16:51:51.579Z"
   },
   {
    "duration": 72,
    "start_time": "2023-08-29T16:51:51.596Z"
   },
   {
    "duration": 30,
    "start_time": "2023-08-29T16:51:51.669Z"
   },
   {
    "duration": 19,
    "start_time": "2023-08-29T16:51:51.701Z"
   },
   {
    "duration": 27,
    "start_time": "2023-08-29T16:51:51.721Z"
   },
   {
    "duration": 603,
    "start_time": "2023-08-29T16:51:51.750Z"
   },
   {
    "duration": 82,
    "start_time": "2023-08-29T16:51:52.355Z"
   },
   {
    "duration": 633,
    "start_time": "2023-08-29T16:51:52.439Z"
   },
   {
    "duration": 306,
    "start_time": "2023-08-29T16:51:53.074Z"
   },
   {
    "duration": 73,
    "start_time": "2023-08-29T16:51:53.382Z"
   },
   {
    "duration": 56,
    "start_time": "2023-08-29T16:51:53.457Z"
   },
   {
    "duration": 81,
    "start_time": "2023-08-29T16:51:53.524Z"
   },
   {
    "duration": 103,
    "start_time": "2023-08-29T16:51:53.607Z"
   },
   {
    "duration": 60,
    "start_time": "2023-08-29T16:51:53.712Z"
   },
   {
    "duration": 8,
    "start_time": "2023-08-29T16:51:53.774Z"
   },
   {
    "duration": 10,
    "start_time": "2023-08-29T16:51:53.784Z"
   },
   {
    "duration": 34,
    "start_time": "2023-08-29T16:51:53.795Z"
   },
   {
    "duration": 11,
    "start_time": "2023-08-29T16:51:53.831Z"
   },
   {
    "duration": 13,
    "start_time": "2023-08-29T16:51:53.845Z"
   },
   {
    "duration": 14,
    "start_time": "2023-08-29T16:51:53.864Z"
   },
   {
    "duration": 83,
    "start_time": "2023-08-29T16:51:53.879Z"
   },
   {
    "duration": 527,
    "start_time": "2023-08-29T16:51:53.964Z"
   },
   {
    "duration": 523,
    "start_time": "2023-08-29T16:51:54.493Z"
   },
   {
    "duration": 42,
    "start_time": "2023-08-29T16:51:55.024Z"
   },
   {
    "duration": 19,
    "start_time": "2023-08-29T16:51:55.068Z"
   },
   {
    "duration": 6,
    "start_time": "2023-08-29T16:51:55.088Z"
   },
   {
    "duration": 13,
    "start_time": "2023-08-29T16:51:55.095Z"
   },
   {
    "duration": 24,
    "start_time": "2023-08-29T16:51:55.110Z"
   },
   {
    "duration": 11,
    "start_time": "2023-08-29T16:51:55.137Z"
   },
   {
    "duration": 14,
    "start_time": "2023-08-29T16:51:55.151Z"
   },
   {
    "duration": 83,
    "start_time": "2023-08-29T16:51:55.167Z"
   },
   {
    "duration": 9,
    "start_time": "2023-08-29T16:51:55.252Z"
   },
   {
    "duration": 353,
    "start_time": "2023-08-29T16:51:55.262Z"
   },
   {
    "duration": 36,
    "start_time": "2023-08-29T16:51:55.636Z"
   },
   {
    "duration": 29,
    "start_time": "2023-08-29T16:51:55.674Z"
   },
   {
    "duration": 455,
    "start_time": "2023-08-29T16:51:55.704Z"
   },
   {
    "duration": 398,
    "start_time": "2023-08-29T16:51:56.161Z"
   },
   {
    "duration": 11,
    "start_time": "2023-08-29T16:51:56.560Z"
   },
   {
    "duration": 280,
    "start_time": "2023-08-29T16:51:56.573Z"
   },
   {
    "duration": 19,
    "start_time": "2023-08-29T16:51:56.855Z"
   },
   {
    "duration": 331,
    "start_time": "2023-08-29T16:51:56.924Z"
   },
   {
    "duration": 11,
    "start_time": "2023-08-29T16:51:57.257Z"
   },
   {
    "duration": 292,
    "start_time": "2023-08-29T16:51:57.270Z"
   },
   {
    "duration": 1711,
    "start_time": "2023-08-29T16:51:57.563Z"
   },
   {
    "duration": 1417,
    "start_time": "2023-08-29T16:51:59.276Z"
   },
   {
    "duration": 1757,
    "start_time": "2023-08-29T16:52:00.695Z"
   },
   {
    "duration": 1710,
    "start_time": "2023-08-29T16:52:02.454Z"
   },
   {
    "duration": 119,
    "start_time": "2023-08-29T16:52:04.166Z"
   },
   {
    "duration": 11,
    "start_time": "2023-08-29T16:52:04.287Z"
   },
   {
    "duration": 759,
    "start_time": "2023-08-29T16:52:04.300Z"
   },
   {
    "duration": 9,
    "start_time": "2023-08-29T16:52:05.061Z"
   },
   {
    "duration": 6928,
    "start_time": "2023-08-29T16:54:37.268Z"
   },
   {
    "duration": 71,
    "start_time": "2023-08-29T16:54:44.198Z"
   },
   {
    "duration": 23,
    "start_time": "2023-08-29T16:54:44.271Z"
   },
   {
    "duration": 4,
    "start_time": "2023-08-29T16:54:44.296Z"
   },
   {
    "duration": 13,
    "start_time": "2023-08-29T16:54:44.302Z"
   },
   {
    "duration": 8,
    "start_time": "2023-08-29T16:54:44.317Z"
   },
   {
    "duration": 119,
    "start_time": "2023-08-29T16:54:44.330Z"
   },
   {
    "duration": 104,
    "start_time": "2023-08-29T16:54:44.451Z"
   },
   {
    "duration": 23,
    "start_time": "2023-08-29T16:54:44.557Z"
   },
   {
    "duration": 57,
    "start_time": "2023-08-29T16:54:44.584Z"
   },
   {
    "duration": 14,
    "start_time": "2023-08-29T16:54:44.643Z"
   },
   {
    "duration": 14,
    "start_time": "2023-08-29T16:54:44.658Z"
   },
   {
    "duration": 9,
    "start_time": "2023-08-29T16:54:44.674Z"
   },
   {
    "duration": 570,
    "start_time": "2023-08-29T16:54:44.685Z"
   },
   {
    "duration": 91,
    "start_time": "2023-08-29T16:54:45.257Z"
   },
   {
    "duration": 689,
    "start_time": "2023-08-29T16:54:45.350Z"
   },
   {
    "duration": 340,
    "start_time": "2023-08-29T16:54:46.044Z"
   },
   {
    "duration": 65,
    "start_time": "2023-08-29T16:54:46.386Z"
   },
   {
    "duration": 56,
    "start_time": "2023-08-29T16:54:46.452Z"
   },
   {
    "duration": 78,
    "start_time": "2023-08-29T16:54:46.524Z"
   },
   {
    "duration": 97,
    "start_time": "2023-08-29T16:54:46.604Z"
   },
   {
    "duration": 48,
    "start_time": "2023-08-29T16:54:46.703Z"
   },
   {
    "duration": 9,
    "start_time": "2023-08-29T16:54:46.753Z"
   },
   {
    "duration": 26,
    "start_time": "2023-08-29T16:54:46.763Z"
   },
   {
    "duration": 11,
    "start_time": "2023-08-29T16:54:46.792Z"
   },
   {
    "duration": 8,
    "start_time": "2023-08-29T16:54:46.805Z"
   },
   {
    "duration": 26,
    "start_time": "2023-08-29T16:54:46.815Z"
   },
   {
    "duration": 23,
    "start_time": "2023-08-29T16:54:46.846Z"
   },
   {
    "duration": 90,
    "start_time": "2023-08-29T16:54:46.871Z"
   },
   {
    "duration": 528,
    "start_time": "2023-08-29T16:54:46.964Z"
   },
   {
    "duration": 474,
    "start_time": "2023-08-29T16:54:47.493Z"
   },
   {
    "duration": 32,
    "start_time": "2023-08-29T16:54:47.969Z"
   },
   {
    "duration": 21,
    "start_time": "2023-08-29T16:54:48.003Z"
   },
   {
    "duration": 6,
    "start_time": "2023-08-29T16:54:48.026Z"
   },
   {
    "duration": 6,
    "start_time": "2023-08-29T16:54:48.033Z"
   },
   {
    "duration": 25,
    "start_time": "2023-08-29T16:54:48.041Z"
   },
   {
    "duration": 16,
    "start_time": "2023-08-29T16:54:48.068Z"
   },
   {
    "duration": 27,
    "start_time": "2023-08-29T16:54:48.085Z"
   },
   {
    "duration": 57,
    "start_time": "2023-08-29T16:54:48.114Z"
   },
   {
    "duration": 13,
    "start_time": "2023-08-29T16:54:48.173Z"
   },
   {
    "duration": 310,
    "start_time": "2023-08-29T16:54:48.188Z"
   },
   {
    "duration": 30,
    "start_time": "2023-08-29T16:54:48.500Z"
   },
   {
    "duration": 30,
    "start_time": "2023-08-29T16:54:48.531Z"
   },
   {
    "duration": 430,
    "start_time": "2023-08-29T16:54:48.563Z"
   },
   {
    "duration": 382,
    "start_time": "2023-08-29T16:54:48.994Z"
   },
   {
    "duration": 10,
    "start_time": "2023-08-29T16:54:49.378Z"
   },
   {
    "duration": 275,
    "start_time": "2023-08-29T16:54:49.390Z"
   },
   {
    "duration": 83,
    "start_time": "2023-08-29T16:54:49.668Z"
   },
   {
    "duration": 299,
    "start_time": "2023-08-29T16:54:49.753Z"
   },
   {
    "duration": 10,
    "start_time": "2023-08-29T16:54:50.054Z"
   },
   {
    "duration": 375,
    "start_time": "2023-08-29T16:54:50.066Z"
   },
   {
    "duration": 1546,
    "start_time": "2023-08-29T16:54:50.443Z"
   },
   {
    "duration": 1308,
    "start_time": "2023-08-29T16:54:51.991Z"
   },
   {
    "duration": 1649,
    "start_time": "2023-08-29T16:54:53.301Z"
   },
   {
    "duration": 1608,
    "start_time": "2023-08-29T16:54:54.952Z"
   },
   {
    "duration": 102,
    "start_time": "2023-08-29T16:54:56.562Z"
   },
   {
    "duration": 10,
    "start_time": "2023-08-29T16:54:56.666Z"
   },
   {
    "duration": 712,
    "start_time": "2023-08-29T16:54:56.677Z"
   },
   {
    "duration": 9,
    "start_time": "2023-08-29T16:54:57.390Z"
   },
   {
    "duration": 1396,
    "start_time": "2023-08-29T17:02:48.343Z"
   },
   {
    "duration": 0,
    "start_time": "2023-08-29T17:02:49.742Z"
   },
   {
    "duration": 0,
    "start_time": "2023-08-29T17:02:49.744Z"
   },
   {
    "duration": 0,
    "start_time": "2023-08-29T17:02:49.745Z"
   },
   {
    "duration": 0,
    "start_time": "2023-08-29T17:02:49.746Z"
   },
   {
    "duration": 0,
    "start_time": "2023-08-29T17:02:49.747Z"
   },
   {
    "duration": 0,
    "start_time": "2023-08-29T17:02:49.749Z"
   },
   {
    "duration": 0,
    "start_time": "2023-08-29T17:02:49.750Z"
   },
   {
    "duration": 0,
    "start_time": "2023-08-29T17:02:49.752Z"
   },
   {
    "duration": 0,
    "start_time": "2023-08-29T17:02:49.753Z"
   },
   {
    "duration": 0,
    "start_time": "2023-08-29T17:02:49.756Z"
   },
   {
    "duration": 0,
    "start_time": "2023-08-29T17:02:49.757Z"
   },
   {
    "duration": 0,
    "start_time": "2023-08-29T17:02:49.763Z"
   },
   {
    "duration": 0,
    "start_time": "2023-08-29T17:02:49.764Z"
   },
   {
    "duration": 0,
    "start_time": "2023-08-29T17:02:49.766Z"
   },
   {
    "duration": 0,
    "start_time": "2023-08-29T17:02:49.767Z"
   },
   {
    "duration": 10,
    "start_time": "2023-08-29T17:04:25.682Z"
   },
   {
    "duration": 101,
    "start_time": "2023-08-29T17:04:30.900Z"
   },
   {
    "duration": 11,
    "start_time": "2023-08-29T17:04:31.377Z"
   },
   {
    "duration": 759,
    "start_time": "2023-08-29T17:04:32.850Z"
   },
   {
    "duration": 9,
    "start_time": "2023-08-29T17:04:34.219Z"
   },
   {
    "duration": 9,
    "start_time": "2023-08-29T17:04:35.056Z"
   },
   {
    "duration": 11,
    "start_time": "2023-08-29T17:04:35.854Z"
   },
   {
    "duration": 22,
    "start_time": "2023-08-29T17:06:11.643Z"
   },
   {
    "duration": 9,
    "start_time": "2023-08-29T17:06:13.711Z"
   },
   {
    "duration": 18,
    "start_time": "2023-08-29T17:06:32.269Z"
   },
   {
    "duration": 9,
    "start_time": "2023-08-29T17:06:33.217Z"
   },
   {
    "duration": 5242,
    "start_time": "2023-08-29T17:10:26.971Z"
   },
   {
    "duration": 4914,
    "start_time": "2023-08-29T17:14:34.246Z"
   },
   {
    "duration": 4864,
    "start_time": "2023-08-29T17:36:09.473Z"
   },
   {
    "duration": 65,
    "start_time": "2023-08-29T17:36:16.073Z"
   },
   {
    "duration": 24,
    "start_time": "2023-08-29T17:36:16.591Z"
   },
   {
    "duration": 6,
    "start_time": "2023-08-29T17:36:18.526Z"
   },
   {
    "duration": 6,
    "start_time": "2023-08-29T17:36:19.573Z"
   },
   {
    "duration": 7,
    "start_time": "2023-08-29T17:36:20.476Z"
   },
   {
    "duration": 120,
    "start_time": "2023-08-29T17:36:22.226Z"
   },
   {
    "duration": 52,
    "start_time": "2023-08-29T17:36:23.180Z"
   },
   {
    "duration": 12,
    "start_time": "2023-08-29T17:36:24.223Z"
   },
   {
    "duration": 27,
    "start_time": "2023-08-29T17:36:24.599Z"
   },
   {
    "duration": 13,
    "start_time": "2023-08-29T17:36:25.097Z"
   },
   {
    "duration": 5,
    "start_time": "2023-08-29T17:36:26.064Z"
   },
   {
    "duration": 7,
    "start_time": "2023-08-29T17:36:26.378Z"
   },
   {
    "duration": 485,
    "start_time": "2023-08-29T17:36:27.530Z"
   },
   {
    "duration": 72,
    "start_time": "2023-08-29T17:36:28.017Z"
   },
   {
    "duration": 507,
    "start_time": "2023-08-29T17:36:28.090Z"
   },
   {
    "duration": 249,
    "start_time": "2023-08-29T17:36:28.599Z"
   },
   {
    "duration": 80,
    "start_time": "2023-08-29T17:36:28.850Z"
   },
   {
    "duration": 123,
    "start_time": "2023-08-29T17:36:28.934Z"
   },
   {
    "duration": 72,
    "start_time": "2023-08-29T17:36:29.383Z"
   },
   {
    "duration": 88,
    "start_time": "2023-08-29T17:36:30.031Z"
   },
   {
    "duration": 47,
    "start_time": "2023-08-29T17:36:30.238Z"
   },
   {
    "duration": 8,
    "start_time": "2023-08-29T17:36:30.662Z"
   },
   {
    "duration": 10,
    "start_time": "2023-08-29T17:36:31.122Z"
   },
   {
    "duration": 5,
    "start_time": "2023-08-29T17:36:31.544Z"
   },
   {
    "duration": 34,
    "start_time": "2023-08-29T17:36:31.773Z"
   },
   {
    "duration": 10,
    "start_time": "2023-08-29T17:36:33.672Z"
   },
   {
    "duration": 11,
    "start_time": "2023-08-29T17:36:34.117Z"
   },
   {
    "duration": 46,
    "start_time": "2023-08-29T17:36:34.494Z"
   },
   {
    "duration": 521,
    "start_time": "2023-08-29T17:36:36.477Z"
   },
   {
    "duration": 551,
    "start_time": "2023-08-29T17:36:37.678Z"
   },
   {
    "duration": 31,
    "start_time": "2023-08-29T17:36:38.577Z"
   },
   {
    "duration": 5,
    "start_time": "2023-08-29T17:36:39.003Z"
   },
   {
    "duration": 4,
    "start_time": "2023-08-29T17:36:39.778Z"
   },
   {
    "duration": 5,
    "start_time": "2023-08-29T17:36:39.977Z"
   },
   {
    "duration": 12,
    "start_time": "2023-08-29T17:36:40.220Z"
   },
   {
    "duration": 6,
    "start_time": "2023-08-29T17:36:41.485Z"
   },
   {
    "duration": 11,
    "start_time": "2023-08-29T17:36:41.991Z"
   },
   {
    "duration": 36,
    "start_time": "2023-08-29T17:36:43.276Z"
   },
   {
    "duration": 9,
    "start_time": "2023-08-29T17:36:44.746Z"
   },
   {
    "duration": 293,
    "start_time": "2023-08-29T17:36:44.981Z"
   },
   {
    "duration": 25,
    "start_time": "2023-08-29T17:36:45.479Z"
   },
   {
    "duration": 27,
    "start_time": "2023-08-29T17:36:45.694Z"
   },
   {
    "duration": 422,
    "start_time": "2023-08-29T17:36:45.972Z"
   },
   {
    "duration": 371,
    "start_time": "2023-08-29T17:36:46.573Z"
   },
   {
    "duration": 10,
    "start_time": "2023-08-29T17:36:48.614Z"
   },
   {
    "duration": 399,
    "start_time": "2023-08-29T17:36:48.875Z"
   },
   {
    "duration": 16,
    "start_time": "2023-08-29T17:36:49.628Z"
   },
   {
    "duration": 382,
    "start_time": "2023-08-29T17:36:49.877Z"
   },
   {
    "duration": 13,
    "start_time": "2023-08-29T17:36:50.678Z"
   },
   {
    "duration": 367,
    "start_time": "2023-08-29T17:36:50.985Z"
   },
   {
    "duration": 1591,
    "start_time": "2023-08-29T17:36:52.512Z"
   },
   {
    "duration": 3029,
    "start_time": "2023-08-29T17:36:54.105Z"
   },
   {
    "duration": 1610,
    "start_time": "2023-08-29T17:37:00.518Z"
   },
   {
    "duration": 1851,
    "start_time": "2023-08-29T17:37:02.130Z"
   },
   {
    "duration": 99,
    "start_time": "2023-08-29T17:37:10.878Z"
   },
   {
    "duration": 11,
    "start_time": "2023-08-29T17:37:11.380Z"
   },
   {
    "duration": 712,
    "start_time": "2023-08-29T17:37:12.029Z"
   },
   {
    "duration": 9,
    "start_time": "2023-08-29T17:37:18.715Z"
   },
   {
    "duration": 2,
    "start_time": "2023-08-29T17:37:19.497Z"
   },
   {
    "duration": 16,
    "start_time": "2023-08-29T17:37:20.842Z"
   },
   {
    "duration": 8,
    "start_time": "2023-08-29T17:37:21.601Z"
   },
   {
    "duration": 243966,
    "start_time": "2023-08-29T17:40:31.774Z"
   },
   {
    "duration": 757,
    "start_time": "2023-08-29T17:49:41.967Z"
   },
   {
    "duration": 8,
    "start_time": "2023-08-29T17:50:32.435Z"
   },
   {
    "duration": 3275,
    "start_time": "2023-08-29T17:52:18.277Z"
   },
   {
    "duration": 17,
    "start_time": "2023-08-29T17:53:52.173Z"
   },
   {
    "duration": 8,
    "start_time": "2023-08-29T17:56:34.032Z"
   },
   {
    "duration": 4,
    "start_time": "2023-08-29T17:56:39.601Z"
   },
   {
    "duration": 91,
    "start_time": "2023-08-29T17:56:52.118Z"
   },
   {
    "duration": 93,
    "start_time": "2023-08-29T17:57:00.373Z"
   },
   {
    "duration": 1875,
    "start_time": "2023-08-29T18:00:09.010Z"
   },
   {
    "duration": 13,
    "start_time": "2023-08-29T18:00:10.887Z"
   },
   {
    "duration": 53,
    "start_time": "2023-08-30T05:11:11.118Z"
   },
   {
    "duration": 12780,
    "start_time": "2023-08-30T05:11:19.615Z"
   },
   {
    "duration": 109,
    "start_time": "2023-08-30T05:11:32.397Z"
   },
   {
    "duration": 25,
    "start_time": "2023-08-30T05:11:32.508Z"
   },
   {
    "duration": 5,
    "start_time": "2023-08-30T05:11:32.535Z"
   },
   {
    "duration": 17,
    "start_time": "2023-08-30T05:11:32.542Z"
   },
   {
    "duration": 14,
    "start_time": "2023-08-30T05:11:32.561Z"
   },
   {
    "duration": 233,
    "start_time": "2023-08-30T05:11:32.577Z"
   },
   {
    "duration": 63,
    "start_time": "2023-08-30T05:11:32.812Z"
   },
   {
    "duration": 15,
    "start_time": "2023-08-30T05:11:32.877Z"
   },
   {
    "duration": 33,
    "start_time": "2023-08-30T05:11:32.895Z"
   },
   {
    "duration": 28,
    "start_time": "2023-08-30T05:11:32.930Z"
   },
   {
    "duration": 12,
    "start_time": "2023-08-30T05:11:32.959Z"
   },
   {
    "duration": 9,
    "start_time": "2023-08-30T05:11:32.973Z"
   },
   {
    "duration": 17,
    "start_time": "2023-08-30T05:11:47.088Z"
   },
   {
    "duration": 5,
    "start_time": "2023-08-30T05:11:48.580Z"
   },
   {
    "duration": 7,
    "start_time": "2023-08-30T05:11:49.100Z"
   },
   {
    "duration": 6,
    "start_time": "2023-08-30T05:11:49.524Z"
   },
   {
    "duration": 125,
    "start_time": "2023-08-30T05:11:50.321Z"
   },
   {
    "duration": 59,
    "start_time": "2023-08-30T05:11:50.549Z"
   },
   {
    "duration": 14,
    "start_time": "2023-08-30T05:11:51.060Z"
   },
   {
    "duration": 41,
    "start_time": "2023-08-30T05:11:51.299Z"
   },
   {
    "duration": 14,
    "start_time": "2023-08-30T05:11:51.554Z"
   },
   {
    "duration": 7,
    "start_time": "2023-08-30T05:11:52.025Z"
   },
   {
    "duration": 6,
    "start_time": "2023-08-30T05:11:52.273Z"
   },
   {
    "duration": 739,
    "start_time": "2023-08-30T05:11:53.082Z"
   },
   {
    "duration": 75,
    "start_time": "2023-08-30T05:11:53.823Z"
   },
   {
    "duration": 581,
    "start_time": "2023-08-30T05:11:53.900Z"
   },
   {
    "duration": 304,
    "start_time": "2023-08-30T05:11:54.484Z"
   },
   {
    "duration": 68,
    "start_time": "2023-08-30T05:11:54.790Z"
   },
   {
    "duration": 58,
    "start_time": "2023-08-30T05:11:55.751Z"
   },
   {
    "duration": 83,
    "start_time": "2023-08-30T05:11:58.161Z"
   },
   {
    "duration": 119,
    "start_time": "2023-08-30T05:11:59.450Z"
   },
   {
    "duration": 76,
    "start_time": "2023-08-30T05:11:59.725Z"
   },
   {
    "duration": 9,
    "start_time": "2023-08-30T05:12:00.628Z"
   },
   {
    "duration": 16,
    "start_time": "2023-08-30T05:12:01.370Z"
   },
   {
    "duration": 6,
    "start_time": "2023-08-30T05:12:01.943Z"
   },
   {
    "duration": 6,
    "start_time": "2023-08-30T05:12:02.226Z"
   },
   {
    "duration": 13,
    "start_time": "2023-08-30T05:12:04.485Z"
   },
   {
    "duration": 16,
    "start_time": "2023-08-30T05:12:05.116Z"
   },
   {
    "duration": 62,
    "start_time": "2023-08-30T05:12:05.693Z"
   },
   {
    "duration": 563,
    "start_time": "2023-08-30T05:12:07.374Z"
   },
   {
    "duration": 495,
    "start_time": "2023-08-30T05:12:09.297Z"
   },
   {
    "duration": 36,
    "start_time": "2023-08-30T05:12:10.900Z"
   },
   {
    "duration": 6,
    "start_time": "2023-08-30T05:12:11.252Z"
   },
   {
    "duration": 5,
    "start_time": "2023-08-30T05:12:12.321Z"
   },
   {
    "duration": 5,
    "start_time": "2023-08-30T05:12:12.563Z"
   },
   {
    "duration": 12,
    "start_time": "2023-08-30T05:12:12.839Z"
   },
   {
    "duration": 7,
    "start_time": "2023-08-30T05:12:14.349Z"
   },
   {
    "duration": 10,
    "start_time": "2023-08-30T05:12:14.920Z"
   },
   {
    "duration": 42,
    "start_time": "2023-08-30T05:12:16.729Z"
   },
   {
    "duration": 10,
    "start_time": "2023-08-30T05:12:18.486Z"
   },
   {
    "duration": 250,
    "start_time": "2023-08-30T05:12:19.699Z"
   },
   {
    "duration": 24,
    "start_time": "2023-08-30T05:12:21.329Z"
   },
   {
    "duration": 34,
    "start_time": "2023-08-30T05:12:22.066Z"
   },
   {
    "duration": 397,
    "start_time": "2023-08-30T05:12:22.720Z"
   },
   {
    "duration": 346,
    "start_time": "2023-08-30T05:12:24.312Z"
   },
   {
    "duration": 13,
    "start_time": "2023-08-30T05:12:33.880Z"
   },
   {
    "duration": 11,
    "start_time": "2023-08-30T05:12:50.323Z"
   },
   {
    "duration": 275,
    "start_time": "2023-08-30T05:12:53.002Z"
   },
   {
    "duration": 24,
    "start_time": "2023-08-30T05:12:57.024Z"
   },
   {
    "duration": 279,
    "start_time": "2023-08-30T05:12:58.003Z"
   },
   {
    "duration": 13,
    "start_time": "2023-08-30T05:13:02.277Z"
   },
   {
    "duration": 332,
    "start_time": "2023-08-30T05:13:03.345Z"
   },
   {
    "duration": 1646,
    "start_time": "2023-08-30T05:13:10.809Z"
   },
   {
    "duration": 1309,
    "start_time": "2023-08-30T05:13:32.351Z"
   },
   {
    "duration": 1860,
    "start_time": "2023-08-30T05:13:40.604Z"
   },
   {
    "duration": 10,
    "start_time": "2023-08-30T05:13:45.113Z"
   },
   {
    "duration": 104,
    "start_time": "2023-08-30T05:24:49.499Z"
   },
   {
    "duration": 1981,
    "start_time": "2023-08-30T05:25:00.972Z"
   },
   {
    "duration": 14,
    "start_time": "2023-08-30T05:25:02.955Z"
   },
   {
    "duration": 2282,
    "start_time": "2023-08-30T05:25:02.971Z"
   },
   {
    "duration": 22,
    "start_time": "2023-08-30T05:25:05.256Z"
   },
   {
    "duration": 10,
    "start_time": "2023-08-30T05:25:28.687Z"
   },
   {
    "duration": 14,
    "start_time": "2023-08-30T05:25:30.065Z"
   },
   {
    "duration": 105,
    "start_time": "2023-08-30T05:25:47.407Z"
   },
   {
    "duration": 11,
    "start_time": "2023-08-30T05:25:48.217Z"
   },
   {
    "duration": 625,
    "start_time": "2023-08-30T05:25:50.137Z"
   },
   {
    "duration": 115,
    "start_time": "2023-08-30T05:26:29.909Z"
   },
   {
    "duration": 58,
    "start_time": "2023-08-30T05:26:43.429Z"
   },
   {
    "duration": 13,
    "start_time": "2023-08-30T05:28:24.811Z"
   },
   {
    "duration": 17,
    "start_time": "2023-08-30T05:30:39.861Z"
   },
   {
    "duration": 88,
    "start_time": "2023-08-30T05:30:40.810Z"
   },
   {
    "duration": 81,
    "start_time": "2023-08-30T05:30:59.694Z"
   },
   {
    "duration": 68,
    "start_time": "2023-08-30T05:31:16.825Z"
   },
   {
    "duration": 56,
    "start_time": "2023-08-30T05:31:29.886Z"
   },
   {
    "duration": 82,
    "start_time": "2023-08-30T05:31:46.328Z"
   },
   {
    "duration": 109,
    "start_time": "2023-08-30T05:34:33.793Z"
   },
   {
    "duration": 64,
    "start_time": "2023-08-30T05:35:52.078Z"
   },
   {
    "duration": 14,
    "start_time": "2023-08-30T05:37:54.138Z"
   },
   {
    "duration": 61,
    "start_time": "2023-08-30T05:47:28.542Z"
   },
   {
    "duration": 208,
    "start_time": "2023-08-30T05:47:57.422Z"
   },
   {
    "duration": 105,
    "start_time": "2023-08-30T05:48:20.031Z"
   },
   {
    "duration": 83,
    "start_time": "2023-08-30T05:48:34.343Z"
   },
   {
    "duration": 209,
    "start_time": "2023-08-30T05:49:07.887Z"
   },
   {
    "duration": 1772,
    "start_time": "2023-08-30T05:49:38.243Z"
   },
   {
    "duration": 7693,
    "start_time": "2023-08-30T05:49:57.838Z"
   },
   {
    "duration": 102,
    "start_time": "2023-08-30T05:50:05.538Z"
   },
   {
    "duration": 34,
    "start_time": "2023-08-30T05:50:05.642Z"
   },
   {
    "duration": 9,
    "start_time": "2023-08-30T05:50:05.678Z"
   },
   {
    "duration": 15,
    "start_time": "2023-08-30T05:50:05.689Z"
   },
   {
    "duration": 29,
    "start_time": "2023-08-30T05:50:05.707Z"
   },
   {
    "duration": 141,
    "start_time": "2023-08-30T05:50:05.738Z"
   },
   {
    "duration": 87,
    "start_time": "2023-08-30T05:50:05.881Z"
   },
   {
    "duration": 18,
    "start_time": "2023-08-30T05:50:05.970Z"
   },
   {
    "duration": 62,
    "start_time": "2023-08-30T05:50:05.991Z"
   },
   {
    "duration": 24,
    "start_time": "2023-08-30T05:50:06.056Z"
   },
   {
    "duration": 32,
    "start_time": "2023-08-30T05:50:06.082Z"
   },
   {
    "duration": 27,
    "start_time": "2023-08-30T05:50:06.117Z"
   },
   {
    "duration": 661,
    "start_time": "2023-08-30T05:50:06.146Z"
   },
   {
    "duration": 99,
    "start_time": "2023-08-30T05:50:06.809Z"
   },
   {
    "duration": 657,
    "start_time": "2023-08-30T05:50:06.910Z"
   },
   {
    "duration": 302,
    "start_time": "2023-08-30T05:50:07.569Z"
   },
   {
    "duration": 76,
    "start_time": "2023-08-30T05:50:07.873Z"
   },
   {
    "duration": 62,
    "start_time": "2023-08-30T05:50:07.955Z"
   },
   {
    "duration": 99,
    "start_time": "2023-08-30T05:50:08.018Z"
   },
   {
    "duration": 101,
    "start_time": "2023-08-30T05:50:08.119Z"
   },
   {
    "duration": 55,
    "start_time": "2023-08-30T05:50:08.222Z"
   },
   {
    "duration": 8,
    "start_time": "2023-08-30T05:50:08.279Z"
   },
   {
    "duration": 19,
    "start_time": "2023-08-30T05:50:08.289Z"
   },
   {
    "duration": 5,
    "start_time": "2023-08-30T05:50:08.309Z"
   },
   {
    "duration": 13,
    "start_time": "2023-08-30T05:50:08.316Z"
   },
   {
    "duration": 16,
    "start_time": "2023-08-30T05:50:08.347Z"
   },
   {
    "duration": 11,
    "start_time": "2023-08-30T05:50:08.371Z"
   },
   {
    "duration": 50,
    "start_time": "2023-08-30T05:50:08.384Z"
   },
   {
    "duration": 531,
    "start_time": "2023-08-30T05:50:08.455Z"
   },
   {
    "duration": 535,
    "start_time": "2023-08-30T05:50:08.988Z"
   },
   {
    "duration": 45,
    "start_time": "2023-08-30T05:50:09.525Z"
   },
   {
    "duration": 23,
    "start_time": "2023-08-30T05:50:09.572Z"
   },
   {
    "duration": 10,
    "start_time": "2023-08-30T05:50:09.597Z"
   },
   {
    "duration": 8,
    "start_time": "2023-08-30T05:50:09.608Z"
   },
   {
    "duration": 15,
    "start_time": "2023-08-30T05:50:09.618Z"
   },
   {
    "duration": 38,
    "start_time": "2023-08-30T05:50:09.635Z"
   },
   {
    "duration": 32,
    "start_time": "2023-08-30T05:50:09.676Z"
   },
   {
    "duration": 68,
    "start_time": "2023-08-30T05:50:09.710Z"
   },
   {
    "duration": 12,
    "start_time": "2023-08-30T05:50:09.780Z"
   },
   {
    "duration": 327,
    "start_time": "2023-08-30T05:50:09.794Z"
   },
   {
    "duration": 49,
    "start_time": "2023-08-30T05:50:10.123Z"
   },
   {
    "duration": 42,
    "start_time": "2023-08-30T05:50:10.174Z"
   },
   {
    "duration": 434,
    "start_time": "2023-08-30T05:50:10.218Z"
   },
   {
    "duration": 358,
    "start_time": "2023-08-30T05:50:10.659Z"
   },
   {
    "duration": 12,
    "start_time": "2023-08-30T05:50:11.019Z"
   },
   {
    "duration": 342,
    "start_time": "2023-08-30T05:50:11.033Z"
   },
   {
    "duration": 17,
    "start_time": "2023-08-30T05:50:11.377Z"
   },
   {
    "duration": 296,
    "start_time": "2023-08-30T05:50:11.396Z"
   },
   {
    "duration": 70,
    "start_time": "2023-08-30T05:50:11.694Z"
   },
   {
    "duration": 321,
    "start_time": "2023-08-30T05:50:11.766Z"
   },
   {
    "duration": 1729,
    "start_time": "2023-08-30T05:50:12.088Z"
   },
   {
    "duration": 1374,
    "start_time": "2023-08-30T05:50:13.819Z"
   },
   {
    "duration": 130,
    "start_time": "2023-08-30T05:50:15.195Z"
   },
   {
    "duration": 641,
    "start_time": "2023-08-30T05:50:15.327Z"
   },
   {
    "duration": 16,
    "start_time": "2023-08-30T05:50:15.971Z"
   },
   {
    "duration": 178,
    "start_time": "2023-08-30T05:50:15.990Z"
   },
   {
    "duration": 1664,
    "start_time": "2023-08-30T05:50:16.170Z"
   },
   {
    "duration": 0,
    "start_time": "2023-08-30T05:50:17.836Z"
   },
   {
    "duration": 0,
    "start_time": "2023-08-30T05:50:17.837Z"
   },
   {
    "duration": 0,
    "start_time": "2023-08-30T05:50:17.839Z"
   },
   {
    "duration": 0,
    "start_time": "2023-08-30T05:50:17.840Z"
   },
   {
    "duration": 0,
    "start_time": "2023-08-30T05:50:17.842Z"
   },
   {
    "duration": 0,
    "start_time": "2023-08-30T05:50:17.844Z"
   },
   {
    "duration": 0,
    "start_time": "2023-08-30T05:50:17.845Z"
   },
   {
    "duration": 0,
    "start_time": "2023-08-30T05:50:17.849Z"
   },
   {
    "duration": 0,
    "start_time": "2023-08-30T05:50:17.850Z"
   },
   {
    "duration": 0,
    "start_time": "2023-08-30T05:50:17.853Z"
   },
   {
    "duration": 0,
    "start_time": "2023-08-30T05:50:17.865Z"
   },
   {
    "duration": 3859,
    "start_time": "2023-08-30T06:00:52.912Z"
   },
   {
    "duration": 17,
    "start_time": "2023-08-30T06:01:45.937Z"
   },
   {
    "duration": 30,
    "start_time": "2023-08-30T06:05:16.984Z"
   },
   {
    "duration": 1463,
    "start_time": "2023-08-30T06:07:40.137Z"
   },
   {
    "duration": 5,
    "start_time": "2023-08-30T06:07:41.636Z"
   },
   {
    "duration": 6,
    "start_time": "2023-08-30T06:07:42.280Z"
   },
   {
    "duration": 11,
    "start_time": "2023-08-30T06:08:20.232Z"
   },
   {
    "duration": 11,
    "start_time": "2023-08-30T06:08:43.136Z"
   },
   {
    "duration": 9,
    "start_time": "2023-08-30T06:08:44.642Z"
   },
   {
    "duration": 49,
    "start_time": "2023-08-30T06:08:46.461Z"
   },
   {
    "duration": 374,
    "start_time": "2023-08-30T06:08:51.351Z"
   },
   {
    "duration": 494,
    "start_time": "2023-08-30T06:08:54.019Z"
   },
   {
    "duration": 32,
    "start_time": "2023-08-30T06:08:56.402Z"
   },
   {
    "duration": 8,
    "start_time": "2023-08-30T06:08:57.079Z"
   },
   {
    "duration": 9,
    "start_time": "2023-08-30T06:08:58.398Z"
   },
   {
    "duration": 25,
    "start_time": "2023-08-30T06:08:59.457Z"
   },
   {
    "duration": 1505,
    "start_time": "2023-08-30T06:09:11.072Z"
   },
   {
    "duration": 0,
    "start_time": "2023-08-30T06:09:12.579Z"
   },
   {
    "duration": 6,
    "start_time": "2023-08-30T06:09:13.015Z"
   },
   {
    "duration": 16,
    "start_time": "2023-08-30T06:09:30.974Z"
   },
   {
    "duration": 13,
    "start_time": "2023-08-30T06:09:32.170Z"
   },
   {
    "duration": 70,
    "start_time": "2023-08-30T06:09:33.335Z"
   },
   {
    "duration": 397,
    "start_time": "2023-08-30T06:09:37.339Z"
   },
   {
    "duration": 669,
    "start_time": "2023-08-30T06:09:41.741Z"
   },
   {
    "duration": 44,
    "start_time": "2023-08-30T06:09:43.959Z"
   },
   {
    "duration": 8,
    "start_time": "2023-08-30T06:09:44.872Z"
   },
   {
    "duration": 35,
    "start_time": "2023-08-30T06:09:46.312Z"
   },
   {
    "duration": 5,
    "start_time": "2023-08-30T06:09:49.349Z"
   },
   {
    "duration": 6,
    "start_time": "2023-08-30T06:09:50.255Z"
   },
   {
    "duration": 13,
    "start_time": "2023-08-30T06:09:50.920Z"
   },
   {
    "duration": 8,
    "start_time": "2023-08-30T06:09:53.472Z"
   },
   {
    "duration": 13,
    "start_time": "2023-08-30T06:09:54.696Z"
   },
   {
    "duration": 40,
    "start_time": "2023-08-30T06:09:57.149Z"
   },
   {
    "duration": 11,
    "start_time": "2023-08-30T06:09:59.603Z"
   },
   {
    "duration": 353,
    "start_time": "2023-08-30T06:10:00.198Z"
   },
   {
    "duration": 35,
    "start_time": "2023-08-30T06:10:01.531Z"
   },
   {
    "duration": 45,
    "start_time": "2023-08-30T06:10:02.316Z"
   },
   {
    "duration": 471,
    "start_time": "2023-08-30T06:10:03.111Z"
   },
   {
    "duration": 388,
    "start_time": "2023-08-30T06:10:04.414Z"
   },
   {
    "duration": 16,
    "start_time": "2023-08-30T06:10:08.420Z"
   },
   {
    "duration": 329,
    "start_time": "2023-08-30T06:10:09.129Z"
   },
   {
    "duration": 24,
    "start_time": "2023-08-30T06:10:10.935Z"
   },
   {
    "duration": 350,
    "start_time": "2023-08-30T06:10:11.614Z"
   },
   {
    "duration": 17,
    "start_time": "2023-08-30T06:10:13.332Z"
   },
   {
    "duration": 363,
    "start_time": "2023-08-30T06:10:13.912Z"
   },
   {
    "duration": 1915,
    "start_time": "2023-08-30T06:10:17.339Z"
   },
   {
    "duration": 1550,
    "start_time": "2023-08-30T06:10:19.773Z"
   },
   {
    "duration": 149,
    "start_time": "2023-08-30T06:10:24.647Z"
   },
   {
    "duration": 57,
    "start_time": "2023-08-30T06:10:27.396Z"
   },
   {
    "duration": 12,
    "start_time": "2023-08-30T06:10:33.972Z"
   },
   {
    "duration": 86,
    "start_time": "2023-08-30T06:10:35.148Z"
   },
   {
    "duration": 18,
    "start_time": "2023-08-30T06:10:51.085Z"
   },
   {
    "duration": 535,
    "start_time": "2023-08-30T06:10:52.174Z"
   },
   {
    "duration": 698,
    "start_time": "2023-08-30T06:11:17.087Z"
   },
   {
    "duration": 226,
    "start_time": "2023-08-30T06:11:24.113Z"
   },
   {
    "duration": 1112,
    "start_time": "2023-08-30T06:11:29.671Z"
   },
   {
    "duration": 33,
    "start_time": "2023-08-30T06:11:38.581Z"
   },
   {
    "duration": 19,
    "start_time": "2023-08-30T06:11:40.769Z"
   },
   {
    "duration": 80,
    "start_time": "2023-08-30T06:45:00.158Z"
   },
   {
    "duration": 6,
    "start_time": "2023-08-30T07:32:28.784Z"
   },
   {
    "duration": 21,
    "start_time": "2023-08-30T07:32:29.608Z"
   },
   {
    "duration": 14,
    "start_time": "2023-08-30T07:32:31.937Z"
   },
   {
    "duration": 5,
    "start_time": "2023-08-30T07:32:46.886Z"
   },
   {
    "duration": 5723,
    "start_time": "2023-08-30T07:32:56.881Z"
   },
   {
    "duration": 76,
    "start_time": "2023-08-30T07:33:06.051Z"
   },
   {
    "duration": 24,
    "start_time": "2023-08-30T07:33:06.350Z"
   },
   {
    "duration": 6,
    "start_time": "2023-08-30T07:33:07.141Z"
   },
   {
    "duration": 8,
    "start_time": "2023-08-30T07:33:07.584Z"
   },
   {
    "duration": 7,
    "start_time": "2023-08-30T07:33:07.808Z"
   },
   {
    "duration": 408,
    "start_time": "2023-08-30T07:33:10.545Z"
   },
   {
    "duration": 5964,
    "start_time": "2023-08-30T07:33:19.358Z"
   },
   {
    "duration": 105,
    "start_time": "2023-08-30T07:33:27.297Z"
   },
   {
    "duration": 18,
    "start_time": "2023-08-30T07:33:27.573Z"
   },
   {
    "duration": 6,
    "start_time": "2023-08-30T07:33:28.039Z"
   },
   {
    "duration": 6,
    "start_time": "2023-08-30T07:33:28.246Z"
   },
   {
    "duration": 6,
    "start_time": "2023-08-30T07:33:28.439Z"
   },
   {
    "duration": 197,
    "start_time": "2023-08-30T07:33:29.088Z"
   },
   {
    "duration": 62,
    "start_time": "2023-08-30T07:33:29.310Z"
   },
   {
    "duration": 14,
    "start_time": "2023-08-30T07:33:29.699Z"
   },
   {
    "duration": 34,
    "start_time": "2023-08-30T07:33:29.939Z"
   },
   {
    "duration": 15,
    "start_time": "2023-08-30T07:33:30.130Z"
   },
   {
    "duration": 6,
    "start_time": "2023-08-30T07:33:30.543Z"
   },
   {
    "duration": 7,
    "start_time": "2023-08-30T07:33:30.731Z"
   },
   {
    "duration": 620,
    "start_time": "2023-08-30T07:33:31.338Z"
   },
   {
    "duration": 87,
    "start_time": "2023-08-30T07:33:31.960Z"
   },
   {
    "duration": 591,
    "start_time": "2023-08-30T07:33:32.056Z"
   },
   {
    "duration": 257,
    "start_time": "2023-08-30T07:33:32.648Z"
   },
   {
    "duration": 71,
    "start_time": "2023-08-30T07:33:32.907Z"
   },
   {
    "duration": 47,
    "start_time": "2023-08-30T07:33:33.239Z"
   },
   {
    "duration": 84,
    "start_time": "2023-08-30T07:33:33.639Z"
   },
   {
    "duration": 117,
    "start_time": "2023-08-30T07:33:34.242Z"
   },
   {
    "duration": 49,
    "start_time": "2023-08-30T07:33:34.453Z"
   },
   {
    "duration": 10,
    "start_time": "2023-08-30T07:33:34.872Z"
   },
   {
    "duration": 14,
    "start_time": "2023-08-30T07:33:35.331Z"
   },
   {
    "duration": 6,
    "start_time": "2023-08-30T07:33:35.795Z"
   },
   {
    "duration": 5,
    "start_time": "2023-08-30T07:33:36.099Z"
   },
   {
    "duration": 14,
    "start_time": "2023-08-30T07:33:38.543Z"
   },
   {
    "duration": 12,
    "start_time": "2023-08-30T07:33:39.456Z"
   },
   {
    "duration": 53,
    "start_time": "2023-08-30T07:33:39.682Z"
   },
   {
    "duration": 404,
    "start_time": "2023-08-30T07:33:40.543Z"
   },
   {
    "duration": 530,
    "start_time": "2023-08-30T07:33:41.737Z"
   },
   {
    "duration": 33,
    "start_time": "2023-08-30T07:33:42.644Z"
   },
   {
    "duration": 6,
    "start_time": "2023-08-30T07:33:42.936Z"
   },
   {
    "duration": 24,
    "start_time": "2023-08-30T07:33:43.263Z"
   },
   {
    "duration": 4,
    "start_time": "2023-08-30T07:33:43.895Z"
   },
   {
    "duration": 5,
    "start_time": "2023-08-30T07:33:44.136Z"
   },
   {
    "duration": 15,
    "start_time": "2023-08-30T07:33:44.356Z"
   },
   {
    "duration": 7,
    "start_time": "2023-08-30T07:33:45.586Z"
   },
   {
    "duration": 13,
    "start_time": "2023-08-30T07:33:46.039Z"
   },
   {
    "duration": 48,
    "start_time": "2023-08-30T07:33:47.005Z"
   },
   {
    "duration": 10,
    "start_time": "2023-08-30T07:33:48.636Z"
   },
   {
    "duration": 289,
    "start_time": "2023-08-30T07:33:49.039Z"
   },
   {
    "duration": 25,
    "start_time": "2023-08-30T07:33:49.865Z"
   },
   {
    "duration": 43,
    "start_time": "2023-08-30T07:33:50.078Z"
   },
   {
    "duration": 374,
    "start_time": "2023-08-30T07:33:50.292Z"
   },
   {
    "duration": 349,
    "start_time": "2023-08-30T07:33:50.699Z"
   },
   {
    "duration": 12,
    "start_time": "2023-08-30T07:33:58.581Z"
   },
   {
    "duration": 267,
    "start_time": "2023-08-30T07:33:58.794Z"
   },
   {
    "duration": 19,
    "start_time": "2023-08-30T07:33:59.406Z"
   },
   {
    "duration": 292,
    "start_time": "2023-08-30T07:33:59.662Z"
   },
   {
    "duration": 15,
    "start_time": "2023-08-30T07:34:00.297Z"
   },
   {
    "duration": 327,
    "start_time": "2023-08-30T07:34:00.547Z"
   },
   {
    "duration": 1656,
    "start_time": "2023-08-30T07:34:01.763Z"
   },
   {
    "duration": 1260,
    "start_time": "2023-08-30T07:34:03.422Z"
   },
   {
    "duration": 109,
    "start_time": "2023-08-30T07:34:04.684Z"
   },
   {
    "duration": 68,
    "start_time": "2023-08-30T07:34:04.795Z"
   },
   {
    "duration": 11,
    "start_time": "2023-08-30T07:34:04.865Z"
   },
   {
    "duration": 70,
    "start_time": "2023-08-30T07:34:05.255Z"
   },
   {
    "duration": 496,
    "start_time": "2023-08-30T07:34:06.552Z"
   },
   {
    "duration": 152,
    "start_time": "2023-08-30T07:34:07.936Z"
   },
   {
    "duration": 699,
    "start_time": "2023-08-30T07:34:08.232Z"
   },
   {
    "duration": 25,
    "start_time": "2023-08-30T07:34:09.541Z"
   },
   {
    "duration": 14,
    "start_time": "2023-08-30T07:34:09.763Z"
   },
   {
    "duration": 25,
    "start_time": "2023-08-30T07:34:30.008Z"
   },
   {
    "duration": 14,
    "start_time": "2023-08-30T07:34:32.102Z"
   },
   {
    "duration": 6,
    "start_time": "2023-08-30T07:34:58.402Z"
   },
   {
    "duration": 22,
    "start_time": "2023-08-30T07:34:58.969Z"
   },
   {
    "duration": 17,
    "start_time": "2023-08-30T07:35:00.226Z"
   },
   {
    "duration": 6,
    "start_time": "2023-08-30T07:35:07.068Z"
   },
   {
    "duration": 6,
    "start_time": "2023-08-30T07:35:11.674Z"
   },
   {
    "duration": 6,
    "start_time": "2023-08-30T07:35:21.732Z"
   },
   {
    "duration": 6,
    "start_time": "2023-08-30T07:35:23.361Z"
   },
   {
    "duration": 20,
    "start_time": "2023-08-30T07:43:29.066Z"
   },
   {
    "duration": 23,
    "start_time": "2023-08-30T07:43:30.181Z"
   },
   {
    "duration": 877,
    "start_time": "2023-08-30T07:43:44.802Z"
   },
   {
    "duration": 23,
    "start_time": "2023-08-30T07:43:48.734Z"
   },
   {
    "duration": 12,
    "start_time": "2023-08-30T07:43:51.903Z"
   },
   {
    "duration": 16,
    "start_time": "2023-08-30T07:44:04.244Z"
   },
   {
    "duration": 11,
    "start_time": "2023-08-30T07:44:38.946Z"
   },
   {
    "duration": 9,
    "start_time": "2023-08-30T07:44:42.047Z"
   },
   {
    "duration": 52,
    "start_time": "2023-08-30T07:44:42.793Z"
   },
   {
    "duration": 329,
    "start_time": "2023-08-30T07:44:44.668Z"
   },
   {
    "duration": 486,
    "start_time": "2023-08-30T07:44:47.076Z"
   },
   {
    "duration": 33,
    "start_time": "2023-08-30T07:44:48.686Z"
   },
   {
    "duration": 6,
    "start_time": "2023-08-30T07:44:49.043Z"
   },
   {
    "duration": 23,
    "start_time": "2023-08-30T07:44:49.401Z"
   },
   {
    "duration": 4,
    "start_time": "2023-08-30T07:44:50.501Z"
   },
   {
    "duration": 4,
    "start_time": "2023-08-30T07:44:50.784Z"
   },
   {
    "duration": 12,
    "start_time": "2023-08-30T07:44:51.154Z"
   },
   {
    "duration": 7,
    "start_time": "2023-08-30T07:44:52.753Z"
   },
   {
    "duration": 11,
    "start_time": "2023-08-30T07:44:53.342Z"
   },
   {
    "duration": 39,
    "start_time": "2023-08-30T07:44:54.538Z"
   },
   {
    "duration": 10,
    "start_time": "2023-08-30T07:44:55.705Z"
   },
   {
    "duration": 281,
    "start_time": "2023-08-30T07:44:56.005Z"
   },
   {
    "duration": 25,
    "start_time": "2023-08-30T07:44:56.630Z"
   },
   {
    "duration": 30,
    "start_time": "2023-08-30T07:44:56.935Z"
   },
   {
    "duration": 389,
    "start_time": "2023-08-30T07:44:57.229Z"
   },
   {
    "duration": 339,
    "start_time": "2023-08-30T07:44:57.738Z"
   },
   {
    "duration": 11,
    "start_time": "2023-08-30T07:44:59.901Z"
   },
   {
    "duration": 303,
    "start_time": "2023-08-30T07:45:00.150Z"
   },
   {
    "duration": 18,
    "start_time": "2023-08-30T07:45:00.947Z"
   },
   {
    "duration": 323,
    "start_time": "2023-08-30T07:45:01.236Z"
   },
   {
    "duration": 13,
    "start_time": "2023-08-30T07:45:02.036Z"
   },
   {
    "duration": 277,
    "start_time": "2023-08-30T07:45:02.294Z"
   },
   {
    "duration": 1499,
    "start_time": "2023-08-30T07:45:03.686Z"
   },
   {
    "duration": 1436,
    "start_time": "2023-08-30T07:45:05.187Z"
   },
   {
    "duration": 105,
    "start_time": "2023-08-30T07:45:06.625Z"
   },
   {
    "duration": 65,
    "start_time": "2023-08-30T07:45:06.732Z"
   },
   {
    "duration": 5401,
    "start_time": "2023-08-30T07:45:24.055Z"
   },
   {
    "duration": 79,
    "start_time": "2023-08-30T07:45:31.864Z"
   },
   {
    "duration": 20,
    "start_time": "2023-08-30T07:45:32.104Z"
   },
   {
    "duration": 5,
    "start_time": "2023-08-30T07:45:32.569Z"
   },
   {
    "duration": 7,
    "start_time": "2023-08-30T07:45:32.821Z"
   },
   {
    "duration": 7,
    "start_time": "2023-08-30T07:45:33.051Z"
   },
   {
    "duration": 128,
    "start_time": "2023-08-30T07:45:33.738Z"
   },
   {
    "duration": 67,
    "start_time": "2023-08-30T07:45:33.971Z"
   },
   {
    "duration": 15,
    "start_time": "2023-08-30T07:45:34.576Z"
   },
   {
    "duration": 35,
    "start_time": "2023-08-30T07:45:34.839Z"
   },
   {
    "duration": 16,
    "start_time": "2023-08-30T07:45:35.046Z"
   },
   {
    "duration": 6,
    "start_time": "2023-08-30T07:45:35.480Z"
   },
   {
    "duration": 7,
    "start_time": "2023-08-30T07:45:35.675Z"
   },
   {
    "duration": 555,
    "start_time": "2023-08-30T07:45:36.338Z"
   },
   {
    "duration": 99,
    "start_time": "2023-08-30T07:45:36.895Z"
   },
   {
    "duration": 558,
    "start_time": "2023-08-30T07:45:36.996Z"
   },
   {
    "duration": 270,
    "start_time": "2023-08-30T07:45:37.557Z"
   },
   {
    "duration": 69,
    "start_time": "2023-08-30T07:45:37.829Z"
   },
   {
    "duration": 72,
    "start_time": "2023-08-30T07:45:37.900Z"
   },
   {
    "duration": 83,
    "start_time": "2023-08-30T07:45:38.326Z"
   },
   {
    "duration": 79,
    "start_time": "2023-08-30T07:45:39.165Z"
   },
   {
    "duration": 55,
    "start_time": "2023-08-30T07:45:39.469Z"
   },
   {
    "duration": 9,
    "start_time": "2023-08-30T07:45:39.991Z"
   },
   {
    "duration": 13,
    "start_time": "2023-08-30T07:45:40.549Z"
   },
   {
    "duration": 5,
    "start_time": "2023-08-30T07:45:41.130Z"
   },
   {
    "duration": 5,
    "start_time": "2023-08-30T07:45:41.334Z"
   },
   {
    "duration": 11,
    "start_time": "2023-08-30T07:45:43.445Z"
   },
   {
    "duration": 13,
    "start_time": "2023-08-30T07:45:43.945Z"
   },
   {
    "duration": 54,
    "start_time": "2023-08-30T07:45:44.205Z"
   },
   {
    "duration": 452,
    "start_time": "2023-08-30T07:45:45.242Z"
   },
   {
    "duration": 516,
    "start_time": "2023-08-30T07:45:46.442Z"
   },
   {
    "duration": 38,
    "start_time": "2023-08-30T07:45:47.435Z"
   },
   {
    "duration": 6,
    "start_time": "2023-08-30T07:45:47.742Z"
   },
   {
    "duration": 25,
    "start_time": "2023-08-30T07:45:48.001Z"
   },
   {
    "duration": 4,
    "start_time": "2023-08-30T07:45:48.838Z"
   },
   {
    "duration": 6,
    "start_time": "2023-08-30T07:45:49.072Z"
   },
   {
    "duration": 13,
    "start_time": "2023-08-30T07:45:49.334Z"
   },
   {
    "duration": 7,
    "start_time": "2023-08-30T07:45:50.592Z"
   },
   {
    "duration": 11,
    "start_time": "2023-08-30T07:45:51.142Z"
   },
   {
    "duration": 41,
    "start_time": "2023-08-30T07:45:52.393Z"
   },
   {
    "duration": 10,
    "start_time": "2023-08-30T07:45:54.241Z"
   },
   {
    "duration": 276,
    "start_time": "2023-08-30T07:45:54.498Z"
   },
   {
    "duration": 30,
    "start_time": "2023-08-30T07:45:55.152Z"
   },
   {
    "duration": 29,
    "start_time": "2023-08-30T07:45:55.901Z"
   },
   {
    "duration": 382,
    "start_time": "2023-08-30T07:45:55.932Z"
   },
   {
    "duration": 357,
    "start_time": "2023-08-30T07:45:56.316Z"
   },
   {
    "duration": 11,
    "start_time": "2023-08-30T07:45:58.252Z"
   },
   {
    "duration": 242,
    "start_time": "2023-08-30T07:45:58.526Z"
   },
   {
    "duration": 17,
    "start_time": "2023-08-30T07:45:59.234Z"
   },
   {
    "duration": 271,
    "start_time": "2023-08-30T07:45:59.487Z"
   },
   {
    "duration": 14,
    "start_time": "2023-08-30T07:46:00.298Z"
   },
   {
    "duration": 325,
    "start_time": "2023-08-30T07:46:00.548Z"
   },
   {
    "duration": 1684,
    "start_time": "2023-08-30T07:46:01.833Z"
   },
   {
    "duration": 1292,
    "start_time": "2023-08-30T07:46:03.519Z"
   },
   {
    "duration": 105,
    "start_time": "2023-08-30T07:46:04.813Z"
   },
   {
    "duration": 62,
    "start_time": "2023-08-30T07:46:04.921Z"
   },
   {
    "duration": 11,
    "start_time": "2023-08-30T07:46:04.984Z"
   },
   {
    "duration": 64,
    "start_time": "2023-08-30T07:46:04.997Z"
   },
   {
    "duration": 469,
    "start_time": "2023-08-30T07:46:06.345Z"
   },
   {
    "duration": 153,
    "start_time": "2023-08-30T07:46:07.522Z"
   },
   {
    "duration": 702,
    "start_time": "2023-08-30T07:46:07.789Z"
   },
   {
    "duration": 35,
    "start_time": "2023-08-30T07:46:09.242Z"
   },
   {
    "duration": 12,
    "start_time": "2023-08-30T07:46:09.566Z"
   },
   {
    "duration": 8,
    "start_time": "2023-08-30T07:46:50.180Z"
   },
   {
    "duration": 12,
    "start_time": "2023-08-30T07:46:57.860Z"
   },
   {
    "duration": 12,
    "start_time": "2023-08-30T07:47:11.851Z"
   },
   {
    "duration": 6,
    "start_time": "2023-08-30T07:47:18.341Z"
   },
   {
    "duration": 22,
    "start_time": "2023-08-30T07:47:19.748Z"
   },
   {
    "duration": 12,
    "start_time": "2023-08-30T07:47:21.101Z"
   },
   {
    "duration": 4,
    "start_time": "2023-08-30T07:53:56.063Z"
   },
   {
    "duration": 94,
    "start_time": "2023-08-30T07:57:00.956Z"
   },
   {
    "duration": 4,
    "start_time": "2023-08-30T07:57:06.280Z"
   },
   {
    "duration": 4,
    "start_time": "2023-08-30T07:57:20.619Z"
   },
   {
    "duration": 5,
    "start_time": "2023-08-30T07:58:14.840Z"
   },
   {
    "duration": 3,
    "start_time": "2023-08-30T07:58:29.496Z"
   },
   {
    "duration": 4,
    "start_time": "2023-08-30T07:59:23.901Z"
   },
   {
    "duration": 111,
    "start_time": "2023-08-30T07:59:47.823Z"
   },
   {
    "duration": 5,
    "start_time": "2023-08-30T07:59:55.526Z"
   },
   {
    "duration": 7,
    "start_time": "2023-08-30T08:00:47.045Z"
   },
   {
    "duration": 6,
    "start_time": "2023-08-30T08:00:57.547Z"
   },
   {
    "duration": 98,
    "start_time": "2023-08-30T08:15:53.967Z"
   },
   {
    "duration": 5,
    "start_time": "2023-08-30T08:17:22.436Z"
   },
   {
    "duration": 6,
    "start_time": "2023-08-30T08:17:36.968Z"
   },
   {
    "duration": 6,
    "start_time": "2023-08-30T08:18:16.525Z"
   },
   {
    "duration": 5,
    "start_time": "2023-08-30T08:19:21.621Z"
   },
   {
    "duration": 7,
    "start_time": "2023-08-30T08:19:29.730Z"
   },
   {
    "duration": 116,
    "start_time": "2023-08-30T08:43:33.866Z"
   },
   {
    "duration": 33097,
    "start_time": "2023-08-30T11:16:27.692Z"
   },
   {
    "duration": 238,
    "start_time": "2023-08-30T11:17:00.792Z"
   },
   {
    "duration": 74,
    "start_time": "2023-08-30T11:17:01.032Z"
   },
   {
    "duration": 17,
    "start_time": "2023-08-30T11:17:01.109Z"
   },
   {
    "duration": 39,
    "start_time": "2023-08-30T11:17:01.128Z"
   },
   {
    "duration": 37,
    "start_time": "2023-08-30T11:17:01.169Z"
   },
   {
    "duration": 880,
    "start_time": "2023-08-30T11:17:01.212Z"
   },
   {
    "duration": 112,
    "start_time": "2023-08-30T11:17:02.095Z"
   },
   {
    "duration": 35,
    "start_time": "2023-08-30T11:17:02.210Z"
   },
   {
    "duration": 132,
    "start_time": "2023-08-30T11:17:02.253Z"
   },
   {
    "duration": 34,
    "start_time": "2023-08-30T11:17:02.396Z"
   },
   {
    "duration": 43,
    "start_time": "2023-08-30T11:17:02.437Z"
   },
   {
    "duration": 33,
    "start_time": "2023-08-30T11:17:02.487Z"
   },
   {
    "duration": 3095,
    "start_time": "2023-08-30T11:17:02.529Z"
   },
   {
    "duration": 173,
    "start_time": "2023-08-30T11:17:05.635Z"
   },
   {
    "duration": 1014,
    "start_time": "2023-08-30T11:17:05.815Z"
   },
   {
    "duration": 481,
    "start_time": "2023-08-30T11:17:06.846Z"
   },
   {
    "duration": 135,
    "start_time": "2023-08-30T11:17:07.330Z"
   },
   {
    "duration": 90,
    "start_time": "2023-08-30T11:17:07.467Z"
   },
   {
    "duration": 207,
    "start_time": "2023-08-30T11:17:07.563Z"
   },
   {
    "duration": 401,
    "start_time": "2023-08-30T11:17:07.772Z"
   },
   {
    "duration": 98,
    "start_time": "2023-08-30T11:17:08.175Z"
   },
   {
    "duration": 24,
    "start_time": "2023-08-30T11:17:08.277Z"
   },
   {
    "duration": 44,
    "start_time": "2023-08-30T11:17:08.308Z"
   },
   {
    "duration": 24,
    "start_time": "2023-08-30T11:17:08.362Z"
   },
   {
    "duration": 20,
    "start_time": "2023-08-30T11:17:08.396Z"
   },
   {
    "duration": 23,
    "start_time": "2023-08-30T11:17:08.422Z"
   },
   {
    "duration": 22,
    "start_time": "2023-08-30T11:17:08.459Z"
   },
   {
    "duration": 76,
    "start_time": "2023-08-30T11:17:08.488Z"
   },
   {
    "duration": 710,
    "start_time": "2023-08-30T11:17:08.571Z"
   },
   {
    "duration": 699,
    "start_time": "2023-08-30T11:17:09.288Z"
   },
   {
    "duration": 46,
    "start_time": "2023-08-30T11:17:09.993Z"
   },
   {
    "duration": 11,
    "start_time": "2023-08-30T11:17:10.045Z"
   },
   {
    "duration": 31,
    "start_time": "2023-08-30T11:17:10.062Z"
   },
   {
    "duration": 8,
    "start_time": "2023-08-30T11:17:10.099Z"
   },
   {
    "duration": 30,
    "start_time": "2023-08-30T11:17:10.112Z"
   },
   {
    "duration": 18,
    "start_time": "2023-08-30T11:17:10.151Z"
   },
   {
    "duration": 11,
    "start_time": "2023-08-30T11:17:10.184Z"
   },
   {
    "duration": 25,
    "start_time": "2023-08-30T11:17:10.201Z"
   },
   {
    "duration": 85,
    "start_time": "2023-08-30T11:17:10.229Z"
   },
   {
    "duration": 20,
    "start_time": "2023-08-30T11:17:10.317Z"
   },
   {
    "duration": 374,
    "start_time": "2023-08-30T11:17:10.344Z"
   },
   {
    "duration": 44,
    "start_time": "2023-08-30T11:17:10.725Z"
   },
   {
    "duration": 55,
    "start_time": "2023-08-30T11:17:10.777Z"
   },
   {
    "duration": 633,
    "start_time": "2023-08-30T11:17:10.840Z"
   },
   {
    "duration": 566,
    "start_time": "2023-08-30T11:17:11.483Z"
   },
   {
    "duration": 33,
    "start_time": "2023-08-30T11:17:12.054Z"
   },
   {
    "duration": 370,
    "start_time": "2023-08-30T11:17:12.096Z"
   },
   {
    "duration": 48,
    "start_time": "2023-08-30T11:17:12.468Z"
   },
   {
    "duration": 431,
    "start_time": "2023-08-30T11:17:12.523Z"
   },
   {
    "duration": 42,
    "start_time": "2023-08-30T11:17:12.975Z"
   },
   {
    "duration": 528,
    "start_time": "2023-08-30T11:17:13.020Z"
   },
   {
    "duration": 2513,
    "start_time": "2023-08-30T11:17:13.558Z"
   },
   {
    "duration": 1800,
    "start_time": "2023-08-30T11:17:16.077Z"
   },
   {
    "duration": 188,
    "start_time": "2023-08-30T11:17:17.879Z"
   },
   {
    "duration": 1467,
    "start_time": "2023-08-30T11:17:18.074Z"
   },
   {
    "duration": 31,
    "start_time": "2023-08-30T11:17:19.543Z"
   },
   {
    "duration": 172,
    "start_time": "2023-08-30T11:17:19.577Z"
   },
   {
    "duration": 770,
    "start_time": "2023-08-30T11:17:19.766Z"
   },
   {
    "duration": 256,
    "start_time": "2023-08-30T11:17:20.543Z"
   },
   {
    "duration": 998,
    "start_time": "2023-08-30T11:17:20.802Z"
   },
   {
    "duration": 50,
    "start_time": "2023-08-30T11:17:21.811Z"
   },
   {
    "duration": 64,
    "start_time": "2023-08-30T11:17:21.868Z"
   },
   {
    "duration": 14,
    "start_time": "2023-08-30T11:17:21.943Z"
   },
   {
    "duration": 75,
    "start_time": "2023-08-30T11:17:21.961Z"
   },
   {
    "duration": 46,
    "start_time": "2023-08-30T11:17:22.041Z"
   },
   {
    "duration": 531,
    "start_time": "2023-08-30T11:17:22.094Z"
   },
   {
    "duration": 35,
    "start_time": "2023-08-30T11:17:22.633Z"
   },
   {
    "duration": 42,
    "start_time": "2023-08-30T11:17:22.671Z"
   },
   {
    "duration": 36,
    "start_time": "2023-08-30T11:17:22.716Z"
   },
   {
    "duration": 23,
    "start_time": "2023-08-30T11:17:22.755Z"
   }
  ],
  "kernelspec": {
   "display_name": "Python 3 (ipykernel)",
   "language": "python",
   "name": "python3"
  },
  "language_info": {
   "codemirror_mode": {
    "name": "ipython",
    "version": 3
   },
   "file_extension": ".py",
   "mimetype": "text/x-python",
   "name": "python",
   "nbconvert_exporter": "python",
   "pygments_lexer": "ipython3",
   "version": "3.9.13"
  },
  "toc": {
   "base_numbering": 1,
   "nav_menu": {},
   "number_sections": true,
   "sideBar": true,
   "skip_h1_title": true,
   "title_cell": "Table of Contents",
   "title_sidebar": "Contents",
   "toc_cell": false,
   "toc_position": {},
   "toc_section_display": true,
   "toc_window_display": false
  }
 },
 "nbformat": 4,
 "nbformat_minor": 2
}
